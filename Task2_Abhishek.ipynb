{
 "cells": [
  {
   "cell_type": "markdown",
   "id": "747497f8-e6b4-4da9-b679-f730e1b1171d",
   "metadata": {
    "tags": []
   },
   "source": [
    "#### Q1. You are writing code for a company. The requirement of the company is that you create a python function that will check whether the password entered by the user is correct or not. The function should take the password as input and return the string “Valid Password” if the entered password follows the below-given password guidelines else it should return “Invalid Password”.Note:                                                                                                                                    1. The Password should contain at least two uppercase letters and at least two lowercase letters.\n",
    "2. The Password should contain at least a number and three special characters.\n",
    "3. The length of the password should be 10 characters long."
   ]
  },
  {
   "cell_type": "code",
   "execution_count": 41,
   "id": "af845cb4-4c90-418c-995a-d3a756f472a2",
   "metadata": {},
   "outputs": [],
   "source": [
    "##defining a password checker function\n",
    "import string \n",
    "def passcheckerfun(inputstr):\n",
    "    up_counter=0\n",
    "    low_counter=0\n",
    "    num_counter=0\n",
    "    spl_counter=0\n",
    "    stringcheck= '[@_!#$%^&*()<>?/\\|}{~:]'\n",
    "    ##checking the lenghth of the password\n",
    "    if len(inputstr)==10:\n",
    "        for i in inputstr:\n",
    "    ##checking the number of upper and lower case characters\n",
    "            if i.isupper():\n",
    "                up_counter+=1\n",
    "            elif i.lower() and i.isalpha():\n",
    "                low_counter+=1\n",
    "    ##checking the number of numeric characters\n",
    "            if i.isnumeric():\n",
    "                num_counter+=1\n",
    "    ##checking the number of special characters\n",
    "            if i in stringcheck:\n",
    "                    spl_counter=spl_counter+1\n",
    "    if(up_counter>=2 and low_counter>=2 and spl_counter>=3 and num_counter>0):\n",
    "            print(\"Your password fullfills all requirements\")\n",
    "    else:\n",
    "            print(\"Your password is not valid\", \"\\n\", \"Please ensure : \\n The Password should contain at least two uppercase letters and at least two lowercase letters. \\n The Password should contain at least a number and three special characters. \\n The length of the password should be 10 characters long.\")\n"
   ]
  },
  {
   "cell_type": "code",
   "execution_count": 42,
   "id": "e7e6a3d9-fd73-47a5-a321-24feebeba037",
   "metadata": {},
   "outputs": [
    {
     "name": "stdout",
     "output_type": "stream",
     "text": [
      "Your password is not valid \n",
      " Please ensure : \n",
      " The Password should contain at least two uppercase letters and at least two lowercase letters. \n",
      " The Password should contain at least a number and three special characters. \n",
      " The length of the password should be 10 characters long.\n"
     ]
    }
   ],
   "source": [
    "outstr=passcheckerfun(\"ABbhi@!$7899999\")"
   ]
  },
  {
   "cell_type": "markdown",
   "id": "c60bf288-f32f-43cd-96a6-6ef21edeaa56",
   "metadata": {},
   "source": [
    "### Q2. Solve the below-given questions using at least one of the following:\n",
    "1. Lambda function\n",
    "2. Filter function\n",
    "3. map function\n",
    "4. List Comprehension\n",
    "#### Check if the string starts with a particular letter\n",
    "#### Check if the string is numeric\n",
    "#### Sort a list of tuples having fruit names and their quantity. [(\"mango\",99),(\"orange\",80), (\"grapes\", 1000)]\n",
    "#### Find the squares of numbers from 1 to 10\n",
    "#### Find the cube root of numbers from 1 to 10\n",
    "#### Check if a given number is even\n",
    "#### Filter odd numbers from the given list.\n",
    "[1,2,3,4,5,6,7,8,9,10-\n",
    "B Sort a list of integers into positive and negative integers lists.\n",
    "[1,2,3,4,5,6,-1,-2,-3,-4,-5,0]"
   ]
  },
  {
   "cell_type": "code",
   "execution_count": 19,
   "id": "263e120d-55db-4b33-b16a-f938d6400e91",
   "metadata": {},
   "outputs": [
    {
     "name": "stdout",
     "output_type": "stream",
     "text": [
      "A123456789 starts with A\n",
      "123456789AAA doesn't not start with A\n"
     ]
    }
   ],
   "source": [
    "## Check if the string starts wit a character\n",
    "outputstr= lambda Inputstr:f\"{Inputstr} starts with A\" if Inputstr.startswith(\"A\") else f\"{Inputstr} doesn't not start with A\"\n",
    "print(outputstr(\"A123456789\"))\n",
    "print(outputstr(\"123456789AAA\"))"
   ]
  },
  {
   "cell_type": "code",
   "execution_count": 16,
   "id": "f93b74d1-4d69-44d6-9280-376a52370006",
   "metadata": {},
   "outputs": [
    {
     "name": "stdout",
     "output_type": "stream",
     "text": [
      "123456789 is numeric\n",
      "123456789AAA is not numeric\n"
     ]
    }
   ],
   "source": [
    "## Check if the string is numeric\n",
    "outputstr= lambda Inputstr:f\"{Inputstr} is numeric\" if Inputstr.isnumeric() else f\"{Inputstr} is not numeric\"\n",
    "print(outputstr(\"123456789\"))\n",
    "print(outputstr(\"123456789AAA\"))"
   ]
  },
  {
   "cell_type": "code",
   "execution_count": 21,
   "id": "9d68da62-eaa4-4e6d-ba77-305cd6be8f73",
   "metadata": {},
   "outputs": [
    {
     "name": "stdout",
     "output_type": "stream",
     "text": [
      "[1, 4, 9, 16, 25, 36, 49, 64, 81, 100]\n"
     ]
    }
   ],
   "source": [
    "## find squares of the numbers from 1 to 10\n",
    "list1=[1,2,3,4,5,6,7,8,9,10]\n",
    "squarelist=list(map(lambda x:x**2,list1))\n",
    "print(squarelist)"
   ]
  },
  {
   "cell_type": "code",
   "execution_count": 25,
   "id": "8b7ae9a8-02c6-4610-b232-df2ec5818c4f",
   "metadata": {},
   "outputs": [
    {
     "name": "stdout",
     "output_type": "stream",
     "text": [
      "[1.0, 1.2599210498948732, 1.4422495703074083, 1.5874010519681994, 1.7099759466766968, 1.8171205928321397, 1.912931182772389, 2.0, 2.080083823051904, 2.154434690031884]\n"
     ]
    }
   ],
   "source": [
    "## find cube roots of the numbers from 1 to 10\n",
    "list1=[1,2,3,4,5,6,7,8,9,10]\n",
    "cuberootlist=list(map(lambda x:x ** (1. / 3),list1))\n",
    "print(cuberootlist)"
   ]
  },
  {
   "cell_type": "code",
   "execution_count": 32,
   "id": "dae3a71d-a655-4215-8a31-c993d733e837",
   "metadata": {},
   "outputs": [
    {
     "name": "stdout",
     "output_type": "stream",
     "text": [
      "10 is even\n"
     ]
    }
   ],
   "source": [
    "## Check if the number is even\n",
    "outputstr= lambda inputnum:f\"{inputnum} is even\" if inputnum%2==0 else f\"{inputnum} is odd\"\n",
    "print(outputstr(10))"
   ]
  },
  {
   "cell_type": "code",
   "execution_count": 35,
   "id": "b968e404-d099-46ed-8f08-8aac6923b5b4",
   "metadata": {},
   "outputs": [
    {
     "name": "stdout",
     "output_type": "stream",
     "text": [
      "[1, 3, 5, 7, 9]\n"
     ]
    }
   ],
   "source": [
    "## Filter odd numbers from the given list.[1,2,3,4,5,6,7,8,9,10]\n",
    "list1=[1,2,3,4,5,6,7,8,9,10]\n",
    "outputstr= list(filter(lambda inputnum:inputnum%2!=0,list1))\n",
    "print(outputstr)"
   ]
  },
  {
   "cell_type": "code",
   "execution_count": 48,
   "id": "57333374-1320-4dbe-af62-e27876da8cb3",
   "metadata": {},
   "outputs": [
    {
     "name": "stdout",
     "output_type": "stream",
     "text": [
      "[-5, -4, -3, -2, -1, 0, 1, 2, 3, 4, 5, 6]\n"
     ]
    }
   ],
   "source": [
    "## Sort a list of integers into positive and negative integers lists.[1,2,3,4,5,6,-1,-2,-3,-4,-5,0]\n",
    "list1=[1,2,3,4,5,6,-1,-2,-3,-4,-5,0]\n",
    "print(sorted(list1, key=lambda x: x))"
   ]
  },
  {
   "cell_type": "code",
   "execution_count": 52,
   "id": "501f9b15-a024-4c06-b92f-6de98b4cb2e8",
   "metadata": {},
   "outputs": [
    {
     "name": "stdout",
     "output_type": "stream",
     "text": [
      "List sorted based on quantity of a type of fruit:  [('orange', 80), ('mango', 99), ('grapes', 1000)]\n",
      "List sorted based on the type of fruit:  [('grapes', 1000), ('mango', 99), ('orange', 80)]\n"
     ]
    }
   ],
   "source": [
    "## Sort a list of tuples having fruit names and their quantity.\n",
    "list1= [(\"mango\",99),(\"orange\",80), (\"grapes\", 1000)]\n",
    "fruits = list1\n",
    "fruits1 = sorted(fruits, key = lambda x:x[1])\n",
    "fruits2 = sorted(fruits, key = lambda x:x[0])\n",
    "print(\"List sorted based on quantity of a type of fruit: \",fruits1)\n",
    "print(\"List sorted based on the type of fruit: \", fruits2)"
   ]
  },
  {
   "cell_type": "code",
   "execution_count": null,
   "id": "5f2fd7c2-87d9-4719-a80d-d9428615f2f0",
   "metadata": {},
   "outputs": [],
   "source": []
  }
 ],
 "metadata": {
  "kernelspec": {
   "display_name": "Python 3 (ipykernel)",
   "language": "python",
   "name": "python3"
  },
  "language_info": {
   "codemirror_mode": {
    "name": "ipython",
    "version": 3
   },
   "file_extension": ".py",
   "mimetype": "text/x-python",
   "name": "python",
   "nbconvert_exporter": "python",
   "pygments_lexer": "ipython3",
   "version": "3.10.8"
  }
 },
 "nbformat": 4,
 "nbformat_minor": 5
}
