{
 "cells": [
  {
   "cell_type": "code",
   "execution_count": 1,
   "id": "1653268c-f5ed-418a-ab28-92516a54b818",
   "metadata": {},
   "outputs": [],
   "source": [
    "#Q1. What is the role of feature selection in anomaly detection?"
   ]
  },
  {
   "cell_type": "markdown",
   "id": "270a80da-bacd-474a-b65d-a356b6e86ae5",
   "metadata": {},
   "source": [
    "Feature selection is an important step in anomaly detection. It is used to optimize the learning complexity by prioritizing features, particularly for a massive, high-dimensional dataset like network traffic data. Feature selection can help reduce the number of features and improve the performance of anomaly detection algorithms by removing irrelevant or redundant features"
   ]
  },
  {
   "cell_type": "code",
   "execution_count": 2,
   "id": "ec82fcaf-fdb3-43e0-b065-22d7d8fab8e9",
   "metadata": {},
   "outputs": [],
   "source": [
    "#Q2. What are some common evaluation metrics for anomaly detection algorithms and how are they\n",
    "#computed?"
   ]
  },
  {
   "cell_type": "markdown",
   "id": "199398fe-cba0-45c4-bd23-22f82686f5bf",
   "metadata": {},
   "source": [
    "True Positive Rate (TPR): This is the ratio of true positives to all actual positives. It is also known as recall or sensitivity.\n",
    "False Positive Rate (FPR): This is the ratio of false positives to all actual negatives.\n",
    "\n",
    "Precision: This is the ratio of true positives to all predicted positives.\n",
    "\n",
    "F1 Score: This is the harmonic mean of precision and recall.\n",
    "\n",
    "Area Under the Receiver Operating Characteristic Curve (AUC-ROC): This is a measure of how well the algorithm can distinguish between positive and negative samples."
   ]
  },
  {
   "cell_type": "code",
   "execution_count": 3,
   "id": "c0305655-035d-4cc5-ab56-e398fa1b7048",
   "metadata": {},
   "outputs": [],
   "source": [
    "#Q3. What is DBSCAN and how does it work for clustering?"
   ]
  },
  {
   "cell_type": "markdown",
   "id": "33eaebe4-28f3-44ce-904e-75f9fe299e61",
   "metadata": {},
   "source": [
    "DBSCAN (Density-Based Spatial Clustering of Applications with Noise) is a density-based clustering algorithm that groups together points that are close to each other based on a distance metric and a minimum number of points\n",
    "\n",
    "The algorithm starts by selecting an arbitrary point and finding all the points within ε distance of it. If there are at least MinPts points within ε distance of the selected point, then a new cluster is formed. The algorithm then repeats this process for all the points in the cluster until no more points can be added."
   ]
  },
  {
   "cell_type": "code",
   "execution_count": 4,
   "id": "1fae6aa5-fed1-4719-92d7-d32327d3e3d8",
   "metadata": {},
   "outputs": [],
   "source": [
    "#Q4. How does the epsilon parameter affect the performance of DBSCAN in detecting anomalies?"
   ]
  },
  {
   "cell_type": "markdown",
   "id": "b00d932d-7113-4eef-b5a3-5c461ec12779",
   "metadata": {},
   "source": [
    "In general, a smaller ε will make the algorithm more sensitive to local variations in density and may result in more accurate anomaly detection. However, if ε is too small, then the algorithm may identify too many points as anomalies and may not be able to distinguish between true anomalies and noise."
   ]
  },
  {
   "cell_type": "code",
   "execution_count": 5,
   "id": "7dc28c14-1697-4dab-bc8d-1df50878d84b",
   "metadata": {},
   "outputs": [],
   "source": [
    "#Q5. What are the differences between the core, border, and noise points in DBSCAN, and how do they relate\n",
    "#to anomaly detection?"
   ]
  },
  {
   "cell_type": "markdown",
   "id": "35bd06fc-0cf2-4aa4-9b0e-021aea7433bb",
   "metadata": {},
   "source": [
    "Core points are points that have at least MinPts other points within ε distance of them. Border points are points that are within ε distance of a core point but do not have enough neighboring points to be considered core points. Noise points are points that are not part of any cluster.\n",
    "\n",
    "Anomalies are often located in sparse regions of the data where there are few neighboring points. By identifying dense regions of the data, DBSCAN can help to identify anomalies that may be hidden in these regions.\n",
    "\n",
    "Noise points are less useful for anomaly detection because they do not belong to any cluster and may represent random fluctuations in the data.\n",
    "\n"
   ]
  },
  {
   "cell_type": "code",
   "execution_count": 6,
   "id": "a30d3389-1fd0-46e9-949f-ae4d64f3a955",
   "metadata": {},
   "outputs": [],
   "source": [
    "#Q6. How does DBSCAN detect anomalies and what are the key parameters involved in the process?"
   ]
  },
  {
   "cell_type": "markdown",
   "id": "c7c6e349-a61e-4856-932f-2e64dd447627",
   "metadata": {},
   "source": [
    "DBSCAN detects anomalies by clustering points based on their density. Points that are close together are considered to be part of the same cluster, while points that are far apart are considered to be part of different clusters. Anomalies are points that do not belong to any cluster.\n",
    "\n",
    "The key parameters involved in DBSCAN are ε (epsilon) and MinPts. ε determines the radius of the neighborhood around each point, while MinPts determines the minimum number of points required to form a dense region."
   ]
  },
  {
   "cell_type": "code",
   "execution_count": 7,
   "id": "e72f59a9-e4c7-49a4-8685-e2ae62f9572f",
   "metadata": {},
   "outputs": [],
   "source": [
    "#Q7. What is the make_circles package in scikit-learn used for?"
   ]
  },
  {
   "cell_type": "markdown",
   "id": "0ec759da-7923-4397-8dbf-c9041abc6692",
   "metadata": {},
   "source": [
    "The make_circles package in scikit-learn is used to generate a simple toy dataset to visualize clustering and classification algorithms. It creates a large circle containing a smaller circle in 2D. The dataset is useful for testing and comparing different algorithms for clustering and classification"
   ]
  },
  {
   "cell_type": "code",
   "execution_count": 8,
   "id": "fbf9342b-3f4c-4741-990a-9a4898673190",
   "metadata": {},
   "outputs": [],
   "source": [
    "#Q8. What are local outliers and global outliers, and how do they differ from each other?"
   ]
  },
  {
   "cell_type": "markdown",
   "id": "b9a85579-746b-4f94-bf63-5702c503648d",
   "metadata": {},
   "source": [
    "Local outliers are measured sample points that have values within the normal range for the entire dataset but are unusually high or low when compared to their surrounding points. Global outliers, on the other hand, are measured sample points that have very high or very low values relative to all the values in a dataset"
   ]
  },
  {
   "cell_type": "code",
   "execution_count": 9,
   "id": "20d3d970-1190-4ad6-92eb-121e4630ef39",
   "metadata": {},
   "outputs": [],
   "source": [
    "#Q9. How can local outliers be detected using the Local Outlier Factor (LOF) algorithm?"
   ]
  },
  {
   "cell_type": "markdown",
   "id": "b99aaac4-3982-4b19-b47d-665001433725",
   "metadata": {},
   "source": [
    "LOF algorithm detects local outliers by computing the local density deviation of a given data point with respect to its neighbors"
   ]
  },
  {
   "cell_type": "code",
   "execution_count": null,
   "id": "c9eb8f13-ead5-41ca-bbf1-1c722b3f0f5a",
   "metadata": {},
   "outputs": [],
   "source": [
    "#Q10. How can global outliers be detected using the Isolation Forest algorithm?"
   ]
  },
  {
   "cell_type": "markdown",
   "id": "a3f19729-80e1-44ce-b9d9-d205aa760f40",
   "metadata": {},
   "source": [
    "The Isolation Forest algorithm is an unsupervised machine learning algorithm that is used for anomaly detection. It works by randomly selecting a feature and then randomly selecting a split value between the maximum and minimum values of the selected feature. This process is repeated recursively until all data points are isolated in their own leaf nodes"
   ]
  },
  {
   "cell_type": "code",
   "execution_count": 10,
   "id": "65bc10fd-3a52-4009-beec-b971d5cc1aaa",
   "metadata": {},
   "outputs": [],
   "source": [
    "#Q11. What are some real-world applications where local outlier detection is more appropriate than global\n",
    "#outlier detection, and vice versa?"
   ]
  },
  {
   "cell_type": "markdown",
   "id": "dbf91250-2390-4982-a439-e3539334b34e",
   "metadata": {},
   "source": [
    "Real-world applications of local outlier detection include intrusion detection systems, credit card fraud detection, sensor event detection, and medical diagnosis. Global outlier detection is commonly used in credit card fraud detection"
   ]
  },
  {
   "cell_type": "code",
   "execution_count": null,
   "id": "8ef8cb76-df40-46ce-9217-9fc141c95147",
   "metadata": {},
   "outputs": [],
   "source": []
  }
 ],
 "metadata": {
  "kernelspec": {
   "display_name": "Python 3 (ipykernel)",
   "language": "python",
   "name": "python3"
  },
  "language_info": {
   "codemirror_mode": {
    "name": "ipython",
    "version": 3
   },
   "file_extension": ".py",
   "mimetype": "text/x-python",
   "name": "python",
   "nbconvert_exporter": "python",
   "pygments_lexer": "ipython3",
   "version": "3.10.8"
  }
 },
 "nbformat": 4,
 "nbformat_minor": 5
}
