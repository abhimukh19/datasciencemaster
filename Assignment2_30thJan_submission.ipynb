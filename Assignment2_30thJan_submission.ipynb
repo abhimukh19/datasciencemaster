{
 "cells": [
  {
   "cell_type": "markdown",
   "id": "45377f1e-0dee-472b-837a-0dbb19620af3",
   "metadata": {},
   "source": [
    "### Assignment Submission 30th January Submitted by Abhishek Mukherjee"
   ]
  },
  {
   "cell_type": "markdown",
   "id": "48160b48-ad62-4c6c-81cf-fc739504454f",
   "metadata": {},
   "source": [
    "##### Q1- Write a program to input percentage from the user and display grade"
   ]
  },
  {
   "cell_type": "code",
   "execution_count": null,
   "id": "5de53949-bda7-4ea8-b570-b0dfdd79dd6e",
   "metadata": {},
   "outputs": [],
   "source": [
    "## In the below progam we are trying to provide the grade as result for the percentage obtained by candidate. \n",
    "##Input function is used take user inputs\n",
    "percentage_obtained= int(input(\"Please enter your percentage\"))\n",
    "if(percentage_obtained>90):\n",
    "    print(\"Congratulations! Your grade is A\")\n",
    "elif(percentage_obtained>=80 and percentage_obtained<=90):\n",
    "        print(\"Congratulations! Your grade is B\")\n",
    "elif(percentage_obtained>=60 and percentage_obtained<=80):\n",
    "        print(\"Unfortunately Your grade is C\")\n",
    "else:\n",
    "              print(\"Unfortunately Your grade is D\")"
   ]
  },
  {
   "cell_type": "markdown",
   "id": "c6ded317-5c5a-49ba-98f5-bd00a8951d12",
   "metadata": {},
   "source": [
    "##### Q2- Write a program to input bike price from the user and display the road tax"
   ]
  },
  {
   "cell_type": "code",
   "execution_count": 16,
   "id": "411741ea-95a2-4e0e-bfcc-d5536d22efb6",
   "metadata": {},
   "outputs": [
    {
     "name": "stdin",
     "output_type": "stream",
     "text": [
      "Hello!, Please enter the price of the bike: 750000\n"
     ]
    },
    {
     "name": "stdout",
     "output_type": "stream",
     "text": [
      "Your road tax is coming out to be:  112500.0\n"
     ]
    }
   ],
   "source": [
    "## In the below progam we are trying to provide the bike cost price from a customer to calculate the road tax for the customer.\n",
    "## Input function is used take user inputs\n",
    "bike_price= int(input(\"Hello!, Please enter the price of the bike:\"))\n",
    "if(bike_price>100000):\n",
    "    print(\"Your road tax is coming out to be: \", .15*bike_price)\n",
    "elif(bike_price>=50000 and bike_price<=100000):\n",
    "    print(\"Your road tax is coming out to be: \", .10*bike_price)\n",
    "else:\n",
    "    print(\"Your road tax is coming out to be: \", .05*bike_price)"
   ]
  },
  {
   "cell_type": "markdown",
   "id": "d560fd89-aafa-4a90-8837-e9354df6db89",
   "metadata": {},
   "source": [
    "#### Q3 Accept any city from user and show the monuments for the city\n"
   ]
  },
  {
   "cell_type": "code",
   "execution_count": 4,
   "id": "e1613629-7cff-422b-9941-6b551d541490",
   "metadata": {},
   "outputs": [
    {
     "name": "stdin",
     "output_type": "stream",
     "text": [
      "Please chose your favorite city: Agra\n"
     ]
    },
    {
     "name": "stdout",
     "output_type": "stream",
     "text": [
      "You must vist:  Taj Mahal\n"
     ]
    }
   ],
   "source": [
    "monument_dict1 = {\"Delhi\": \"Redfort\",\"Agra\":\"Taj Mahal\", \"Jaipur\":\"Jal Mahal\"} \n",
    "\n",
    "monument_key = monument_dict1.get(input(\"Please chose your favorite city:\" ))\n",
    "print(\"You must vist: \",monument_key)"
   ]
  },
  {
   "cell_type": "markdown",
   "id": "c0369786-b168-4a57-973c-d2cf9412cf10",
   "metadata": {},
   "source": [
    "#### Q4 Check how many times a number can be divided by 3 before the value is less or equal to 10\n"
   ]
  },
  {
   "cell_type": "code",
   "execution_count": 7,
   "id": "2aaf577a-8a12-4fa7-aa70-84b894444e2d",
   "metadata": {},
   "outputs": [
    {
     "name": "stdin",
     "output_type": "stream",
     "text": [
      "Please enter your favorite number:  35\n"
     ]
    },
    {
     "name": "stdout",
     "output_type": "stream",
     "text": [
      "The Number of times the number you entered can be divided by 3 is :  2\n"
     ]
    }
   ],
   "source": [
    "var_check1 = int(input(\"Please enter your favorite number: \"))\n",
    "counter_check = 0\n",
    "while (var_check1 > 10):\n",
    "    if(var_check1>10):\n",
    "        var_check1 = var_check1/3\n",
    "        counter_check=counter_check+1\n",
    "    else:\n",
    "        break\n",
    "print(\"The Number of times the number you entered can be divided by 3 is : \", counter_check)"
   ]
  },
  {
   "cell_type": "markdown",
   "id": "b2b213cc-7cbd-4de9-abbf-7c85bf3d4af2",
   "metadata": {},
   "source": [
    "##### Q5 why and when to use while loop in Python give detailed description with example?\n",
    "##### A5 It helps iterate through a list or helps drive calculations as long as a condition is true. Example of While loop is below.\n"
   ]
  },
  {
   "cell_type": "code",
   "execution_count": 2,
   "id": "012c48df-b1a6-46cc-a6e3-2ee8afc3958c",
   "metadata": {},
   "outputs": [
    {
     "name": "stdin",
     "output_type": "stream",
     "text": [
      "Please enter your favorite number:  3000\n"
     ]
    },
    {
     "name": "stdout",
     "output_type": "stream",
     "text": [
      "The Number of times the number you entered can be divided by 3 is :  6\n"
     ]
    }
   ],
   "source": [
    "##Below while loop iterates till the condition is false\n",
    "var_check1 = int(input(\"Please enter your favorite number: \"))\n",
    "counter_check = 0\n",
    "while (var_check1 > 10):\n",
    "    if(var_check1>10):\n",
    "        var_check1 = var_check1/3\n",
    "        counter_check=counter_check+1\n",
    "    else:\n",
    "        break\n",
    "print(\"The Number of times the number you entered can be divided by 3 is : \", counter_check)"
   ]
  },
  {
   "cell_type": "markdown",
   "id": "327e7c7a-b091-4812-972f-edbfd22f5083",
   "metadata": {},
   "source": [
    "##### Q6 Use nested while loop to print 3 different patterns?"
   ]
  },
  {
   "cell_type": "code",
   "execution_count": 3,
   "id": "36aa8060-4778-4415-a147-c2b00c46726e",
   "metadata": {},
   "outputs": [
    {
     "name": "stdin",
     "output_type": "stream",
     "text": [
      "Enter number of rows :  5\n"
     ]
    },
    {
     "name": "stdout",
     "output_type": "stream",
     "text": [
      "* \n",
      "* * \n",
      "* * * \n",
      "* * * * \n",
      "* * * * * \n"
     ]
    }
   ],
   "source": [
    "##Pattern1\n",
    "rows_n = int(input('Enter number of rows : '))\n",
    "p= 1\n",
    "while p <= rows_n :\n",
    "    q = 1\n",
    "    while q <=p:\n",
    "        print(\"*\", end = \" \")\n",
    "        q += 1\n",
    "    print()\n",
    "    p += 1"
   ]
  },
  {
   "cell_type": "code",
   "execution_count": 13,
   "id": "3c0100e6-d6b9-41b1-bad2-9a44060b52a7",
   "metadata": {},
   "outputs": [
    {
     "name": "stdin",
     "output_type": "stream",
     "text": [
      "Enter number of rows :  4\n"
     ]
    },
    {
     "name": "stdout",
     "output_type": "stream",
     "text": [
      "\n",
      "\n",
      "* \n",
      " * \n",
      "\n",
      "* * \n",
      " * * \n",
      "  * * \n",
      "\n",
      "* * * \n",
      " * * * \n",
      "  * * * \n",
      "   * * * \n",
      "\n"
     ]
    }
   ],
   "source": [
    "##Pattern2\n",
    "rows_n = int(input('Enter number of rows : '))\n",
    "p= 1\n",
    "while p <= rows_n :\n",
    "    q = 1\n",
    "    while q <=p:\n",
    "        print(' '*(q-1) + '* '*(p-1))\n",
    "        q += 1\n",
    "    print()\n",
    "    p += 1"
   ]
  },
  {
   "cell_type": "code",
   "execution_count": 10,
   "id": "75437a29-17b9-4899-9286-e10aec3b70e5",
   "metadata": {},
   "outputs": [
    {
     "name": "stdin",
     "output_type": "stream",
     "text": [
      "Enter number of rows :  3\n"
     ]
    },
    {
     "name": "stdout",
     "output_type": "stream",
     "text": [
      "* \n",
      "\n",
      " * \n",
      " * * \n",
      "\n",
      "  * \n",
      "  * * \n",
      "  * * * \n",
      "\n"
     ]
    }
   ],
   "source": [
    "##Pattern3\n",
    "rows_n = int(input('Enter number of rows : '))\n",
    "p= 1\n",
    "while p <= rows_n :\n",
    "    q = 1\n",
    "    while q <=p:\n",
    "        print(' '*(p-1) + '* '*(q))\n",
    "        q += 1\n",
    "    print()\n",
    "    p += 1"
   ]
  },
  {
   "cell_type": "markdown",
   "id": "6fcb021f-63fd-48b2-8fa4-5e79db206da6",
   "metadata": {},
   "source": [
    "### Q7 Reverse list with a while loop to print number from 10 to 1"
   ]
  },
  {
   "cell_type": "code",
   "execution_count": 4,
   "id": "547d1b5a-0c9a-48ff-9a0e-2ceebe81404e",
   "metadata": {},
   "outputs": [
    {
     "name": "stdout",
     "output_type": "stream",
     "text": [
      "[10, 9, 8, 7, 6, 5, 4, 3, 2, 1]\n"
     ]
    }
   ],
   "source": [
    "list1 = [1,2,3,4,5,6,7,8,9,10]\n",
    "counter=len(list1)\n",
    "rev_list=[]\n",
    "while(counter>0):\n",
    "    rev_list.append(counter)\n",
    "    counter=counter-1\n",
    "    if(counter==0):\n",
    "        print(rev_list)\n",
    "    else:\n",
    "        print(end=\"\")"
   ]
  },
  {
   "cell_type": "markdown",
   "id": "59c04bcd-9752-44c0-9ee2-fc32b2a7e240",
   "metadata": {},
   "source": [
    "### Q8 Reverse list with a while loop to print number from 10 to 1\n",
    "### Answer is same as Question 7"
   ]
  }
 ],
 "metadata": {
  "kernelspec": {
   "display_name": "Python 3 (ipykernel)",
   "language": "python",
   "name": "python3"
  },
  "language_info": {
   "codemirror_mode": {
    "name": "ipython",
    "version": 3
   },
   "file_extension": ".py",
   "mimetype": "text/x-python",
   "name": "python",
   "nbconvert_exporter": "python",
   "pygments_lexer": "ipython3",
   "version": "3.10.8"
  }
 },
 "nbformat": 4,
 "nbformat_minor": 5
}
