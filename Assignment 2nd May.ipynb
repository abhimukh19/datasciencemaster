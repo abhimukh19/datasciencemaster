{
 "cells": [
  {
   "cell_type": "code",
   "execution_count": 7,
   "id": "0a8f0035-70f7-4b78-8694-2b3f54aed00a",
   "metadata": {},
   "outputs": [],
   "source": [
    "#Q1. What is anomaly detection and what is its purpose?"
   ]
  },
  {
   "cell_type": "markdown",
   "id": "d4d11937-ad80-4c73-96f3-0bc7a9aeec2c",
   "metadata": {},
   "source": [
    "Anomaly detection is the process of identifying rare events, items, or observations that deviate from normal behavior or patterns in data. \n",
    "\n",
    "The purpose of anomaly detection is to identify unusual patterns that do not conform to expected behavior in data. It is critical for industrial applications like predictive and prescriptive maintenance"
   ]
  },
  {
   "cell_type": "code",
   "execution_count": 8,
   "id": "70507ec9-3b64-41cd-910f-c709e70f51d7",
   "metadata": {},
   "outputs": [],
   "source": [
    "#Q2. What are the key challenges in anomaly detection?"
   ]
  },
  {
   "cell_type": "markdown",
   "id": "9d092215-6b7f-4761-be0f-0a80747542f6",
   "metadata": {},
   "source": [
    "Some common challenges and pitfalls of anomaly detection in real-world scenarios include defining the problem clearly and precisely, choosing the right algorithm, validating and tuning the algorithm, deploying and monitoring the algorithm"
   ]
  },
  {
   "cell_type": "markdown",
   "id": "e5e5c50c-e7ec-42d4-ae83-aa924c8b12fa",
   "metadata": {},
   "source": [
    "#Q3. How does unsupervised anomaly detection differ from supervised anomaly detection?"
   ]
  },
  {
   "cell_type": "markdown",
   "id": "2f7e7816-5448-40f2-8fa3-a963c16ed627",
   "metadata": {},
   "source": [
    "Unsupervised anomaly detection is the process of identifying unexpected items or events in unlabeled datasets, which differ from the norm. It involves modeling the normal data distribution and defining a measurement to classify samples as anomalous or normal. It is often applied in practical applications such as network intrusion detection, fraud detection, and life science and medical domain"
   ]
  },
  {
   "cell_type": "code",
   "execution_count": 9,
   "id": "922f6f8c-b20e-419d-bb29-511b2fea6ce3",
   "metadata": {},
   "outputs": [],
   "source": [
    "#Q4. What are the main categories of anomaly detection algorithms?"
   ]
  },
  {
   "cell_type": "markdown",
   "id": "ba2e7c9f-9ea9-4de4-a144-e1ddefd09a11",
   "metadata": {},
   "source": [
    "Anomaly detection algorithms can be categorized into three broad categories.\n",
    "\n",
    "Supervised anomaly detection techniques require a data set that has been labeled as “normal” and “abnormal” and involves training a classifier.\n",
    "\n",
    "\n",
    "Unsupervised anomaly detection is the process of identifying unexpected items or events in unlabeled datasets, which differ from the norm.\n",
    "\n",
    "\n",
    "Semi-supervised anomaly detection is a combination of both supervised and unsupervised anomaly detection techniques"
   ]
  },
  {
   "cell_type": "code",
   "execution_count": 10,
   "id": "833206f9-1807-4b6f-9b53-1646025c7092",
   "metadata": {},
   "outputs": [],
   "source": [
    "#Q5. What are the main assumptions made by distance-based anomaly detection methods?"
   ]
  },
  {
   "cell_type": "markdown",
   "id": "13fa0bd0-9c41-447a-a145-a56dada46182",
   "metadata": {},
   "source": [
    "In distance-based methods, the anomaly score of the data point is calculated as a sum of the distance between a data point and its k-nearest neighbors. The basic assumption of these methods is that normal data instances occur in dense neighborhoods, while anomalies occur far from their closest neighbors. This can be measured by the distance to the kth nearest neighbor or as relative density"
   ]
  },
  {
   "cell_type": "code",
   "execution_count": 11,
   "id": "9952e726-0747-48db-9421-742feb553b06",
   "metadata": {},
   "outputs": [],
   "source": [
    "#Q6. How does the LOF algorithm compute anomaly scores?"
   ]
  },
  {
   "cell_type": "markdown",
   "id": "14bd2846-1b0d-4728-a386-12b79c14d542",
   "metadata": {},
   "source": [
    "It measures the local deviation of the density of a given sample with respect to its neighbors. It is local in that the anomaly score depends on how isolated the object is with respect to the surrounding neighborhood"
   ]
  },
  {
   "cell_type": "code",
   "execution_count": 12,
   "id": "152fdf10-5396-463b-a001-e5d58a23fd0d",
   "metadata": {},
   "outputs": [],
   "source": [
    "#Q7. What are the key parameters of the Isolation Forest algorithm?"
   ]
  },
  {
   "cell_type": "markdown",
   "id": "e5f30777-0950-4c0b-8973-63fe9cbb08c2",
   "metadata": {},
   "source": [
    "The Isolation Forest algorithm has two key parameters: n_estimators and max_samples. The number of base estimators in the ensemble is determined by n_estimators. The number of samples to draw from X to train each base estimator is determined by max_samples"
   ]
  },
  {
   "cell_type": "code",
   "execution_count": 13,
   "id": "b43a5125-9d5f-474e-8ed6-d1b63d55fa7c",
   "metadata": {},
   "outputs": [],
   "source": [
    "#Q8. If a data point has only 2 neighbours of the same class within a radius of 0.5, what is its anomaly score\n",
    "#using KNN with K=10?"
   ]
  },
  {
   "cell_type": "markdown",
   "id": "66046b57-b945-40bd-8392-93eb1caf91fe",
   "metadata": {},
   "source": [
    "The anomaly score of a data point using KNN with K=10 is the inverse of the average distance between the data point and its K nearest neighbors. If a data point has only 2 neighbors of the same class within a radius of 0.5, then it is an inlier and its anomaly score is close to 1"
   ]
  },
  {
   "cell_type": "code",
   "execution_count": 14,
   "id": "431f0005-fdfc-4107-ba8f-8c0c651adcd6",
   "metadata": {},
   "outputs": [],
   "source": [
    "#Q9. Using the Isolation Forest algorithm with 100 trees and a dataset of 3000 data points, what is the\n",
    "#anomaly score for a data point that has an average path length of 5.0 compared to the average path\n",
    "#length of the trees?"
   ]
  },
  {
   "cell_type": "markdown",
   "id": "841b2eb0-95ae-4202-b85c-0060b6034a98",
   "metadata": {},
   "source": [
    "The anomaly score of a data point using the Isolation Forest algorithm is defined based on the average path lengths over all isolation trees. The algorithm identifies anomalies using anomaly scores defined based on the average path lengths over all isolation trees. If a data point has an average path length of 5.0 compared to the average path length of the trees using Isolation Forest algorithm with 100 trees and a dataset of 3000 data points, then it is an outlier and its anomaly score is close to 0"
   ]
  },
  {
   "cell_type": "code",
   "execution_count": null,
   "id": "c81f26b9-b9fe-4d95-b46f-2dec8d258a20",
   "metadata": {},
   "outputs": [],
   "source": []
  }
 ],
 "metadata": {
  "kernelspec": {
   "display_name": "Python 3 (ipykernel)",
   "language": "python",
   "name": "python3"
  },
  "language_info": {
   "codemirror_mode": {
    "name": "ipython",
    "version": 3
   },
   "file_extension": ".py",
   "mimetype": "text/x-python",
   "name": "python",
   "nbconvert_exporter": "python",
   "pygments_lexer": "ipython3",
   "version": "3.10.8"
  }
 },
 "nbformat": 4,
 "nbformat_minor": 5
}
