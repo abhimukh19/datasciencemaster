{
 "cells": [
  {
   "cell_type": "code",
   "execution_count": 1,
   "id": "9804bb40-2a2c-4bde-af88-0bfd7777b9f1",
   "metadata": {},
   "outputs": [],
   "source": [
    "#Q1. What is the relationship between polynomial functions and kernel functions in machine learning\n",
    "#algorithms?"
   ]
  },
  {
   "cell_type": "markdown",
   "id": "c2bc6817-f715-4825-a842-33ea51c71a01",
   "metadata": {},
   "source": [
    "Polynomial kernel is a kernel function commonly used with support vector machines (SVMs) and other kernelized models in machine learning\n",
    "\n",
    "It represents the similarity of vectors (training samples) in a feature space over polynomials of the original variables, allowing learning of non-linear models\n",
    "\n",
    "Polynomial kernel SVM is a powerful algorithm that can handle high-dimensional datasets and capture non-linear relationships between the input data. It has several advantages over other machine learning algorithms and can be used in a wide range of applications, such as image classification, text classification, and bioinformatics"
   ]
  },
  {
   "cell_type": "code",
   "execution_count": null,
   "id": "b2e62197-bab4-4974-9c42-cb1d2966f033",
   "metadata": {},
   "outputs": [],
   "source": [
    "#Q2. How can we implement an SVM with a polynomial kernel in Python using Scikit-learn?"
   ]
  },
  {
   "cell_type": "markdown",
   "id": "93e5b28d-72f8-4f6a-aa7b-e82b6b93a4df",
   "metadata": {},
   "source": [
    "Scikit-Learn contains the svm library, which contains built-in classes for different SVM algorithms. If we want to perform a classification task, we will use the support vector classifier class, which is written as SVC in the Scikit-Learn’s svm library. This class takes one parameter, which is the kernel type"
   ]
  },
  {
   "cell_type": "code",
   "execution_count": 2,
   "id": "f3554b6e-bbba-4baf-954a-a1ab334214d0",
   "metadata": {},
   "outputs": [],
   "source": [
    "#Q3. How does increasing the value of epsilon affect the number of support vectors in SVR?"
   ]
  },
  {
   "cell_type": "markdown",
   "id": "cb886bdf-f832-46fd-ad91-591cd4784072",
   "metadata": {},
   "source": [
    "The value of epsilon determines the width of the tube around the estimated function (hyperplane) in SVR. Points that fall inside this tube are considered as correct predictions and are not penalized by the algorithm\n",
    "\n",
    "Increasing epsilon will increase the width of this tube, which means that more points will be considered as correct predictions and fewer support vectors will be needed to define the hyperplane"
   ]
  },
  {
   "cell_type": "code",
   "execution_count": 3,
   "id": "993a59f7-84a4-4735-b121-66920e554f63",
   "metadata": {},
   "outputs": [],
   "source": [
    "#Q4. How does the choice of kernel function, C parameter, epsilon parameter, and gamma parameter\n",
    "#affect the performance of Support Vector Regression (SVR)? Can you explain how each parameter works\n",
    "#and provide examples of when you might want to increase or decrease its value?"
   ]
  },
  {
   "cell_type": "markdown",
   "id": "a95aac87-3ce0-44a8-a150-e2edbe0e1b0c",
   "metadata": {},
   "source": [
    "Support Vector Regression (SVR) is a type of regression analysis that uses Support Vector Machines (SVMs) to predict continuous variables\n",
    "\n",
    "The choice of kernel function can affect the performance of SVR because different kernel functions have different properties and are suitable for different types of data\n",
    "\n",
    "If C is too large, the model may overfit the training data. If C is too small, the model may underfit the training data\n",
    "\n",
    "Epsilon parameter specifies how much error is allowed in the training data\n",
    "\n",
    "Gamma, affects how tightly the decision boundary follows the training data,  If gamma is too large, the model may overfit the training data. If gamma is too small, the model may underfit the training data"
   ]
  },
  {
   "cell_type": "code",
   "execution_count": 10,
   "id": "41ba4249-b71c-4a1f-a97a-736227827549",
   "metadata": {},
   "outputs": [],
   "source": [
    "#Q5. Assignment:\n",
    "#L Import the n#ecessary libraries and load the dataset\n",
    "#L Split the da#taset into training and testing setZ\n",
    "#L Preprocess t#he data using any technique of your choice (e.g. scaling, normaliMationK\n",
    "#L Create an in#stance of the SVC classifier and train it on the training datW\n",
    "#L hse the trai#ned classifier to predict the labels of the testing datW\n",
    "#L Evaluate the performance of the classifier using any metric of your choice (e.g. accuracy,\n",
    "#precision, recall, F1-scoreK\n",
    "#L Tune the hyperparameters of the SVC classifier using GridSearchCV or RandomiMedSearchCV to\n",
    "#improve its performanc_\n",
    "#L Train the tuned classifier on the entire dataseg\n",
    "#L Save the trained classifier to a file for future use."
   ]
  },
  {
   "cell_type": "code",
   "execution_count": 12,
   "id": "e612319c-ba6d-42bc-9b70-297149b0f71d",
   "metadata": {},
   "outputs": [
    {
     "data": {
      "text/html": [
       "<div>\n",
       "<style scoped>\n",
       "    .dataframe tbody tr th:only-of-type {\n",
       "        vertical-align: middle;\n",
       "    }\n",
       "\n",
       "    .dataframe tbody tr th {\n",
       "        vertical-align: top;\n",
       "    }\n",
       "\n",
       "    .dataframe thead th {\n",
       "        text-align: right;\n",
       "    }\n",
       "</style>\n",
       "<table border=\"1\" class=\"dataframe\">\n",
       "  <thead>\n",
       "    <tr style=\"text-align: right;\">\n",
       "      <th></th>\n",
       "      <th>Pregnancies</th>\n",
       "      <th>Glucose</th>\n",
       "      <th>BloodPressure</th>\n",
       "      <th>SkinThickness</th>\n",
       "      <th>Insulin</th>\n",
       "      <th>BMI</th>\n",
       "      <th>DiabetesPedigreeFunction</th>\n",
       "      <th>Age</th>\n",
       "      <th>Outcome</th>\n",
       "    </tr>\n",
       "  </thead>\n",
       "  <tbody>\n",
       "    <tr>\n",
       "      <th>0</th>\n",
       "      <td>6</td>\n",
       "      <td>148</td>\n",
       "      <td>72</td>\n",
       "      <td>35</td>\n",
       "      <td>0</td>\n",
       "      <td>33.6</td>\n",
       "      <td>0.627</td>\n",
       "      <td>50</td>\n",
       "      <td>1</td>\n",
       "    </tr>\n",
       "    <tr>\n",
       "      <th>1</th>\n",
       "      <td>1</td>\n",
       "      <td>85</td>\n",
       "      <td>66</td>\n",
       "      <td>29</td>\n",
       "      <td>0</td>\n",
       "      <td>26.6</td>\n",
       "      <td>0.351</td>\n",
       "      <td>31</td>\n",
       "      <td>0</td>\n",
       "    </tr>\n",
       "    <tr>\n",
       "      <th>2</th>\n",
       "      <td>8</td>\n",
       "      <td>183</td>\n",
       "      <td>64</td>\n",
       "      <td>0</td>\n",
       "      <td>0</td>\n",
       "      <td>23.3</td>\n",
       "      <td>0.672</td>\n",
       "      <td>32</td>\n",
       "      <td>1</td>\n",
       "    </tr>\n",
       "    <tr>\n",
       "      <th>3</th>\n",
       "      <td>1</td>\n",
       "      <td>89</td>\n",
       "      <td>66</td>\n",
       "      <td>23</td>\n",
       "      <td>94</td>\n",
       "      <td>28.1</td>\n",
       "      <td>0.167</td>\n",
       "      <td>21</td>\n",
       "      <td>0</td>\n",
       "    </tr>\n",
       "    <tr>\n",
       "      <th>4</th>\n",
       "      <td>0</td>\n",
       "      <td>137</td>\n",
       "      <td>40</td>\n",
       "      <td>35</td>\n",
       "      <td>168</td>\n",
       "      <td>43.1</td>\n",
       "      <td>2.288</td>\n",
       "      <td>33</td>\n",
       "      <td>1</td>\n",
       "    </tr>\n",
       "  </tbody>\n",
       "</table>\n",
       "</div>"
      ],
      "text/plain": [
       "   Pregnancies  Glucose  BloodPressure  SkinThickness  Insulin   BMI  \\\n",
       "0            6      148             72             35        0  33.6   \n",
       "1            1       85             66             29        0  26.6   \n",
       "2            8      183             64              0        0  23.3   \n",
       "3            1       89             66             23       94  28.1   \n",
       "4            0      137             40             35      168  43.1   \n",
       "\n",
       "   DiabetesPedigreeFunction  Age  Outcome  \n",
       "0                     0.627   50        1  \n",
       "1                     0.351   31        0  \n",
       "2                     0.672   32        1  \n",
       "3                     0.167   21        0  \n",
       "4                     2.288   33        1  "
      ]
     },
     "execution_count": 12,
     "metadata": {},
     "output_type": "execute_result"
    }
   ],
   "source": [
    "# Import the necessary libraries and load the dataset\n",
    "import pandas as pd\n",
    "import matplotlib.pyplot as plt\n",
    "import numpy as np\n",
    "from sklearn.model_selection import train_test_split\n",
    "from sklearn.svm import SVC\n",
    "from sklearn.metrics import confusion_matrix\n",
    "from sklearn.metrics import accuracy_score\n",
    "from sklearn.preprocessing import StandardScaler\n",
    "from warnings import filterwarnings\n",
    "from sklearn.metrics import RocCurveDisplay\n",
    "\n",
    "filterwarnings('ignore')\n",
    "\n",
    "\n",
    "df=pd.read_csv('diabetes.csv')\n",
    "df.head()"
   ]
  },
  {
   "cell_type": "code",
   "execution_count": 13,
   "id": "770f8e18-a2bf-4445-a719-5ac99c2b1fb4",
   "metadata": {},
   "outputs": [],
   "source": [
    "#Split the da#taset into training and testing sets\n",
    "\n",
    "X=df.drop('Outcome', axis=1)\n",
    "y=df['Outcome']\n",
    "\n",
    "X_train, X_test, y_train, y_test= train_test_split(X,y,test_size=0.3, random_state=0)"
   ]
  },
  {
   "cell_type": "code",
   "execution_count": 14,
   "id": "2bfc8d6d-33dd-4733-9afa-be80405f32c6",
   "metadata": {},
   "outputs": [],
   "source": [
    "#Preprocess the data using any technique of your choice (e.g. scaling, normalisation)\n",
    "\n",
    "std_scalar=StandardScaler()\n",
    "\n",
    "X_train=std_scalar.fit_transform(X_train)\n",
    "X_test=std_scalar.transform(X_test)\n"
   ]
  },
  {
   "cell_type": "code",
   "execution_count": 15,
   "id": "c8a107c0-ec4e-4691-86ec-f54d03f446c9",
   "metadata": {},
   "outputs": [
    {
     "name": "stdout",
     "output_type": "stream",
     "text": [
      "Accuracy: 0.7835497835497836\n",
      "[[141  16]\n",
      " [ 34  40]]\n"
     ]
    },
    {
     "data": {
      "image/png": "[encoded data removed]",
      "text/plain": [
       "<Figure size 640x480 with 1 Axes>"
      ]
     },
     "metadata": {},
     "output_type": "display_data"
    }
   ],
   "source": [
    "#Create an instance of the SVC classifier and train it on the training datW\n",
    "# Use the trained classifier to predict the labels of the testing datW\n",
    "# Evaluate the performance of the classifier using any metric of your choice (e.g. accuracy, precision, recall, F1-score\n",
    "\n",
    "svc_classifier= SVC(kernel='linear', random_state=40)\n",
    "\n",
    "svc_classifier.fit(X_train,y_train)\n",
    "\n",
    "y_pred=svc_classifier.predict(X_test)\n",
    "\n",
    "# Calculate the accuracy of the classifier\n",
    "accuracy = accuracy_score(y_test, y_pred)\n",
    "print('Accuracy:', accuracy)\n",
    "\n",
    "\n",
    "# Print the confusion matrix\n",
    "print(confusion_matrix(y_test, y_pred))\n",
    "\n",
    "# Plot the ROC curve\n",
    "disp = RocCurveDisplay.from_estimator(svc_classifier, X_test, y_test)\n",
    "\n"
   ]
  },
  {
   "cell_type": "markdown",
   "id": "ec96de23-f416-422b-8364-ea8a74f666eb",
   "metadata": {},
   "source": [
    "Accuracy is good and but we can try improve it further"
   ]
  },
  {
   "cell_type": "code",
   "execution_count": 16,
   "id": "572a696f-ab81-4322-a343-cf256e655f82",
   "metadata": {},
   "outputs": [],
   "source": [
    "#Tune the hyperparameters of the SVC classifier using GridSearchCV or RandomiMedSearchCV to\n",
    "#improve its performance"
   ]
  },
  {
   "cell_type": "code",
   "execution_count": 17,
   "id": "5d1879cd-9a53-456d-9444-e7c0e207f03a",
   "metadata": {},
   "outputs": [
    {
     "name": "stdout",
     "output_type": "stream",
     "text": [
      "Best hyperparameters: {'C': 1, 'gamma': 0.1, 'kernel': 'linear'}\n",
      "Best score: 0.7615610938040844\n"
     ]
    }
   ],
   "source": [
    "from sklearn.model_selection import GridSearchCV\n",
    "\n",
    "param_grid = {'C': [0.1, 1,5, 10], 'kernel': ['linear', 'rbf'], 'gamma': [0.1, 1, 10]}\n",
    "\n",
    "# Fit the grid search object to the training data and obtain the best hyperparameters\n",
    "\n",
    "grid_search = GridSearchCV(svc_classifier, param_grid=param_grid)\n",
    "grid_search.fit(X_train, y_train)\n",
    "\n",
    "print(f\"Best hyperparameters: {grid_search.best_params_}\")\n",
    "print(f\"Best score: {grid_search.best_score_}\")"
   ]
  },
  {
   "cell_type": "code",
   "execution_count": 19,
   "id": "3dea08ca-d80e-4426-8a03-dd1a032d71ec",
   "metadata": {},
   "outputs": [
    {
     "name": "stdout",
     "output_type": "stream",
     "text": [
      "Accuracy: 0.7835497835497836\n"
     ]
    }
   ],
   "source": [
    "#Train the tuned classifier on the entire dataset\n",
    "tuned_classifier = grid_search.best_estimator_\n",
    "tuned_classifier.fit(X_train, y_train)\n",
    "y_pred = tuned_classifier.predict(X_test)\n",
    "\n",
    "# Calculate the accuracy of the classifier\n",
    "accuracy = accuracy_score(y_test, y_pred)\n",
    "print('Accuracy:', accuracy)"
   ]
  },
  {
   "cell_type": "code",
   "execution_count": 20,
   "id": "e8bdd921-f7db-4462-a006-8a10cb892d3e",
   "metadata": {},
   "outputs": [
    {
     "name": "stdout",
     "output_type": "stream",
     "text": [
      "[[141  16]\n",
      " [ 34  40]]\n"
     ]
    },
    {
     "data": {
      "image/png": "[encoded data removed]",
      "text/plain": [
       "<Figure size 640x480 with 1 Axes>"
      ]
     },
     "metadata": {},
     "output_type": "display_data"
    }
   ],
   "source": [
    "from sklearn.metrics import RocCurveDisplay\n",
    "\n",
    "# Print the confusion matrix\n",
    "print(confusion_matrix(y_test, y_pred))\n",
    "\n",
    "# Plot the ROC curve\n",
    "disp = RocCurveDisplay.from_estimator(tuned_classifier, X_test, y_test)\n"
   ]
  },
  {
   "cell_type": "code",
   "execution_count": 21,
   "id": "345d911e-13ca-4fc3-a709-83d992a6fa85",
   "metadata": {},
   "outputs": [
    {
     "data": {
      "text/plain": [
       "['finalized_model.sav']"
      ]
     },
     "execution_count": 21,
     "metadata": {},
     "output_type": "execute_result"
    }
   ],
   "source": [
    "#Save the trained classifier to a file for future use.\n",
    "\n",
    "import joblib\n",
    "\n",
    "# Save the model as a pickle file\n",
    "filename = 'finalized_model.sav'\n",
    "joblib.dump(tuned_classifier, filename)"
   ]
  },
  {
   "cell_type": "code",
   "execution_count": null,
   "id": "8493d01a-0df1-4168-a7a4-f6e717d2b885",
   "metadata": {},
   "outputs": [],
   "source": []
  }
 ],
 "metadata": {
  "kernelspec": {
   "display_name": "Python 3 (ipykernel)",
   "language": "python",
   "name": "python3"
  },
  "language_info": {
   "codemirror_mode": {
    "name": "ipython",
    "version": 3
   },
   "file_extension": ".py",
   "mimetype": "text/x-python",
   "name": "python",
   "nbconvert_exporter": "python",
   "pygments_lexer": "ipython3",
   "version": "3.10.8"
  }
 },
 "nbformat": 4,
 "nbformat_minor": 5
}
