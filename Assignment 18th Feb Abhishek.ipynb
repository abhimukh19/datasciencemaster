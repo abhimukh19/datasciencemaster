{
 "cells": [
  {
   "cell_type": "code",
   "execution_count": 1,
   "id": "c7f26972-beea-4ab0-86bc-6952d649c077",
   "metadata": {},
   "outputs": [],
   "source": [
    "# Q1. What is an API? Give an example, where an API is used in real life.\n",
    "\n",
    "## A1 API is also called Application Programming Interface. It is a software program that helps two different software’s to communicate and exchange data with each other. For example, when you use Google to search for weather information, Google uses an API to display relevant data from another source, such as Weather.com"
   ]
  },
  {
   "cell_type": "code",
   "execution_count": null,
   "id": "f8e93833-4b82-4fd4-8526-14473838915e",
   "metadata": {},
   "outputs": [],
   "source": [
    "# Q2 Give advantages and disadvantages of using API.\n",
    "\n",
    "## A2 \n",
    "##Advantages\n",
    "## They allow different applications’s to communicate and exchange data easily.\n",
    "## They provide flexibility and scalability for applications and data exchange between them\n",
    "## They enable secure and safe transactions\n",
    "## Disdvantages\n",
    "##They may expose sensitive data or functionality to unauthorized parties, so security is a concern\n",
    "##They may increase complexity and maintenance costs for developers\n",
    "\n"
   ]
  },
  {
   "cell_type": "code",
   "execution_count": null,
   "id": "3826dca5-5ebe-415b-a1f6-c29239e81d5f",
   "metadata": {},
   "outputs": [],
   "source": [
    "## Q3 What is a Web API? Differentiate between API and Web API.\n",
    "## A3 A Web API is a type of API that can be accessed over the internet using HTTP/HTTPS protocol.\n",
    "## The main difference between API and Web API is that Web API is a subset of API that requires network or internet to function, whereas API can function online or offline"
   ]
  },
  {
   "cell_type": "code",
   "execution_count": null,
   "id": "d8534773-5b52-40df-80ab-dea03b84744c",
   "metadata": {},
   "outputs": [],
   "source": [
    "## Q4 Explain REST and SOAP Architecture. Mention shortcomings of SOAP.\n",
    "\n",
    "### REST stands for (Representational State Transfer) and SOAP standas for (Simple Object Access Protocol) are two different architectures for building web services\n",
    "### REST is a set of guidelines that offers flexible implementation, whereas SOAP is a protocol bound to specific requirements like XML and WSDL\n",
    "### Shorting comings for SOAP are\n",
    "### SOAP requires more network bandwidth and processing resources\n",
    "### SOAP is more complex and more difficult to debug\n",
    "### SOAP offers lower flexibility and combatility than REST as REST supports different platforms, languages and protocols with no specific requirements"
   ]
  },
  {
   "cell_type": "code",
   "execution_count": null,
   "id": "dc054837-d0fd-43d8-aac6-53fe4f9cdcdf",
   "metadata": {},
   "outputs": [],
   "source": [
    "### Q5. Differentiate between REST and SOAP.\n",
    "### A5 SOAP is a protocol, while REST more of an architectural\n",
    "### SOAP uses XML for data exchange, while REST uses formats like XML, JSON, HTML\n",
    "### SOAP requires more network bandwidth and processing resources than REST\n",
    "### SOAP is more complex and more difficult to debug than REST\n",
    "### SOAP has built-in security and transaction compliance features for example XML Encryption or ACID Compliance, while REST relies on external mechanism\n"
   ]
  }
 ],
 "metadata": {
  "kernelspec": {
   "display_name": "Python 3 (ipykernel)",
   "language": "python",
   "name": "python3"
  },
  "language_info": {
   "codemirror_mode": {
    "name": "ipython",
    "version": 3
   },
   "file_extension": ".py",
   "mimetype": "text/x-python",
   "name": "python",
   "nbconvert_exporter": "python",
   "pygments_lexer": "ipython3",
   "version": "3.10.8"
  }
 },
 "nbformat": 4,
 "nbformat_minor": 5
}
