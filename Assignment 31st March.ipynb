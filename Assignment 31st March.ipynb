{
 "cells": [
  {
   "cell_type": "code",
   "execution_count": null,
   "id": "74de1e08-b708-41d5-b9e2-c9fdc49954d0",
   "metadata": {},
   "outputs": [],
   "source": [
    "#Q1. What are the key steps involved in building an end-to-end web application, from development to\n",
    "#deployment on the cloud?"
   ]
  },
  {
   "cell_type": "markdown",
   "id": "98c2e06f-ef68-440e-9ccf-02643792bbd6",
   "metadata": {},
   "source": [
    "A- Data collection in the form of different sources such as csv,excel or a database\n",
    "\n",
    "B - Conduct exploratory data analysis understanding the source data, putting into the right format such a dataframe\n",
    "\n",
    "C- Feature engineering including managing missing or duplicate values, encoding categorical columns \n",
    "\n",
    "D- Feature selection to select the right features which have the biggest impact on the dependent variables such as Check for Multicollinearity. We also conduct Feature Scaling\n",
    "\n",
    "E- Train the Model, Chosing the right model such as Ridge Regreession\n",
    "\n",
    "F- Build the web application (flask application) such a a form, which will interact with the regreession model\n",
    "\n",
    "G- We upload files on Github\n",
    "\n",
    "7- And then deployment on AWS with Elastic Bean stalk with Github repository as code base source\n",
    "\n",
    "8- We build a CI/CD pipeline on AWS to deploy the final code\n"
   ]
  },
  {
   "cell_type": "code",
   "execution_count": 1,
   "id": "cde332f6-81d0-41b8-bd3d-cf532838cba8",
   "metadata": {},
   "outputs": [],
   "source": [
    "#Q2. Explain the difference between traditional web hosting and cloud hosting."
   ]
  },
  {
   "cell_type": "markdown",
   "id": "5922a4e4-c648-48cd-896c-2ec513208010",
   "metadata": {},
   "source": [
    "The main difference is on the type of hosting where a website is hosted on a single server in a traditional model\n",
    "\n",
    "In contrast, cloud hosting is a type of hosting where a website is hosted on multiple servers or even containers. \n",
    "\n",
    "This means that cloud hosting is more scalable and reliable than traditional web hosting\n",
    "\n",
    "In addition, if a physical server fails, websites hosted on traditional web hosting will not function well or can be shut down while in Cloud, if a specific server is down, the user is pointed to another resource/server with the help of a load balancer which increases its reslience and application availability which is sometimes greater than 99.9999 for critical apps"
   ]
  },
  {
   "cell_type": "code",
   "execution_count": 2,
   "id": "29625ea3-acfc-4796-84d7-7fb6ee83656c",
   "metadata": {},
   "outputs": [],
   "source": [
    "#Q3. How do you choose the right cloud provider for your application deployment, and what factors\n",
    "#should you consider?"
   ]
  },
  {
   "cell_type": "markdown",
   "id": "9e5dc8fa-ea3a-487e-aaef-1fdd76529760",
   "metadata": {},
   "source": [
    "Matches business needs: Organizations should research their options and find a solution that supports their requirements.\n",
    "\n",
    "Reliability: Organizations should choose a provider whcih has reliable security and storage capabilities to avoid the risk of data loss and cyberattacks\n",
    "\n",
    "Flexibility: Cloud providers should be able to scale its services\n",
    "\n",
    "Cost: The cost of cloud services can vary greatly depending on the provider and the services offered2.\n",
    "\n",
    "Support: The level of support offered by cloud providers can vary greatly."
   ]
  },
  {
   "cell_type": "code",
   "execution_count": 3,
   "id": "452fd203-6f45-4b85-8017-0281f42a257f",
   "metadata": {},
   "outputs": [],
   "source": [
    "#Q4. How do you design and build a responsive user interface for your web application, and what are\n",
    "#some best practices to follow?"
   ]
  },
  {
   "cell_type": "markdown",
   "id": "9c0db871-b22d-4ac8-a48f-dedec246eaaf",
   "metadata": {},
   "source": [
    "Eliminate friction by using a mobile-first approach to evaluate what’s necessary for the user to achieve their main objective.\n",
    "\n",
    "Design for thumbs by placing important elements within reach of the thumb.\n",
    "\n",
    "Take advantage of mobile devices’ native hardware such as GPS, camera, and microphone.\n",
    "\n",
    "Make layouts fluid/adaptive by default and use the right landscape orientation.\n",
    "\n",
    "Even typography can be responsive too, keep the interface simple and avoid unnecessary elements. The best interfaces are almost invisible to the user.\n",
    "\n",
    "Create consistency and use common UI elements. By using common elements in your UI, users feel more comfortable and are able to get things done more quickly"
   ]
  },
  {
   "cell_type": "code",
   "execution_count": 4,
   "id": "ecb1ab71-026a-4f21-b640-c5d38865fda5",
   "metadata": {},
   "outputs": [],
   "source": [
    "#Q5. How do you integrate the machine learning model with the user interface for the Algerian Forest Fires\n",
    "#project(which we discussed in class), and what APIs or libraries can you use for this purpose?"
   ]
  },
  {
   "cell_type": "markdown",
   "id": "f194c77b-5e5e-4d26-933d-7e72701f1626",
   "metadata": {},
   "source": [
    "To integrate a machine learning model with the user interface for the Algerian Forest Fires project, we can use libraries such as Flask and MongoDB to store the source dataset. \n",
    "\n",
    "The Flask app can be hosted on AWS/Azure\n",
    "\n",
    "We can use libraries such as DialogFlow, Microsoft’s Cognitive Toolkit, and TensorFlow.js1 to integrate machine learning models with APIs for web development."
   ]
  },
  {
   "cell_type": "code",
   "execution_count": null,
   "id": "3edd565e-e467-46c1-bbfa-ec6056afd44d",
   "metadata": {},
   "outputs": [],
   "source": []
  }
 ],
 "metadata": {
  "kernelspec": {
   "display_name": "Python 3 (ipykernel)",
   "language": "python",
   "name": "python3"
  },
  "language_info": {
   "codemirror_mode": {
    "name": "ipython",
    "version": 3
   },
   "file_extension": ".py",
   "mimetype": "text/x-python",
   "name": "python",
   "nbconvert_exporter": "python",
   "pygments_lexer": "ipython3",
   "version": "3.10.8"
  }
 },
 "nbformat": 4,
 "nbformat_minor": 5
}
