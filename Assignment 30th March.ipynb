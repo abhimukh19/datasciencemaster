{
 "cells": [
  {
   "cell_type": "code",
   "execution_count": 1,
   "id": "2c68ce62-1d6d-4a78-b3c3-3c5d7da5c1da",
   "metadata": {},
   "outputs": [],
   "source": [
    "#Q1. What is Elastic Net Regression and how does it differ from other regression techniques?"
   ]
  },
  {
   "cell_type": "markdown",
   "id": "eed8cc87-7355-4709-8f2f-dbf3547b2f53",
   "metadata": {},
   "source": [
    "Elastic Net Regression is a combination of two popular regularized variants of linear regression: Ridge and Lasso. Ridge utilizes an L2 penalty and Lasso uses an L1 penalty. With Elastic Net, you don’t have to choose between these two models because it uses both the L2 and the L1 penalty!\n",
    "\n",
    "The difference between Elastic Net Regression and other regression techniques is that Elastic Net Regression combines both Ridge and Lasso regression techniques. Ridge regression shrinks the coefficients of correlated variables while Lasso regression can be used for feature selection. "
   ]
  },
  {
   "cell_type": "code",
   "execution_count": null,
   "id": "9549c9aa-d532-4ecb-992d-8b30a7cde47f",
   "metadata": {},
   "outputs": [],
   "source": [
    "#Q2. How do you choose the optimal values of the regularization parameters for Elastic Net Regression?"
   ]
  },
  {
   "cell_type": "markdown",
   "id": "43166970-a3d0-4d09-9843-adfaadd0a16d",
   "metadata": {},
   "source": [
    "The optimal values of the regularization parameters for Elastic Net Regression can be chosen by tuning the hyperparameters alpha and l1_ratio. The hyperparameter l1_ratio defines how we mix both L1 and L2 regularization. Therefore, it is called the ElasticNet mixing parameter. The acceptable range of values for l1_ratio is: 0 <= l1_ratio <= 1"
   ]
  },
  {
   "cell_type": "code",
   "execution_count": 2,
   "id": "c5d6b9fc-391e-4d87-a832-11544405c2eb",
   "metadata": {},
   "outputs": [],
   "source": [
    "#Q3. What are the advantages and disadvantages of Elastic Net Regression?"
   ]
  },
  {
   "cell_type": "markdown",
   "id": "6380bcc9-e723-45f9-ae60-0b1702c1eb59",
   "metadata": {},
   "source": [
    "The advantages of Elastic Net Regression are that it combines both L1 and L2 regularization methods. \n",
    "\n",
    "It doesn’t have the problem of selecting more than n predictors when n<<p, whereas LASSO saturates when n<<p. \n",
    "\n",
    "Elastic Net is proved to be better than Lasso Regression when the prediction is too dependent upon a particular variable.\n",
    "\n",
    "The disadvantage of Elastic Net Regression is that it is computationally more expensive than LASSO or Ridge\n",
    "\n",
    "Another disadvantage (but at the same time an advantage) is the flexibility of the estimator."
   ]
  },
  {
   "cell_type": "code",
   "execution_count": 2,
   "id": "edebf8b8-487d-4d1f-a756-d3e796e0d9a3",
   "metadata": {},
   "outputs": [],
   "source": [
    "#Q4. What are some common use cases for Elastic Net Regression?"
   ]
  },
  {
   "cell_type": "markdown",
   "id": "23f0a874-8a9e-432b-a89f-0592d6806a32",
   "metadata": {},
   "source": [
    "Elastic Net Regression is a combination of Lasso and Ridge regression techniques. It is used when there are multiple features in a dataset that are highly correlated with each other. \n",
    "Some common use cases for Elastic Net Regression include:\n",
    "\n",
    "Support vector machine\n",
    "\n",
    "Metric learning\n",
    "\n",
    "Portfolio optimization"
   ]
  },
  {
   "cell_type": "code",
   "execution_count": 1,
   "id": "64b14cd1-4240-4614-85d8-dc3e03b896bd",
   "metadata": {},
   "outputs": [],
   "source": [
    "#Q5. How do you interpret the coefficients in Elastic Net Regression?"
   ]
  },
  {
   "cell_type": "markdown",
   "id": "747e4730-1d21-41e2-9037-2b0700d173a6",
   "metadata": {},
   "source": [
    "The coefficients of elastic net regression represent the linear relationship between the features and the target variable, adjusted by the regularization terms.\n",
    "\n",
    "The larger the absolute value of a coefficient, the stronger the effect of the corresponding feature on the target variable. \n",
    "\n",
    "To compare the coefficients of elastic net regression with other models, we need to standardize the features before fitting the models, so that they have zero mean and unit variance. "
   ]
  },
  {
   "cell_type": "code",
   "execution_count": 3,
   "id": "273b2e3f-f031-4bd0-a469-2780ed75beb0",
   "metadata": {},
   "outputs": [],
   "source": [
    "#Q6. How do you handle missing values when using Elastic Net Regression?"
   ]
  },
  {
   "cell_type": "markdown",
   "id": "3a81a152-c109-49f6-b342-0b492056560c",
   "metadata": {},
   "source": [
    "When using Elastic Net Regression, there are several ways to handle missing values. One way is to omit variables for which most observations are missing. \n",
    "\n",
    "Another way is to omit the rows/observations/cases with missing values. This strategy is referenced as listwise deletion or complete case analysis."
   ]
  },
  {
   "cell_type": "code",
   "execution_count": 5,
   "id": "1c3739b5-5957-46dd-a955-1c348505fe3b",
   "metadata": {},
   "outputs": [],
   "source": [
    "#Q7. How do you use Elastic Net Regression for feature selection?"
   ]
  },
  {
   "cell_type": "markdown",
   "id": "b3ff678b-90dd-446b-8e8e-d547327b9b9b",
   "metadata": {},
   "source": [
    "Elastic Net Regression is a regression method that performs variable selection and regularization simultaneously. \n",
    "\n",
    "The L1 penalty of the elastic net encourages sparse solutions, where many of the coefficients are exactly zero. \n",
    "\n",
    "This property can help identify the most important predictors and reduce the number of features needed for modeling"
   ]
  },
  {
   "cell_type": "code",
   "execution_count": 6,
   "id": "1ff07d51-15b5-49fa-b67b-013d71cb59e9",
   "metadata": {},
   "outputs": [],
   "source": [
    "#Q8. How do you pickle and unpickle a trained Elastic Net Regression model in Python?"
   ]
  },
  {
   "cell_type": "code",
   "execution_count": 21,
   "id": "9b856719-3df1-4e44-a529-24968c5912fb",
   "metadata": {},
   "outputs": [
    {
     "data": {
      "text/html": [
       "<div>\n",
       "<style scoped>\n",
       "    .dataframe tbody tr th:only-of-type {\n",
       "        vertical-align: middle;\n",
       "    }\n",
       "\n",
       "    .dataframe tbody tr th {\n",
       "        vertical-align: top;\n",
       "    }\n",
       "\n",
       "    .dataframe thead th {\n",
       "        text-align: right;\n",
       "    }\n",
       "</style>\n",
       "<table border=\"1\" class=\"dataframe\">\n",
       "  <thead>\n",
       "    <tr style=\"text-align: right;\">\n",
       "      <th></th>\n",
       "      <th>R&amp;D Spend</th>\n",
       "      <th>Administration</th>\n",
       "      <th>Marketing Spend</th>\n",
       "      <th>State</th>\n",
       "      <th>Profit</th>\n",
       "    </tr>\n",
       "  </thead>\n",
       "  <tbody>\n",
       "    <tr>\n",
       "      <th>0</th>\n",
       "      <td>165349.20</td>\n",
       "      <td>136897.80</td>\n",
       "      <td>471784.10</td>\n",
       "      <td>New York</td>\n",
       "      <td>192261.83</td>\n",
       "    </tr>\n",
       "    <tr>\n",
       "      <th>1</th>\n",
       "      <td>162597.70</td>\n",
       "      <td>151377.59</td>\n",
       "      <td>443898.53</td>\n",
       "      <td>California</td>\n",
       "      <td>191792.06</td>\n",
       "    </tr>\n",
       "    <tr>\n",
       "      <th>2</th>\n",
       "      <td>153441.51</td>\n",
       "      <td>101145.55</td>\n",
       "      <td>407934.54</td>\n",
       "      <td>Florida</td>\n",
       "      <td>191050.39</td>\n",
       "    </tr>\n",
       "    <tr>\n",
       "      <th>3</th>\n",
       "      <td>144372.41</td>\n",
       "      <td>118671.85</td>\n",
       "      <td>383199.62</td>\n",
       "      <td>New York</td>\n",
       "      <td>182901.99</td>\n",
       "    </tr>\n",
       "    <tr>\n",
       "      <th>4</th>\n",
       "      <td>142107.34</td>\n",
       "      <td>91391.77</td>\n",
       "      <td>366168.42</td>\n",
       "      <td>Florida</td>\n",
       "      <td>166187.94</td>\n",
       "    </tr>\n",
       "  </tbody>\n",
       "</table>\n",
       "</div>"
      ],
      "text/plain": [
       "   R&D Spend  Administration  Marketing Spend       State     Profit\n",
       "0  165349.20       136897.80        471784.10    New York  192261.83\n",
       "1  162597.70       151377.59        443898.53  California  191792.06\n",
       "2  153441.51       101145.55        407934.54     Florida  191050.39\n",
       "3  144372.41       118671.85        383199.62    New York  182901.99\n",
       "4  142107.34        91391.77        366168.42     Florida  166187.94"
      ]
     },
     "execution_count": 21,
     "metadata": {},
     "output_type": "execute_result"
    }
   ],
   "source": [
    "import pandas as pd\n",
    "import numpy as np\n",
    "import matplotlib.pyplot as plt\n",
    "from sklearn.linear_model import LinearRegression\n",
    "\n",
    "df = pd.read_csv('https://raw.githubusercontent.com/krishnaik06/Multiple-Linear-Regression/master/50_Startups.csv')\n",
    "df.head()\n"
   ]
  },
  {
   "cell_type": "code",
   "execution_count": 22,
   "id": "82169160-0459-4369-9a66-c7825dd3ccbf",
   "metadata": {},
   "outputs": [],
   "source": [
    "X = df.iloc[:, :-1].values\n",
    "y = df.iloc[:, -1].values"
   ]
  },
  {
   "cell_type": "code",
   "execution_count": 26,
   "id": "2b8ed39a-726d-4c84-ba1c-a398afb55071",
   "metadata": {},
   "outputs": [
    {
     "data": {
      "image/png": "[encoded data removed]",
      "text/plain": [
       "<Figure size 640x480 with 1 Axes>"
      ]
     },
     "metadata": {},
     "output_type": "display_data"
    }
   ],
   "source": [
    "import pickle\n",
    "from sklearn.linear_model import ElasticNet\n",
    "from sklearn.model_selection import train_test_split\n",
    "\n",
    "X_train, X_test, y_train, y_test = train_test_split(df.drop('State', axis=1), df['Profit'], test_size=0.2)\n",
    "\n",
    "# Train your Elastic Net Regression model\n",
    "model = ElasticNet(alpha=0.1, l1_ratio=0.5)\n",
    "model.fit(X_train, y_train)\n",
    "\n",
    "# Pickle the trained model\n",
    "with open('elastic_net_regression.pickle', 'wb') as f:\n",
    "    pickle.dump(model, f)\n",
    "\n",
    "# Unpickle the trained model\n",
    "with open('elastic_net_regression.pickle', 'rb') as f:\n",
    "    model = pickle.load(f)\n",
    "\n",
    "# Use the unpickled model to make predictions\n",
    "y_pred = model.predict(X_test)\n",
    "\n",
    "\n",
    "# Plot the results\n",
    "plt.scatter(y_test, y_pred)\n",
    "plt.plot(y_test,y_test,color='grey')\n",
    "plt.xlabel('True Values')\n",
    "plt.ylabel('Predictions')\n",
    "plt.show()\n",
    "    \n",
    "    "
   ]
  },
  {
   "cell_type": "code",
   "execution_count": 27,
   "id": "5b17a97e-e19f-4720-b403-0ae7feede2a1",
   "metadata": {},
   "outputs": [],
   "source": [
    "#Q9. What is the purpose of pickling a model in machine learning?"
   ]
  },
  {
   "cell_type": "markdown",
   "id": "db041f0c-64f6-4c2a-8012-d4165f1b22c7",
   "metadata": {},
   "source": [
    "Pickling is a process of serializing an object hierarchy into a byte stream. In machine learning, pickling is used to serialize machine learning models and save them to disk. Later, these models can be loaded from disk and used to make new predictions"
   ]
  },
  {
   "cell_type": "code",
   "execution_count": null,
   "id": "e352a13b-2df4-48f2-a46f-9fe8a2923374",
   "metadata": {},
   "outputs": [],
   "source": []
  }
 ],
 "metadata": {
  "kernelspec": {
   "display_name": "Python 3 (ipykernel)",
   "language": "python",
   "name": "python3"
  },
  "language_info": {
   "codemirror_mode": {
    "name": "ipython",
    "version": 3
   },
   "file_extension": ".py",
   "mimetype": "text/x-python",
   "name": "python",
   "nbconvert_exporter": "python",
   "pygments_lexer": "ipython3",
   "version": "3.10.8"
  }
 },
 "nbformat": 4,
 "nbformat_minor": 5
}
