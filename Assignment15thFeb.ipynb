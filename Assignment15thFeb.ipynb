{
 "cells": [
  {
   "cell_type": "code",
   "execution_count": 1,
   "id": "ee423461-420c-4816-9599-6f5531722c3c",
   "metadata": {},
   "outputs": [],
   "source": [
    "### Q1  What is multiprocessing in python? Why is it useful?\n",
    "\n",
    "### A1 Multiprocessing is a package that enables multiple processes run in parallel. It can break an application into smaller threads that can run independently"
   ]
  },
  {
   "cell_type": "code",
   "execution_count": 2,
   "id": "3516bf72-3217-4dc3-a021-f4a94c58e012",
   "metadata": {},
   "outputs": [],
   "source": [
    "###Q2 what are the differences between multiprocessing and multithreading?\n",
    "### A2 The main difference is that multiprocessing uses multiple processes, each with its own memory space, while multithreading uses multiple threads within a single process in a shared memory space\n"
   ]
  },
  {
   "cell_type": "code",
   "execution_count": 14,
   "id": "0a366b85-d549-4ee1-a34d-53cf2cd2ed80",
   "metadata": {},
   "outputs": [
    {
     "name": "stdout",
     "output_type": "stream",
     "text": [
      "Hello Tom!\n",
      "Hello Rob!\n",
      "Hello Abhi!\n",
      "Hello Shashi!\n"
     ]
    }
   ],
   "source": [
    "## Q3 Write a python code to create a process using the multiprocessing module.\n",
    "\n",
    "import multiprocessing\n",
    "tupin={\"Abhi\",\"Shashi\", \"Tom\", \"Rob\"}\n",
    "# Define a function for the process\n",
    "def printmylist(name):\n",
    "    print(f\"Hello {name}!\")\n",
    "\n",
    "# Create a process object\n",
    "if __name__ ==\"__main__\":\n",
    "    for inputname in tupin:\n",
    "        p = multiprocessing.Process(target=printmylist, args=(inputname,))\n",
    "\n",
    "# Start the process\n",
    "        p.start()\n",
    "\n",
    "# Wait for the process to finish\n",
    "        p.join()"
   ]
  },
  {
   "cell_type": "code",
   "execution_count": 3,
   "id": "cc51179b-6023-4e64-916a-91d9e787a1c2",
   "metadata": {},
   "outputs": [],
   "source": [
    "###Q4 What is a multiprocessing pool in python? Why is it used?\n",
    "###A4 It is an object that enables parallel execution of function across an array of or multiple inputs. It creates a pool of worker processes that can take tasks from a queue and run them in parallel. "
   ]
  },
  {
   "cell_type": "code",
   "execution_count": 4,
   "id": "4c8d5745-9959-4641-9a50-6978c1ca6ce6",
   "metadata": {},
   "outputs": [],
   "source": [
    "### Q5 How can we create a pool of worker processes in python using the multiprocessing module?\n",
    "### A5 We use the multiprocessing.pool class to do the same an example is below\n",
    "\n",
    "## testpool = multiprocessing.Pool(processes=None, initializer=None, initargs=(), maxtasksperchild=None, context=None)\n",
    "## processes defines the number of worker processes to be created, initializer initializes each worker process, initargs is the number of tuple arguments sent to the initiatilzer function, maxtasksperchild defines the number of tasks assigned to each worker process, context is used defined the start method for the worker processes\n",
    "\n"
   ]
  },
  {
   "cell_type": "code",
   "execution_count": 36,
   "id": "3ffb1225-e7f3-4b39-b61c-616dd9069a79",
   "metadata": {},
   "outputs": [
    {
     "name": "stdout",
     "output_type": "stream",
     "text": [
      "1\n",
      "4\n",
      "9\n",
      "16\n"
     ]
    }
   ],
   "source": [
    "## Q6 Write a python program to create 4 processes, each process should print a different number using the multiprocessing module in python.\n",
    "## A6 import multiprocessing\n",
    "# Define a function for creating for 4 processes and each process prints a different number based on the input\n",
    "def printsqr(inputvar):\n",
    "    print(inputvar*inputvar)\n",
    "# Create a process object\n",
    "if __name__ ==\"__main__\":\n",
    "    processlistin=[1,2,3,4]\n",
    "    processlistout=[]\n",
    "    for item in processlistin:\n",
    "        inputprocess = multiprocessing.Process(target=printsqr, args=(item,))\n",
    "        processlistout.append(inputprocess)\n",
    "### Start and Join the processes 4 times \n",
    "    for inputprocess in processlistout:\n",
    "        inputprocess.start()\n",
    "        inputprocess.join()\n"
   ]
  },
  {
   "cell_type": "code",
   "execution_count": null,
   "id": "6c0851fd-9fc3-42c5-861b-9b24da63f71d",
   "metadata": {},
   "outputs": [],
   "source": []
  }
 ],
 "metadata": {
  "kernelspec": {
   "display_name": "Python 3 (ipykernel)",
   "language": "python",
   "name": "python3"
  },
  "language_info": {
   "codemirror_mode": {
    "name": "ipython",
    "version": 3
   },
   "file_extension": ".py",
   "mimetype": "text/x-python",
   "name": "python",
   "nbconvert_exporter": "python",
   "pygments_lexer": "ipython3",
   "version": "3.10.8"
  }
 },
 "nbformat": 4,
 "nbformat_minor": 5
}
