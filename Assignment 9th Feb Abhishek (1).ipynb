{
 "cells": [
  {
   "cell_type": "markdown",
   "id": "2de49328-155a-4f29-a50a-a33a8a07b256",
   "metadata": {},
   "source": [
    "### Assignment submission for 9th February- Abhishek Mukherjee\n"
   ]
  },
  {
   "cell_type": "code",
   "execution_count": 1,
   "id": "05f75b6a-dd4a-4f9d-b30a-1b5a8a9f831c",
   "metadata": {},
   "outputs": [],
   "source": [
    "##Q1 Create a vehicle class with an init method having instance variables as name_of_vehicle, max_speed and average_of_vehicle."
   ]
  },
  {
   "cell_type": "code",
   "execution_count": 23,
   "id": "940a5e63-a701-4c6a-8f90-dd009f28ffcf",
   "metadata": {
    "tags": []
   },
   "outputs": [],
   "source": [
    "###defining a veichle class with instance variables\n",
    "class veichles_check:\n",
    "    def __init__(self, name_of_vehicle, max_speed, average_of_vehicle):\n",
    "        self.name_of_vehicle= name_of_vehicle\n",
    "        self.max_speed= max_speed\n",
    "        self.average_of_vehicle= average_of_vehicle\n",
    "    def return_veichlesdetails():\n",
    "            return (name_of_vehicle, max_speed, average_of_vehicle) \n"
   ]
  },
  {
   "cell_type": "code",
   "execution_count": 24,
   "id": "c33af3c5-3848-472a-991d-f8d04e2ce66e",
   "metadata": {
    "tags": []
   },
   "outputs": [],
   "source": [
    "veichle_obj = veichles_check(\"Maruti 800\", \"120 Km/hr\", \"18 km/litre\")"
   ]
  },
  {
   "cell_type": "code",
   "execution_count": 25,
   "id": "cb09fb0c-271c-4137-95e1-b5a2c4fd7acb",
   "metadata": {
    "tags": []
   },
   "outputs": [
    {
     "data": {
      "text/plain": [
       "'Maruti 800'"
      ]
     },
     "execution_count": 25,
     "metadata": {},
     "output_type": "execute_result"
    }
   ],
   "source": [
    "veichle_obj.name_of_vehicle"
   ]
  },
  {
   "cell_type": "code",
   "execution_count": 85,
   "id": "de0a3c11-6b7a-4dea-a69d-11422f3c7ea4",
   "metadata": {
    "tags": []
   },
   "outputs": [],
   "source": [
    "##Q2. Create a child class car from the vehicle class created in Que 1, which will inherit the vehicle class. Create a method named seating_capacity which takes capacity as an argument and returns the name of the vehicle and its seating capacity.\n",
    "  \n",
    "    ###defining a veichle class with instance variables\n",
    "class veichles_check:\n",
    "    def __init__(self, name_of_vehicle, max_speed, average_of_vehicle):\n",
    "        self.name_of_vehicle= name_of_vehicle\n",
    "        self.max_speed= max_speed\n",
    "        self.average_of_vehicle= average_of_vehicle\n",
    "\n",
    "        ###defining the method to return veichle name for a seating capacity as input\n",
    "    def seating_capacity(self,seat_capac):\n",
    "          return (f\"The seating capacity of {self.name_of_vehicle} is: {seat_capac}\" ) \n",
    "        ###defining the child class to take seating capacity as input\n",
    "class vec_capacity(veichles_check):\n",
    "    def seating_capacity(self,seat_capac):\n",
    "        return vec_capacity.seating_capacity(seat_capac)"
   ]
  },
  {
   "cell_type": "code",
   "execution_count": 86,
   "id": "19a4287f-9169-47c3-aced-09e0eeeee5a2",
   "metadata": {},
   "outputs": [],
   "source": [
    "vc_oj1 =veichles_check(\"BMW\", \"150KMPH\",\"18KM\")\n",
    "vc_oj2=veichles_check(\"Merc\", \"200KMPH\",\"12KM\")\n",
    "vc_oj3 =veichles_check(\"Alfa\", \"250KMPH\",\"8KM\")\n",
    "vc_oj4=veichles_check(\"Mclaren\", \"300KMPH\",\"6KM\")\n",
    "vc_oj5 =veichles_check(\"Audi\", \"400KMPH\",\"2KM\")"
   ]
  },
  {
   "cell_type": "code",
   "execution_count": 87,
   "id": "f5cc8505-081a-4c67-bb1f-9075a26b8a3e",
   "metadata": {},
   "outputs": [
    {
     "name": "stdout",
     "output_type": "stream",
     "text": [
      "The seating capacity of BMW is: 15\n",
      "The seating capacity of Merc is: 25\n",
      "The seating capacity of Alfa is: 30\n"
     ]
    }
   ],
   "source": [
    "print(vc_oj1.seating_capacity(15))\n",
    "print(vc_oj2.seating_capacity(25))\n",
    "print(vc_oj3.seating_capacity(30))"
   ]
  },
  {
   "cell_type": "code",
   "execution_count": null,
   "id": "df074b4f-4835-4f90-a356-653df905579b",
   "metadata": {},
   "outputs": [],
   "source": [
    "### Q3. What is multiple inheritance? Write a python code to demonstrate multiple inheritance."
   ]
  },
  {
   "cell_type": "code",
   "execution_count": 88,
   "id": "db93c3b9-26e2-4377-8b21-d01fb63e9f06",
   "metadata": {},
   "outputs": [
    {
     "name": "stdout",
     "output_type": "stream",
     "text": [
      "This function is the papa class.\n",
      "This function is the mama class.\n",
      "This function is the son class.\n"
     ]
    }
   ],
   "source": [
    "### A3 Enables a child class to inherit properties, attributes, methods etc. from mutliple parent classes\n",
    "### Examples of Inheritances\n",
    "### multiple inheritance\n",
    "class papa:\n",
    "    def papafunction(self):\n",
    "        print(\"This function is the papa class.\")\n",
    "\n",
    "class mama:\n",
    "    def mamafunction(self):\n",
    "        print(\"This function is the mama class.\")\n",
    "\n",
    "class son(papa,mama):\n",
    "    def sonfunction(self):\n",
    "        print(\"This function is the son class.\")\n",
    "testobject=son()        \n",
    "testobject.papafunction()\n",
    "testobject.mamafunction()\n",
    "testobject.sonfunction()"
   ]
  },
  {
   "cell_type": "code",
   "execution_count": 192,
   "id": "cde91ddf-2d58-4cdb-82ff-4d27b4fb8ff1",
   "metadata": {},
   "outputs": [],
   "source": [
    "##Q4. What are getter and setter in python? Create a class and create a getter and a setter method in this class.\n",
    "\n",
    "class datasciencemasters:\n",
    "    def __init__(self,inputvar):\n",
    "        self.class_name=inputvar\n",
    "    def get_classname(self):\n",
    "        return self.class_name\n",
    "    def set_classname(self,inputclass):\n",
    "        self.class_name=inputclass"
   ]
  },
  {
   "cell_type": "code",
   "execution_count": 197,
   "id": "b0d55f27-9307-4129-b7d8-60586c4fb739",
   "metadata": {},
   "outputs": [],
   "source": [
    "cls_nam_obj=datasciencemasters(\"\")"
   ]
  },
  {
   "cell_type": "code",
   "execution_count": 198,
   "id": "96352cca-0d3a-46a6-ae10-8aeb606e17d3",
   "metadata": {},
   "outputs": [
    {
     "data": {
      "text/plain": [
       "''"
      ]
     },
     "execution_count": 198,
     "metadata": {},
     "output_type": "execute_result"
    }
   ],
   "source": [
    "cls_nam_obj.get_classname()"
   ]
  },
  {
   "cell_type": "code",
   "execution_count": 199,
   "id": "c049d9f0-1fab-4826-a990-26fbff293e6b",
   "metadata": {},
   "outputs": [],
   "source": [
    "cls_nam_obj.set_classname(\"Data Science Masters 2023\")"
   ]
  },
  {
   "cell_type": "code",
   "execution_count": 200,
   "id": "a060278c-d66f-47ab-83f1-6201540b735e",
   "metadata": {},
   "outputs": [
    {
     "data": {
      "text/plain": [
       "'Data Science Masters 2023'"
      ]
     },
     "execution_count": 200,
     "metadata": {},
     "output_type": "execute_result"
    }
   ],
   "source": [
    "cls_nam_obj.get_classname()"
   ]
  },
  {
   "cell_type": "code",
   "execution_count": null,
   "id": "6fb8af54-429b-40d7-a5a4-a0dbd2acd876",
   "metadata": {},
   "outputs": [],
   "source": [
    "### Q5.What is method overriding in python? Write a python code to demonstrate method overriding."
   ]
  },
  {
   "cell_type": "code",
   "execution_count": null,
   "id": "c0a84112-5ca2-4f4f-b507-2704487d7325",
   "metadata": {},
   "outputs": [],
   "source": [
    "# Method overriding is a concept in OOPS that allows a child class to override a particular method of its parent class due to similarity in name, parameters or return type"
   ]
  },
  {
   "cell_type": "code",
   "execution_count": 212,
   "id": "d2c007a6-3e93-408f-ad2f-3ad52fcc7ebf",
   "metadata": {},
   "outputs": [],
   "source": [
    "##example of method overriding with a function to do maths operations\n",
    "class Parent_MathOps:\n",
    "    def _init_(self, a, b):\n",
    "        self.a=a\n",
    "        self.b=b\n",
    "    def mathops(self,a,b):\n",
    "        mathopsresult= a+b\n",
    "        return mathopsresult\n",
    "class Child_MathOps(Parent_MathOps):\n",
    "    def _init_(self, a, b):\n",
    "        self.a=a\n",
    "        self.b=b\n",
    "    def mathops(self,a,b):\n",
    "        mathopsresult= int(a*b)\n",
    "        return mathopsresult"
   ]
  },
  {
   "cell_type": "code",
   "execution_count": 213,
   "id": "e8115599-8539-453d-8504-2201ad0e35cd",
   "metadata": {},
   "outputs": [
    {
     "name": "stdout",
     "output_type": "stream",
     "text": [
      "71\n"
     ]
    }
   ],
   "source": [
    "cls_obj=Parent_MathOps()\n",
    "print(cls_obj.mathops(25,46))"
   ]
  },
  {
   "cell_type": "code",
   "execution_count": 214,
   "id": "570fe487-fe39-434f-a74d-225ebec8ae99",
   "metadata": {},
   "outputs": [
    {
     "name": "stdout",
     "output_type": "stream",
     "text": [
      "1150\n"
     ]
    }
   ],
   "source": [
    "##child class overrides the method in parent class due to simialrities in name, parameters and return type\n",
    "cls_obj2=Child_MathOps()\n",
    "print(cls_obj2.mathops(25,46))"
   ]
  },
  {
   "cell_type": "code",
   "execution_count": null,
   "id": "eb915249-f021-4a3c-a488-2ff19cbb434b",
   "metadata": {},
   "outputs": [],
   "source": []
  }
 ],
 "metadata": {
  "kernelspec": {
   "display_name": "Python 3 (ipykernel)",
   "language": "python",
   "name": "python3"
  },
  "language_info": {
   "codemirror_mode": {
    "name": "ipython",
    "version": 3
   },
   "file_extension": ".py",
   "mimetype": "text/x-python",
   "name": "python",
   "nbconvert_exporter": "python",
   "pygments_lexer": "ipython3",
   "version": "3.10.8"
  }
 },
 "nbformat": 4,
 "nbformat_minor": 5
}
