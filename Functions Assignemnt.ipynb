{
 "cells": [
  {
   "cell_type": "markdown",
   "id": "b4450d09-03dc-4d23-bfa6-eb963478cdc0",
   "metadata": {},
   "source": [
    "### Functions Assignment Submission by Abhishek Mukherjee"
   ]
  },
  {
   "cell_type": "markdown",
   "id": "ce96b4f2-59fb-438f-8702-1d49f295c6d6",
   "metadata": {},
   "source": [
    "#### Q1. Which keyword is used to create a function? Create a function to return a list of odd numbers in the range of 1 to 25.\n",
    "#### A1. Def is the keyword used to create a function."
   ]
  },
  {
   "cell_type": "code",
   "execution_count": 33,
   "id": "279df0fd-0ad3-43e6-a0e2-32a0dbfbaf63",
   "metadata": {},
   "outputs": [],
   "source": [
    "### defining a function to return a list of odd number in the range of 1 to 25\n",
    "def odd_number_finder(n):\n",
    "    List1=[]\n",
    "    for i in range(0,n+1):\n",
    "        if(i%2!=0):\n",
    "            List1.append(i)\n",
    "    return(List1)"
   ]
  },
  {
   "cell_type": "code",
   "execution_count": 34,
   "id": "aec2ff47-faf3-4db6-9832-e333965c8b83",
   "metadata": {},
   "outputs": [
    {
     "name": "stdin",
     "output_type": "stream",
     "text": [
      "Please enter a number between 1 and 25: 13\n"
     ]
    },
    {
     "data": {
      "text/plain": [
       "[1, 3, 5, 7, 9, 11, 13]"
      ]
     },
     "execution_count": 34,
     "metadata": {},
     "output_type": "execute_result"
    }
   ],
   "source": [
    "input1 = int(input(\"Please enter a number between 1 and 25:\"))\n",
    "odd_number_finder(input1)"
   ]
  },
  {
   "cell_type": "markdown",
   "id": "a3614270-0ce8-4ba4-b1fe-9db2dc4cee00",
   "metadata": {},
   "source": [
    "#### Q2. Why *args and **kwargs is used in some functions? Create a function each for *args and **kwargs to demonstrate their use.\n",
    "#### A2. *args and **kwargs are used when one is unsure about the number and typer of parameters to be passed to a function. **Kwargs are specifically used to pass dictionary arguments in a function"
   ]
  },
  {
   "cell_type": "code",
   "execution_count": 15,
   "id": "a63e54db-363a-473d-8f2e-dfc476867040",
   "metadata": {},
   "outputs": [],
   "source": [
    "### *args function to multiply numbers\n",
    "def multiple_fun(*args):\n",
    "    mulvar=1\n",
    "    for i in args:\n",
    "        mulvar=mulvar*i\n",
    "    print(mulvar)"
   ]
  },
  {
   "cell_type": "code",
   "execution_count": 18,
   "id": "8a405190-8c62-40e2-aae9-7e7291f492c6",
   "metadata": {},
   "outputs": [
    {
     "name": "stdout",
     "output_type": "stream",
     "text": [
      "210\n"
     ]
    }
   ],
   "source": [
    "multiple_fun(5,6,7)"
   ]
  },
  {
   "cell_type": "code",
   "execution_count": 3,
   "id": "6ed30625-8f39-4ebe-a34d-573fd508cd5c",
   "metadata": {},
   "outputs": [],
   "source": [
    "### **kwargs function to print my name\n",
    "def dict_Sample(**kwargs):\n",
    "    for key, value in kwargs.items():\n",
    "        print(\"\\n\", key, value)"
   ]
  },
  {
   "cell_type": "code",
   "execution_count": 10,
   "id": "e682414c-7c17-4674-b953-7a4c028c2ba5",
   "metadata": {},
   "outputs": [
    {
     "name": "stdout",
     "output_type": "stream",
     "text": [
      "\n",
      " firstname Abhishek\n",
      "\n",
      " lastname Mukherjee\n"
     ]
    }
   ],
   "source": [
    "dict_Sample(firstname= \"Abhishek\", lastname= \"Mukherjee\")"
   ]
  },
  {
   "cell_type": "markdown",
   "id": "a206e175-2126-44bb-85db-ab76fb29d6f7",
   "metadata": {},
   "source": [
    "#### Q3. What is an iterator in python? Name the method used to initialise the iterator object and the method used for iteration. Use these methods to print the first five elements of the given list [2, 4, 6, 8, 10, 12, 14, 16,18, 20].\n",
    "\n",
    "#### A3: Iterator consists of a countable number of values which can then be iterated upon. iter is the method used to initialise the iterator object and next() is used for iteration.\n",
    "\n"
   ]
  },
  {
   "cell_type": "code",
   "execution_count": 19,
   "id": "7efb4b84-9078-4632-9753-474301eb8af0",
   "metadata": {},
   "outputs": [],
   "source": [
    "###creating an iterator to iterate through the list [2, 4, 6, 8, 10, 12, 14, 16,18, 20] to print first 5 elements\n",
    "\n",
    "def Myiterator(*args):\n",
    "    MySourcelist=[]\n",
    "    MySourcelist=list(*args)\n",
    "    index=0\n",
    "    MyResultlist=[]\n",
    "    for  index in range(0,len(MySourcelist)):\n",
    "        MyResultlist.append(MySourcelist[index])\n",
    "        if(len(MyResultlist)==5):\n",
    "            print(MyResultlist)"
   ]
  },
  {
   "cell_type": "code",
   "execution_count": 20,
   "id": "a5707aa7-a764-44ec-a44e-d04fba2850a4",
   "metadata": {},
   "outputs": [
    {
     "name": "stdout",
     "output_type": "stream",
     "text": [
      "[2, 4, 6, 8, 10]\n"
     ]
    }
   ],
   "source": [
    "Myiterator([2, 4, 6, 8, 10, 12, 14, 16,18, 20])"
   ]
  },
  {
   "cell_type": "code",
   "execution_count": 29,
   "id": "fdcbc450-c291-476e-91e0-65ac777ac90d",
   "metadata": {},
   "outputs": [],
   "source": [
    "### using iter and next to print first 5 elements of  [2, 4, 6, 8, 10, 12, 14, 16,18, 20] to print first 5 elements\n",
    "def myiterator(*args):\n",
    "    MySourcelist=[]\n",
    "    MySourcelist=list(*args)\n",
    "    iterator = iter(MySourcelist)\n",
    "    try:\n",
    "        while True:\n",
    "            element = next(iterator)\n",
    "            if(element<=10):\n",
    "                print(element)\n",
    "    except StopIteration:\n",
    "        pass\n"
   ]
  },
  {
   "cell_type": "code",
   "execution_count": 30,
   "id": "546bcb6a-53e2-462c-86a2-a263bcbd2ca1",
   "metadata": {},
   "outputs": [
    {
     "name": "stdout",
     "output_type": "stream",
     "text": [
      "2\n",
      "4\n",
      "6\n",
      "8\n",
      "10\n"
     ]
    }
   ],
   "source": [
    "myiterator([2, 4, 6, 8, 10, 12, 14, 16,18, 20])"
   ]
  },
  {
   "cell_type": "markdown",
   "id": "910503da-b971-4dc0-8a21-1edf1e16465f",
   "metadata": {},
   "source": [
    "#### Q4. What is a generator function in python? Why yield keyword is used? Give an example of a generator function.\n",
    "\n",
    "#### A4. A generator is a type of function which does not return a single value but returns a sequence of values one by one. It becomes easier to extract the right value at a faster response time when it comes to 100s or millions of data in list/tuple/set etc."
   ]
  },
  {
   "cell_type": "code",
   "execution_count": 32,
   "id": "fce55eb3-3de8-4820-8c9b-3f5747d8d9dc",
   "metadata": {},
   "outputs": [
    {
     "name": "stdout",
     "output_type": "stream",
     "text": [
      "I am a\n",
      "student\n",
      "of\n",
      "pwskills\n"
     ]
    }
   ],
   "source": [
    "### example generator function\n",
    "def myfirstgeneratorfunc():\n",
    "    yield \"I am a\"\n",
    "    yield \"student\"\n",
    "    yield \"of\"\n",
    "    yield \"pwskills\"\n",
    "    \n",
    "for i in myfirstgeneratorfunc():\n",
    "    print(i)"
   ]
  },
  {
   "cell_type": "markdown",
   "id": "260aa9d1-1827-4837-96ba-3505f0737fd9",
   "metadata": {},
   "source": [
    "#### Q5. Create a generator function for prime numbers less than 1000. Use the next() method to print the first 20 prime numbers.\n"
   ]
  },
  {
   "cell_type": "code",
   "execution_count": 2,
   "id": "51521cba-3d4a-435f-b27d-ee35e560c82c",
   "metadata": {},
   "outputs": [],
   "source": [
    "##printing first 20 prime numbers by using the next method\n",
    "def primenumber_generator(lower, upper):\n",
    "    MyResultlist=[]\n",
    "    for number in range (lower, upper + 1):  \n",
    "        if number > 1:  \n",
    "            for i in range (2, number):  \n",
    "                if (number % i) == 0:  \n",
    "                    break  \n",
    "            else:  \n",
    "                    MyResultlist.append(number)\n",
    "    yield MyResultlist"
   ]
  },
  {
   "cell_type": "code",
   "execution_count": 13,
   "id": "ab94adab-4278-414e-b7a5-64e6d548f1a0",
   "metadata": {},
   "outputs": [
    {
     "name": "stdout",
     "output_type": "stream",
     "text": [
      "[2, 3, 5, 7, 11, 13, 17, 19, 23, 29, 31, 37, 41, 43, 47, 53, 59, 61, 67, 71]\n"
     ]
    }
   ],
   "source": [
    "Myiterator=iter(primenumber_generator(1,1000))\n",
    "i=0\n",
    "try:\n",
    "            while True:\n",
    "                    element = next(Myiterator)\n",
    "                    element1= element[:20]\n",
    "                    print(element1)\n",
    "except StopIteration:\n",
    "            pass"
   ]
  },
  {
   "cell_type": "code",
   "execution_count": null,
   "id": "6d4d592f-ea2e-44f5-a28c-cebb17c8ee56",
   "metadata": {},
   "outputs": [],
   "source": []
  },
  {
   "cell_type": "code",
   "execution_count": null,
   "id": "4ea74308-6036-4d70-8453-daf0b1ba2f5e",
   "metadata": {},
   "outputs": [],
   "source": []
  }
 ],
 "metadata": {
  "kernelspec": {
   "display_name": "Python 3 (ipykernel)",
   "language": "python",
   "name": "python3"
  },
  "language_info": {
   "codemirror_mode": {
    "name": "ipython",
    "version": 3
   },
   "file_extension": ".py",
   "mimetype": "text/x-python",
   "name": "python",
   "nbconvert_exporter": "python",
   "pygments_lexer": "ipython3",
   "version": "3.10.8"
  }
 },
 "nbformat": 4,
 "nbformat_minor": 5
}
