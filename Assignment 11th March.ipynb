{
 "cells": [
  {
   "cell_type": "code",
   "execution_count": null,
   "id": "8053fd0c-ef4b-4d43-a96a-c1f43febacd3",
   "metadata": {},
   "outputs": [],
   "source": [
    "#Q1: What is the difference between a t-test and a z-test? Provide an example scenario where you would use each type of test.\n",
    "\n",
    "#A1 A z-test requires that we know the population standard deviation, A t-test estimates the population variance from the sample data\n",
    "# z-test is more suitable for samples (n > 30), while a t-test is more suitable for samples (n < 30)\n",
    "# z-test does not need degrees of freedom, while a t-test does\n",
    "\n",
    "#An example scenario where we would use a z-test is when we want to test whether the average height of male students in a school is different from the national average, and we have access to both the sample mean and standard deviation and the population mean and standard deviation\n",
    "#An example scenario where we would use a t-test is when we want to test whether there is a significant difference between the average scores of two groups of students who took different versions of an exam, and we only have access to their sample means and standard deviations"
   ]
  },
  {
   "cell_type": "code",
   "execution_count": null,
   "id": "b99a126d-b011-41e5-a791-9110477b7a94",
   "metadata": {},
   "outputs": [],
   "source": [
    "#Q2: Differentiate between one-tailed and two-tailed tests.\n",
    "\n",
    "#A2 A one-tailed test looks for an either increase or decrease, while a two-tailed test looks for any change in the parameter (increase or decrease)\n",
    "# Two tailed test might be about coin toss where either outcome is likely while one tailed test might be decrease in diabetes due to a new medication "
   ]
  },
  {
   "cell_type": "code",
   "execution_count": null,
   "id": "eeb62640-90ee-46e7-83df-808187240f1d",
   "metadata": {},
   "outputs": [],
   "source": [
    "#Q3: Explain the concept of Type 1 and Type 2 errors in hypothesis testing. Provide an example scenario for\n",
    "#each type of error.\n",
    "\n",
    "#A3 Type 1 is an error when we reject a null hypothesis when in reality its actually true while Type 2 error occurs when we accept a null hypothesis bu in reality its actually false\n",
    "#suppose we are testing whether a new drug is effective against a disease. The null hypothesis is that the drug has no effect\n",
    "#Type 1 Error is a false positive if we consider the drug is effective\n",
    "#Type 2 Error is a false negative if we consider the drug is ineffective, however in reality drug has positive effect"
   ]
  },
  {
   "cell_type": "code",
   "execution_count": 5,
   "id": "55620dbb-a8ab-4b84-936a-5f303d586927",
   "metadata": {},
   "outputs": [
    {
     "name": "stdout",
     "output_type": "stream",
     "text": [
      "The probablity is about 0.09016393442622951 or 9.01639344262295 %\n"
     ]
    }
   ],
   "source": [
    "#Q4: Explain Bayes's theorem with an example.\n",
    "\n",
    "#A4 Bayes’ theorem is a formula for calculating the probability of an event based on prior knowledge of related conditions. It can be written as:\n",
    "\n",
    "#P(A|B) = P(A)P(B|A)/P(B)\n",
    "#where P(A|B) is the probability of A given B, P(A) is the probability of A, P(B|A) is the probability of B given A, and P(B) is the probability of B.\n",
    "\n",
    "#Suppose you have a test for a rare disease that has 99% accuracy. \n",
    "#The disease affects 1 in 1000 people. What is the probability that someone who tests positive actually has the disease?\n",
    "\n",
    "#P(disease|positive) = P(disease)P(positive|disease)/P(positive)\n",
    "# we will calcuate this with the probability of the diseases in 1000  people (0.001) multiplied with probability of diseases given someone tests positive which is 0.99\n",
    "#divided by the P(positive) probability of positive cases = sum of  Probability when some tests positive has the disease with probability of someone testing negative but has the disease\n",
    "\n",
    "#so P(disease|positive)= 0.001*0.99/(0.001*0.99+0.01*0.999)\n",
    "P =0.001*0.99/(0.001*0.99+0.01*0.999) #accuracy is 99% hence false negative is 1% multipied with 0.999 as P(Negative)=1-0.001\n",
    "print(f\"The probablity is about {P} or {P*100} %\")"
   ]
  },
  {
   "cell_type": "code",
   "execution_count": 5,
   "id": "ac92e3ec-69a6-439e-9432-4fa09a14b5c2",
   "metadata": {},
   "outputs": [
    {
     "name": "stdout",
     "output_type": "stream",
     "text": [
      "With Z Test the population mean would fall into (3.452699351361612, 4.547300648638387)\n"
     ]
    }
   ],
   "source": [
    "#Q5: What is a confidence interval? How to calculate the confidence interval, explain with an example.\n",
    "\n",
    "#A5 A confidence interval is a range of values that likely contains an unknown population parameter. \n",
    "#It is based on a sample statistic and a confidence level\n",
    "\n",
    "#Confidence interval= sample mean ± (z-score * population standard deviation / square root of sample size)\n",
    "#The z-score depends on the chosen confidence level. For example, for a 95% confidence level, the z-score is 1.96. as the area under the curve is 1-0.05/2 which is 0.975\n"
   ]
  },
  {
   "cell_type": "code",
   "execution_count": 6,
   "id": "f33628ff-3d34-4cad-8816-7bdb8dcdf3c9",
   "metadata": {},
   "outputs": [
    {
     "name": "stdout",
     "output_type": "stream",
     "text": [
      "The probablity is about 0.8181818181818182 or 81.81818181818183 %\n"
     ]
    }
   ],
   "source": [
    "#Q6. Use Bayes' Theorem to calculate the probability of an event occurring given prior knowledge of the\n",
    "#event's probability and new evidence. Provide a sample problem and solution.\n",
    "\n",
    "#Suppose we have two coins: one fair coin that has a 50% chance of landing heads, and one biased coin that has a 75% chance of landing heads. \n",
    "#We randomly pick one coin and toss it twice. Both times it lands heads. What is the probability that we picked the biased coin?\n",
    "#P(A|B) = P(A) P(B|A) / P(B)\n",
    "\n",
    "#P(A) = 0.5 fair coin\n",
    "#P(B|A)= 0.75*0.75 if we pick baised coin both times\n",
    "#P(B)= P(A)*P(B|A)+ P(Not A) * P (B|Not A)= (0.5)*(0.75*0.75)+ (0.5)(0.25)(0.25)= 0.34375\n",
    "\n",
    "P= 0.5*0.75*0.75/0.34375\n",
    "print(f\"The probablity is about {P} or {P*100} %\")"
   ]
  },
  {
   "cell_type": "code",
   "execution_count": 8,
   "id": "9eb29e6c-b760-4b75-9030-c4c71ac2678f",
   "metadata": {},
   "outputs": [
    {
     "name": "stdout",
     "output_type": "stream",
     "text": [
      "With Z Test the population mean would fall into  (49.02, 50.98) with 95% confidence interval\n"
     ]
    }
   ],
   "source": [
    "#Q7 Calculate the 95% confidence interval for a sample of data with a mean of 50 and a standard deviation of 5. Interpret the results.\n",
    "\n",
    "samplesize=100\n",
    "popmean=50 # Mean in sample\n",
    "popstd=5 #population std deviation\n",
    "z_value=1.96 #z value at 95% confidence interval\n",
    "#Confidence interval= sample mean ± (z-score * population standard deviation / square root of sample size)\n",
    "population_upperlimit_z= samplemean + z_value*popstd/(samplesize** 0.5)# calculate confidence interval\n",
    "population_lowerlimit_z= samplemean - z_value*popstd/(samplesize** 0.5) # calculate confidence interval\n",
    "print(f\"With Z Test the population mean would fall into  ({population_lowerlimit_z}, {population_upperlimit_z}) with 95% confidence interval\")"
   ]
  },
  {
   "cell_type": "code",
   "execution_count": 7,
   "id": "70e9e156-0b5b-4822-8a9a-d06a8749bddb",
   "metadata": {},
   "outputs": [],
   "source": [
    "#Q8 What is the margin of error in a confidence interval? How does sample size affect the margin of error?\n",
    "#Provide an example of a scenario where a larger sample size would result in a smaller margin of error.\n",
    "\n",
    "#A8 The margin of error is a statistic that tells how much results may differ from the true population value\n",
    "\n",
    "#For example, suppose we want to estimate the proportion of people who support a certain govt policy. \n",
    "#If we survey 100 people and find that 60% support it, the margin of error at 95% confidence level is about 10%. \n",
    "#This means that we are 95% confident that between 50% and 70% of the population support it"
   ]
  },
  {
   "cell_type": "code",
   "execution_count": 12,
   "id": "57b18d61-0c37-4f2c-a60e-6ae1c983aa4b",
   "metadata": {},
   "outputs": [
    {
     "name": "stdout",
     "output_type": "stream",
     "text": [
      "The z_value is 1.0\n"
     ]
    }
   ],
   "source": [
    "#Q9. Calculate the z-score for a data point with a value of 75, a population mean of 70, and a population\n",
    "#standard deviation of 5. Interpret the results.\n",
    "\n",
    "popmean=70\n",
    "popstd=5\n",
    "datapoint=75\n",
    "#z = (x - μ) / σ\n",
    "z_value= (datapoint-popmean)/popstd\n",
    "print(f\"The z_value is {z_value}\") \n",
    "#This means that the data point is one standard deviation above the population mean. \n",
    "#This indicates that your data point is relatively close to the average value of the population. \n",
    "#A higher z-score would mean that data point is farther away from the mean and more unusual. \n",
    "#A negative z-score would mean that data point is below the mean."
   ]
  },
  {
   "cell_type": "code",
   "execution_count": 24,
   "id": "55571611-1c66-40df-8d99-5e74614dc4f1",
   "metadata": {},
   "outputs": [
    {
     "name": "stdout",
     "output_type": "stream",
     "text": [
      "The T Statistic value is 16.970562748477143\n",
      "The T Critical value is 1.6765508919142629\n",
      "We reject null hypothesis and conclude weight loss is not equal to 0 pounds and drug is effective\n"
     ]
    }
   ],
   "source": [
    "#Q10. In a study of the effectiveness of a new weight loss drug, a sample of 50 participants lost an average\n",
    "#of 6 pounds with a standard deviation of 2.5 pounds. Conduct a hypothesis test to determine if the drug is\n",
    "#significantly effective at a 95% confidence level using a t-test.\n",
    "\n",
    "#Null hypothesis (H0) could be that the weight loss is equal to 0 pounds\n",
    "#Alternative hypothesis (Ha) could be that weight loss is not equal to 0 pounds and drug is effective\n",
    "\n",
    "\n",
    "from statistics import stdev\n",
    "from scipy import stats\n",
    "samplesize=50\n",
    "samplemean=6 # Mean in sample\n",
    "samplestd=2.5 #sample std deviation\n",
    "\n",
    "\n",
    "alpha = 0.1 # significance level\n",
    "df = samplesize - 1 # degrees of freedom\n",
    "t_statistic= (samplemean-0)/(samplestd/((samplesize)**0.5))\n",
    "t_critical = (stats.t.ppf(1 - (alpha/2), df)) # calculating t value\n",
    "print(f\"The T Statistic value is {t_statistic}\")\n",
    "print(f\"The T Critical value is {t_critical}\")\n",
    "\n",
    "\n",
    "if(t_statistic>t_critical):\n",
    "    print(\"We reject null hypothesis and conclude weight loss is not equal to 0 pounds and drug is effective\")\n",
    "else:\n",
    "    print(\"We accept null hypothesis and conclude weight loss is equal to 0 pounds\")"
   ]
  },
  {
   "cell_type": "code",
   "execution_count": 42,
   "id": "17eba830-ab13-41da-97c8-afa41b005ac8",
   "metadata": {},
   "outputs": [
    {
     "name": "stdout",
     "output_type": "stream",
     "text": [
      "The 95% confidence interval lies between((0.6481302791652228, 0.6518697208347772)) tell us the % of people who are satified with the job \n"
     ]
    }
   ],
   "source": [
    "#Q11. In a survey of 500 people, 65% reported being satisfied with their current job. Calculate the 95%\n",
    "#confidence interval for the true proportion of people who are satisfied with their job.\n",
    "\n",
    "#Null hypothesis (H0) could be that the people are satisfied with their job\n",
    "#Alternative hypothesis (Ha) could be that people are not satified with their job\n",
    "\n",
    "#Confidence Interval = p +/- 1.96*√ p(1-p) / n\n",
    "p=0.65\n",
    "n=500\n",
    "z=1.96\n",
    "CI_Upper= p+ z*((p*(1-p))**(1/2))/n \n",
    "CI_Lower= p- z*((p*(1-p))**(1/2))/n \n",
    "\n",
    "print(f\"The 95% confidence interval lies between({CI_Lower,CI_Upper}) tell us the % of people who are satified with the job \")\n"
   ]
  },
  {
   "cell_type": "code",
   "execution_count": 7,
   "id": "6bf997a6-2965-4510-baf0-2b6ccd6776d5",
   "metadata": {},
   "outputs": [
    {
     "name": "stdout",
     "output_type": "stream",
     "text": [
      "The pool standard deviation is 5.522680508593631\n",
      "The T Statistic value is 1.214664495268374\n",
      "Since p value is 0.2401888541640026 >0.01, we accept null hypothesis that the student performance is not difference \n"
     ]
    }
   ],
   "source": [
    "#Q12. A researcher is testing the effectiveness of two different teaching methods on student performance.\n",
    "#Sample A has a mean score of 85 with a standard deviation of 6, while sample B has a mean score of 82\n",
    "#with a standard deviation of 5. Conduct a hypothesis test to determine if the two teaching methods have a\n",
    "#significant difference in student performance using a t-test with a significance level of 0.01.\n",
    "\n",
    "#Null hypothesis (H0) The two teaching methods dont have any impact on student performance \n",
    "#Alternative hypothesis (Ha) The two teaching methods have impact on student performance \n",
    "from statistics import stdev\n",
    "from scipy import stats\n",
    "m1=85 \n",
    "m2=82\n",
    "s1=6\n",
    "s2=5\n",
    "n1=10\n",
    "n2=10\n",
    "#s = sqrt(((n1 - 1) * s1^2 + (n2 - 1) * s2^2) / (n1 + n2 - 2))\n",
    "exp_1= ((n1-1)*(s1*s1))/(n1+n2-2)\n",
    "exp_2= ((n2-1)*(s2*s2))/(n1+n2-2)\n",
    "pool_std =(exp_1+exp_2)**0.5\n",
    "df=n1 + n2 - 2 #degree of freedom\n",
    "\n",
    "print(f\"The pool standard deviation is {pool_std}\")\n",
    "t_statistic=(m1-m2)/(pool_std*((1/n1+1/n2)**0.5))\n",
    "print(f\"The T Statistic value is {t_statistic}\")\n",
    "p = stats.t.sf(abs(t_statistic), df) * 2 #two tailed test\n",
    "\n",
    "print(f\"Since p value is {p} >0.01, we accept null hypothesis that the student performance is not different \")\n"
   ]
  },
  {
   "cell_type": "code",
   "execution_count": 2,
   "id": "f660d362-62eb-4559-843f-e601adf2f8f8",
   "metadata": {},
   "outputs": [
    {
     "name": "stdout",
     "output_type": "stream",
     "text": [
      "The 90% confidence interval lies between((63.13889495191701, 66.86110504808299)) \n"
     ]
    }
   ],
   "source": [
    "#Q13. A population has a mean of 60 and a standard deviation of 8. A sample of 50 observations has a mean\n",
    "#of 65. Calculate the 90% confidence interval for the true population mean.\n",
    "\n",
    "from statistics import stdev\n",
    "from scipy import stats\n",
    "samplesize=50\n",
    "popmean=60 # Mean in population\n",
    "popstd=8\n",
    "samplemean=65 #sample std deviation\n",
    "z_value= 1.645 \n",
    "#90% Confidence Interval = x̅ +/- Z (0.90) * (s/√n), with Z = 1.645 \n",
    "CI_Upperlimit= samplemean + z_value*popstd/(samplesize** 0.5)# calculate confidence interval\n",
    "CI_Lowerlimit= samplemean - z_value*popstd/(samplesize** 0.5) # calculate confidence interval\n",
    "\n",
    "print(f\"The 90% confidence interval lies between({CI_Lowerlimit,CI_Upperlimit}) \")\n"
   ]
  },
  {
   "cell_type": "code",
   "execution_count": 9,
   "id": "ffdffa1d-c34c-4adc-ad59-0ab0afc584ad",
   "metadata": {},
   "outputs": [
    {
     "name": "stdout",
     "output_type": "stream",
     "text": [
      "The T Statistic value is -5.47722557505166\n",
      "The T Critical value is -1.311433643950529\n",
      "We reject null hypothesis and caffeine has an effect on reaction time\n"
     ]
    }
   ],
   "source": [
    "#Q14. In a study of the effects of caffeine on reaction time, a sample of 30 participants had an average\n",
    "#reaction time of 0.25 seconds with a standard deviation of 0.05 seconds. Conduct a hypothesis test to\n",
    "#determine if the caffeine has a significant effect on reaction time at a 90% confidence level using a t-test.\n",
    "\n",
    "#H0:pop mean = 0.3 (caffeine has no effect on reaction time) H1: popmean != 0.3 (caffeine has an effect on reaction time)\n",
    "\n",
    "from statistics import stdev\n",
    "from scipy import stats\n",
    "samplesize=30\n",
    "samplemean=0.25\n",
    "samplestd=0.05\n",
    "popmean=0.3 #close to sample mean\n",
    "alpha = 0.1 # significance level\n",
    "df = samplesize - 1 # degrees of freedom\n",
    "t_statistic= (samplemean-popmean)/(samplestd/((samplesize)**0.5))\n",
    "t_critical = -(stats.t.ppf(1 - (alpha), df)) # calculating t value on the left hand side of mean\n",
    "print(f\"The T Statistic value is {t_statistic}\")\n",
    "print(f\"The T Critical value is {t_critical}\")\n",
    "\n",
    "\n",
    "if(t_statistic<t_critical):\n",
    "    print(\"We reject null hypothesis and caffeine has an effect on reaction time\")\n",
    "else:\n",
    "    print(\"We accept null hypothesis and caffeine has no effect on reaction time\")"
   ]
  },
  {
   "cell_type": "code",
   "execution_count": null,
   "id": "30b972dd-4489-4f5a-99b9-ec5a100c95d4",
   "metadata": {},
   "outputs": [],
   "source": []
  }
 ],
 "metadata": {
  "kernelspec": {
   "display_name": "Python 3 (ipykernel)",
   "language": "python",
   "name": "python3"
  },
  "language_info": {
   "codemirror_mode": {
    "name": "ipython",
    "version": 3
   },
   "file_extension": ".py",
   "mimetype": "text/x-python",
   "name": "python",
   "nbconvert_exporter": "python",
   "pygments_lexer": "ipython3",
   "version": "3.10.8"
  }
 },
 "nbformat": 4,
 "nbformat_minor": 5
}
