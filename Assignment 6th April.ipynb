{
 "cells": [
  {
   "cell_type": "code",
   "execution_count": 1,
   "id": "3dd9b182-8928-4d54-95e5-10c01456c3c5",
   "metadata": {},
   "outputs": [],
   "source": [
    "#Q1. What is the mathematical formula for a linear SVM?"
   ]
  },
  {
   "cell_type": "markdown",
   "id": "8f61b560-1cb4-46db-8aea-fb95a7358210",
   "metadata": {},
   "source": [
    "The formula for a linear SVM is defined by the function that defines the linear kernel: \n",
    "\n",
    "f (X) = w^T * X + b . \n",
    "\n",
    "In this equation, w is the weight vector that we want to minimize, X is the data that we are trying to classify, and b is the linear coefficient estimated from the training data . This equation defines the decision boundary that the SVM returns"
   ]
  },
  {
   "cell_type": "code",
   "execution_count": 2,
   "id": "4c9bd8ed-c19e-4faa-832d-4fc03d707d4c",
   "metadata": {},
   "outputs": [],
   "source": [
    "#Q2. What is the objective function of a linear SVM?"
   ]
  },
  {
   "cell_type": "markdown",
   "id": "7135311a-10a6-4820-9382-b8dbce5779e8",
   "metadata": {},
   "source": [
    "The main objective of SVM is to create the best line or decision boundary that can segregate n-dimensional space into classes so that we can easily put the new data point in the correct category in the future . \n",
    "\n",
    "This best decision boundary is called a hyperplane. SVM chooses the extreme points/vectors that help in creating the hyperplane "
   ]
  },
  {
   "cell_type": "code",
   "execution_count": 3,
   "id": "2dec163d-0f7a-42ef-aa33-d30ae617fe24",
   "metadata": {},
   "outputs": [],
   "source": [
    "#Q3. What is the kernel trick in SVM?"
   ]
  },
  {
   "cell_type": "markdown",
   "id": "95925486-8a36-4db4-a43c-3dac453f9a83",
   "metadata": {},
   "source": [
    "The kernel trick is a method used by support vector machines (SVMs) to work well with non-linear data. \n",
    "\n",
    "The idea behind it is to map the data into a high-dimensional space in which it becomes linear and then apply a simple, linear SVM"
   ]
  },
  {
   "cell_type": "code",
   "execution_count": 1,
   "id": "b13686ab-f8d1-43b7-8a12-6ec25c5ea186",
   "metadata": {},
   "outputs": [],
   "source": [
    "#Q4. What is the role of support vectors in SVM Explain with example"
   ]
  },
  {
   "cell_type": "markdown",
   "id": "69fa840c-426d-4663-9412-cd8db592ef4d",
   "metadata": {},
   "source": [
    "Support vectors are the data points that help define the hyperplane and maximize the decision boundaries.\n",
    "\n",
    "The role of support vectors in SVM is to maximize the margin between the two classes\n",
    "\n",
    "For example, consider a binary classification problem where we have two classes, A and B, and we want to separate them using an SVM. The support vectors are those data points that lie closest to the decision boundary (hyperplane) between classes A and B"
   ]
  },
  {
   "cell_type": "code",
   "execution_count": 2,
   "id": "f2ae7dbb-e28d-46e7-a7de-d23c89376dff",
   "metadata": {},
   "outputs": [],
   "source": [
    "#Q5. Illustrate with examples and graphs of Hyperplane, Marginal plane, Soft margin and Hard margin in SVM?\n"
   ]
  },
  {
   "cell_type": "markdown",
   "id": "26ad70cc-93e5-4c5b-9815-dbd3bdbe828f",
   "metadata": {},
   "source": [
    "Support Vector Machine (SVM) is a supervised machine learning algorithm that can be used for classification or regression tasks\n",
    "\n",
    "In SVM, a hyperplane is a decision boundary that separates the data points into different classes\n",
    "\n",
    "The margin is the distance between the hyperplane and the observations closest to the hyperplane (support vectors)\n",
    "\n",
    "In hard margin SVM, we assume that the data is linearly separable and we try to find a hyperplane that separates the data points perfectly\n",
    "\n",
    "However, if our data is not linearly separable, it won’t be feasible to do that. In this case, we use soft margin SVM which allows misclassifications to happen. We’ll need to minimize the misclassification error, which means that we’ll have to deal with one more constraint"
   ]
  },
  {
   "cell_type": "code",
   "execution_count": 3,
   "id": "f71de0be-b100-4c89-8b5f-a7d7cc82d4c3",
   "metadata": {},
   "outputs": [],
   "source": [
    "#Q6. SVM Implementation through Iris dataset.\n",
    "\n",
    "#Load the iris dataset from the scikit-learn library and split it into a training set and a testing setl\n",
    "#~ Train a linear SVM classifier on the training set and predict the labels for the testing setl\n",
    "#~ Compute the accuracy of the model on the testing setl\n",
    "#~ Plot the decision boundaries of the trained model using two of the featuresl\n",
    "#~ Try different values of the regularisation parameter C and see how it affects the performance of\n",
    "#the model."
   ]
  },
  {
   "cell_type": "code",
   "execution_count": 14,
   "id": "18407d92-724f-44a2-a0d7-ce1989121a79",
   "metadata": {},
   "outputs": [
    {
     "data": {
      "text/plain": [
       "(array([[5.1, 3.5, 1.4, 0.3],\n",
       "        [4.4, 3.2, 1.3, 0.2],\n",
       "        [5.7, 3.8, 1.7, 0.3],\n",
       "        [6.3, 2.5, 5. , 1.9],\n",
       "        [5.8, 2.8, 5.1, 2.4],\n",
       "        [6.6, 3. , 4.4, 1.4],\n",
       "        [5.4, 3.9, 1.7, 0.4],\n",
       "        [5.7, 4.4, 1.5, 0.4],\n",
       "        [6.1, 2.9, 4.7, 1.4],\n",
       "        [5.8, 2.7, 5.1, 1.9],\n",
       "        [5.7, 2.8, 4.1, 1.3],\n",
       "        [7. , 3.2, 4.7, 1.4],\n",
       "        [5.2, 3.5, 1.5, 0.2],\n",
       "        [4.4, 3. , 1.3, 0.2],\n",
       "        [7.7, 2.8, 6.7, 2. ],\n",
       "        [7.7, 3.8, 6.7, 2.2],\n",
       "        [6.4, 2.9, 4.3, 1.3],\n",
       "        [6.3, 2.9, 5.6, 1.8],\n",
       "        [5. , 3.5, 1.3, 0.3],\n",
       "        [4.9, 3.6, 1.4, 0.1],\n",
       "        [6.5, 3. , 5.5, 1.8],\n",
       "        [6. , 2.9, 4.5, 1.5],\n",
       "        [5. , 3.6, 1.4, 0.2],\n",
       "        [5.5, 2.3, 4. , 1.3],\n",
       "        [5.1, 3.8, 1.9, 0.4],\n",
       "        [7.3, 2.9, 6.3, 1.8],\n",
       "        [6.4, 3.1, 5.5, 1.8],\n",
       "        [6.7, 3.1, 4.4, 1.4],\n",
       "        [6.4, 2.8, 5.6, 2.1],\n",
       "        [5.6, 2.5, 3.9, 1.1],\n",
       "        [4.6, 3.2, 1.4, 0.2],\n",
       "        [6.3, 2.3, 4.4, 1.3],\n",
       "        [5.2, 4.1, 1.5, 0.1],\n",
       "        [5.5, 2.5, 4. , 1.3],\n",
       "        [6.9, 3.1, 4.9, 1.5],\n",
       "        [4.7, 3.2, 1.6, 0.2],\n",
       "        [4.9, 3.1, 1.5, 0.1],\n",
       "        [5.9, 3. , 4.2, 1.5],\n",
       "        [4.9, 3. , 1.4, 0.2],\n",
       "        [6. , 2.7, 5.1, 1.6],\n",
       "        [4.8, 3. , 1.4, 0.3],\n",
       "        [5.5, 2.6, 4.4, 1.2],\n",
       "        [6.1, 3. , 4.9, 1.8],\n",
       "        [7.2, 3. , 5.8, 1.6],\n",
       "        [7.7, 3. , 6.1, 2.3],\n",
       "        [6.6, 2.9, 4.6, 1.3],\n",
       "        [6.3, 2.7, 4.9, 1.8],\n",
       "        [5.5, 3.5, 1.3, 0.2],\n",
       "        [5.8, 2.7, 5.1, 1.9],\n",
       "        [4.3, 3. , 1.1, 0.1],\n",
       "        [6. , 2.2, 4. , 1. ],\n",
       "        [5.1, 3.8, 1.6, 0.2],\n",
       "        [6.3, 3.4, 5.6, 2.4],\n",
       "        [4.8, 3.4, 1.9, 0.2],\n",
       "        [5.2, 3.4, 1.4, 0.2],\n",
       "        [6. , 3. , 4.8, 1.8],\n",
       "        [5.9, 3. , 5.1, 1.8],\n",
       "        [6.9, 3.2, 5.7, 2.3],\n",
       "        [6.7, 3.3, 5.7, 2.1],\n",
       "        [4.8, 3.4, 1.6, 0.2],\n",
       "        [6.2, 3.4, 5.4, 2.3],\n",
       "        [5.6, 2.7, 4.2, 1.3],\n",
       "        [6.7, 2.5, 5.8, 1.8],\n",
       "        [5. , 2.3, 3.3, 1. ],\n",
       "        [5.1, 3.5, 1.4, 0.2],\n",
       "        [6.4, 3.2, 4.5, 1.5],\n",
       "        [6.5, 3.2, 5.1, 2. ],\n",
       "        [5.4, 3.7, 1.5, 0.2],\n",
       "        [6.2, 2.8, 4.8, 1.8],\n",
       "        [5.8, 2.7, 4.1, 1. ],\n",
       "        [5.7, 2.9, 4.2, 1.3],\n",
       "        [6.8, 2.8, 4.8, 1.4],\n",
       "        [5.6, 3. , 4.5, 1.5],\n",
       "        [5.6, 2.8, 4.9, 2. ],\n",
       "        [5. , 2. , 3.5, 1. ],\n",
       "        [5. , 3.4, 1.6, 0.4],\n",
       "        [6.4, 3.2, 5.3, 2.3],\n",
       "        [5. , 3.2, 1.2, 0.2],\n",
       "        [7.6, 3. , 6.6, 2.1],\n",
       "        [4.8, 3.1, 1.6, 0.2],\n",
       "        [5.7, 2.6, 3.5, 1. ],\n",
       "        [6.9, 3.1, 5.1, 2.3],\n",
       "        [5.1, 3.8, 1.5, 0.3],\n",
       "        [4.6, 3.4, 1.4, 0.3],\n",
       "        [5.6, 2.9, 3.6, 1.3],\n",
       "        [4.9, 2.5, 4.5, 1.7],\n",
       "        [6. , 3.4, 4.5, 1.6],\n",
       "        [5. , 3.3, 1.4, 0.2],\n",
       "        [5.4, 3.4, 1.5, 0.4],\n",
       "        [5. , 3.5, 1.6, 0.6],\n",
       "        [6.1, 2.6, 5.6, 1.4],\n",
       "        [6.1, 3. , 4.6, 1.4],\n",
       "        [5.8, 2.6, 4. , 1.2],\n",
       "        [6.4, 2.7, 5.3, 1.9],\n",
       "        [6.1, 2.8, 4. , 1.3],\n",
       "        [5.7, 3. , 4.2, 1.2],\n",
       "        [4.7, 3.2, 1.3, 0.2],\n",
       "        [6.3, 2.8, 5.1, 1.5],\n",
       "        [4.6, 3.6, 1. , 0.2],\n",
       "        [6.7, 3. , 5.2, 2.3],\n",
       "        [5.9, 3.2, 4.8, 1.8],\n",
       "        [6.4, 2.8, 5.6, 2.2],\n",
       "        [5.5, 4.2, 1.4, 0.2],\n",
       "        [7.2, 3.6, 6.1, 2.5],\n",
       "        [6.9, 3.1, 5.4, 2.1]]),\n",
       " array([[5.6, 3. , 4.1, 1.3],\n",
       "        [6.3, 2.5, 4.9, 1.5],\n",
       "        [5.4, 3.4, 1.7, 0.2],\n",
       "        [5.4, 3.9, 1.3, 0.4],\n",
       "        [6.5, 3. , 5.2, 2. ],\n",
       "        [6.7, 3.1, 5.6, 2.4],\n",
       "        [5.7, 2.5, 5. , 2. ],\n",
       "        [5.1, 3.3, 1.7, 0.5],\n",
       "        [4.8, 3. , 1.4, 0.1],\n",
       "        [6.2, 2.2, 4.5, 1.5],\n",
       "        [5.1, 3.4, 1.5, 0.2],\n",
       "        [7.4, 2.8, 6.1, 1.9],\n",
       "        [4.9, 3.1, 1.5, 0.2],\n",
       "        [6.8, 3. , 5.5, 2.1],\n",
       "        [5.7, 2.8, 4.5, 1.3],\n",
       "        [5. , 3. , 1.6, 0.2],\n",
       "        [5.8, 2.7, 3.9, 1.2],\n",
       "        [5.3, 3.7, 1.5, 0.2],\n",
       "        [5.5, 2.4, 3.7, 1. ],\n",
       "        [6.7, 3. , 5. , 1.7],\n",
       "        [6.3, 3.3, 6. , 2.5],\n",
       "        [5.5, 2.4, 3.8, 1.1],\n",
       "        [5.8, 4. , 1.2, 0.2],\n",
       "        [7.9, 3.8, 6.4, 2. ],\n",
       "        [6.7, 3.1, 4.7, 1.5],\n",
       "        [7.7, 2.6, 6.9, 2.3],\n",
       "        [6.3, 3.3, 4.7, 1.6],\n",
       "        [6.5, 2.8, 4.6, 1.5],\n",
       "        [6.2, 2.9, 4.3, 1.3],\n",
       "        [6.8, 3.2, 5.9, 2.3],\n",
       "        [7.2, 3.2, 6. , 1.8],\n",
       "        [5.1, 2.5, 3. , 1.1],\n",
       "        [6.1, 2.8, 4.7, 1.2],\n",
       "        [6.7, 3.3, 5.7, 2.5],\n",
       "        [5.1, 3.7, 1.5, 0.4],\n",
       "        [4.6, 3.1, 1.5, 0.2],\n",
       "        [5.2, 2.7, 3.9, 1.4],\n",
       "        [6. , 2.2, 5. , 1.5],\n",
       "        [5.4, 3. , 4.5, 1.5],\n",
       "        [5. , 3.4, 1.5, 0.2],\n",
       "        [4.5, 2.3, 1.3, 0.3],\n",
       "        [4.9, 2.4, 3.3, 1. ],\n",
       "        [6.5, 3. , 5.8, 2.2],\n",
       "        [4.4, 2.9, 1.4, 0.2],\n",
       "        [7.1, 3. , 5.9, 2.1]]),\n",
       " array([0, 0, 0, 2, 2, 1, 0, 0, 1, 2, 1, 1, 0, 0, 2, 2, 1, 2, 0, 0, 2, 1,\n",
       "        0, 1, 0, 2, 2, 1, 2, 1, 0, 1, 0, 1, 1, 0, 0, 1, 0, 1, 0, 1, 2, 2,\n",
       "        2, 1, 2, 0, 2, 0, 1, 0, 2, 0, 0, 2, 2, 2, 2, 0, 2, 1, 2, 1, 0, 1,\n",
       "        2, 0, 2, 1, 1, 1, 1, 2, 1, 0, 2, 0, 2, 0, 1, 2, 0, 0, 1, 2, 1, 0,\n",
       "        0, 0, 2, 1, 1, 2, 1, 1, 0, 2, 0, 2, 1, 2, 0, 2, 2]),\n",
       " array([1, 1, 0, 0, 2, 2, 2, 0, 0, 1, 0, 2, 0, 2, 1, 0, 1, 0, 1, 1, 2, 1,\n",
       "        0, 2, 1, 2, 1, 1, 1, 2, 2, 1, 1, 2, 0, 0, 1, 2, 1, 0, 0, 1, 2, 0,\n",
       "        2]))"
      ]
     },
     "execution_count": 14,
     "metadata": {},
     "output_type": "execute_result"
    }
   ],
   "source": [
    "# Importing the required libraries\n",
    "\n",
    "import pandas as pd\n",
    "import seaborn as sns\n",
    "from sklearn.datasets import load_iris\n",
    "from sklearn.model_selection import train_test_split\n",
    "\n",
    "input_array = load_iris()\n",
    "X_train, X_test, y_train, y_test=train_test_split(input_array.data, input_array.target, test_size=0.3, random_state=50)\n",
    "X_train, X_test, y_train, y_test "
   ]
  },
  {
   "cell_type": "code",
   "execution_count": 33,
   "id": "f4bbbc21-4687-498a-979e-cd67802ff04b",
   "metadata": {},
   "outputs": [
    {
     "name": "stdout",
     "output_type": "stream",
     "text": [
      "Accuracy: 0.9555555555555556\n"
     ]
    }
   ],
   "source": [
    "from sklearn.svm import SVC\n",
    "from sklearn.metrics import classification_report, confusion_matrix\n",
    "from sklearn.metrics import RocCurveDisplay\n",
    "from sklearn.metrics import accuracy_score\n",
    "\n",
    "svc_classifier= SVC(kernel='linear')\n",
    "\n",
    "svc_classifier.fit(X_train,y_train)\n",
    "\n",
    "y_pred=svc_classifier.predict(X_test)\n",
    "\n",
    "# Calculate the accuracy of the classifier\n",
    "accuracy = accuracy_score(y_test, y_pred)\n",
    "print('Accuracy:', accuracy)\n"
   ]
  },
  {
   "cell_type": "code",
   "execution_count": 34,
   "id": "96d834b3-1fbc-46ec-97f7-b059bfc73d1d",
   "metadata": {},
   "outputs": [
    {
     "data": {
      "image/png": "[encoded data removed]",
      "text/plain": [
       "<Figure size 640x480 with 1 Axes>"
      ]
     },
     "metadata": {},
     "output_type": "display_data"
    }
   ],
   "source": [
    "# Plot data points\n",
    "import matplotlib.pyplot as plt\n",
    "import numpy as np\n",
    "\n",
    "# Plot data points\n",
    "X = input_array.data[:, :2]\n",
    "y = input_array.target\n",
    "\n",
    "x_min, x_max = X[:, 0].min() - 1, X[:, 0].max() + 1\n",
    "y_min, y_max = X[:, 1].min() - 1, X[:, 1].max() + 1\n",
    "xx, yy = np.meshgrid(np.arange(x_min, x_max, .02),\n",
    "                     np.arange(y_min, y_max, .02))\n",
    "\n",
    "\n",
    "plt.scatter(X[:, 0], X[:, 1], c=y, cmap=plt.cm.coolwarm)\n",
    "plt.xlabel('Sepal length')\n",
    "plt.ylabel('Sepal width')\n",
    "plt.xlim(xx.min(), xx.max())\n",
    "plt.ylim(yy.min(), yy.max())\n",
    "plt.xticks(())\n",
    "plt.yticks(())\n",
    "plt.title('SVC with linear kernel')\n",
    "plt.show()"
   ]
  },
  {
   "cell_type": "code",
   "execution_count": 38,
   "id": "8ed90d68-2b47-4d34-bdbb-aea2ff823ee8",
   "metadata": {},
   "outputs": [
    {
     "name": "stdout",
     "output_type": "stream",
     "text": [
      "Accuracy for C=0.1: 0.9555555555555556\n",
      "Accuracy for C=0.2: 0.9555555555555556\n",
      "Accuracy for C=0.3: 0.9555555555555556\n",
      "Accuracy for C=0.4: 0.9777777777777777\n",
      "Accuracy for C=1: 0.9555555555555556\n",
      "Accuracy for C=10: 0.9333333333333333\n",
      "Accuracy for C=100: 0.9333333333333333\n",
      "Accuracy for C=1000: 0.9333333333333333\n"
     ]
    }
   ],
   "source": [
    "C_values = [0.1, 0.2,0.3, 0.4, 1, 10,100,1000]\n",
    "for C in C_values:\n",
    "    clf = svm.SVC(kernel='linear', C=C)\n",
    "    clf.fit(X_train, y_train)\n",
    "    print(\"Accuracy for C=%s: %s\" % (C, np.mean(y_test == clf.predict(X_test))))\n"
   ]
  },
  {
   "cell_type": "code",
   "execution_count": null,
   "id": "f9725ff8-7bdf-4e4f-9b95-7827af46c4e5",
   "metadata": {},
   "outputs": [],
   "source": []
  }
 ],
 "metadata": {
  "kernelspec": {
   "display_name": "Python 3 (ipykernel)",
   "language": "python",
   "name": "python3"
  },
  "language_info": {
   "codemirror_mode": {
    "name": "ipython",
    "version": 3
   },
   "file_extension": ".py",
   "mimetype": "text/x-python",
   "name": "python",
   "nbconvert_exporter": "python",
   "pygments_lexer": "ipython3",
   "version": "3.10.8"
  }
 },
 "nbformat": 4,
 "nbformat_minor": 5
}
