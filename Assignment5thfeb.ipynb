{
 "cells": [
  {
   "cell_type": "code",
   "execution_count": 1,
   "id": "a7e4a026-dcc8-492d-b01f-b3f69a28a702",
   "metadata": {},
   "outputs": [],
   "source": [
    "##Assignment 1- Submited by Name Abhishek Mukherjee\n",
    "##Q1: What are the characteristics of the tuples? Is tuple immutable?\n",
    "\n",
    "## A tuple is a collection of data that is ordered and unchangeable. \n",
    "##It is defined by enclosing the elements in parentheses (()) instead of square brackets ([]) \n",
    "## Tuples can store duplicate values and have a defined order\n",
    "##Yes, tuples are immutable, which means that we cannot add or delete items to the tuple after creation"
   ]
  },
  {
   "cell_type": "code",
   "execution_count": 2,
   "id": "248b9620-5d58-4d4a-a40d-fe9c730e77af",
   "metadata": {},
   "outputs": [
    {
     "data": {
      "text/plain": [
       "6"
      ]
     },
     "execution_count": 2,
     "metadata": {},
     "output_type": "execute_result"
    }
   ],
   "source": [
    "##Q2 What are the two tuple methods in python? Give an example of each method. Give a reason why tuples have only two in-built methods as compared to Lists\n",
    "### The two tuple methods in Python are count() and index(). The count() method returns the number of times a specified value occurs in a tuple \n",
    "\n",
    "##Tuple examples\n",
    "Assignment_tuple = (1,3,5,7,9,10,11,12,13,4,5,6,71,3,23,3,4,5,2,1,3,1,3,4,5,1,5,3)\n",
    "##returns the numbers of times 3 appears in a Tuple\n",
    "Assignment_tuple.count(3)"
   ]
  },
  {
   "cell_type": "code",
   "execution_count": 3,
   "id": "9f9c5ed0-5568-4a53-8e87-f5999c9e2599",
   "metadata": {},
   "outputs": [],
   "source": [
    "###The index() method searches the tuple for a specified value and returns the position of where it was found "
   ]
  },
  {
   "cell_type": "code",
   "execution_count": 4,
   "id": "dd4d67c6-10cf-47a8-a5c3-265adf36594a",
   "metadata": {},
   "outputs": [
    {
     "name": "stdout",
     "output_type": "stream",
     "text": [
      "4\n"
     ]
    }
   ],
   "source": [
    "tuple2 = ('python', 'geek', 'python', 'for', 'java', 'python')\n",
    "print(tuple2.index('java'))"
   ]
  },
  {
   "cell_type": "code",
   "execution_count": 5,
   "id": "a06379dd-6c35-446e-b71e-60a48d97554b",
   "metadata": {},
   "outputs": [
    {
     "data": {
      "text/plain": [
       "{1, 2, 3, 4}"
      ]
     },
     "execution_count": 5,
     "metadata": {},
     "output_type": "execute_result"
    }
   ],
   "source": [
    "###Q3 Which collection datatypes in python do not allow duplicate items? Write a code using a set to remove duplicates from the given list.\n",
    "List = [1, 1, 1, 2, 1, 3, 1, 4, 2, 1, 2, 2, 2, 3, 2, 4, 3, 1, 3, 2, 3, 3, 3, 4, 4, 1, 4, 2, 4, 3, 4, 4]\n",
    "\n",
    "##A3-  A set is a collection of distinct elements that is unordered and un-indexed.Set do not allow duplicate values in a list\n",
    "\n",
    "##removing duplicate items from the list with set \n",
    "List= [1, 1, 1, 2, 1, 3, 1, 4, 2, 1, 2, 2, 2, 3, 2, 4, 3, 1, 3, 2, 3, 3, 3, 4, 4, 1, 4, 2, 4, 3, 4, 4]\n",
    "set1=set(List)\n",
    "set1"
   ]
  },
  {
   "cell_type": "code",
   "execution_count": null,
   "id": "87b27af9-4b5a-4b91-b486-325b02472b5b",
   "metadata": {},
   "outputs": [],
   "source": [
    "##Q4. Explain the difference between the union() and update() methods for a set. Give an example of each method.\n",
    "## A4 The union() and update() methods are both used to combine sets. \n",
    "##However, they have different effects on the original objects and the returned values."
   ]
  },
  {
   "cell_type": "code",
   "execution_count": 6,
   "id": "72397d28-58ad-4c49-859f-14a087112478",
   "metadata": {},
   "outputs": [
    {
     "data": {
      "text/plain": [
       "{'38', 'Abhishek', 'DSM', 'age', 'class', 'name'}"
      ]
     },
     "execution_count": 6,
     "metadata": {},
     "output_type": "execute_result"
    }
   ],
   "source": [
    "### The union() method creates and returns a new object that contains all the distinct elements from all the sets\n",
    "set1= {\"name\", \"class\", \"age\"}\n",
    "set2= {\"Abhishek\", \"DSM\", \"38\", \"name\"}\n",
    "set3 = set2.union(set1)\n",
    "set3"
   ]
  },
  {
   "cell_type": "code",
   "execution_count": 7,
   "id": "d7820862-482a-454b-8af6-b5a43da38b06",
   "metadata": {},
   "outputs": [
    {
     "data": {
      "text/plain": [
       "{'38', 'Abhishek', 'DSM', 'age', 'class', 'name'}"
      ]
     },
     "execution_count": 7,
     "metadata": {},
     "output_type": "execute_result"
    }
   ],
   "source": [
    "### The update() method modifies the set on which it is called by adding all the distinct elements only\n",
    "set1= {\"name\", \"class\", \"age\"}\n",
    "set2= {\"Abhishek\", \"DSM\", \"38\", \"name\"}\n",
    "set1.update(set2)\n",
    "set1"
   ]
  },
  {
   "cell_type": "code",
   "execution_count": 8,
   "id": "6c8fef17-3951-4a80-88a2-ae65d19e5da2",
   "metadata": {},
   "outputs": [
    {
     "data": {
      "text/plain": [
       "{'name': 'Abhishek', 'age': '37'}"
      ]
     },
     "execution_count": 8,
     "metadata": {},
     "output_type": "execute_result"
    }
   ],
   "source": [
    "#Q5 What is a dictionary? Give an example. Also, state whether a dictionary is ordered or unordered.\n",
    "##A5 Dictionary is collection of key value pairs, doesnt allow for duplicate items. They are generally an ordered collection.\n",
    "### dictionary example\n",
    "dict1={\"name\": \"Abhishek\", \"age\": \"37\"}\n",
    "dict1"
   ]
  },
  {
   "cell_type": "code",
   "execution_count": 9,
   "id": "57f27745-136a-45f3-a80c-470c90231d49",
   "metadata": {},
   "outputs": [
    {
     "data": {
      "text/plain": [
       "{'class': 'DSM',\n",
       " 'Year': '2023',\n",
       " 'Subjects': {'MachineLearning', 'PowerBi', 'Python'}}"
      ]
     },
     "execution_count": 9,
     "metadata": {},
     "output_type": "execute_result"
    }
   ],
   "source": [
    "##Q6 Can we create a nested dictionary? If so, please give an example by creating a simple one-level nested dictionary.\n",
    "## A6 Yes, we can create a nested dictionary in Python. A nested dictionary is a dictionary inside a dictionary.\n",
    "### nested dictionary example\n",
    "dict2= {\"class\": \"DSM\", \"Year\": \"2023\",\"Subjects\":{\"Python\", \"PowerBi\", \"MachineLearning\"}}\n",
    "dict2"
   ]
  },
  {
   "cell_type": "code",
   "execution_count": 10,
   "id": "a554ebc3-989c-40a6-978e-3d0d28dee66a",
   "metadata": {},
   "outputs": [
    {
     "data": {
      "text/plain": [
       "{'language': 'Python',\n",
       " 'course': 'Data Science Masters',\n",
       " 'Chapter1': 'Machine Learning',\n",
       " 'Chapter2': 'Deep Learning'}"
      ]
     },
     "execution_count": 10,
     "metadata": {},
     "output_type": "execute_result"
    }
   ],
   "source": [
    "##Q7. Using setdefault() method, create key named topics in the given dictionary and also add the value of the key as this list ['Python', 'Machine Learning’, 'Deep Learning']\n",
    "dict1 = {'language' : 'Python', 'course': 'Data Science Masters'}\n",
    "dict1 = {'language' : 'Python', 'course': 'Data Science Masters'}\n",
    "dict1.setdefault(\"Chapter1\", \"Machine Learning\")\n",
    "dict1.setdefault(\"Chapter2\", \"Deep Learning\")\n",
    "dict1"
   ]
  },
  {
   "cell_type": "code",
   "execution_count": 11,
   "id": "1388f3e6-6a00-4283-b10e-eaaa67d5e9e3",
   "metadata": {},
   "outputs": [],
   "source": [
    "##Q8. What are the three view objects in dictionaries? Use the three in-built methods in python to display these three view objects for the given dictionary.\n",
    "##A8 The three view objects in dictionaries are:\n",
    "\n",
    "##keys: a set-like object that contains all the keys of the dictionary\n",
    "##values: a collection-like object that contains all the values of the dictionary\n",
    "##items: a set-like object that contains all the key-value pairs of the dictionary"
   ]
  },
  {
   "cell_type": "code",
   "execution_count": 12,
   "id": "468fd675-c83e-4955-98c4-1ac19e1ca559",
   "metadata": {},
   "outputs": [
    {
     "data": {
      "text/plain": [
       "dict_keys(['Sport', 'Teams'])"
      ]
     },
     "execution_count": 12,
     "metadata": {},
     "output_type": "execute_result"
    }
   ],
   "source": [
    "### built in methods to display the keys\n",
    "\n",
    "dict1 = {'Sport': 'Cricket' , 'Teams': ['India', 'Australia', 'England', 'South Africa', 'Sri Lanka', 'New Zealand']}\n",
    "dict1.keys()"
   ]
  },
  {
   "cell_type": "code",
   "execution_count": 13,
   "id": "81ac57bf-bf99-42b0-aba0-992b03f61f7c",
   "metadata": {},
   "outputs": [
    {
     "data": {
      "text/plain": [
       "dict_values(['Cricket', ['India', 'Australia', 'England', 'South Africa', 'Sri Lanka', 'New Zealand']])"
      ]
     },
     "execution_count": 13,
     "metadata": {},
     "output_type": "execute_result"
    }
   ],
   "source": [
    "### built in methods to display the values\n",
    "\n",
    "dict1 = {'Sport': 'Cricket' , 'Teams': ['India', 'Australia', 'England', 'South Africa', 'Sri Lanka', 'New Zealand']}\n",
    "dict1.values()"
   ]
  },
  {
   "cell_type": "code",
   "execution_count": 14,
   "id": "d540d3a3-6c24-4cd1-97aa-229eaaa6953f",
   "metadata": {},
   "outputs": [
    {
     "data": {
      "text/plain": [
       "dict_items([('Sport', 'Cricket'), ('Teams', ['India', 'Australia', 'England', 'South Africa', 'Sri Lanka', 'New Zealand'])])"
      ]
     },
     "execution_count": 14,
     "metadata": {},
     "output_type": "execute_result"
    }
   ],
   "source": [
    "### built in methods to display the keys and value pairs\n",
    "\n",
    "dict1 = {'Sport': 'Cricket' , 'Teams': ['India', 'Australia', 'England', 'South Africa', 'Sri Lanka', 'New Zealand']}\n",
    "dict1.items()"
   ]
  },
  {
   "cell_type": "code",
   "execution_count": null,
   "id": "1c6258ee-0b10-4e03-979e-e3aafd8de811",
   "metadata": {},
   "outputs": [],
   "source": []
  }
 ],
 "metadata": {
  "kernelspec": {
   "display_name": "Python 3 (ipykernel)",
   "language": "python",
   "name": "python3"
  },
  "language_info": {
   "codemirror_mode": {
    "name": "ipython",
    "version": 3
   },
   "file_extension": ".py",
   "mimetype": "text/x-python",
   "name": "python",
   "nbconvert_exporter": "python",
   "pygments_lexer": "ipython3",
   "version": "3.10.8"
  }
 },
 "nbformat": 4,
 "nbformat_minor": 5
}
