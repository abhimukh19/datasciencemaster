{
 "cells": [
  {
   "cell_type": "code",
   "execution_count": 1,
   "id": "2d8ed0f8-60e0-488d-a716-d8d2de20e8f2",
   "metadata": {},
   "outputs": [],
   "source": [
    "#Q1: Define overfitting and underfitting in machine learning. What are the consequences of each, and how\n",
    "#can they be mitigated?\n",
    "\n",
    "#A1 Overfitting of a Model means low Bias and High Variance that Model's accuracy is high on Training Data but not on Test Data, while underfitting means that it has high variance and high Bias\n",
    "#A  good model lies on low bias and low variance to give more accurate responses regardless of the underlying dataset"
   ]
  },
  {
   "cell_type": "code",
   "execution_count": null,
   "id": "f6ce29c4-2f11-45b7-b91b-f6b46bacd293",
   "metadata": {},
   "outputs": [],
   "source": [
    "#Q2: How can we reduce overfitting? Explain in brief.\n",
    "#A2 We can reduce overfitting by investigating the difference behind the high variances between Train Data and Test Data Outcomes, and tweaking the model to reduce variance\n",
    "#Some key methods of reduce overfitting\n",
    "#Increase training data.\n",
    "#Reduce model complexity.\n",
    "#Early stopping during the training phase"
   ]
  },
  {
   "cell_type": "code",
   "execution_count": null,
   "id": "60da77e9-bd41-4e30-805d-504f8f3c8582",
   "metadata": {},
   "outputs": [],
   "source": [
    "#Q3: Explain underfitting. List scenarios where underfitting can occur in ML.\n",
    "\n",
    "#A3 Underfitting means that Model has low accuracy on Training Data and Model Data\n",
    "\n",
    "# This can happen in some of the following scenarios: when the training set has far fewer observations than variables, this may lead to underfitting or low bias machine learning models\n",
    "#Another scenario is when the model is too simple and cannot capture the complexity of the data"
   ]
  },
  {
   "cell_type": "code",
   "execution_count": null,
   "id": "da59a4a1-4690-4ecb-b04c-3b30c9a58e7d",
   "metadata": {},
   "outputs": [],
   "source": [
    "#Q4: Explain the bias-variance tradeoff in machine learning. What is the relationship between bias and\n",
    "#variance, and how do they affect model performance?\n",
    "\n",
    "#The bias-variance tradeoff is a fundamental refers to the tradeoff between a model’s ability to fit the training data and its ability to generalize to new data. \n",
    "#Bias determines the accuracy of the model on the training data\n",
    "#Variance refers to the error that is introduced when the model is generalized over a test data\n",
    "#Ideally both Bias and Variance should be low for a Model to be accurate regardless of the underlying data"
   ]
  },
  {
   "cell_type": "code",
   "execution_count": null,
   "id": "f1688a75-b078-447d-8004-958cd1b40fde",
   "metadata": {},
   "outputs": [],
   "source": [
    "#Q5: Discuss some common methods for detecting overfitting and underfitting in machine learning models.\n",
    "#How can you determine whether your model is overfitting or underfitting?\n",
    "#.A5 One of the most common techniques is K-fold cross-validation. \n",
    "#This technique involves dividing the dataset into K subsets, training the model on K-1 subsets\n",
    "#and testing the model on the remaining subset.\n",
    "\n",
    "#A hold back a validation dataset \n",
    "#This involves splitting the dataset into training, validation, and test sets. \n",
    "#The model is trained on the training set, and the validation set is used to tune the model’s hyperparameters.\n",
    "\n"
   ]
  },
  {
   "cell_type": "code",
   "execution_count": null,
   "id": "46839a0e-1f7e-480e-959b-257abab10740",
   "metadata": {},
   "outputs": [],
   "source": [
    "#Q6: Compare and contrast bias and variance in machine learning. What are some examples of high bias\n",
    "#and high variance models, and how do they differ in terms of their performance?\n",
    "\n",
    "\n",
    "#Bias refers to the difference between the predicted values by the model and the correct values. \n",
    "#High bias models are those that have a lot of assumptions about the data and are too simple to capture the important features of the data.\n",
    "\n",
    "\n",
    "#On the other hand, variance refers to the difference between the predicted values by the model and the actual values. \n",
    "#High variance models are those that are too complex and overfit the data, meaning they capture the noise in the data as well as the signal\n",
    "\n",
    "#A good model should have low bias and low variance, which means it is able to capture the important features of the data without overfitting or underfitting."
   ]
  },
  {
   "cell_type": "code",
   "execution_count": null,
   "id": "421d1e45-dfb8-4154-b47e-c27d89c55a59",
   "metadata": {},
   "outputs": [],
   "source": [
    "#Q7 What is regularization in machine learning, and how can it be used to prevent overfitting? Describe\n",
    "#some common regularization techniques and how they work.\n",
    "\n",
    "#A7 Regularization is a technique used to prevent overfitting by adding extra information to the dataset\n",
    "#It is a method of adding a penalty term to the loss function to prevent the coefficients from reaching large values. \n",
    "#This penalty term is called the regularization term\n",
    "\n",
    "#There are several regularization techniques, including L1 regularization, L2 regularization, and dropout regularization.\n",
    "\n",
    "#L1 regularization, also called Lasso regression, adds the absolute value of the magnitude of the coefficient as a penalty term to the loss function.\n",
    "#L2 regularization, also called Ridge regression, adds the squared magnitude of the coefficient as the penalty term to the loss function"
   ]
  }
 ],
 "metadata": {
  "kernelspec": {
   "display_name": "Python 3 (ipykernel)",
   "language": "python",
   "name": "python3"
  },
  "language_info": {
   "codemirror_mode": {
    "name": "ipython",
    "version": 3
   },
   "file_extension": ".py",
   "mimetype": "text/x-python",
   "name": "python",
   "nbconvert_exporter": "python",
   "pygments_lexer": "ipython3",
   "version": "3.10.8"
  }
 },
 "nbformat": 4,
 "nbformat_minor": 5
}
