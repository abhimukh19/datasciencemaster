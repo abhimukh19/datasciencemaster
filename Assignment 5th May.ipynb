{
 "cells": [
  {
   "cell_type": "code",
   "execution_count": 1,
   "id": "9b2a9f1c-1962-4088-95eb-95f43642de23",
   "metadata": {},
   "outputs": [],
   "source": [
    "#Q1. What is meant by time-dependent seasonal components?"
   ]
  },
  {
   "cell_type": "markdown",
   "id": "eef55988-3826-4c1c-a451-4dac2e1736b4",
   "metadata": {},
   "source": [
    "Time-dependent seasonal components are systematic, calendar-related influences that are reasonably stable with respect to timing, direction and magnitude. They arise from natural conditions such as weather fluctuations that are representative of the season. An observed time series can be decomposed into three components: the trend (long term direction), the seasonal (systematic, calendar related movements) and the irregular (unsystematic, short term fluctuations)"
   ]
  },
  {
   "cell_type": "code",
   "execution_count": 2,
   "id": "3af21778-62fa-439e-a980-4336ff91a66f",
   "metadata": {},
   "outputs": [],
   "source": [
    "#Q2. How can time-dependent seasonal components be identified in time series data?"
   ]
  },
  {
   "cell_type": "markdown",
   "id": "2df41b0b-0439-491c-b1aa-1ab9b10c04c7",
   "metadata": {},
   "source": [
    "There are several ways to identify time-dependent seasonal components in time series data. One way is to use the autocorrelation function (ACF) to determine if seasonality is present in a time series. Another way is to decompose the time series explicitly into a level component and two seasonal components. You can also do a time series plot of the data and examine it for features such as trend and seasonality"
   ]
  },
  {
   "cell_type": "code",
   "execution_count": 3,
   "id": "0083ce14-5471-4ed5-8e9b-b7323b1e7b67",
   "metadata": {},
   "outputs": [],
   "source": [
    "#Q3. What are the factors that can influence time-dependent seasonal components?"
   ]
  },
  {
   "cell_type": "markdown",
   "id": "f3af37bc-83c3-4111-b745-4729727a6072",
   "metadata": {},
   "source": [
    "Seasonality may be caused by various factors such as weather, vacation, and holidays and consists of periodic, repetitive, and generally regular and predictable patterns in the levels of a time series"
   ]
  },
  {
   "cell_type": "code",
   "execution_count": 4,
   "id": "98303002-58f3-4da6-bb84-e58d7d07d693",
   "metadata": {},
   "outputs": [],
   "source": [
    "#Q4. How are autoregression models used in time series analysis and forecasting?"
   ]
  },
  {
   "cell_type": "markdown",
   "id": "c5a6f6ea-9217-42c2-81a4-e0aaa63adac3",
   "metadata": {},
   "source": [
    "Autoregression models are used in time series analysis and forecasting to predict future values based on past values. Autoregressive models use lagged values of the variable being forecasted to predict future values. The order of the autoregressive model is determined by the number of lagged values used in the model."
   ]
  },
  {
   "cell_type": "code",
   "execution_count": 5,
   "id": "0fef709b-0737-4c28-bc2f-d8d38022542a",
   "metadata": {},
   "outputs": [],
   "source": [
    "#Q5. How do you use autoregression models to make predictions for future time points?"
   ]
  },
  {
   "cell_type": "markdown",
   "id": "28b1038a-af4b-4d26-871d-048469e3a2bf",
   "metadata": {},
   "source": [
    "To use autoregression models to make predictions for future time points, you first need to fit the model to the historical data. Once the model is fit, you can use it to predict future values of the variable being forecasted based on past values. The accuracy of the predictions depends on the order of the autoregressive model and the quality of the historical data used to fit the model."
   ]
  },
  {
   "cell_type": "code",
   "execution_count": 6,
   "id": "07c2240f-dce7-4cea-bfc0-eb385d602cdb",
   "metadata": {},
   "outputs": [],
   "source": [
    "#Q6. What is a moving average (MA) model and how does it differ from other time series models?"
   ]
  },
  {
   "cell_type": "markdown",
   "id": "d2e7cef5-9f35-4e9d-9465-bed27367fc3d",
   "metadata": {},
   "source": [
    "A moving average (MA) model is a time series model that uses the average of past values of the variable being forecasted to predict future values. Moving average models are linear combinations of past white noise terms, while autoregressive models are linear combinations of past time series values. The moving-average regression model takes a slightly different approach. It takes the average of the time series, and then predicts the current value based on the error term of n previous time steps"
   ]
  },
  {
   "cell_type": "code",
   "execution_count": 7,
   "id": "bf98664f-c077-4acd-9bde-9442bf4cdb51",
   "metadata": {},
   "outputs": [],
   "source": [
    "#Q7. What is a mixed ARMA model and how does it differ from an AR or MA model?"
   ]
  },
  {
   "cell_type": "markdown",
   "id": "458b2c94-fd1e-4dfd-a40d-b9854fa0eed5",
   "metadata": {},
   "source": [
    "A mixed autoregressive moving average (ARMA) model is a time series model that combines both autoregressive (AR) and moving average (MA) models. A pure AR model depends on the lagged values of the data you are modeling to make forecasts, while a pure MA model depends on the errors (residuals) of the previous forecasts you made to make current forecasts. A mixed ARMA model takes into account both of the above factors when making predictions"
   ]
  },
  {
   "cell_type": "code",
   "execution_count": null,
   "id": "3398b18a-81db-42ab-89d0-9cf7e0480c66",
   "metadata": {},
   "outputs": [],
   "source": []
  }
 ],
 "metadata": {
  "kernelspec": {
   "display_name": "Python 3 (ipykernel)",
   "language": "python",
   "name": "python3"
  },
  "language_info": {
   "codemirror_mode": {
    "name": "ipython",
    "version": 3
   },
   "file_extension": ".py",
   "mimetype": "text/x-python",
   "name": "python",
   "nbconvert_exporter": "python",
   "pygments_lexer": "ipython3",
   "version": "3.10.8"
  }
 },
 "nbformat": 4,
 "nbformat_minor": 5
}
