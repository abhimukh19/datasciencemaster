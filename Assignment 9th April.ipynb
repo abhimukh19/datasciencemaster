{
 "cells": [
  {
   "cell_type": "code",
   "execution_count": 1,
   "id": "71a01924-8592-4f1b-a701-5d05b3bd2417",
   "metadata": {},
   "outputs": [],
   "source": [
    "#Q1. What is Bayes' theorem?"
   ]
  },
  {
   "cell_type": "markdown",
   "id": "dc2cd4b1-83b4-4936-9040-a7e90aa8279f",
   "metadata": {},
   "source": [
    "Bayes’ theorem allows us to calculate the probability of an event occurring given that another event has occurred\n",
    "Bayes’ theorem is stated mathematically as follows:\n",
    "P(A|B) = P(B|A) * P(A) / P(B)\n",
    "\n",
    "where A and B are events, P(A) and P(B) are the probabilities of A and B respectively, and P(B|A) is the probability of B given A."
   ]
  },
  {
   "cell_type": "code",
   "execution_count": 2,
   "id": "831f41e0-e443-454b-8036-b6f2cad988ef",
   "metadata": {},
   "outputs": [],
   "source": [
    "#Q2. What is the formula for Bayes' theorem?"
   ]
  },
  {
   "cell_type": "markdown",
   "id": "b9cf19aa-e312-4e6f-a455-c2c5855129dc",
   "metadata": {},
   "source": [
    "P(A|B) = P(B|A) * P(A) / P(B)\n",
    "\n",
    "where A and B are events, P(A) and P(B) are the probabilities of A and B respectively, and P(B|A) is the probability of B given A."
   ]
  },
  {
   "cell_type": "code",
   "execution_count": 3,
   "id": "c47f0cbd-5bb9-4a24-ad68-cc720a6cb09d",
   "metadata": {},
   "outputs": [],
   "source": [
    "#Q3. How is Bayes' theorem used in practice?"
   ]
  },
  {
   "cell_type": "markdown",
   "id": "7e1474cc-cbf8-4e94-a1ce-139c111c092d",
   "metadata": {},
   "source": [
    "Bayes’ theorem is used in many fields such as mathematics, medicine, finance, marketing, engineering and many others\n",
    "\n",
    "In Decision Analysis and Decision Trees, Bayes’ theorem can be used to calculate conditional probabilities\n",
    "\n",
    "Bayes’ theorem can be used to determine the accuracy of medical test results by taking into consideration how likely any given person is to have a disease and the general accuracy of the test"
   ]
  },
  {
   "cell_type": "code",
   "execution_count": 4,
   "id": "16eb19ee-f2c4-424a-a0b7-0e2dc95e0bd7",
   "metadata": {},
   "outputs": [],
   "source": [
    "#Q4. What is the relationship between Bayes' theorem and conditional probability?"
   ]
  },
  {
   "cell_type": "markdown",
   "id": "d80def9c-a68d-4f7b-967d-eaa0ac07491d",
   "metadata": {},
   "source": [
    "Bayes’ Theorem states that the conditional probability of an event, based on the occurrence of another event, is equal to the likelihood of the second event given the first event multiplied by the probability of the first event. \n",
    "\n",
    "Bayes’ theorem describes the probability of an event based on prior knowledge of the conditions that might be relevant to the event"
   ]
  },
  {
   "cell_type": "code",
   "execution_count": null,
   "id": "50298d83-0e53-4cde-90b4-8e766fc5de22",
   "metadata": {},
   "outputs": [],
   "source": [
    "#Q5. How do you choose which type of Naive Bayes classifier to use for any given problem?"
   ]
  },
  {
   "cell_type": "markdown",
   "id": "adfcd6da-cf5c-42e4-a659-b28dd3567fb8",
   "metadata": {},
   "source": [
    "There are different types of Naive Bayes classifiers that differ based on the distributions of the feature values. Some of these include:\n",
    "\n",
    "\n",
    "Gaussian Naïve Bayes (GaussianNB): This is a variant of the Naive Bayes classifier, which is used with Gaussian distributions means normal distributions—and continuous variables.\n",
    "\n",
    "\n",
    "Bernoulli Naïve Bayes (BernoulliNB): This is another variant of the Naive Bayes classifier, which is used with Boolean variables—that is, variables with two values, such as True and False or 1 and 0\n",
    "\n",
    "The choice of which type of Naive Bayes classifier to use depends on the nature of our data and the problem we are trying to solve"
   ]
  },
  {
   "cell_type": "code",
   "execution_count": 5,
   "id": "20d9320e-f799-45d2-8930-31edb78fa019",
   "metadata": {},
   "outputs": [],
   "source": [
    "#You have a dataset with two features, X1 and X2, and two possible classes, A and B. You want to use Naive\n",
    "#Bayes to classify a new instance with features X1 = 3 and X2 = 4. The following table shows the frequency of\n",
    "#each feature value for each class:\n",
    "#Class X1=1 X1=2 X1=3 X2=1 X2=2 X2=3 X2=4\n",
    "#A 3 3 4 4 3 3 3\n",
    "#B 2 2 1 2 2 2 3\n",
    "#Assuming equal prior probabilities for each class, which class would Naive Bayes predict the new instance\n",
    "#to belong to?"
   ]
  },
  {
   "cell_type": "code",
   "execution_count": 10,
   "id": "4e6cd8d6-b8bf-4cbe-81e5-b52b7b80fda7",
   "metadata": {},
   "outputs": [
    {
     "name": "stdout",
     "output_type": "stream",
     "text": [
      "['B']\n"
     ]
    }
   ],
   "source": [
    "from sklearn.naive_bayes import GaussianNB\n",
    "import numpy as np\n",
    "\n",
    "# Create training data\n",
    "X_train = np.array([[1, 1], [1, 2], [1, 2], [1, 3], [1, 3], [2, 1], [2, 2], [2, 2], [2, 3], [2, 3]])\n",
    "y_train = np.array(['A', 'A', 'A', 'A', 'A', 'B', 'B', 'B', 'B', 'B'])\n",
    "\n",
    "# Create Naive Bayes classifier\n",
    "clf = GaussianNB()\n",
    "\n",
    "# Train Naive Bayes classifier\n",
    "clf.fit(X_train, y_train)\n",
    "\n",
    "# Predict new instance\n",
    "X_new = np.array([[3, 3]])\n",
    "y_pred = clf.predict(X_new)\n",
    "\n",
    "print(y_pred)"
   ]
  },
  {
   "cell_type": "code",
   "execution_count": null,
   "id": "0c2b6d28-49c5-493f-955b-a5c9650c2bfb",
   "metadata": {},
   "outputs": [],
   "source": []
  }
 ],
 "metadata": {
  "kernelspec": {
   "display_name": "Python 3 (ipykernel)",
   "language": "python",
   "name": "python3"
  },
  "language_info": {
   "codemirror_mode": {
    "name": "ipython",
    "version": 3
   },
   "file_extension": ".py",
   "mimetype": "text/x-python",
   "name": "python",
   "nbconvert_exporter": "python",
   "pygments_lexer": "ipython3",
   "version": "3.10.8"
  }
 },
 "nbformat": 4,
 "nbformat_minor": 5
}
