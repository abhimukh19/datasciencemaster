{
 "cells": [
  {
   "cell_type": "code",
   "execution_count": null,
   "id": "a8235140-f35e-434b-972c-c30a6f38b2e0",
   "metadata": {},
   "outputs": [],
   "source": [
    "#Q1. What is Statistics?\n",
    "#A1  Statistics deals with collecting, analyzing, interpreting, and presenting data to relevant stakeholders and enable informed decision making"
   ]
  },
  {
   "cell_type": "code",
   "execution_count": null,
   "id": "05c0d5a4-1424-46dd-9cf9-ca1c1f92a777",
   "metadata": {},
   "outputs": [],
   "source": [
    "#Q2. Define the different types of statistics and give an example of when each type might be used.\n",
    "#A2 There are two main types of statistics: descriptive and inferential. \n",
    "#Descriptive statistics we can analyze data with mean, median, mode, standard deviation about a given sample such as marks obtained by students in a class, or heights of female and male students in a class\n",
    "#Inferential statistics we use data to make predictions, estimates, or decisions about a larger population based on a sample data such as estimate the height of male amd female students in the entire 6th-10th standard based on one class in 6th standard "
   ]
  },
  {
   "cell_type": "code",
   "execution_count": null,
   "id": "3d59662b-9f49-48b7-aa4c-63ccbe95f727",
   "metadata": {},
   "outputs": [],
   "source": [
    "#Q3 What are the different types of data and how do they differ from each other? Provide an example of each type of data."
   ]
  },
  {
   "cell_type": "code",
   "execution_count": null,
   "id": "d051104e-c803-41fd-bb5b-02b7297f45d2",
   "metadata": {},
   "outputs": [],
   "source": [
    "#There are 4 types of data\n",
    "\n",
    "#Qualitative data which can only be written in words, not numbers. such as types of fruits : {apples, bananas, grapes}\n",
    "#Quantitative data which can be measured or counted using numbers such as temperatures:{35,45,56,67,88}\n",
    "#Discrete data are whole numbers that cannot be divided or broken into fractions or decimals, such as number of pets, students, books\n",
    "#Continuous data are numbers that can take any value including decimals. For example: Distance:{1.5, 2.5,3.56}"
   ]
  },
  {
   "cell_type": "code",
   "execution_count": null,
   "id": "2d7bb4eb-6a76-477b-9fdc-688960e277b7",
   "metadata": {},
   "outputs": [],
   "source": [
    "#Q4. Categorise the following datasets with respect to quantitative and qualitative data types:\n",
    "#(i) Grading in exam: A+, A, B+, B, C+, C, D, E\n",
    "#(ii) Colour of mangoes: yellow, green, orange, red\n",
    "#(iii) Height data of a class: [178.9, 179, 179.5, 176, 177.2, 178.3, 175.8,...]\n",
    "#(iv) Number of mangoes exported by a farm: [500, 600, 478, 672, ...]"
   ]
  },
  {
   "cell_type": "code",
   "execution_count": null,
   "id": "54972d04-526d-4c03-8b54-3359fdbd11a2",
   "metadata": {},
   "outputs": [],
   "source": [
    "#A4  Grading in exam: A+, A, B+, B, C+, C, D, E: Qualitative Data\n",
    "#olour of mangoes: yellow, green, orange, red: Qualitative Data\n",
    "#Height data of a class: [178.9, 179, 179.5, 176, 177.2, 178.3, 175.8,...] : Quantitative Data\n",
    "#Number of mangoes exported by a farm: [500, 600, 478, 672, ...]:   Quantitative Data"
   ]
  },
  {
   "cell_type": "code",
   "execution_count": null,
   "id": "1e6ae5c9-256d-414f-bb1f-fcc718dc9a9d",
   "metadata": {},
   "outputs": [],
   "source": [
    "#Q5. Explain the concept of levels of measurement and give an example of a variable for each level.\n",
    "\n",
    "#A5.  There are four levels: nominal, ordinal, interval, and ratio\n",
    "\n",
    "#Nominal data can only be categorized by labels, such as gender or car brand\n",
    "#Ordinal data can also be ranked by order such as top rankers in an university or entrance exam like JEE or CAT\n",
    "#interval data can be measured by equal intervals such as as time in a day\n",
    "#ratio data that can be measured in relative to each other such as income or wealth etc"
   ]
  },
  {
   "cell_type": "code",
   "execution_count": null,
   "id": "8dab2eef-18a0-45df-9c47-f12681a803f8",
   "metadata": {},
   "outputs": [],
   "source": [
    "# Q6. Why is it important to understand the level of measurement when analyzing data? Provide an example to illustrate your answer."
   ]
  },
  {
   "cell_type": "code",
   "execution_count": 1,
   "id": "3451670c-6053-452c-9110-764604c87d83",
   "metadata": {},
   "outputs": [],
   "source": [
    "#A6  Different levels of measurement allows to use different descriptive statistics (such as mean, median, mode, range, standard deviation) and inferential statistics as well \n",
    "\n",
    "#For example in a class of 100 students for nominal data of gender, one can identify the number of females or vs males based on the frequency on the data point and can plot histograms \n",
    "#while based on the marks of the same set of students one can calculate average or median marks obtained to understand under performer or over achievers"
   ]
  },
  {
   "cell_type": "code",
   "execution_count": null,
   "id": "48efb129-10ce-4a8a-86d0-c8338e8a32d8",
   "metadata": {},
   "outputs": [],
   "source": [
    "#Q7. How nominal data type is different from ordinal data type.\n",
    "\n",
    "#Nominal data can only be categorized by labels, such as gender or car brand\n",
    "#Ordinal data can also be ranked by order such as top rankers in an university or entrance exam like JEE or CAT"
   ]
  },
  {
   "cell_type": "code",
   "execution_count": 26,
   "id": "fead8de3-6876-4e21-b756-ef7e2a92c4cd",
   "metadata": {},
   "outputs": [
    {
     "data": {
      "image/png": "[encoded data removed]",
      "text/plain": [
       "<Figure size 640x480 with 1 Axes>"
      ]
     },
     "metadata": {},
     "output_type": "display_data"
    }
   ],
   "source": [
    "#Q8. Which type of plot can be used to display data in terms of range?\n",
    "#We can use different types of plots such as box plot, scatter plot or line plot to display data in terms of range\n",
    "\n",
    "# Import matplotlib library\n",
    "import matplotlib.pyplot as plt\n",
    "\n",
    "# Create some sample data for x and y variables\n",
    "x = [1, 2, 3, 4, 5,6,7]\n",
    "y = [2, 4, 6, 8, 10,12,14]\n",
    "\n",
    "# Create a line plot with x and y variables\n",
    "plt.plot(x,y, color='r', ls='--')\n",
    "\n",
    "# Add labels for x-axis and y-axis\n",
    "plt.xlabel(\"x Axis\")\n",
    "plt.ylabel(\"y Axis\")\n",
    "\n",
    "# Add a title for the plot\n",
    "plt.title(\"Line plot to show data in range\")\n",
    "# Show the plot\n",
    "plt.show()\n"
   ]
  },
  {
   "cell_type": "code",
   "execution_count": 9,
   "id": "56ff20a5-0827-47d6-94d1-8c8831fff380",
   "metadata": {},
   "outputs": [],
   "source": [
    "#Q9. Describe the difference between descriptive and inferential statistics. Give an example of each type of statistics and explain how they are used.\n",
    "\n",
    "#Descriptive statistics we can analyze data with mean, median, mode, standard deviation about a given sample such as marks obtained by students in a class, or heights of female and male students in a class\n",
    "#Inferential statistics we use data to make predictions, estimates, or decisions about a larger population based on a sample data such as estimate the height of male amd female students in the entire 6th-10th standard based on one class in 6th standard "
   ]
  },
  {
   "cell_type": "code",
   "execution_count": 27,
   "id": "83882239-7f7a-493f-96e2-42a20839f8af",
   "metadata": {},
   "outputs": [
    {
     "name": "stdout",
     "output_type": "stream",
     "text": [
      "The Mean of the dataset is : 4.933333333333334\n",
      "The Median of the dataset is : 4.0\n",
      "The Standard Deviation of the dataset is : 3.2345358588555206\n",
      "The Mode of the dataset is : 2\n"
     ]
    }
   ],
   "source": [
    "# Q10. What are some common measures of central tendency and variability used in statistics? Explain how each measure can be used to describe a dataset.\n",
    "\n",
    "#A10 Some common measures of variability are range, standard deviation and variance. \n",
    "#They help you quantify how much the data values differ from each other or from the average\n",
    "\n",
    "# Import matplotlib library\n",
    "import matplotlib.pyplot as plt\n",
    "import numpy as np\n",
    "import statistics\n",
    "#creating a dataset \n",
    "X=[1,2,2,2,2,2,3,4,5,6,7,8,9,10,11]\n",
    "mean=np.mean(X) #finds the average value of the data set\n",
    "median=np.median(X) #finds the central value of the dataset in an ascending order\n",
    "stddev=np.std(X) #finds the standard deviation of each value from the mean \n",
    "mode=statistics.mode(X)#finds the value which appears most frequently in a dataset\n",
    "print(f\"The Mean of the dataset is : {mean}\")\n",
    "print(f\"The Median of the dataset is : {median}\")\n",
    "print(f\"The Standard Deviation of the dataset is : {stddev}\")\n",
    "print(f\"The Mode of the dataset is : {mode}\")"
   ]
  },
  {
   "cell_type": "code",
   "execution_count": null,
   "id": "29cd2a9a-eb33-4e55-9b8d-3dd88317c0e9",
   "metadata": {},
   "outputs": [],
   "source": []
  }
 ],
 "metadata": {
  "kernelspec": {
   "display_name": "Python 3 (ipykernel)",
   "language": "python",
   "name": "python3"
  },
  "language_info": {
   "codemirror_mode": {
    "name": "ipython",
    "version": 3
   },
   "file_extension": ".py",
   "mimetype": "text/x-python",
   "name": "python",
   "nbconvert_exporter": "python",
   "pygments_lexer": "ipython3",
   "version": "3.10.8"
  }
 },
 "nbformat": 4,
 "nbformat_minor": 5
}
