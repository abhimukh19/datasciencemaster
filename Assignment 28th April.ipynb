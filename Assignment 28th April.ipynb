{
 "cells": [
  {
   "cell_type": "code",
   "execution_count": 1,
   "id": "6b0eb12f-e2c1-4abf-b5b8-1c7692163c7b",
   "metadata": {},
   "outputs": [],
   "source": [
    "#Q1. What is hierarchical clustering, and how is it different from other clustering techniques?"
   ]
  },
  {
   "cell_type": "markdown",
   "id": "0181ccf8-ca68-4f01-b419-17dddf363084",
   "metadata": {},
   "source": [
    "Hierarchical clustering is a popular technique used to create homogeneous groups of entities or objects. It is a method of cluster analysis that seeks to build a hierarchy of clusters. In this method, the data points are grouped into X number of clusters so that similar data points in the clusters are close to each other."
   ]
  },
  {
   "cell_type": "markdown",
   "id": "db3bed9c-0a96-4b9f-8295-d5f40a169edc",
   "metadata": {},
   "source": [
    "The main difference between hierarchical clustering and other clustering techniques is that hierarchical clustering creates a hierarchy of clusters whereas other clustering techniques do not. Hierarchical clustering can be further divided into two types: agglomerative and divisive"
   ]
  },
  {
   "cell_type": "code",
   "execution_count": 2,
   "id": "19fc8808-445f-4853-bdfd-9edd3f50d7df",
   "metadata": {},
   "outputs": [],
   "source": [
    "#Q2. What are the two main types of hierarchical clustering algorithms? Describe each in brief."
   ]
  },
  {
   "cell_type": "markdown",
   "id": "d3df5836-cc55-4bb0-9cec-65aeb46c6c7c",
   "metadata": {},
   "source": [
    "Agglomerative hierarchical clustering is a bottom-up approach where each observation starts in its own cluster and pairs of clusters are merged as one moves up the hierarchy. This method is also known as the “bottom-up” approach"
   ]
  },
  {
   "cell_type": "markdown",
   "id": "e8ab343d-f023-4cdb-a54c-39377dd8a8b3",
   "metadata": {},
   "source": [
    "Divisive hierarchical clustering is a top-down approach where all observations start in one cluster and splits are performed recursively as one moves down the hierarchy. This method is also known as the “top-down” approach. "
   ]
  },
  {
   "cell_type": "code",
   "execution_count": 3,
   "id": "7728b558-2a2f-4a22-a40b-3fc7b12b8972",
   "metadata": {},
   "outputs": [],
   "source": [
    "#Q3. How do you determine the distance between two clusters in hierarchical clustering, and what are the\n",
    "#common distance metrics used?"
   ]
  },
  {
   "cell_type": "markdown",
   "id": "26745530-1cb7-43a7-a0aa-09af88ca01e6",
   "metadata": {},
   "source": [
    "Single Linkage: The distance between two clusters is the minimum distance between members of the two clusters.\n",
    "\n",
    "Complete Linkage: The distance between two clusters is the maximum distance between members of the two clusters.\n",
    "\n",
    "Average Linkage: The distance between two clusters is the average of all distances between members of the two clusters."
   ]
  },
  {
   "cell_type": "code",
   "execution_count": 4,
   "id": "3d51158f-8602-4ce9-884d-c3ce24f925b2",
   "metadata": {},
   "outputs": [],
   "source": [
    "#Q4. How do you determine the optimal number of clusters in hierarchical clustering, and what are some\n",
    "#common methods used for this purpose?"
   ]
  },
  {
   "cell_type": "markdown",
   "id": "af118517-1a19-4d67-bbad-ead7f1be62e3",
   "metadata": {},
   "source": [
    "The optimal number of clusters in hierarchical clustering is subjective and depends on the method used for measuring similarities and the parameters used for partitioning.\n",
    "\n",
    "Inspect the dendrogram produced using hierarchical clustering to see if it suggests a particular number of clusters.\n",
    "\n",
    "The elbow method: Compute the distortion score as the sum of squared distances to the assigned center for every possible number of clusters and pick the number of clusters that corresponds to the knee of the curve2.\n",
    "\n",
    "The silhouette method: Compute the silhouette score for each number of clusters and pick the number of clusters that maximizes the silhouette score"
   ]
  },
  {
   "cell_type": "code",
   "execution_count": 5,
   "id": "87dd0e00-f036-4283-882d-2b4eccbb5562",
   "metadata": {},
   "outputs": [],
   "source": [
    "#Q5. What are dendrograms in hierarchical clustering, and how are they useful in analyzing the results?"
   ]
  },
  {
   "cell_type": "markdown",
   "id": "517d0e12-7b71-4384-93c3-f714414f6d3f",
   "metadata": {},
   "source": [
    "A dendrogram is a tree diagram that represents the hierarchical relationship between objects. In hierarchical clustering, dendrograms are used to display the distance between each pair of sequentially merged objects. They are commonly used in studying hierarchical clusters before deciding the number of clusters significant to the dataset"
   ]
  },
  {
   "cell_type": "code",
   "execution_count": 6,
   "id": "450de085-9810-419f-a618-22edeffe2c20",
   "metadata": {},
   "outputs": [],
   "source": [
    "#Q6. Can hierarchical clustering be used for both numerical and categorical data? If yes, how are the\n",
    "#distance metrics different for each type of data?"
   ]
  },
  {
   "cell_type": "markdown",
   "id": "5f427aba-d4df-46eb-9b10-5788a0a9d112",
   "metadata": {},
   "source": [
    "Yes, hierarchical clustering can be used for both numerical and categorical data. However, the distance metrics used for each type of data are different.\n",
    "\n",
    "For numerical data, the most commonly used distance metrics are Euclidean distance and Manhattan distance.\n",
    "\n",
    "For categorical data, the most commonly used distance metrics are Jaccard distance and Dice distance"
   ]
  },
  {
   "cell_type": "code",
   "execution_count": 7,
   "id": "c0ef4a0f-ae0a-461e-84a5-e6be01f7fadb",
   "metadata": {},
   "outputs": [],
   "source": [
    "#Q7. How can you use hierarchical clustering to identify outliers or anomalies in your data?"
   ]
  },
  {
   "cell_type": "markdown",
   "id": "3d702fd6-b395-49c5-afec-5939be55f233",
   "metadata": {},
   "source": [
    "Hierarchical clustering can be used to identify outliers or anomalies in your data by extracting the relationship between objects and clusters. An object is an outlier if it does not belong to any cluster or if there is a large distance between the object and the cluster to which it is closest.\n",
    "\n",
    "Clustering-based outlier detection methods assume that the normal data objects belong to large and dense clusters, whereas outliers belong to small or sparse clusters, or do not belong to any clusters. Clustering-based approaches detect outliers by extracting the relationship between objects and clusters"
   ]
  },
  {
   "cell_type": "code",
   "execution_count": null,
   "id": "95c58572-467b-4efc-bcef-7c033283d3ed",
   "metadata": {},
   "outputs": [],
   "source": []
  }
 ],
 "metadata": {
  "kernelspec": {
   "display_name": "Python 3 (ipykernel)",
   "language": "python",
   "name": "python3"
  },
  "language_info": {
   "codemirror_mode": {
    "name": "ipython",
    "version": 3
   },
   "file_extension": ".py",
   "mimetype": "text/x-python",
   "name": "python",
   "nbconvert_exporter": "python",
   "pygments_lexer": "ipython3",
   "version": "3.10.8"
  }
 },
 "nbformat": 4,
 "nbformat_minor": 5
}
