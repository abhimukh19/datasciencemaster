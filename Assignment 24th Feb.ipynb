{
 "cells": [
  {
   "cell_type": "code",
   "execution_count": 1,
   "id": "c1054e8e-8a14-44a7-86b1-f5e957a1059e",
   "metadata": {},
   "outputs": [],
   "source": [
    "## Q1. List any five functions of the pandas library with execution."
   ]
  },
  {
   "cell_type": "code",
   "execution_count": 4,
   "id": "f6b7b40a-93c6-417a-9cf8-b063a0f103e3",
   "metadata": {},
   "outputs": [
    {
     "name": "stdout",
     "output_type": "stream",
     "text": [
      "      name  age gender         city\n",
      "0    Alice   25      F     New York\n",
      "1      Bob   30      M  Los Angeles\n",
      "2  Charlie   35      M      Chicago\n"
     ]
    }
   ],
   "source": [
    "## A1 Five functions of Panda Library\n",
    "\n",
    "##head() returns the first (n) rows of a DataFrame or Series\n",
    "## tail() returns the last (n) rows of a Dataframe or a series\n",
    "## describe() returns the count, mean, std,max, min 25%,50%,75% of a numerical column\n",
    "##info() prints a summary of a DataFrame’s columns, data types and memory usage\n",
    "##value_counts() counts the frequency of each unique value in a Series\n",
    "##sort_values() sorts a DataFrame or Series by one or more columns in ascending or descending order\n",
    "## example \n",
    "\n",
    "# Import pandas library\n",
    "import pandas as pd\n",
    "\n",
    "# Create a sample DataFrame\n",
    "df = pd.DataFrame({\"name\": [\"Alice\", \"Bob\", \"Charlie\", \"David\", \"Eve\"],\n",
    "                   \"age\": [25, 30, 35, 40, 45],\n",
    "                   \"gender\": [\"F\", \"M\", \"M\", \"M\", \"F\"],\n",
    "                   \"city\": [\"New York\", \"Los Angeles\", \"Chicago\", \"Houston\", \"Seattle\"]})\n",
    "\n",
    "# Print the first 3 rows of df\n",
    "print(df.head(3))"
   ]
  },
  {
   "cell_type": "code",
   "execution_count": 3,
   "id": "c414e492-0e59-484b-856d-44fd591e03f6",
   "metadata": {},
   "outputs": [
    {
     "name": "stdout",
     "output_type": "stream",
     "text": [
      "      name  age gender     city\n",
      "2  Charlie   35      M  Chicago\n",
      "3    David   40      M  Houston\n",
      "4      Eve   45      F  Seattle\n"
     ]
    }
   ],
   "source": [
    "# Print the last 3 rows of df\n",
    "print(df.tail(3))"
   ]
  },
  {
   "cell_type": "code",
   "execution_count": 5,
   "id": "e1281dac-747a-4197-bab2-af0c22aa4304",
   "metadata": {},
   "outputs": [
    {
     "name": "stdout",
     "output_type": "stream",
     "text": [
      "             age\n",
      "count   5.000000\n",
      "mean   35.000000\n",
      "std     7.905694\n",
      "min    25.000000\n",
      "25%    30.000000\n",
      "50%    35.000000\n",
      "75%    40.000000\n",
      "max    45.000000\n"
     ]
    }
   ],
   "source": [
    "# Print the numerical parameters of age column\n",
    "print(df.describe())"
   ]
  },
  {
   "cell_type": "code",
   "execution_count": 6,
   "id": "69468316-2f39-4109-8a8f-c6131c243c72",
   "metadata": {},
   "outputs": [
    {
     "name": "stdout",
     "output_type": "stream",
     "text": [
      "<class 'pandas.core.frame.DataFrame'>\n",
      "RangeIndex: 5 entries, 0 to 4\n",
      "Data columns (total 4 columns):\n",
      " #   Column  Non-Null Count  Dtype \n",
      "---  ------  --------------  ----- \n",
      " 0   name    5 non-null      object\n",
      " 1   age     5 non-null      int64 \n",
      " 2   gender  5 non-null      object\n",
      " 3   city    5 non-null      object\n",
      "dtypes: int64(1), object(3)\n",
      "memory usage: 288.0+ bytes\n",
      "None\n"
     ]
    }
   ],
   "source": [
    "# Print the type of columns in a dataframe\n",
    "print(df.info())"
   ]
  },
  {
   "cell_type": "code",
   "execution_count": 10,
   "id": "7d966b79-450c-40e2-ab82-891bf2c53e9b",
   "metadata": {},
   "outputs": [
    {
     "name": "stdout",
     "output_type": "stream",
     "text": [
      "name     age  gender  city       \n",
      "Alice    25   F       New York       1\n",
      "Bob      30   M       Los Angeles    1\n",
      "Charlie  35   M       Chicago        1\n",
      "David    40   M       Houston        1\n",
      "Eve      45   F       Seattle        1\n",
      "dtype: int64\n"
     ]
    }
   ],
   "source": [
    "##value_counts() counts the frequency of each unique value in a Series\n",
    "print(df.value_counts())"
   ]
  },
  {
   "cell_type": "code",
   "execution_count": 13,
   "id": "5fe70a8a-7bc0-4b0c-b7f3-ae6498e4213f",
   "metadata": {},
   "outputs": [
    {
     "name": "stdout",
     "output_type": "stream",
     "text": [
      "      name  age gender         city\n",
      "0    Alice   25      F     New York\n",
      "1      Bob   30      M  Los Angeles\n",
      "2  Charlie   35      M      Chicago\n",
      "3    David   40      M      Houston\n",
      "4      Eve   45      F      Seattle\n"
     ]
    }
   ],
   "source": [
    "##sort_values() sorts a DataFrame with ascending order from name value\n",
    "print(df.sort_values(\"name\"))"
   ]
  },
  {
   "cell_type": "code",
   "execution_count": 1,
   "id": "762e2020-832e-4438-b755-92eac9bc430d",
   "metadata": {},
   "outputs": [],
   "source": [
    "### Q2. Given a Pandas DataFrame df with columns 'A', 'B', and 'C', write a Python function to re-index the DataFrame with a new index that starts from 1 and increments by 2 for each row."
   ]
  },
  {
   "cell_type": "code",
   "execution_count": 17,
   "id": "648e843b-120d-43cd-87b9-c59ac2c44092",
   "metadata": {},
   "outputs": [
    {
     "name": "stdout",
     "output_type": "stream",
     "text": [
      "Original Example \n",
      "\n",
      "   A   B   C\n",
      "0  1   7  11\n",
      "1  2   8  12\n",
      "2  3   9  13\n",
      "3  4  10  14\n",
      "4  5  15  15\n",
      "Re-Indexed Example \n",
      "\n",
      "   A   B   C\n",
      "1  1   7  11\n",
      "3  2   8  12\n",
      "5  3   9  13\n",
      "7  4  10  14\n",
      "9  5  15  15\n"
     ]
    }
   ],
   "source": [
    "# Import pandas library\n",
    "import pandas as pd\n",
    "\n",
    "data= {\"A\":[1,2,3,4,5],\"B\":[7,8,9,10,15], \"C\":[11,12,13,14,15]}\n",
    "\n",
    "df= pd.DataFrame(data)\n",
    "print(\"Original Example \\n\")\n",
    "print(df)\n",
    "# Setting the new index\n",
    "new_index = pd.RangeIndex(start=1, stop=len(df)*2+1, step=2)\n",
    "print(\"Re-Indexed Example \\n\")\n",
    "df1=df.set_index(new_index)\n",
    "print(df1)"
   ]
  },
  {
   "cell_type": "code",
   "execution_count": null,
   "id": "39b01d3c-a8e1-4833-a8ed-56fe08cc6c91",
   "metadata": {},
   "outputs": [],
   "source": [
    "##Q3. You have a Pandas DataFrame df with a column named 'Values'. Write a Python function that\n",
    "##iterates over the DataFrame and calculates the sum of the first three values in the 'Values' column. The\n",
    "##function should print the sum to the console."
   ]
  },
  {
   "cell_type": "code",
   "execution_count": 26,
   "id": "97350667-3748-4f9d-bad9-2bfb424d6b1a",
   "metadata": {},
   "outputs": [
    {
     "name": "stdout",
     "output_type": "stream",
     "text": [
      "Original DataFrame\n",
      "   Index  Values\n",
      "0      1      10\n",
      "1      2      20\n",
      "2      3      30\n",
      "3      4      40\n",
      "4      5      50\n",
      "\n",
      "\n",
      "The sum of values column for first 3 entries\n",
      "60\n"
     ]
    }
   ],
   "source": [
    "# Import pandas library\n",
    "import pandas as pd\n",
    "\n",
    "data= {\"Index\":[1,2,3,4,5],\"Values\":[10,20,30,40,50]}\n",
    "\n",
    "df1 =pd.DataFrame(data)\n",
    "\n",
    "print(\"Original DataFrame\")\n",
    "print(df1)\n",
    "print(\"\\n\")\n",
    "\n",
    "print(\"The sum of values column for first 3 entries\")\n",
    "df2=df1['Values'].head(3).sum()\n",
    "print(df2)\n"
   ]
  },
  {
   "cell_type": "code",
   "execution_count": 27,
   "id": "1eb38772-61eb-4c71-a04e-d0c81e2903d3",
   "metadata": {},
   "outputs": [],
   "source": [
    "### Q4 Q4. Given a Pandas DataFrame df with a column 'Text', write a Python function to create a new column 'Word_Count' that contains the number of words in each row of the 'Text' column."
   ]
  },
  {
   "cell_type": "code",
   "execution_count": 41,
   "id": "7f76accd-ce65-4cf9-a016-94259a12622f",
   "metadata": {},
   "outputs": [
    {
     "name": "stdout",
     "output_type": "stream",
     "text": [
      "      name  age gender         city  WordCount_City  Charactercount_City\n",
      "0    Alice   25      F     New York               2                    7\n",
      "1      Bob   30      M  Los Angeles               2                   10\n",
      "2  Charlie   35      M      Chicago               1                    7\n",
      "3    David   40      M      Houston               1                    7\n",
      "4      Eve   45      F      Seattle               1                    7\n"
     ]
    }
   ],
   "source": [
    "# Import pandas library\n",
    "import pandas as pd\n",
    "\n",
    "# Create a sample DataFrame\n",
    "df = pd.DataFrame({\"name\": [\"Alice\", \"Bob\", \"Charlie\", \"David\", \"Eve\"],\n",
    "                   \"age\": [25, 30, 35, 40, 45],\n",
    "                   \"gender\": [\"F\", \"M\", \"M\", \"M\", \"F\"],\n",
    "                   \"city\": [\"New York\", \"Los Angeles\", \"Chicago\", \"Houston\", \"Seattle\"]})\n",
    "#Adding two new columns to calculate word count and character count (without spaces)\n",
    "\n",
    "df['WordCount_City']=df['city'].apply(lambda x:len(str(x).split(' ')))\n",
    "df['Charactercount_City']=df['city'].apply(lambda x:len(x.replace(\" \",\"\")))\n",
    "\n",
    "print(df)"
   ]
  },
  {
   "cell_type": "code",
   "execution_count": null,
   "id": "21fcaecf-bec4-4ba1-81f5-335dad8cc286",
   "metadata": {},
   "outputs": [],
   "source": [
    "## Q5. How are DataFrame.size() and DataFrame.shape() different?\n",
    "\n",
    "## A5. DataFrame.size() returns the number of elements in the DataFrame, which is equal to the number of rows multiplied by the number of columns. DataFrame.shape() returns a tuple of the number of rows and columns in the DataFrame"
   ]
  },
  {
   "cell_type": "code",
   "execution_count": 44,
   "id": "41a90208-5a0d-438b-8c56-74abd973447d",
   "metadata": {},
   "outputs": [
    {
     "name": "stdout",
     "output_type": "stream",
     "text": [
      "10\n",
      "(5, 2)\n"
     ]
    }
   ],
   "source": [
    "## examples of both\n",
    "\n",
    "import pandas as pd\n",
    "\n",
    "data= {\"Index\":[1,2,3,4,5],\"Values\":[10,20,30,40,50]}\n",
    "\n",
    "df1 =pd.DataFrame(data)\n",
    "\n",
    "print(df1.size)\n",
    "print(df1.shape)"
   ]
  },
  {
   "cell_type": "code",
   "execution_count": null,
   "id": "877c40ee-e67e-4023-b9d9-fa91a682471a",
   "metadata": {},
   "outputs": [],
   "source": [
    "## Q6. Which function of pandas do we use to read an excel file?\n",
    "\n",
    "## A6 we usd read.excel() method is utilised to an excel file. This method supports various file extensions such as xls, xlsx, xlsm, xlsb, odf, ods and odt"
   ]
  },
  {
   "cell_type": "code",
   "execution_count": 48,
   "id": "e54df10f-ec2d-4537-8724-a675c6b156f6",
   "metadata": {},
   "outputs": [
    {
     "name": "stdout",
     "output_type": "stream",
     "text": [
      "      name  age gender         city            email Username\n",
      "0    Alice   25      F     New York  auser@gmail.com    auser\n",
      "1      Bob   30      M  Los Angeles  buser@gmail.com    buser\n",
      "2  Charlie   35      M      Chicago  cuser@gmail.com    cuser\n",
      "3    David   40      M      Houston  duser@gmail.com    duser\n",
      "4      Eve   45      F      Seattle  euser@gmail.com    euser\n"
     ]
    }
   ],
   "source": [
    "### You have a Pandas DataFrame df that contains a column named 'Email' that contains email\n",
    "##addresses in the format 'username@domain.com'. Write a Python function that creates a new column\n",
    "##'Username' in df that contains only the username part of each email address.\n",
    "\n",
    "# Import pandas library\n",
    "import pandas as pd\n",
    "\n",
    "# Create a sample DataFrame\n",
    "df = pd.DataFrame({\"name\": [\"Alice\", \"Bob\", \"Charlie\", \"David\", \"Eve\"],\n",
    "                   \"age\": [25, 30, 35, 40, 45],\n",
    "                   \"gender\": [\"F\", \"M\", \"M\", \"M\", \"F\"],\n",
    "                   \"city\": [\"New York\", \"Los Angeles\", \"Chicago\", \"Houston\", \"Seattle\"],\n",
    "                     \"email\":[\"auser@gmail.com\",\"buser@gmail.com\", \"cuser@gmail.com\",\"duser@gmail.com\", \"euser@gmail.com\"]})\n",
    "# creating a new column called username with only usernames extracted from email Ids\n",
    "\n",
    "df['Username']=df['email'].apply(lambda x:str(x).split('@')[0])\n",
    "\n",
    "print(df)\n"
   ]
  },
  {
   "cell_type": "code",
   "execution_count": null,
   "id": "5f6b69d4-dad9-47fb-9201-42eb92ab0b1e",
   "metadata": {},
   "outputs": [],
   "source": [
    "###Q8. You have a Pandas DataFrame df with columns 'A', 'B', and 'C'. Write a Python function that selects\n",
    "##all rows where the value in column 'A' is greater than 5 and the value in column 'B' is less than 10. The\n",
    "##function should return a new DataFrame that contains only the selected rows."
   ]
  },
  {
   "cell_type": "code",
   "execution_count": 64,
   "id": "4c388528-63d0-478f-bfea-44e1fe83b403",
   "metadata": {},
   "outputs": [
    {
     "name": "stdout",
     "output_type": "stream",
     "text": [
      "Original DataFrame\n",
      "   A  B  C\n",
      "0  3  5  1\n",
      "1  8  2  7\n",
      "2  6  9  4\n",
      "3  2  3  5\n",
      "4  9  1  2\n",
      "\n",
      "\n",
      "Final DataFrame\n",
      "   A  B  C\n",
      "1  8  2  7\n",
      "2  6  9  4\n",
      "4  9  1  2\n"
     ]
    }
   ],
   "source": [
    "# Import pandas library\n",
    "import pandas as pd\n",
    "\n",
    "data= {\"A\":[3,8,6,2,9],\"B\":[5,2,9,3,1],\"C\":[1,7,4,5,2]}\n",
    "df1 =pd.DataFrame(data)\n",
    "print(\"Original DataFrame\")\n",
    "print(df1)\n",
    "print(\"\\n\")\n",
    "\n",
    "# Finding the the values in Column A greater than 5 and in Column B <10 it returns 3 rows 1,2,4\n",
    "print(\"Final DataFrame\")\n",
    "df2=df1.loc[(df1['A']>5) & (df1['B']<10)]\n",
    "print(df2)"
   ]
  },
  {
   "cell_type": "code",
   "execution_count": 72,
   "id": "c7a76293-99aa-42d7-95ab-2c6a12c95129",
   "metadata": {},
   "outputs": [
    {
     "name": "stdout",
     "output_type": "stream",
     "text": [
      "Requirement already satisfied: lxml in /opt/conda/lib/python3.10/site-packages (4.9.2)\n",
      "Note: you may need to restart the kernel to use updated packages.\n"
     ]
    }
   ],
   "source": [
    "pip install lxml\n"
   ]
  },
  {
   "cell_type": "code",
   "execution_count": 12,
   "id": "f2ab6728-1f87-496c-8a4c-f57c5cce6e9c",
   "metadata": {},
   "outputs": [
    {
     "name": "stdout",
     "output_type": "stream",
     "text": [
      "Mean Value for Values Column is :30.2\n",
      "Median Value for Values Column is :30.0\n",
      "Standard Deviation for Values Column is :15.658863304850707\n"
     ]
    }
   ],
   "source": [
    "##Q9. Given a Pandas DataFrame df with a column 'Values', write a Python function to calculate the mean,\n",
    "## median, and standard deviation of the values in the 'Values' column.\n",
    "\n",
    "# Import pandas library\n",
    "import pandas as pd\n",
    "# Create a sample DataFrame\n",
    "data= {\"Index\":[\"A\",\"B\",\"C\",\"D\",\"E\"],\"Values\":[10,21,30,40,50]}\n",
    "\n",
    "df= pd.DataFrame(data)\n",
    "\n",
    "print(\"Mean Value for Values Column is :\" + str(df['Values'].mean()))\n",
    "print(\"Median Value for Values Column is :\" + str(df['Values'].median()))\n",
    "print(\"Standard Deviation for Values Column is :\" + str(df['Values'].std()))\n"
   ]
  },
  {
   "cell_type": "code",
   "execution_count": 31,
   "id": "21ac0853-27c0-4f0d-b786-7aa1982cbe8c",
   "metadata": {},
   "outputs": [
    {
     "name": "stdout",
     "output_type": "stream",
     "text": [
      "Original DataFrame\n",
      "       Month  Sales\n",
      "0    1964-01   2815\n",
      "1    1964-02   2672\n",
      "2    1964-03   2755\n",
      "3    1964-04   2721\n",
      "4    1964-05   2946\n",
      "..       ...    ...\n",
      "100  1972-05   4618\n",
      "101  1972-06   5312\n",
      "102  1972-07   4298\n",
      "103  1972-08   1413\n",
      "104  1972-09   5877\n",
      "\n",
      "[105 rows x 2 columns]\n",
      "\n",
      " Seven Day Moving Average\n",
      "0              NaN\n",
      "1              NaN\n",
      "2              NaN\n",
      "3              NaN\n",
      "4              NaN\n",
      "          ...     \n",
      "100    6345.142857\n",
      "101    5696.714286\n",
      "102    4500.714286\n",
      "103    4081.428571\n",
      "104    4411.857143\n",
      "Name: 7-Day Moving Average, Length: 105, dtype: float64\n"
     ]
    }
   ],
   "source": [
    "### Q10. Given a Pandas DataFrame df with a column 'Sales' and a column 'Date', write a Python function to\n",
    "##create a new column 'MovingAverage' that contains the moving average of the sales for the past 7 days\n",
    "##for each row in the DataFrame. The moving average should be calculated using a window of size 7 and\n",
    "##should include the current day.\n",
    "\n",
    "# Import pandas library\n",
    "import pandas as pd\n",
    "# Create a sample DataFrame\n",
    "df= pd.read_csv(\"https://raw.githubusercontent.com/jbrownlee/Datasets/master/monthly_champagne_sales.csv\")\n",
    "print(\"Original DataFrame\")\n",
    "print(df)\n",
    "print(\"\\n Seven Day Moving Average\")\n",
    "# Calculate 7 Day Moving Average\n",
    "df['7-Day Moving Average']=df['Sales'].rolling(window=7).mean()\n",
    "print(df['7-Day Moving Average'])"
   ]
  },
  {
   "cell_type": "code",
   "execution_count": 23,
   "id": "a293d23a-a258-4f14-8cc2-4ad610b8f11e",
   "metadata": {},
   "outputs": [
    {
     "name": "stdout",
     "output_type": "stream",
     "text": [
      "           0 Day of the Week\n",
      "0 2023-01-01          Sunday\n",
      "1 2023-01-02          Monday\n",
      "2 2023-01-03         Tuesday\n",
      "3 2023-01-04       Wednesday\n",
      "4 2023-01-05        Thursday\n"
     ]
    }
   ],
   "source": [
    "##Q11. You have a Pandas DataFrame df with a column 'Date'. Write a Python function that creates a new\n",
    "##column 'Weekday' in the DataFrame. The 'Weekday' column should contain the weekday name (e.g.\n",
    "##Monday, Tuesday) corresponding to each date in the 'Date' column.\n",
    "\n",
    "data = [\"2023-01-01\",\"2023-01-02\",\"2023-01-03\",\"2023-01-04\",\"2023-01-05\"]\n",
    "# Import pandas library\n",
    "import pandas as pd\n",
    "from datetime import datetime, timedelta\n",
    "# Create a sample DataFrame\n",
    "df=pd.DataFrame(data)\n",
    "# Convert data into date time\n",
    "df[0]= pd.to_datetime(df[0])\n",
    "# adding a column called day of the week\n",
    "df['Day of the Week']=df[0].dt.strftime('%A')\n",
    "print(df)"
   ]
  },
  {
   "cell_type": "code",
   "execution_count": 25,
   "id": "04762333-2f61-46f3-a0d5-c651e6f785cd",
   "metadata": {},
   "outputs": [],
   "source": [
    "##Q12. Given a Pandas DataFrame df with a column 'Date' that contains timestamps, write a Python\n",
    "##function to select all rows where the date is between '2023-01-01' and '2023-01-31'.\n",
    "\n",
    "# Import pandas library\n",
    "import pandas as pd\n",
    "from datetime import datetime, timedelta\n",
    "def selectrowforjanuary(df):\n",
    "  # convert date column to datetime object\n",
    "  df['Date'] = pd.to_datetime(df['Date'])\n",
    "  # filter the dates based on criteria\n",
    "  df = df.loc[(df['Date'] > '2023-01-01') & (df['Date'] <= '2023-01-31')]\n",
    "  # select rows that match the \n",
    "  return df"
   ]
  },
  {
   "cell_type": "code",
   "execution_count": null,
   "id": "98b4e3b6-a2f8-4460-9042-786cd47cd015",
   "metadata": {},
   "outputs": [],
   "source": [
    "## Q13. To use the basic functions of pandas, what is the first and foremost necessary library that needs to be imported?\n",
    "\n",
    "###A13 Pandas library should be imported first for the basic functions to be operated including data manipulation in a dataframe "
   ]
  }
 ],
 "metadata": {
  "kernelspec": {
   "display_name": "Python 3 (ipykernel)",
   "language": "python",
   "name": "python3"
  },
  "language_info": {
   "codemirror_mode": {
    "name": "ipython",
    "version": 3
   },
   "file_extension": ".py",
   "mimetype": "text/x-python",
   "name": "python",
   "nbconvert_exporter": "python",
   "pygments_lexer": "ipython3",
   "version": "3.10.8"
  }
 },
 "nbformat": 4,
 "nbformat_minor": 5
}
