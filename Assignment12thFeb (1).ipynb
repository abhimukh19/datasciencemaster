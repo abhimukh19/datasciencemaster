{
 "cells": [
  {
   "cell_type": "markdown",
   "id": "2d913661-0d8e-416b-b18d-37b5aedab874",
   "metadata": {},
   "source": [
    "### Assignment 12th Feb Submitted by Abhishek Mukherjeea"
   ]
  },
  {
   "cell_type": "code",
   "execution_count": 1,
   "id": "d43f8ac2-f8c5-4208-99cc-226ead232b19",
   "metadata": {},
   "outputs": [],
   "source": [
    "### Q1 What is an Exception in python? Write the differen between Exceptions nd syntax errors\n",
    "\n",
    "### A1 Exceptions are an outcome of an execution of code resulting in events or results which need to be explictiy handled by the programmer. They occur during the execution of the program or code. Whereas Syntax errors are issues resultant of wrongly writen statements of code on IDE. Syntax errors are also called Parsing errors"
   ]
  },
  {
   "cell_type": "code",
   "execution_count": 2,
   "id": "43fee265-4daa-4869-90ca-7329db45543e",
   "metadata": {},
   "outputs": [
    {
     "ename": "ZeroDivisionError",
     "evalue": "division by zero",
     "output_type": "error",
     "traceback": [
      "\u001b[0;31m---------------------------------------------------------------------------\u001b[0m",
      "\u001b[0;31mZeroDivisionError\u001b[0m                         Traceback (most recent call last)",
      "Cell \u001b[0;32mIn[2], line 9\u001b[0m\n\u001b[1;32m      6\u001b[0m list1\u001b[38;5;241m=\u001b[39m[\u001b[38;5;241m1\u001b[39m,\u001b[38;5;241m2\u001b[39m,\u001b[38;5;241m3\u001b[39m,\u001b[38;5;241m4\u001b[39m,\u001b[38;5;241m5\u001b[39m]\n\u001b[1;32m      8\u001b[0m \u001b[38;5;28;01mfor\u001b[39;00m i \u001b[38;5;129;01min\u001b[39;00m list1:\n\u001b[0;32m----> 9\u001b[0m     i\u001b[38;5;241m=\u001b[39m\u001b[43mi\u001b[49m\u001b[38;5;241;43m/\u001b[39;49m\u001b[38;5;241;43m0\u001b[39;49m\n\u001b[1;32m     10\u001b[0m     \u001b[38;5;28mprint\u001b[39m(i)\n",
      "\u001b[0;31mZeroDivisionError\u001b[0m: division by zero"
     ]
    }
   ],
   "source": [
    "#### Q3 What happens when an exception is not handled? Explain with an example\n",
    "\n",
    "### A3 Example of unhandled exception with divide by zero. In the below example the code throws an exception error regarding divide by zero.\n",
    "\n",
    "# initialize a list\n",
    "list1=[1,2,3,4,5]\n",
    "  \n",
    "for i in list1:\n",
    "    i=i/0\n",
    "    print(i)"
   ]
  },
  {
   "cell_type": "code",
   "execution_count": 7,
   "id": "260e7f81-f61d-4a58-bc86-44fb2cbaf1d9",
   "metadata": {},
   "outputs": [
    {
     "name": "stdout",
     "output_type": "stream",
     "text": [
      "An divide by zero error occurred\n",
      "I will execute regardless of the run time outcome\n"
     ]
    }
   ],
   "source": [
    "### Q4 What are used to catch and handle exception in python? Given an example\n",
    "\n",
    "### Try and Except are used to handle exceptions in Python. Finally is also used many times to ensure anything we want to execute regardless of a normal executon or an exception\n",
    "### Else is also used to execute a code if there is no exception.\n",
    "\n",
    "list1=[1,2,3,4,5]\n",
    "try:\n",
    "    for i in list1:\n",
    "        i=i/0\n",
    "        print(i)\n",
    "except:\n",
    "        print (\"An divide by zero error occurred\")\n",
    "finally:\n",
    "        print (\"I will execute regardless of the run time outcome\")\n",
    "\n"
   ]
  },
  {
   "cell_type": "code",
   "execution_count": 8,
   "id": "3455e2e9-68a9-48e0-b534-866dc64303e6",
   "metadata": {},
   "outputs": [],
   "source": [
    "### Q5 Given an example by using Try, Except, Raise and finally"
   ]
  },
  {
   "cell_type": "code",
   "execution_count": 12,
   "id": "bf8b087c-e462-44fc-8a16-f7c004960855",
   "metadata": {},
   "outputs": [
    {
     "name": "stdin",
     "output_type": "stream",
     "text": [
      "Enter a positive number: -56\n"
     ]
    },
    {
     "name": "stdout",
     "output_type": "stream",
     "text": [
      "You have entered 0 or a negative number\n",
      "Execution has stopped\n"
     ]
    }
   ],
   "source": [
    "### A5 An example with try and else except raise and finally\n",
    "\n",
    "## Here is an example of Python code that uses try, else, except, raise and finally:\n",
    "\n",
    "# code block\n",
    "\n",
    "try: \n",
    "    \n",
    "    ##code block which can cause exception\n",
    "    inputvar= int(input(\"Enter a positive number:\"))\n",
    "    if (inputvar<=0):\n",
    "        raise ValueError(\"You have entered 0 or a negative number\")\n",
    "except ValueError as errvar:\n",
    "    print(errvar)\n",
    "else:\n",
    "    print(f\"The number you have entered is {inputvar}\")\n",
    "\n",
    "finally:\n",
    "          print(\"Execution has stopped\")\n"
   ]
  },
  {
   "cell_type": "code",
   "execution_count": null,
   "id": "a6521ff0-d2c8-48bb-a9bb-db41411ed8de",
   "metadata": {},
   "outputs": [],
   "source": [
    "### Q6 what are custom exceptions and why do we need custom exceptions? Given an example:\n",
    "\n",
    "### A6 The custom exceptions are user defined exceptions when the built-in exception handlers are not sufficient for the use case.\n",
    "\n"
   ]
  },
  {
   "cell_type": "code",
   "execution_count": 18,
   "id": "3ed006a6-3701-4270-b5c4-2eed2e8229c4",
   "metadata": {},
   "outputs": [
    {
     "name": "stdin",
     "output_type": "stream",
     "text": [
      "Enter your salary to asses your tax: Please note your salary should above 1000 to calculate tax 500\n"
     ]
    },
    {
     "name": "stdout",
     "output_type": "stream",
     "text": [
      "The salary 500 is below minimal threshold for tax calculation\n",
      "Execution has stopped\n"
     ]
    }
   ],
   "source": [
    "### Example of a customer handler which can be reused across multiple use cases\n",
    "\n",
    "class CustomError(Exception):\n",
    "    \"Raised whent the salary entered is less than 1000\"\n",
    "    pass\n",
    "\n",
    "try:\n",
    "    inputvar= int(input(\"Enter your salary to asses your tax: Please note your salary should above 1000 to calculate tax\"))\n",
    "    if (inputvar<=1000):\n",
    "                raise CustomError\n",
    "except:\n",
    "    print(f\"The salary {inputvar} is below minimal threshold for tax calculation\")\n",
    "\n",
    "\n",
    "else:\n",
    "        outputtax=0\n",
    "        outputtax=inputvar*.10\n",
    "        print(f\"For The salary {inputvar}, your tax is equal to {outputtax}\")\n",
    "\n",
    "finally:\n",
    "          print(\"Execution has stopped\")"
   ]
  },
  {
   "cell_type": "code",
   "execution_count": 23,
   "id": "30e5d837-9f9c-488b-aa84-bd00ab74f4bd",
   "metadata": {},
   "outputs": [
    {
     "name": "stdin",
     "output_type": "stream",
     "text": [
      "Enter your marks out of 500 400\n"
     ]
    },
    {
     "name": "stdout",
     "output_type": "stream",
     "text": [
      "Your final percentage is equal to % 80.0\n",
      "Execution has stopped\n"
     ]
    }
   ],
   "source": [
    "### Q7 Create a custom class and use this to handle an exception\n",
    "### A7\n",
    "\n",
    "### Example of a customer handler which can be reused across multiple use cases\n",
    "\n",
    "class Markerror(Exception):\n",
    "    \"Raised when the marks is above 500\"\n",
    "    pass\n",
    "\n",
    "try:\n",
    "    inputvar= int(input(\"Enter your marks out of 500\"))\n",
    "    if (inputvar>=500):\n",
    "                raise Markerror\n",
    "except:\n",
    "    print(f\"The entered marks {inputvar} is above 500\")\n",
    "\n",
    "\n",
    "else:\n",
    "        percentage_marks=0\n",
    "        percentage_marks=inputvar/500\n",
    "        print(f\"Your final percentage is equal to % {percentage_marks*100}\")\n",
    "\n",
    "finally:\n",
    "          print(\"Execution has stopped\")"
   ]
  },
  {
   "cell_type": "code",
   "execution_count": null,
   "id": "8d242c93-76b3-438d-a57a-c6c95619e88f",
   "metadata": {},
   "outputs": [],
   "source": []
  }
 ],
 "metadata": {
  "kernelspec": {
   "display_name": "Python 3 (ipykernel)",
   "language": "python",
   "name": "python3"
  },
  "language_info": {
   "codemirror_mode": {
    "name": "ipython",
    "version": 3
   },
   "file_extension": ".py",
   "mimetype": "text/x-python",
   "name": "python",
   "nbconvert_exporter": "python",
   "pygments_lexer": "ipython3",
   "version": "3.10.8"
  }
 },
 "nbformat": 4,
 "nbformat_minor": 5
}
