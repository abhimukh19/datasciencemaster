{
 "cells": [
  {
   "cell_type": "markdown",
   "id": "53351b02-4463-4c59-921b-caa4b43367f2",
   "metadata": {},
   "source": [
    "## Assignment 1 29th January- Submitted by Abhishek Mukherjee\n"
   ]
  },
  {
   "cell_type": "markdown",
   "id": "e087e75b-8469-4f98-9ad5-99f6b32064e7",
   "metadata": {},
   "source": [
    "##### Q1- Who developed Python programming language?\n",
    "##### A1- Guido van Rossum developed Python in the 1990s\n",
    "\n",
    "##### Q2 - Which type of Programming does Python Support?\n",
    "##### A2- Python supports object oriented programming\n",
    "\n",
    "##### Q3- Is Python case senstive in case of identifiers?\n",
    "##### A3- Yes, Python is case senstive in case of identifiers.\n",
    "##### An example below"
   ]
  },
  {
   "cell_type": "code",
   "execution_count": 2,
   "id": "4baa25f9-072d-4a91-8c37-c4df09617a57",
   "metadata": {},
   "outputs": [
    {
     "name": "stdout",
     "output_type": "stream",
     "text": [
      "First identifier second identifier\n"
     ]
    }
   ],
   "source": [
    "TestVariable = \"First identifier\"\n",
    "testvariable = \"second identifier\"\n",
    "print(TestVariable, testvariable)"
   ]
  },
  {
   "cell_type": "markdown",
   "id": "ec7b96db-9406-499d-bea2-25fcbac3c4fd",
   "metadata": {},
   "source": [
    "##### Q4- Is Python code complied or interpreted?\n",
    "##### A4- Python code is interpreted, as the Python code is automatically compiled into byte code, before running it which is abstracted from programmers\n",
    "\n",
    "##### Q5- Name a few blocks of code used to define in Python Language?\n",
    "##### A5- Indentation is used to define a block of code. As per my experience the code is auto indented with right syntax else it throws errors.\n",
    "###### An example below\n"
   ]
  },
  {
   "cell_type": "code",
   "execution_count": 18,
   "id": "105b1c4a-aabd-450b-8ac4-013ab8c28774",
   "metadata": {},
   "outputs": [
    {
     "name": "stdout",
     "output_type": "stream",
     "text": [
      "1  is not an even number\n",
      "2\n",
      "3  is not an even number\n",
      "4\n",
      "5  is not an even number\n",
      "6\n"
     ]
    }
   ],
   "source": [
    "###identation \n",
    "List_a=[1,2,3,4,5,6]\n",
    "for i in List_a:\n",
    "    if(i%2==0):\n",
    "        print(i)\n",
    "    else:\n",
    "        print(i,\" is not an even number\")"
   ]
  },
  {
   "cell_type": "markdown",
   "id": "548d8cf5-281a-463d-9908-2ef32db6f613",
   "metadata": {},
   "source": [
    "##### Q6- State a character used to give single line comments in Python?\n",
    "##### A6- \"#\" is the character used to give single line comments\n",
    "##### Q7- Mention functions which can be used find the version of Pythom we are working on?\n",
    "##### A7- Function example is below"
   ]
  },
  {
   "cell_type": "code",
   "execution_count": 23,
   "id": "16e6127d-9585-425b-813d-f72bb29ba82c",
   "metadata": {},
   "outputs": [
    {
     "data": {
      "text/plain": [
       "'3.10.8 | packaged by conda-forge | (main, Nov 22 2022, 08:26:04) [GCC 10.4.0]'"
      ]
     },
     "execution_count": 23,
     "metadata": {},
     "output_type": "execute_result"
    }
   ],
   "source": [
    "import sys\n",
    "sys.version\n"
   ]
  },
  {
   "cell_type": "markdown",
   "id": "3ec83e06-7f8b-4d6a-a65b-b17095bfa3f7",
   "metadata": {},
   "source": [
    "##### Q8- Python helps creatw anonymous functions at runtime, using a construct called____\n",
    "##### A8- Lambda is the construct\n",
    "##### Q9- Python helps creatw anonymous functions at runtime, using a construct called____\n",
    "##### A9- Lambda is the construct\n",
    "##### Q10- what does Pip stand for in Python?\n",
    "##### A10- PIP is a package manager for Python\n",
    "##### Q11- Mention a few built in functions in Python?\n",
    "##### A11- Built in functions include print(), len(), if(), else()\n",
    "##### Q12- What is the maximum possible length of an identifier in python?\n",
    "##### A12- 79 characters is the max length\n",
    "##### Q13- What are the benefits of using Python?\n",
    "##### A13- Widely adopted across multiple use cases, easier to learn and develop, open source and has a big community behind\n",
    "##### Q14- How is memory managed in Python?\n",
    "##### A14- Python has a memory manager which allocates memory to a block program. Python has static and dynamic memory allocation\n",
    "##### Q15- How to install Python on Windows and set path variables?\n",
    "##### A15- You can add Python to Windows path by downloading a recent version of Python, and then checking the box to Add Python to PATH\n",
    "##### Q16- is Identation required in Python?\n",
    "##### A16- Yes indentation is required in Python. It is clearly important to define a b\n"
   ]
  },
  {
   "cell_type": "code",
   "execution_count": null,
   "id": "47f02d73-a1c6-49a2-8573-a7c798c7f401",
   "metadata": {},
   "outputs": [],
   "source": [
    "### "
   ]
  }
 ],
 "metadata": {
  "kernelspec": {
   "display_name": "Python 3 (ipykernel)",
   "language": "python",
   "name": "python3"
  },
  "language_info": {
   "codemirror_mode": {
    "name": "ipython",
    "version": 3
   },
   "file_extension": ".py",
   "mimetype": "text/x-python",
   "name": "python",
   "nbconvert_exporter": "python",
   "pygments_lexer": "ipython3",
   "version": "3.10.8"
  }
 },
 "nbformat": 4,
 "nbformat_minor": 5
}
