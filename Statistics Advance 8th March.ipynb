{
 "cells": [
  {
   "cell_type": "code",
   "execution_count": 1,
   "id": "3ac14090-6a0a-4c8d-9ad3-11c1614c6ba2",
   "metadata": {},
   "outputs": [],
   "source": [
    "# Q1. What is the Probability density function?\n",
    "\n",
    "#A1 A PDF function describes how likely a continuous random variable is to take a certain value\n",
    "#. For example, if A is the height of a person in inches, then the PDF of A is the likelyhood that a person has a height of x inches\n",
    "#PDF always has a value which is >=0"
   ]
  },
  {
   "cell_type": "code",
   "execution_count": null,
   "id": "e0eb5e7d-1706-4ea4-bfb6-72b35ca1d751",
   "metadata": {},
   "outputs": [],
   "source": [
    "#Q2. What are the types of Probability distribution?"
   ]
  },
  {
   "cell_type": "code",
   "execution_count": 2,
   "id": "ae43edf4-97f9-467a-b43d-32ef6cdff659",
   "metadata": {},
   "outputs": [],
   "source": [
    "#A2 A probability distribution is a function that describes how likely a random variable is to take different values\n",
    "#There are two types of probability distributions: discrete and continuous\n",
    "#Discrete probability distributions is for variables that can take only a finite number of values such as dice roll or coin toss\n",
    "#Continuous probability distributions is for random variables that can take any value in an interval such as marks, temperature"
   ]
  },
  {
   "cell_type": "code",
   "execution_count": 3,
   "id": "7cd4edcb-4f0a-42d3-b47a-254db3e97451",
   "metadata": {},
   "outputs": [],
   "source": [
    "#Q3. Write a Python function to calculate the probability density function of a normal distribution with given mean and standard deviation at a given point."
   ]
  },
  {
   "cell_type": "code",
   "execution_count": 17,
   "id": "862451f1-6fec-4a66-a391-37865a726eed",
   "metadata": {},
   "outputs": [
    {
     "data": {
      "text/html": [
       "<div>\n",
       "<style scoped>\n",
       "    .dataframe tbody tr th:only-of-type {\n",
       "        vertical-align: middle;\n",
       "    }\n",
       "\n",
       "    .dataframe tbody tr th {\n",
       "        vertical-align: top;\n",
       "    }\n",
       "\n",
       "    .dataframe thead th {\n",
       "        text-align: right;\n",
       "    }\n",
       "</style>\n",
       "<table border=\"1\" class=\"dataframe\">\n",
       "  <thead>\n",
       "    <tr style=\"text-align: right;\">\n",
       "      <th></th>\n",
       "      <th>total_bill</th>\n",
       "      <th>tip</th>\n",
       "      <th>sex</th>\n",
       "      <th>smoker</th>\n",
       "      <th>day</th>\n",
       "      <th>time</th>\n",
       "      <th>size</th>\n",
       "    </tr>\n",
       "  </thead>\n",
       "  <tbody>\n",
       "    <tr>\n",
       "      <th>0</th>\n",
       "      <td>16.99</td>\n",
       "      <td>1.01</td>\n",
       "      <td>Female</td>\n",
       "      <td>No</td>\n",
       "      <td>Sun</td>\n",
       "      <td>Dinner</td>\n",
       "      <td>2</td>\n",
       "    </tr>\n",
       "    <tr>\n",
       "      <th>1</th>\n",
       "      <td>10.34</td>\n",
       "      <td>1.66</td>\n",
       "      <td>Male</td>\n",
       "      <td>No</td>\n",
       "      <td>Sun</td>\n",
       "      <td>Dinner</td>\n",
       "      <td>3</td>\n",
       "    </tr>\n",
       "    <tr>\n",
       "      <th>2</th>\n",
       "      <td>21.01</td>\n",
       "      <td>3.50</td>\n",
       "      <td>Male</td>\n",
       "      <td>No</td>\n",
       "      <td>Sun</td>\n",
       "      <td>Dinner</td>\n",
       "      <td>3</td>\n",
       "    </tr>\n",
       "    <tr>\n",
       "      <th>3</th>\n",
       "      <td>23.68</td>\n",
       "      <td>3.31</td>\n",
       "      <td>Male</td>\n",
       "      <td>No</td>\n",
       "      <td>Sun</td>\n",
       "      <td>Dinner</td>\n",
       "      <td>2</td>\n",
       "    </tr>\n",
       "    <tr>\n",
       "      <th>4</th>\n",
       "      <td>24.59</td>\n",
       "      <td>3.61</td>\n",
       "      <td>Female</td>\n",
       "      <td>No</td>\n",
       "      <td>Sun</td>\n",
       "      <td>Dinner</td>\n",
       "      <td>4</td>\n",
       "    </tr>\n",
       "    <tr>\n",
       "      <th>...</th>\n",
       "      <td>...</td>\n",
       "      <td>...</td>\n",
       "      <td>...</td>\n",
       "      <td>...</td>\n",
       "      <td>...</td>\n",
       "      <td>...</td>\n",
       "      <td>...</td>\n",
       "    </tr>\n",
       "    <tr>\n",
       "      <th>239</th>\n",
       "      <td>29.03</td>\n",
       "      <td>5.92</td>\n",
       "      <td>Male</td>\n",
       "      <td>No</td>\n",
       "      <td>Sat</td>\n",
       "      <td>Dinner</td>\n",
       "      <td>3</td>\n",
       "    </tr>\n",
       "    <tr>\n",
       "      <th>240</th>\n",
       "      <td>27.18</td>\n",
       "      <td>2.00</td>\n",
       "      <td>Female</td>\n",
       "      <td>Yes</td>\n",
       "      <td>Sat</td>\n",
       "      <td>Dinner</td>\n",
       "      <td>2</td>\n",
       "    </tr>\n",
       "    <tr>\n",
       "      <th>241</th>\n",
       "      <td>22.67</td>\n",
       "      <td>2.00</td>\n",
       "      <td>Male</td>\n",
       "      <td>Yes</td>\n",
       "      <td>Sat</td>\n",
       "      <td>Dinner</td>\n",
       "      <td>2</td>\n",
       "    </tr>\n",
       "    <tr>\n",
       "      <th>242</th>\n",
       "      <td>17.82</td>\n",
       "      <td>1.75</td>\n",
       "      <td>Male</td>\n",
       "      <td>No</td>\n",
       "      <td>Sat</td>\n",
       "      <td>Dinner</td>\n",
       "      <td>2</td>\n",
       "    </tr>\n",
       "    <tr>\n",
       "      <th>243</th>\n",
       "      <td>18.78</td>\n",
       "      <td>3.00</td>\n",
       "      <td>Female</td>\n",
       "      <td>No</td>\n",
       "      <td>Thur</td>\n",
       "      <td>Dinner</td>\n",
       "      <td>2</td>\n",
       "    </tr>\n",
       "  </tbody>\n",
       "</table>\n",
       "<p>244 rows × 7 columns</p>\n",
       "</div>"
      ],
      "text/plain": [
       "     total_bill   tip     sex smoker   day    time  size\n",
       "0         16.99  1.01  Female     No   Sun  Dinner     2\n",
       "1         10.34  1.66    Male     No   Sun  Dinner     3\n",
       "2         21.01  3.50    Male     No   Sun  Dinner     3\n",
       "3         23.68  3.31    Male     No   Sun  Dinner     2\n",
       "4         24.59  3.61  Female     No   Sun  Dinner     4\n",
       "..          ...   ...     ...    ...   ...     ...   ...\n",
       "239       29.03  5.92    Male     No   Sat  Dinner     3\n",
       "240       27.18  2.00  Female    Yes   Sat  Dinner     2\n",
       "241       22.67  2.00    Male    Yes   Sat  Dinner     2\n",
       "242       17.82  1.75    Male     No   Sat  Dinner     2\n",
       "243       18.78  3.00  Female     No  Thur  Dinner     2\n",
       "\n",
       "[244 rows x 7 columns]"
      ]
     },
     "execution_count": 17,
     "metadata": {},
     "output_type": "execute_result"
    }
   ],
   "source": [
    "import numpy as np\n",
    "import scipy.stats as st\n",
    "import seaborn as sns\n",
    "import pylab\n",
    "import matplotlib.pyplot as plt\n",
    "\n",
    "df=sns.load_dataset('tips')\n",
    "df"
   ]
  },
  {
   "cell_type": "code",
   "execution_count": 28,
   "id": "d1b3cb1b-11cb-42d9-8e80-67452143e8c7",
   "metadata": {},
   "outputs": [
    {
     "data": {
      "image/png": "[encoded data removed]",
      "text/plain": [
       "<Figure size 1000x600 with 2 Axes>"
      ]
     },
     "metadata": {},
     "output_type": "display_data"
    }
   ],
   "source": [
    "plt.figure(figsize=(10,6))\n",
    "plt.subplot(1,2,1)\n",
    "sns.histplot(df['total_bill'], kde=True)\n",
    "plt.subplot(1,2,2)\n",
    "st.probplot(df['total_bill'],dist='norm',plot=pylab)\n",
    "plt.show()"
   ]
  },
  {
   "cell_type": "code",
   "execution_count": 29,
   "id": "2fa1fcd0-e5d2-4b31-ac54-2ed9fbcdbc0c",
   "metadata": {},
   "outputs": [],
   "source": [
    "# Q4. What are the properties of Binomial distribution? Give two examples of events where binomial distribution can be applied."
   ]
  },
  {
   "cell_type": "code",
   "execution_count": 31,
   "id": "3bff5e76-8587-49bc-8d2d-48082ecc5518",
   "metadata": {},
   "outputs": [],
   "source": [
    "#A4 It is  probability distribution model that which states that are only two possible for each trial in finite number of independent trial such as Tossing a Coin or Rolling a Dice trying to find how many times 1 occurs\n",
    "#Properties\n",
    "#There are only two possible outcomes for each trial: success or failure.\n",
    "#The trials are independent, meaning that the outcome of one trial does not affect the outcome of another trial.\n",
    "#The probability of success is constant for each trial and does not change from one trial to another.\n",
    "#The number of trials is fixed and known in advance."
   ]
  },
  {
   "cell_type": "code",
   "execution_count": 39,
   "id": "6adc1396-0bb1-44c9-9e51-5abd4b5696e2",
   "metadata": {},
   "outputs": [
    {
     "data": {
      "image/png": "[encoded data removed]",
      "text/plain": [
       "<Figure size 640x480 with 1 Axes>"
      ]
     },
     "metadata": {},
     "output_type": "display_data"
    }
   ],
   "source": [
    "#Q5. Generate a random sample of size 1000 from a binomial distribution with probability of success 0.4\n",
    "#and plot a histogram of the results using matplotlib.\n",
    "##import libraries\n",
    "import numpy as np\n",
    "import scipy.stats as st\n",
    "import pylab\n",
    "import matplotlib.pyplot as plt\n",
    "\n",
    "sample=np.random.binomial(n=1, p=0.4, size=1000)  #define binomial distribution with probability of success at 0.4 and sample size at 1000\n",
    "plt.hist(sample,bins=10)#plot histogram\n",
    "plt.show()"
   ]
  },
  {
   "cell_type": "code",
   "execution_count": 40,
   "id": "53bc2f57-6577-436d-8407-06e14e55615b",
   "metadata": {},
   "outputs": [],
   "source": [
    "#Q6. Write a Python function to calculate the cumulative distribution function of a Poisson distribution with given mean at a given point."
   ]
  },
  {
   "cell_type": "code",
   "execution_count": 50,
   "id": "7cdaff84-6ec2-4b3f-a8a5-2ece9226c225",
   "metadata": {},
   "outputs": [],
   "source": [
    "import numpy as np\n",
    "import matplotlib.pyplot as plt\n",
    "from scipy.stats import poisson\n",
    "#The cumulative distribution function (CDF) of a Poisson distribution with given mean at a given point we can use the poisson.cdf()\n",
    "mean=0\n",
    "pointvalue=0\n",
    "def calculatepos_dis(pointvalue,mean):\n",
    "    x=poisson.cdf(pointvalue, mean)\n",
    "    return x"
   ]
  },
  {
   "cell_type": "code",
   "execution_count": 52,
   "id": "8419590a-0878-42b6-aadc-455510e9d8ad",
   "metadata": {},
   "outputs": [
    {
     "name": "stdin",
     "output_type": "stream",
     "text": [
      "Enter the value of mean 5\n",
      "Enter the value of point 3\n"
     ]
    },
    {
     "name": "stdout",
     "output_type": "stream",
     "text": [
      "This means that the probability of having 3 or less events in given interval with an average of 5 events per interval is 0.9160820579686966\n"
     ]
    }
   ],
   "source": [
    "mean=int(input(\"Enter the value of mean\"))\n",
    "pointvalue=int(input(\"Enter the value of point\"))\n",
    "output=calculatepos_dis(mean,pointvalue)\n",
    "print(f\"This means that the probability of having {pointvalue} or less events in given interval with an average of {mean} events per interval is {output}\")"
   ]
  },
  {
   "cell_type": "code",
   "execution_count": null,
   "id": "e742eb70-886d-459e-9b2e-f9cb936749d9",
   "metadata": {},
   "outputs": [],
   "source": [
    "#Q7. How Binomial distribution different from Poisson distribution?\n",
    "\n",
    "#A7 Binomial distribution has two parameters: no of trials and probability of success\n",
    "#Poisson distribution has one parameter: average rate of events\n",
    "\n",
    "#Binomial distribution assumes a fixed number of trials with two possible outcomes: success or failure\n",
    "#Poisson distribution assumes an infinite number of trials with any number of possible outcomes\n"
   ]
  },
  {
   "cell_type": "code",
   "execution_count": 77,
   "id": "09df5195-ecea-4d88-ae13-9446a6c9c5b2",
   "metadata": {},
   "outputs": [
    {
     "name": "stdout",
     "output_type": "stream",
     "text": [
      "The sample mean value is 5.045\n",
      "The sample variance is 5.460975\n"
     ]
    }
   ],
   "source": [
    "#Q8. Generate a random sample of size 1000 from a Poisson distribution with mean 5 and calculate the sample mean and variance.\n",
    "\n",
    "import numpy as np\n",
    "import scipy.stats as st\n",
    "import pylab\n",
    "from scipy.stats import poisson\n",
    "\n",
    "sample=np.random.poisson(lam=5.0, size=1000)  #define poisson distribution with mean 5 and size 1000\n",
    "print(f\"The sample mean value is {sample.mean()}\")\n",
    "print(f\"The sample variance is {sample.var()}\")\n"
   ]
  },
  {
   "cell_type": "code",
   "execution_count": null,
   "id": "127470a3-f41e-4dda-b128-518c15c65676",
   "metadata": {},
   "outputs": [],
   "source": [
    "#Q9. How mean and variance are related in Binomial distribution and Poisson distribution?\n",
    "\n",
    "#9 Binomial: Mean = n * p; \n",
    "#Variance = n * p * q \n",
    "#Poisson: Mean = Variance = λ\n",
    "#Where n is the number of trials\n",
    "#p is the probability of success\n",
    "#q is 1 - p or probability of failure\n",
    "#λ is the average rate of occurrence."
   ]
  },
  {
   "cell_type": "code",
   "execution_count": null,
   "id": "6cb910f8-68bd-42fc-bcc9-90f80db688e3",
   "metadata": {},
   "outputs": [],
   "source": [
    "#Q10 In normal distribution with respect to mean position, where does the least frequent data appear? \n",
    "\n",
    "#A10 The least frequent data appears at the tails of the bell curve, which are far away from the mean. \n",
    "#The farther a value is from the mean, the less likely it is to occur"
   ]
  },
  {
   "cell_type": "code",
   "execution_count": null,
   "id": "659444a4-b272-4e6d-9bde-6cfffd932f30",
   "metadata": {},
   "outputs": [],
   "source": []
  }
 ],
 "metadata": {
  "kernelspec": {
   "display_name": "Python 3 (ipykernel)",
   "language": "python",
   "name": "python3"
  },
  "language_info": {
   "codemirror_mode": {
    "name": "ipython",
    "version": 3
   },
   "file_extension": ".py",
   "mimetype": "text/x-python",
   "name": "python",
   "nbconvert_exporter": "python",
   "pygments_lexer": "ipython3",
   "version": "3.10.8"
  }
 },
 "nbformat": 4,
 "nbformat_minor": 5
}
