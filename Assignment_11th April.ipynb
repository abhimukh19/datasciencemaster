{
 "cells": [
  {
   "cell_type": "code",
   "execution_count": 1,
   "id": "e4bdc871-4e75-4ed7-91ae-07c5805783a2",
   "metadata": {},
   "outputs": [],
   "source": [
    "#Q1. What is an ensemble technique in machine learning?"
   ]
  },
  {
   "cell_type": "markdown",
   "id": "b92b18e3-ea78-4896-b110-4a8a4afdafdd",
   "metadata": {},
   "source": [
    "Ensemble technique in machine learning is a method of combining multiple models to improve the overall performance of the model. It is defined as a multimodal system in which different classifiers and techniques are strategically combined into a predictive model"
   ]
  },
  {
   "cell_type": "code",
   "execution_count": 2,
   "id": "e32119e9-fa16-455b-8cd8-0e3e2dbcdaac",
   "metadata": {},
   "outputs": [],
   "source": [
    "#Q2. Why are ensemble techniques used in machine learning?"
   ]
  },
  {
   "cell_type": "markdown",
   "id": "0e312f8d-7862-442b-b700-e5673a2bc907",
   "metadata": {},
   "source": [
    "Ensemble methods help to reduce variance in predicted data, minimize biasness in predictive models, and classify and predict statistics from complex problems with better accuracy. It also reduces the risk of overfitting"
   ]
  },
  {
   "cell_type": "code",
   "execution_count": null,
   "id": "8185ee7f-e6b8-43c5-b995-8958349e9743",
   "metadata": {},
   "outputs": [],
   "source": [
    "#Q3. What is bagging?"
   ]
  },
  {
   "cell_type": "markdown",
   "id": "5b8537fe-3f8e-405c-a6bd-eb46bb22cda6",
   "metadata": {},
   "source": [
    "Bagging, also known as Bootstrap aggregating, is an ensemble learning technique that helps to improve the performance and accuracy of machine learning algorithms\n",
    "\n",
    "Bagging works by creating multiple subsets of data from the original dataset using bootstrapping. \n",
    "\n",
    "Each subset of data is then used to train a separate model. The final prediction is made by averaging the predictions of all models"
   ]
  },
  {
   "cell_type": "code",
   "execution_count": 3,
   "id": "cff2690a-559e-466b-bdb3-cbefe9547da8",
   "metadata": {},
   "outputs": [],
   "source": [
    "#Q4. What is boosting?"
   ]
  },
  {
   "cell_type": "markdown",
   "id": "6a30cd71-b186-4cb5-ba0d-a634a0f6b44f",
   "metadata": {},
   "source": [
    "It is a family of machine learning algorithms that convert weak learners to strong ones. Boosting works by iteratively training a sequence of weak models on repeatedly modified versions of the data \n",
    "\n",
    "Boosting helps to increase the accuracy of the model. It is used with decision trees but can also be applied to other algorithms "
   ]
  },
  {
   "cell_type": "code",
   "execution_count": 4,
   "id": "c438de34-f4d4-45ad-adaf-8bec9e68c1b9",
   "metadata": {},
   "outputs": [],
   "source": [
    "#Q5. What are the benefits of using ensemble techniques?"
   ]
  },
  {
   "cell_type": "markdown",
   "id": "5adcf7da-2385-4cd9-8207-f85ff0d3a930",
   "metadata": {},
   "source": [
    "Ensemble methods are used because they:\n",
    "\n",
    "\n",
    "Increase performance\n",
    "\n",
    "Reduce risk of overfitting\n",
    "\n",
    "Improve robustness\n",
    "\n",
    "Boost overall accuracy"
   ]
  },
  {
   "cell_type": "code",
   "execution_count": 5,
   "id": "d74dcbef-56f8-41aa-942d-a42291ad7e54",
   "metadata": {},
   "outputs": [],
   "source": [
    "#Q6. Are ensemble techniques always better than individual models?"
   ]
  },
  {
   "cell_type": "markdown",
   "id": "56399503-dc03-4a55-958f-8f2c57570770",
   "metadata": {},
   "source": [
    "In summary, ensemble techniques are not always better than individual models but they generally perform better than single models when the individual classifier is weak"
   ]
  },
  {
   "cell_type": "code",
   "execution_count": null,
   "id": "261424ae-82ef-4d35-a5bd-b1f517e27b25",
   "metadata": {},
   "outputs": [],
   "source": [
    "#Q7. How is the confidence interval calculated using bootstrap?"
   ]
  },
  {
   "cell_type": "markdown",
   "id": "a8af2de0-7300-4db7-802e-b51088716af1",
   "metadata": {},
   "source": [
    "The bootstrap method is a resampling technique that involves repeatedly drawing samples from a dataset and estimating a statistic of interest for each sample. The confidence interval is then calculated based on the distribution of these estimates"
   ]
  },
  {
   "cell_type": "code",
   "execution_count": 6,
   "id": "a8cce249-e631-4721-9163-5bf1dbef377c",
   "metadata": {},
   "outputs": [],
   "source": [
    "#Q8. How does bootstrap work and What are the steps involved in bootstrap?"
   ]
  },
  {
   "cell_type": "markdown",
   "id": "7bf1f02c-41ac-4a47-94eb-e7f0ac386e8b",
   "metadata": {},
   "source": [
    "Bootstrapping is a method of inferring results for a population from smaller random samples with replacement\n",
    "\n",
    "Steps involved are below:\n",
    "\n",
    "Step 1: Draw a sample of size N from the original dataset with replacement. This is a bootstrap sample.\n",
    "\n",
    "Step 2:Repeat step 1 N times, so that we have N bootstrap samples.\n",
    "\n",
    "Step 3: Estimate our value on each of the bootstrap samples, so that we have N estimates\n",
    "\n",
    "Step 4: Use the distribution of estimates for inference (for example, estimating the confidence intervals)."
   ]
  },
  {
   "cell_type": "code",
   "execution_count": 7,
   "id": "2640a74d-539b-488a-9806-cbedf72dee74",
   "metadata": {},
   "outputs": [],
   "source": [
    "#Q9. A researcher wants to estimate the mean height of a population of trees. They measure the height of a\n",
    "#sample of 50 trees and obtain a mean height of 15 meters and a standard deviation of 2 meters. Use\n",
    "#bootstrap to estimate the 95% confidence interval for the population mean height."
   ]
  },
  {
   "cell_type": "code",
   "execution_count": 10,
   "id": "ecfd7350-8d1f-4929-985e-cf0ac2925503",
   "metadata": {},
   "outputs": [
    {
     "name": "stdout",
     "output_type": "stream",
     "text": [
      "95% Confidence Interval: (11.124417906907816, 18.828636507902786)\n"
     ]
    }
   ],
   "source": [
    "import numpy as np\n",
    "\n",
    "\n",
    "# Sample data\n",
    "data_sample = np.random.normal(loc=15, scale=2, size=1000)\n",
    "\n",
    "#define number of samples\n",
    "\n",
    "n_boot= 5000\n",
    "\n",
    "boot_straps= np.random.choice(data_sample, size=(n_boot,len(data_sample)),replace=True)\n",
    "bootstrap_means = boot_straps.mean(axis=1)\n",
    "bootstrap_std = boot_straps.std()\n",
    "\n",
    "# Calculate confidence interval\n",
    "conf_int = (bootstrap_means.mean() - 1.96 * bootstrap_std, bootstrap_means.mean() + 1.96 * bootstrap_std)\n",
    "\n",
    "print(\"95% Confidence Interval:\", conf_int)\n",
    "\n"
   ]
  },
  {
   "cell_type": "markdown",
   "id": "3737e755-4e6e-479f-bedd-634187b683db",
   "metadata": {},
   "source": [
    "We expect that 95% of the times the height of trees will fall between (11.12 and 18.83)"
   ]
  },
  {
   "cell_type": "code",
   "execution_count": null,
   "id": "0fef1ab1-88ec-41fe-9647-b9a624f55c23",
   "metadata": {},
   "outputs": [],
   "source": []
  }
 ],
 "metadata": {
  "kernelspec": {
   "display_name": "Python 3 (ipykernel)",
   "language": "python",
   "name": "python3"
  },
  "language_info": {
   "codemirror_mode": {
    "name": "ipython",
    "version": 3
   },
   "file_extension": ".py",
   "mimetype": "text/x-python",
   "name": "python",
   "nbconvert_exporter": "python",
   "pygments_lexer": "ipython3",
   "version": "3.10.8"
  }
 },
 "nbformat": 4,
 "nbformat_minor": 5
}
