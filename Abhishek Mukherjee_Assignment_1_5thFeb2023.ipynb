{
 "cells": [
  {
   "cell_type": "markdown",
   "id": "ff78070a-d370-43e9-aae9-8ebad8489f1a",
   "metadata": {
    "tags": []
   },
   "source": [
    "## Assignment 1- Submited by Name Abhishek Mukherjee\n",
    "\n",
    "#### Q1:  What are the characteristics of the tuples? Is tuple immutable?\n",
    "\n",
    "#### A1: Tuples are ordered, can be indexed or iterated and are imutable hence its content cannot be changed unlike a list. They can also contain duplicate items unlike sets.\n",
    "\n"
   ]
  },
  {
   "cell_type": "markdown",
   "id": "6851ef58-c006-49b8-99e7-27b5ec1fbd63",
   "metadata": {},
   "source": [
    "#### Q2 What are the two tuple methods in python? Give an example of each method. Give a reason why tuples have only two in-built methods as compared to Lists\n",
    "#### A2 Tuples have two built in methods index() and count(). You can iterate through a tuple through indexing and also count a specific item appearing in the tuple through count. However since they are immutable their contents cant be changed like list hence they have only 2 built-in methods."
   ]
  },
  {
   "cell_type": "code",
   "execution_count": 13,
   "id": "7c4bf04c-f675-4ad2-a936-27f3c9786473",
   "metadata": {},
   "outputs": [
    {
     "data": {
      "text/plain": [
       "6"
      ]
     },
     "execution_count": 13,
     "metadata": {},
     "output_type": "execute_result"
    }
   ],
   "source": [
    "##Tuple examples\n",
    "Assignment_tuple = (1,3,5,7,9,10,11,12,13,4,5,6,71,3,23,3,4,5,2,1,3,1,3,4,5,1,5,3)\n",
    "##returns the numbers of times an item appears in a Tuple\n",
    "Assignment_tuple.count(3)"
   ]
  },
  {
   "cell_type": "code",
   "execution_count": 14,
   "id": "805f2d7f-c86e-43c7-907a-ba02814342ec",
   "metadata": {},
   "outputs": [
    {
     "name": "stdout",
     "output_type": "stream",
     "text": [
      "10\n",
      "12\n",
      "4\n",
      "6\n",
      "4\n",
      "2\n",
      "4\n"
     ]
    }
   ],
   "source": [
    "##iterating within a tuple\n",
    "for i in Assignment_tuple:\n",
    "    if(int(i)%2==0):\n",
    "        print(i)"
   ]
  },
  {
   "cell_type": "markdown",
   "id": "e74547b5-d14c-40d3-b9c0-5fc48d3481d5",
   "metadata": {},
   "source": [
    "#### Q3 Which collection datatypes in python do not allow duplicate items? Write a code using a set to remove duplicates from the given list.\n",
    "#### List = [1, 1, 1, 2, 1, 3, 1, 4, 2, 1, 2, 2, 2, 3, 2, 4, 3, 1, 3, 2, 3, 3, 3, 4, 4, 1, 4, 2, 4, 3, 4, 4]\n",
    "#### A3 Sets do not allow duplicate items"
   ]
  },
  {
   "cell_type": "code",
   "execution_count": 16,
   "id": "b10a0526-5e4f-435a-9f10-1a2435b8e761",
   "metadata": {},
   "outputs": [],
   "source": [
    "##removing duplicate items from the list"
   ]
  },
  {
   "cell_type": "code",
   "execution_count": 54,
   "id": "0935d5a3-5833-4d31-861e-8c2356bf8a9d",
   "metadata": {},
   "outputs": [
    {
     "data": {
      "text/plain": [
       "{1, 2, 3, 4}"
      ]
     },
     "execution_count": 54,
     "metadata": {},
     "output_type": "execute_result"
    }
   ],
   "source": [
    "List= [1, 1, 1, 2, 1, 3, 1, 4, 2, 1, 2, 2, 2, 3, 2, 4, 3, 1, 3, 2, 3, 3, 3, 4, 4, 1, 4, 2, 4, 3, 4, 4]\n",
    "set1=set(List)\n",
    "set1"
   ]
  },
  {
   "cell_type": "markdown",
   "id": "12c3d0be-55e6-4ae6-a5b2-73e33153b115",
   "metadata": {},
   "source": [
    "#### Q4. Explain the difference between the union() and update() methods for a set. Give an example of each method.\n",
    "#### A4 Union combines the two sets and update also does the same, however you cant save update results to a third set"
   ]
  },
  {
   "cell_type": "code",
   "execution_count": 58,
   "id": "fd151a67-4c9d-4cec-90a0-62894df477f2",
   "metadata": {},
   "outputs": [
    {
     "data": {
      "text/plain": [
       "{'38', 'Abhishek', 'DSM', 'age', 'class', 'name'}"
      ]
     },
     "execution_count": 58,
     "metadata": {},
     "output_type": "execute_result"
    }
   ],
   "source": [
    "### union example\n",
    "set1= {\"name\", \"class\", \"age\"}\n",
    "set2= {\"Abhishek\", \"DSM\", \"38\", \"name\"}\n",
    "set3 = set2.union(set1)\n",
    "set3"
   ]
  },
  {
   "cell_type": "code",
   "execution_count": 72,
   "id": "cf609811-abcf-44eb-aa5b-09a8d8b377fb",
   "metadata": {},
   "outputs": [
    {
     "data": {
      "text/plain": [
       "{'38', 'Abhishek', 'DSM', 'age', 'class', 'name'}"
      ]
     },
     "execution_count": 72,
     "metadata": {},
     "output_type": "execute_result"
    }
   ],
   "source": [
    "### update example\n",
    "set1= {\"name\", \"class\", \"age\"}\n",
    "set2= {\"Abhishek\", \"DSM\", \"38\", \"name\"}\n",
    "set1.update(set2)\n",
    "set1"
   ]
  },
  {
   "cell_type": "markdown",
   "id": "ea04911b-7c90-4092-829b-0a629b2acba3",
   "metadata": {},
   "source": [
    "#### Q5 What is a dictionary? Give an example. Also, state whether a dictionary is ordered or unordered.\n",
    "\n",
    "#### A5 Dictionary is collection of key value pairs, doesnt allow for duplicate items. They are generally an ordered collection.\n"
   ]
  },
  {
   "cell_type": "code",
   "execution_count": 76,
   "id": "c0f4a687-3da7-4fca-825a-2f360a047346",
   "metadata": {},
   "outputs": [
    {
     "data": {
      "text/plain": [
       "{'name': 'Abhishek', 'age': '37'}"
      ]
     },
     "execution_count": 76,
     "metadata": {},
     "output_type": "execute_result"
    }
   ],
   "source": [
    "### dictionary example\n",
    "dict1={\"name\": \"Abhishek\", \"age\": \"37\"}\n",
    "dict1"
   ]
  },
  {
   "cell_type": "markdown",
   "id": "7b131f89-61f3-4266-b1e5-434e047561bc",
   "metadata": {},
   "source": [
    "####  Q6 Can we create a nested dictionary? If so, please give an example by creating a simple one-level nested dictionary.\n",
    "#### A6 Yes we can create a nest dictionary"
   ]
  },
  {
   "cell_type": "code",
   "execution_count": 82,
   "id": "bbe22f56-6102-4f38-a5d4-583963040852",
   "metadata": {},
   "outputs": [
    {
     "data": {
      "text/plain": [
       "{'class': 'DSM',\n",
       " 'Year': '2023',\n",
       " 'Subjects': {'MachineLearning', 'PowerBi', 'Python'}}"
      ]
     },
     "execution_count": 82,
     "metadata": {},
     "output_type": "execute_result"
    }
   ],
   "source": [
    "### nested dictionary example\n",
    "dict2= {\"class\": \"DSM\", \"Year\": \"2023\",\"Subjects\":{\"Python\", \"PowerBi\", \"MachineLearning\"}}\n",
    "dict2"
   ]
  },
  {
   "cell_type": "markdown",
   "id": "8a1c6867-28d2-4296-8030-8c8ded0e84a8",
   "metadata": {},
   "source": [
    "####  Q7. Using setdefault() method, create key named topics in the given dictionary and also add the value of the key as this list ['Python', 'Machine Learning’, 'Deep Learning']\n",
    "#### dict1 = {'language' : 'Python', 'course': 'Data Science Masters'}"
   ]
  },
  {
   "cell_type": "code",
   "execution_count": 99,
   "id": "5bbc9f38-2bef-4111-9990-ad108305a7d5",
   "metadata": {},
   "outputs": [
    {
     "data": {
      "text/plain": [
       "{'language': 'Python',\n",
       " 'course': 'Data Science Masters',\n",
       " 'Chapter1': 'Machine Learning',\n",
       " 'Chapter2': 'Deep Learning'}"
      ]
     },
     "execution_count": 99,
     "metadata": {},
     "output_type": "execute_result"
    }
   ],
   "source": [
    "dict1 = {'language' : 'Python', 'course': 'Data Science Masters'}\n",
    "dict1.setdefault(\"Chapter1\", \"Machine Learning\")\n",
    "dict1.setdefault(\"Chapter2\", \"Deep Learning\")\n",
    "dict1"
   ]
  },
  {
   "cell_type": "markdown",
   "id": "553482a1-fac3-4e5c-b179-a6c7e93f752d",
   "metadata": {},
   "source": [
    "#### Q8. What are the three view objects in dictionaries? Use the three in-built methods in python to display these three view objects for the given dictionary.\n",
    "#### A8 The the three view objects are keys displays all keys, items displays all items and values and values displays all values only"
   ]
  },
  {
   "cell_type": "code",
   "execution_count": 102,
   "id": "1403feae-d695-4472-b6af-5cfd8528aed6",
   "metadata": {},
   "outputs": [
    {
     "data": {
      "text/plain": [
       "dict_keys(['Sport', 'Teams'])"
      ]
     },
     "execution_count": 102,
     "metadata": {},
     "output_type": "execute_result"
    }
   ],
   "source": [
    "### built in methods to display three view objects\n",
    "\n",
    "dict1 = {'Sport': 'Cricket' , 'Teams': ['India', 'Australia', 'England', 'South Africa', 'Sri Lanka', 'New Zealand']}\n",
    "dict1.keys()"
   ]
  },
  {
   "cell_type": "code",
   "execution_count": 103,
   "id": "a6527f21-b1b6-4769-80f8-5582cfec6f37",
   "metadata": {},
   "outputs": [
    {
     "data": {
      "text/plain": [
       "dict_values(['Cricket', ['India', 'Australia', 'England', 'South Africa', 'Sri Lanka', 'New Zealand']])"
      ]
     },
     "execution_count": 103,
     "metadata": {},
     "output_type": "execute_result"
    }
   ],
   "source": [
    "dict1 = {'Sport': 'Cricket' , 'Teams': ['India', 'Australia', 'England', 'South Africa', 'Sri Lanka', 'New Zealand']}\n",
    "dict1.values()"
   ]
  },
  {
   "cell_type": "code",
   "execution_count": 104,
   "id": "4ffba9d6-3835-414e-ac3f-9d29663bba4f",
   "metadata": {},
   "outputs": [
    {
     "data": {
      "text/plain": [
       "dict_items([('Sport', 'Cricket'), ('Teams', ['India', 'Australia', 'England', 'South Africa', 'Sri Lanka', 'New Zealand'])])"
      ]
     },
     "execution_count": 104,
     "metadata": {},
     "output_type": "execute_result"
    }
   ],
   "source": [
    "dict1 = {'Sport': 'Cricket' , 'Teams': ['India', 'Australia', 'England', 'South Africa', 'Sri Lanka', 'New Zealand']}\n",
    "dict1.items()"
   ]
  },
  {
   "cell_type": "code",
   "execution_count": null,
   "id": "5e4b6d00-3b0e-4ddc-a2db-8b01b68c1e5b",
   "metadata": {},
   "outputs": [],
   "source": []
  }
 ],
 "metadata": {
  "kernelspec": {
   "display_name": "Python 3 (ipykernel)",
   "language": "python",
   "name": "python3"
  },
  "language_info": {
   "codemirror_mode": {
    "name": "ipython",
    "version": 3
   },
   "file_extension": ".py",
   "mimetype": "text/x-python",
   "name": "python",
   "nbconvert_exporter": "python",
   "pygments_lexer": "ipython3",
   "version": "3.10.8"
  }
 },
 "nbformat": 4,
 "nbformat_minor": 5
}
