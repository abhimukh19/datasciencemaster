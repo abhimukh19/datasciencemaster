{
 "cells": [
  {
   "cell_type": "markdown",
   "id": "1164d425-6b75-4def-b51c-9bfe11e1d86c",
   "metadata": {},
   "source": [
    "### OOPS Assignment Submission by Abhishek Mukherjee"
   ]
  },
  {
   "cell_type": "markdown",
   "id": "ee95b282-87e7-4f6f-8efe-07c1aa858912",
   "metadata": {},
   "source": [
    "### Q1. Explain Class and Object with respect to Object-Oriented Programming. Give a suitable example.\n",
    "\n",
    "### A1 Class is a blueprint or template for objects. Objects are instances of a class. Objects can be numbers, strings which bound to a class. \n"
   ]
  },
  {
   "cell_type": "code",
   "execution_count": 4,
   "id": "3582b024-b9d3-4e3b-993b-40e040a034ad",
   "metadata": {},
   "outputs": [],
   "source": [
    "###examples of a class and object\n",
    "class myfirstclass():\n",
    "    pass"
   ]
  },
  {
   "cell_type": "code",
   "execution_count": 5,
   "id": "6355f473-fb52-4c26-9666-fc9f3ba233e6",
   "metadata": {},
   "outputs": [],
   "source": [
    "###Object created for a class\n",
    "myobject=myfirstclass()"
   ]
  },
  {
   "cell_type": "markdown",
   "id": "75bf31dd-9518-466f-a780-43f3b668c9ec",
   "metadata": {},
   "source": [
    "### Q2 Name the four pillars of OOPs.\n",
    "### A2 Inheritence, Polymorphism, Abstraction and Encapsulation"
   ]
  },
  {
   "cell_type": "markdown",
   "id": "5c195d0b-adfd-4b59-abd2-8ed98c2557e9",
   "metadata": {},
   "source": [
    "### Q3. Explain why the __init__() function is used. Give a suitable example.\n",
    "### A3 __init__() is considered to be a constructor.  It helps to initialize the attributes of an object when an object is created as shown in example below"
   ]
  },
  {
   "cell_type": "code",
   "execution_count": 7,
   "id": "ff0fdbda-21ad-4056-8686-555850a1fb0c",
   "metadata": {},
   "outputs": [],
   "source": [
    "###Example stating the use of __init__()\n",
    "\n",
    "class myexampleclass():\n",
    "    def __init__(Abhi,Name, ClassName, Age):\n",
    "        Abhi.Name= Name\n",
    "        Abhi.ClassName= ClassName\n",
    "        Abhi.Age=Age\n",
    "\n",
    "    def returnattributes(Abhi):\n",
    "        return(Name,ClassName,Age)\n",
    "    "
   ]
  },
  {
   "cell_type": "code",
   "execution_count": 8,
   "id": "93c028b8-454f-4bfd-bf47-225f628b99bf",
   "metadata": {},
   "outputs": [],
   "source": [
    "Abhishek=myexampleclass(\"ABC\",\"DSM\",\"19\")"
   ]
  },
  {
   "cell_type": "code",
   "execution_count": 9,
   "id": "9f8161df-148c-40d2-96ed-6665d2417768",
   "metadata": {},
   "outputs": [
    {
     "data": {
      "text/plain": [
       "'ABC'"
      ]
     },
     "execution_count": 9,
     "metadata": {},
     "output_type": "execute_result"
    }
   ],
   "source": [
    "Abhishek.Name"
   ]
  },
  {
   "cell_type": "markdown",
   "id": "d6ebb698-256e-4ef5-b95f-15fff32e0481",
   "metadata": {},
   "source": [
    "#### Q4 Why self is used in OOPs?\n",
    "#### Self is an instance of a class and also helps bind methods to a class. Alternatively can be called as the pointer to the class."
   ]
  },
  {
   "cell_type": "markdown",
   "id": "b92d1e0d-c18f-478e-8bf1-89f51674b418",
   "metadata": {
    "tags": []
   },
   "source": [
    "### Q5 What is inheritance? Give an example for each type of inheritance.\n",
    "\n",
    "#### It helps to define a child class which can inherit the methods and properties from a parent class. There are 5 types of inheritances in Python\n",
    "\n",
    "#### 1- Single Inheritance: \n",
    "#### It enables child class to inherit properties from a single parent class\n",
    "#### 2-Multiple Inheritance: \n",
    "#### Enables a child class to inherit properties, attributes, methods etc. from mutliple parent classes\n",
    "#### 3- Multilevel Inheritance\n",
    "#### Enables multiple levels of inheritence from Parent classes\n",
    "#### 4-Hierarchical Inheritance\n",
    "#### When multiple child classes can be created from a single parent class\n",
    "#### 5-Hybrid Inheritance\n",
    "#### Consists of a combination of inheritances from the other 4 together"
   ]
  },
  {
   "cell_type": "code",
   "execution_count": 11,
   "id": "238d223e-dc9e-46b3-b9d9-f7ff13a61b82",
   "metadata": {},
   "outputs": [
    {
     "name": "stdout",
     "output_type": "stream",
     "text": [
      "This function is the papa class.\n",
      "This function is the son class.\n"
     ]
    }
   ],
   "source": [
    "### Examples of Inheritances\n",
    "### Single inheritance\n",
    "class papa:\n",
    "    def papafunction(self):\n",
    "        print(\"This function is the papa class.\")\n",
    "\n",
    "class son(papa):\n",
    "    def sonfunction(self):\n",
    "        print(\"This function is the son class.\")\n",
    "testobject=son()        \n",
    "testobject.papafunction()\n",
    "testobject.sonfunction()\n"
   ]
  },
  {
   "cell_type": "code",
   "execution_count": 14,
   "id": "f0f60013-7fec-4e2e-afd6-e774bc708f79",
   "metadata": {},
   "outputs": [
    {
     "name": "stdout",
     "output_type": "stream",
     "text": [
      "This function is the papa class.\n",
      "This function is the mama class.\n",
      "This function is the son class.\n"
     ]
    }
   ],
   "source": [
    "### Examples of Inheritances\n",
    "### multiple inheritance\n",
    "class papa:\n",
    "    def papafunction(self):\n",
    "        print(\"This function is the papa class.\")\n",
    "\n",
    "class mama:\n",
    "    def mamafunction(self):\n",
    "        print(\"This function is the mama class.\")\n",
    "\n",
    "class son(papa,mama):\n",
    "    def sonfunction(self):\n",
    "        print(\"This function is the son class.\")\n",
    "testobject=son()        \n",
    "testobject.papafunction()\n",
    "testobject.mamafunction()\n",
    "testobject.sonfunction()\n"
   ]
  },
  {
   "cell_type": "code",
   "execution_count": 15,
   "id": "253aebb9-f252-4cb8-8388-d9d21832729f",
   "metadata": {},
   "outputs": [
    {
     "name": "stdout",
     "output_type": "stream",
     "text": [
      "This function is the papa class.\n",
      "This function is the mama class.\n",
      "This function is the son class.\n"
     ]
    }
   ],
   "source": [
    "### Examples of Inheritances\n",
    "### multilevel inheritance\n",
    "class papa:\n",
    "    def papafunction(self):\n",
    "        print(\"This function is the papa class.\")\n",
    "\n",
    "class mama(papa):\n",
    "    def mamafunction(self):\n",
    "        print(\"This function is the mama class.\")\n",
    "\n",
    "class son (mama):\n",
    "    def sonfunction(self):\n",
    "        print(\"This function is the son class.\")\n",
    "testobject=son()        \n",
    "testobject.papafunction()\n",
    "testobject.mamafunction()\n",
    "testobject.sonfunction()"
   ]
  },
  {
   "cell_type": "code",
   "execution_count": 17,
   "id": "d4b2f849-d7d2-4834-81b4-47d164f72983",
   "metadata": {},
   "outputs": [
    {
     "name": "stdout",
     "output_type": "stream",
     "text": [
      "This function is the papa class.\n",
      "This function is the papa class.\n"
     ]
    }
   ],
   "source": [
    "### Examples of Inheritances\n",
    "### Hieracrhical inheritance\n",
    "class papa:\n",
    "    def papafunction(self):\n",
    "        print(\"This function is the papa class.\")\n",
    "\n",
    "class mama(papa):\n",
    "    def mamafunction(self):\n",
    "        print(\"This function is the mama class.\")\n",
    "\n",
    "class son (papa):\n",
    "    def sonfunction(self):\n",
    "        print(\"This function is the son class.\")\n",
    "testobject=son()\n",
    "testobject2=mama()\n",
    "testobject.papafunction()\n",
    "testobject2.papafunction()"
   ]
  },
  {
   "cell_type": "code",
   "execution_count": null,
   "id": "d00700bf-aa2b-46ba-a26a-b5385443e504",
   "metadata": {},
   "outputs": [],
   "source": [
    "### Examples of Inheritances\n",
    "### Hybrid inheritance\n",
    "class papa:\n",
    "    def papafunction(self):\n",
    "        print(\"This function is the papa class.\")\n",
    "\n",
    "class mama(papa,son):\n",
    "    def mamafunction(self):\n",
    "        print(\"This function is the mama class.\")\n",
    "\n",
    "class son (papa):\n",
    "    def sonfunction(self):\n",
    "        print(\"This function is the son class.\")\n",
    "testobject=son()\n",
    "testobject2=mama()\n",
    "testobject.papafunction()\n",
    "testobject2.papafunction()\n",
    "testobject2.sonfunction("
   ]
  }
 ],
 "metadata": {
  "kernelspec": {
   "display_name": "Python 3 (ipykernel)",
   "language": "python",
   "name": "python3"
  },
  "language_info": {
   "codemirror_mode": {
    "name": "ipython",
    "version": 3
   },
   "file_extension": ".py",
   "mimetype": "text/x-python",
   "name": "python",
   "nbconvert_exporter": "python",
   "pygments_lexer": "ipython3",
   "version": "3.10.8"
  }
 },
 "nbformat": 4,
 "nbformat_minor": 5
}
