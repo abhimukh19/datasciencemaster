{
 "cells": [
  {
   "cell_type": "markdown",
   "id": "7253fc53-5166-47bd-b37e-e4f5363b97be",
   "metadata": {},
   "source": [
    "### Assignment for 10th february submitted by Abhishek Mukherjee"
   ]
  },
  {
   "cell_type": "code",
   "execution_count": 1,
   "id": "c8bd9253-66b7-4e4b-b947-680580e8d9b0",
   "metadata": {},
   "outputs": [],
   "source": [
    "##Q1. Which function is used to open a file? What are the different modes of opening a file? Explain each mode of file opening.\n",
    "## A1 The open() function in Python opens a file for reading or writing. \n",
    "## It requires two mandatory arguments: the first is the name or path of the file to be opened, and the second is the mode in which the file should be opened. "
   ]
  },
  {
   "cell_type": "code",
   "execution_count": null,
   "id": "135a9a21-70c5-46f6-90f8-c43ab392087b",
   "metadata": {},
   "outputs": [],
   "source": [
    "## Q2 Why close() function is used? Why is it important to close a file?\n",
    "\n",
    "## A2 The close() function in Python is used to close an opened file. It prevents errors and conflicts like trying to read or write to a file that is already closed or trying to open a file that is already opened"
   ]
  },
  {
   "cell_type": "code",
   "execution_count": 3,
   "id": "8b69db4c-ce4f-4d6f-8f94-0ecfefebcf21",
   "metadata": {},
   "outputs": [],
   "source": [
    "## Q3. Write a python program to create a text file. Write ‘I want to become a Data Scientist’ in that file. Then close the file. Open this file and read the content of the file."
   ]
  },
  {
   "cell_type": "code",
   "execution_count": 7,
   "id": "1e050cef-17ff-4b08-af5d-e89cf54f0afe",
   "metadata": {},
   "outputs": [
    {
     "name": "stdout",
     "output_type": "stream",
     "text": [
      "I want to become a Data Scientist\n"
     ]
    }
   ],
   "source": [
    "### file function create a new file and write into it\n",
    "file_var= open(\"TestFile.Txt\",\"w\")\n",
    "file_var.write(\"I want to become a Data Scientist\")\n",
    "file_var.close()\n",
    "\n",
    "###reading from a file\n",
    "\n",
    "file_var2 = open(\"TestFile.Txt\",\"r\")\n",
    "print(file_var2.read())\n",
    "file_var2.close()"
   ]
  },
  {
   "cell_type": "code",
   "execution_count": null,
   "id": "13185c17-3034-46db-bfe3-538a5b8dd2ca",
   "metadata": {},
   "outputs": [],
   "source": [
    "## Q4. Explain the following with python code: read(), readline() and readlines().\n",
    "\n",
    "## A4 Read function reads the entire file and returns the content as a string. readline reads the first line and returns the string and readlines reads multiple lines and returns a list of lines. Both Readline and Readlines have \\n as a optional parameter to output the lines in a new line while read doesnt"
   ]
  },
  {
   "cell_type": "code",
   "execution_count": 28,
   "id": "ec2867d7-cb56-4cd5-b722-c5ada0c8bbcb",
   "metadata": {},
   "outputs": [
    {
     "name": "stdout",
     "output_type": "stream",
     "text": [
      "33\n",
      "36\n",
      "Output for Read function: \n",
      "\n",
      "I want to become a Data Scientist\n",
      "I want to become a Python Developer\n",
      "Output for Readline function: \n",
      "\n",
      "I want to become a Data Scientist\n",
      "\n",
      "Output for Readlines function: \n",
      "\n",
      "['I want to become a Data Scientist\\n', 'I want to become a Python Developer']\n"
     ]
    }
   ],
   "source": [
    "## Examples with python code\n",
    "\n",
    "file_var1= open(\"TestFile.Txt\",\"w\")\n",
    "print(file_var1.write(\"I want to become a Data Scientist\"))\n",
    "file_var1.close()\n",
    "\n",
    "file_var0= open(\"TestFile.Txt\",\"a\")\n",
    "print(file_var0.write(\"\\nI want to become a Python Developer\"))\n",
    "file_var0.close()\n",
    "\n",
    "file_var2= open(\"TestFile.Txt\",\"r\")\n",
    "print(\"Output for Read function: \\n\")\n",
    "print(file_var2.read())\n",
    "file_var2.close()\n",
    "\n",
    "file_var3= open(\"TestFile.Txt\",\"r\")\n",
    "print(\"Output for Readline function: \\n\")\n",
    "print(file_var3.readline())\n",
    "file_var3.close()\n",
    "\n",
    "\n",
    "file_var4= open(\"TestFile.Txt\",\"r\")\n",
    "print(\"Output for Readlines function: \\n\")\n",
    "print(file_var4.readlines())\n",
    "file_var4.close()"
   ]
  },
  {
   "cell_type": "code",
   "execution_count": 29,
   "id": "42139c65-8b85-4d97-bd72-c2cf4fe07f87",
   "metadata": {},
   "outputs": [],
   "source": [
    "##Q5. Explain why with statement is used with open(). What is the advantage of using with statement and open() together?"
   ]
  },
  {
   "cell_type": "code",
   "execution_count": null,
   "id": "c438ac14-4bbd-439d-8dd5-6430b77fbf92",
   "metadata": {},
   "outputs": [],
   "source": [
    "##5 With statement is used to make the code look cleaner and readable but also used for exception handling. \n",
    "### The advantage of using with and open together is that it closes an open file even without using the close() function"
   ]
  },
  {
   "cell_type": "code",
   "execution_count": 30,
   "id": "eb9d634a-9eed-4ebc-910f-fda877d0b47f",
   "metadata": {},
   "outputs": [],
   "source": [
    "##Q6 Explain the write() and writelines() functions. Give a suitable example.\n",
    "\n",
    "### Write function helps with writing strings into the file. Writelines() writes a list in a file"
   ]
  },
  {
   "cell_type": "code",
   "execution_count": 52,
   "id": "3385539c-e384-4885-ace1-488536091a3d",
   "metadata": {},
   "outputs": [
    {
     "name": "stdout",
     "output_type": "stream",
     "text": [
      "33\n",
      "Output for Write function: \n",
      "\n",
      "I want to become a Data Scientist\n",
      "None\n",
      "Output for Writelines function: \n",
      "\n",
      "I want to become a Data Scientist\n",
      "ABCD\n",
      "XYZ\n"
     ]
    }
   ],
   "source": [
    "## Examples with python code\n",
    "file_var1= open(\"TestFile3.Txt\",\"w\")\n",
    "print(file_var1.write(\"I want to become a Data Scientist\"))\n",
    "file_var1.close()\n",
    "\n",
    "file_var2= open(\"TestFile3.Txt\",\"r\")\n",
    "print(\"Output for Write function: \\n\")\n",
    "print(file_var2.read())\n",
    "file_var2.close()\n",
    "\n",
    "\n",
    "file_var3= open(\"TestFile3.Txt\",\"w\")\n",
    "file_var3.writelines([\"I want to become a Data Scientist\", \"\\nABCD\",\"\\nXYZ\"])\n",
    "file_var1.close()\n",
    "\n",
    "file_var4= open(\"TestFile3.Txt\",\"r\")\n",
    "print(\"Output for Writelines function: \\n\")\n",
    "print(file_var4.read())\n",
    "file_var4.close()\n"
   ]
  },
  {
   "cell_type": "code",
   "execution_count": null,
   "id": "ed8606e5-75fa-4c6b-9aa9-bbb04344ffa2",
   "metadata": {},
   "outputs": [],
   "source": []
  }
 ],
 "metadata": {
  "kernelspec": {
   "display_name": "Python 3 (ipykernel)",
   "language": "python",
   "name": "python3"
  },
  "language_info": {
   "codemirror_mode": {
    "name": "ipython",
    "version": 3
   },
   "file_extension": ".py",
   "mimetype": "text/x-python",
   "name": "python",
   "nbconvert_exporter": "python",
   "pygments_lexer": "ipython3",
   "version": "3.10.8"
  }
 },
 "nbformat": 4,
 "nbformat_minor": 5
}
