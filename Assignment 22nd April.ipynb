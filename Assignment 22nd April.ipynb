{
 "cells": [
  {
   "cell_type": "code",
   "execution_count": 4,
   "id": "4bc6954c-f255-4a0d-84fa-859d2d010b4e",
   "metadata": {},
   "outputs": [
    {
     "data": {
      "text/plain": [
       "1.0"
      ]
     },
     "execution_count": 4,
     "metadata": {},
     "output_type": "execute_result"
    }
   ],
   "source": [
    "#Q1. Write a Python code to implement the KNN classifier algorithm on load_iris dataset in sklearn.datasets.\n",
    "\n",
    "# Import the necessary libraries and load the dataset\n",
    "import pandas as pd\n",
    "import matplotlib.pyplot as plt\n",
    "import numpy as np\n",
    "from sklearn.datasets import load_iris\n",
    "from sklearn.model_selection import train_test_split\n",
    "from sklearn.neighbors import KNeighborsClassifier\n",
    "\n",
    "input_array = load_iris()\n",
    "\n",
    "X_train,X_test, y_train, y_test=train_test_split(input_array.data, input_array.target, test_size=0.3, random_state=40)\n",
    "\n",
    "KNN=KNeighborsClassifier(n_neighbors=1)\n",
    "model=KNN.fit(X_train,y_train)\n",
    "KNN.score(X_test,y_test)"
   ]
  },
  {
   "cell_type": "markdown",
   "id": "87819f6d-9c63-438d-980d-e3c1a9ba067f",
   "metadata": {},
   "source": [
    "KNN score ranges from 0 to 1 where 1 means that all predictions are correct"
   ]
  },
  {
   "cell_type": "code",
   "execution_count": 14,
   "id": "a27a1468-55bd-4a13-9de0-94a31ad0cb40",
   "metadata": {},
   "outputs": [
    {
     "data": {
      "text/plain": [
       "62.29789473684211"
      ]
     },
     "execution_count": 14,
     "metadata": {},
     "output_type": "execute_result"
    }
   ],
   "source": [
    "#Q2. Write a Python code to implement the KNN regressor algorithm on load_boston dataset in\n",
    "#sklearn.datasets.\n",
    "\n",
    "import pandas as pd\n",
    "import matplotlib.pyplot as plt\n",
    "import numpy as np\n",
    "from sklearn.model_selection import train_test_split\n",
    "from sklearn.neighbors import KNeighborsRegressor\n",
    "from sklearn.metrics import mean_squared_error\n",
    "\n",
    "\n",
    "data_url = \"http://lib.stat.cmu.edu/datasets/boston\"\n",
    "raw_df = pd.read_csv(data_url, sep=\"\\s+\", skiprows=22, header=None)\n",
    "data = np.hstack([raw_df.values[::2, :], raw_df.values[1::2, :2]])\n",
    "target = raw_df.values[1::2, 2]\n",
    "\n",
    "X_train,X_test, y_train, y_test=train_test_split(data, target, test_size=0.3, random_state=40)\n",
    "\n",
    "KNR=KNeighborsRegressor(n_neighbors=1)\n",
    "KNR.fit(X_train,y_train)\n",
    "y_pred=KNR.predict(X_test)\n",
    "\n",
    "mean_squared_error(y_test, y_pred)"
   ]
  },
  {
   "cell_type": "markdown",
   "id": "fb0aaaef-168f-439b-a684-915be81019d4",
   "metadata": {},
   "source": [
    "\n",
    "We have a mean squared error of 62, it means that on average, our model’s predictions are off by 62 units squared\n",
    "\n",
    "Due to ethical issues, we cannot load the boston dataset from Sklearn as it has been deleted from there"
   ]
  },
  {
   "cell_type": "code",
   "execution_count": 17,
   "id": "93c7503e-63ce-4eb1-96f7-29ff978dabc6",
   "metadata": {},
   "outputs": [
    {
     "name": "stdout",
     "output_type": "stream",
     "text": [
      "The optimal number of neighbors is 13\n"
     ]
    }
   ],
   "source": [
    "#Q3. Write a Python code snippet to find the optimal value of K for the KNN classifier algorithm using\n",
    "#cross-validation on load_iris dataset in sklearn.datasets.\n",
    "from sklearn.model_selection import cross_val_score\n",
    "from sklearn.datasets import load_iris\n",
    "from sklearn.model_selection import train_test_split\n",
    "from sklearn.neighbors import KNeighborsClassifier\n",
    "\n",
    "input_array = load_iris()\n",
    "X=input_array.data\n",
    "y=input_array.target\n",
    "\n",
    "k_range = range(1, 50)\n",
    "k_scores = []\n",
    "for k in k_range:\n",
    "    knn = KNeighborsClassifier(n_neighbors=k)\n",
    "    scores = cross_val_score(knn, X, y, cv=10, scoring='accuracy')\n",
    "    k_scores.append(scores.mean())\n",
    "\n",
    "optimal_k = k_range[k_scores.index(max(k_scores))]\n",
    "print(\"The optimal number of neighbors is\", optimal_k)"
   ]
  },
  {
   "cell_type": "code",
   "execution_count": null,
   "id": "b2e06d42-9697-4938-835c-820f5c870c35",
   "metadata": {},
   "outputs": [],
   "source": [
    "#Q4. Implement the KNN regressor algorithm with feature scaling on load_boston dataset in\n",
    "#sklearn.datasets."
   ]
  },
  {
   "cell_type": "markdown",
   "id": "a7b54222-45fc-4d71-8440-3fca232464e6",
   "metadata": {},
   "source": [
    "Due to ethical issues, we cannot load the boston dataset from Sklearn as it has been deleted from there"
   ]
  },
  {
   "cell_type": "code",
   "execution_count": 21,
   "id": "71ec6c5f-3cd6-4dd4-8109-fa301e0a0d32",
   "metadata": {},
   "outputs": [
    {
     "data": {
      "text/plain": [
       "0.3707612080792414"
      ]
     },
     "execution_count": 21,
     "metadata": {},
     "output_type": "execute_result"
    }
   ],
   "source": [
    "import pandas as pd\n",
    "import matplotlib.pyplot as plt\n",
    "import numpy as np\n",
    "from sklearn.model_selection import train_test_split\n",
    "from sklearn.neighbors import KNeighborsRegressor\n",
    "from sklearn.metrics import mean_squared_error\n",
    "data_url = \"http://lib.stat.cmu.edu/datasets/boston\"\n",
    "raw_df = pd.read_csv(data_url, sep=\"\\s+\", skiprows=22, header=None)\n",
    "data = np.hstack([raw_df.values[::2, :], raw_df.values[1::2, :2]])\n",
    "target = raw_df.values[1::2, 2]\n",
    "\n",
    "X_train,X_test, y_train, y_test=train_test_split(data, target, test_size=0.3, random_state=40)\n",
    "\n",
    "Krr=KNeighborsRegressor(n_neighbors=13)\n",
    "Krr.fit(X_train,y_train)\n",
    "Krr.score(X_test,y_test)"
   ]
  },
  {
   "cell_type": "code",
   "execution_count": 23,
   "id": "ef6b3bbe-35a1-46aa-9f0a-e6ee30796d55",
   "metadata": {},
   "outputs": [
    {
     "data": {
      "text/plain": [
       "0.6786281710617503"
      ]
     },
     "execution_count": 23,
     "metadata": {},
     "output_type": "execute_result"
    }
   ],
   "source": [
    "##Applying Scalar\n",
    "from sklearn.preprocessing import StandardScaler\n",
    "scr=StandardScaler()\n",
    "X_scaled=scr.fit_transform(data)\n",
    "X_train,X_test, y_train, y_test=train_test_split(X_scaled, target, test_size=0.3, random_state=40)\n",
    "\n",
    "Krr=KNeighborsRegressor(n_neighbors=13)\n",
    "Krr.fit(X_train,y_train)\n",
    "Krr.score(X_test,y_test)"
   ]
  },
  {
   "cell_type": "markdown",
   "id": "3f81f6ce-be50-4a7a-bdc6-56ab5c1ed7c9",
   "metadata": {},
   "source": [
    "Test score improved after feature scaling and using optimal number of neighbors"
   ]
  },
  {
   "cell_type": "code",
   "execution_count": 25,
   "id": "8ae99d52-900b-4ff7-a59f-e37f133c6239",
   "metadata": {},
   "outputs": [
    {
     "data": {
      "text/plain": [
       "1.0"
      ]
     },
     "execution_count": 25,
     "metadata": {},
     "output_type": "execute_result"
    }
   ],
   "source": [
    "#Q5. Write a Python code snippet to implement the KNN classifier algorithm with weighted voting on\n",
    "#load_iris dataset in sklearn.datasets.\n",
    "\n",
    "from sklearn.datasets import load_iris\n",
    "from sklearn.model_selection import train_test_split\n",
    "from sklearn.neighbors import KNeighborsClassifier\n",
    "\n",
    "input_array = load_iris()\n",
    "\n",
    "X_train,X_test, y_train, y_test=train_test_split(input_array.data, input_array.target, test_size=0.3, random_state=40)\n",
    "\n",
    "knn=KNeighborsClassifier(n_neighbors=1)\n",
    "knn.fit(X_train,y_train)\n",
    "knn.score(X_test,y_test)"
   ]
  },
  {
   "cell_type": "code",
   "execution_count": 26,
   "id": "dd73e2c3-4340-4bfd-a935-6ff811150ca8",
   "metadata": {},
   "outputs": [
    {
     "data": {
      "text/plain": [
       "1.0"
      ]
     },
     "execution_count": 26,
     "metadata": {},
     "output_type": "execute_result"
    }
   ],
   "source": [
    "#Applying weighted voting\n",
    "\n",
    "input_array = load_iris()\n",
    "\n",
    "X_train,X_test, y_train, y_test=train_test_split(input_array.data, input_array.target, test_size=0.3, random_state=40)\n",
    "\n",
    "knn=KNeighborsClassifier(n_neighbors=1, weights='distance')\n",
    "knn.fit(X_train,y_train)\n",
    "knn.score(X_test,y_test)"
   ]
  },
  {
   "cell_type": "code",
   "execution_count": 27,
   "id": "14a86c37-9fd7-4caf-9f4d-d247c6a00105",
   "metadata": {},
   "outputs": [],
   "source": [
    "#Q6. Implement a function to standardise the features before applying KNN classifier."
   ]
  },
  {
   "cell_type": "code",
   "execution_count": 37,
   "id": "0e913b52-43a0-4b55-b3a8-d17708b51e4a",
   "metadata": {},
   "outputs": [],
   "source": [
    "from sklearn.datasets import load_iris\n",
    "from sklearn.model_selection import train_test_split\n",
    "from sklearn.neighbors import KNeighborsClassifier\n",
    "from sklearn.preprocessing import StandardScaler\n",
    "\n",
    "    \n",
    "iris = load_iris()\n",
    "X = iris.data\n",
    "y = iris.target\n",
    "\n",
    "X_train,X_test, y_train, y_test=train_test_split(X, y, test_size=0.3, random_state=40)\n",
    "\n",
    "\n",
    "def knn_classifier(X_train,X_test, y_train, y_test):\n",
    "    scaler = StandardScaler()\n",
    "    X_train = scaler.fit_transform(X_train)\n",
    "    X_test = scaler.transform(X_test)\n",
    "\n",
    "    knn = KNeighborsClassifier(n_neighbors=5, weights='distance')\n",
    "    knn.fit(X_train, y_train)\n",
    "\n",
    "    print(\"Train score:\", knn.score(X_train, y_train))\n",
    "    print(\"Test score:\", knn.score(X_test, y_test))\n",
    "\n"
   ]
  },
  {
   "cell_type": "code",
   "execution_count": 38,
   "id": "4229211f-ca3e-4fe7-ad1b-ab4c3a527cdb",
   "metadata": {},
   "outputs": [
    {
     "name": "stdout",
     "output_type": "stream",
     "text": [
      "Train score: 1.0\n",
      "Test score: 0.9777777777777777\n"
     ]
    }
   ],
   "source": [
    "knn_classifier(X_train,X_test, y_train, y_test)\n"
   ]
  },
  {
   "cell_type": "code",
   "execution_count": null,
   "id": "5e039ee8-f022-4027-8d0b-1c16d31f2e80",
   "metadata": {},
   "outputs": [],
   "source": [
    "#Q7. Write a Python function to calculate the euclidean distance between two points."
   ]
  },
  {
   "cell_type": "code",
   "execution_count": 39,
   "id": "0f7079f5-f725-41cb-b528-0da532b69bb3",
   "metadata": {},
   "outputs": [],
   "source": [
    "import math\n",
    "\n",
    "def euclidean_distance(point1, point2):\n",
    "    distance = 0\n",
    "    for i in range(len(point1)):\n",
    "        distance += (point1[i] - point2[i]) ** 2\n",
    "    return math.sqrt(distance)"
   ]
  },
  {
   "cell_type": "code",
   "execution_count": 40,
   "id": "9efe69ec-de8e-4318-8d0d-ed0ba2e1d25b",
   "metadata": {},
   "outputs": [],
   "source": [
    "#Q8. Write a Python function to calculate the manhattan distance between two points.\n",
    "\n",
    "import math\n",
    "\n",
    "def manhattan_distance(point1, point2):\n",
    "    distance = 0\n",
    "    for i in range(len(point1)):\n",
    "        distance += abs(point1[i] - point2[i])\n",
    "    return math.sqrt(distance)"
   ]
  },
  {
   "cell_type": "code",
   "execution_count": null,
   "id": "3f613474-d07d-4d0c-9f98-54169dd7fa14",
   "metadata": {},
   "outputs": [],
   "source": []
  }
 ],
 "metadata": {
  "kernelspec": {
   "display_name": "Python 3 (ipykernel)",
   "language": "python",
   "name": "python3"
  },
  "language_info": {
   "codemirror_mode": {
    "name": "ipython",
    "version": 3
   },
   "file_extension": ".py",
   "mimetype": "text/x-python",
   "name": "python",
   "nbconvert_exporter": "python",
   "pygments_lexer": "ipython3",
   "version": "3.10.8"
  }
 },
 "nbformat": 4,
 "nbformat_minor": 5
}
