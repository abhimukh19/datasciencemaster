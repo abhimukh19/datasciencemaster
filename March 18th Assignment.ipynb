{
 "cells": [
  {
   "cell_type": "code",
   "execution_count": null,
   "id": "1477ad55-dc62-4b65-b4bd-aaff9db86770",
   "metadata": {},
   "outputs": [],
   "source": [
    "#Q1. What is the Filter method in feature selection, and how does it work?"
   ]
  },
  {
   "cell_type": "markdown",
   "id": "cfbbad78-1e89-4a8c-9b9b-72b5409ff7bb",
   "metadata": {},
   "source": [
    "Filter method is one of the feature selection methods that use statistical techniques to evaluate the relationship between each input variable and the target variable\n",
    "\n",
    "\n",
    "Filter-based feature selection methods use statistical measures to score the correlation or dependence between input variables that can be filtered to choose the most relevant features\n",
    "\n",
    "Filter feature selection methods apply a statistical measure to assign a scoring to each feature. The features are ranked by the score and either selected to be kept or removed from the dataset."
   ]
  },
  {
   "cell_type": "code",
   "execution_count": null,
   "id": "1d8237a9-65f8-4d3e-a6b1-027364b1acc4",
   "metadata": {},
   "outputs": [],
   "source": [
    "#Q2. How does the Wrapper method differ from the Filter method in feature selection?\n"
   ]
  },
  {
   "cell_type": "markdown",
   "id": "5d98d8b0-a36c-4458-99ae-f9c8249b8a65",
   "metadata": {},
   "source": [
    "Wrapper methods measure the “usefulness” of features based on the classifier performance. In contrast, the filter methods pick up the intrinsic properties of the features (i.e., the “relevance” of the features) measured via univariate statistics instead of cross-validation performance\n",
    "\n",
    "The wrapper method is computationally more intensive than the filter method but can fine-tune the feature subset selection according to the specific model"
   ]
  },
  {
   "cell_type": "code",
   "execution_count": 1,
   "id": "e2bef531-5c73-4f31-9cc0-e4134ad5c422",
   "metadata": {},
   "outputs": [],
   "source": [
    "#Q3. What are some common techniques used in Embedded feature selection methods?"
   ]
  },
  {
   "cell_type": "markdown",
   "id": "e0613884-6278-444c-9e0b-16d40be4348a",
   "metadata": {},
   "source": [
    "Embedded feature selection methods are a combination of filter and wrapper methods. They are implemented by algorithms that have their own built-in feature selection methods. Some of the most popular examples of these methods are LASSO and RIDGE regression which have inbuilt penalization functions to reduce overfitting"
   ]
  },
  {
   "cell_type": "code",
   "execution_count": null,
   "id": "6d58a4b5-2f23-4a49-b942-9c9246f39b78",
   "metadata": {},
   "outputs": [],
   "source": [
    "#Q4. What are some drawbacks of using the Filter method for feature selection?"
   ]
  },
  {
   "cell_type": "markdown",
   "id": "ce07b871-6726-47ab-b953-6b3acce284a8",
   "metadata": {},
   "source": [
    "Filter feature selection methods have some disadvantages. For example, they do not take into account the interaction of features between them between them\n",
    "\n",
    "In Univariate Filter Method, each feature is looked independently according to particular criteria, such as fisher score, mutual information and variance. Meanwhile, there is an important drawback."
   ]
  },
  {
   "cell_type": "code",
   "execution_count": 2,
   "id": "41eaf17e-0596-4346-b995-e35a5ca952c5",
   "metadata": {},
   "outputs": [],
   "source": [
    "#Q5. In which situations would you prefer using the Filter method over the Wrapper method for feature\n",
    "#selection?"
   ]
  },
  {
   "cell_type": "markdown",
   "id": "52546859-c235-4652-8305-ef32d6a5594f",
   "metadata": {},
   "source": [
    "Filter methods are generally used as a preprocessing step. The selection of features is independent of any machine learning algorithms\n",
    "\n",
    "Wrapper methods, on the other hand, select features iteratively based on the estimator used in the learning algorithm"
   ]
  },
  {
   "cell_type": "code",
   "execution_count": 3,
   "id": "7f5eb36c-1cf7-44fa-933b-f3bb69c4d834",
   "metadata": {},
   "outputs": [],
   "source": [
    "#Q6. In a telecom company, you are working on a project to develop a predictive model for customer churn.\n",
    "#You are unsure of which features to include in the model because the dataset contains several different\n",
    "#ones. Describe how you would choose the most pertinent attributes for the model using the Filter Method."
   ]
  },
  {
   "cell_type": "markdown",
   "id": "e9ec2b29-b923-4731-949e-50296156b02e",
   "metadata": {},
   "source": [
    "\n",
    "When we use the Filter Based Feature Selection component, we provide a dataset and identify the column that contains the label or dependent variable. You then specify a single method to use in measuring feature importance\n",
    "\n",
    "In order to choose the most pertinent attributes for the model using Filter Method, you can follow these steps:\n",
    "\n",
    "1-Calculate correlation coefficients between each independent variable and dependent variable\n",
    "\n",
    "2-Select independent variables with highest correlation coefficients\n",
    "\n",
    "3-Check for multicollinearity between independent variables\n",
    "\n",
    "4- Remove independent variables with high multicollinearity."
   ]
  },
  {
   "cell_type": "code",
   "execution_count": 4,
   "id": "e7cb49b3-c347-476b-8c64-50c2cb5ffe08",
   "metadata": {},
   "outputs": [],
   "source": [
    "#Q7. You are working on a project to predict the outcome of a soccer match. You have a large dataset with\n",
    "#many features, including player statistics and team rankings. Explain how you would use the Embedded\n",
    "#method to select the most relevant features for the model."
   ]
  },
  {
   "cell_type": "markdown",
   "id": "5a58df74-e0c7-4394-9f01-92aae8b90708",
   "metadata": {},
   "source": [
    "To select the most relevant features for the soccer match prediction model, we can use an embedded method. \n",
    "\n",
    "In this method, feature selection process is embedded in the learning or the model building phase. It is less computationally expensive than wrapper method and less prone to overfitting "
   ]
  },
  {
   "cell_type": "markdown",
   "id": "7a56b4c9-bcdf-41c5-ab33-ec03efd9f734",
   "metadata": {},
   "source": [
    "We can use a dataset with player statistics and team rankings to help us understand the odds of winning or losing forthcoming matches \n",
    "\n",
    "We can also use external metrics within the model such as qualitative rankings from experts, historical team rankings that go back decades, and even the exact players that are on the field during each game"
   ]
  },
  {
   "cell_type": "code",
   "execution_count": 5,
   "id": "666a5c25-a2fc-42f7-8ad1-e128aeacf7f6",
   "metadata": {},
   "outputs": [],
   "source": [
    "#Q8. You are working on a project to predict the price of a house based on its features, such as size, location,\n",
    "#and age. You have a limited number of features, and you want to ensure that you select the most important\n",
    "#ones for the model. Explain how you would use the Wrapper method to select the best set of features for the\n",
    "#predictor."
   ]
  },
  {
   "cell_type": "markdown",
   "id": "1f812602-34b1-4d52-b568-d5d74302f8a7",
   "metadata": {},
   "source": [
    "Wrapper method is a feature selection technique that uses a specific machine learning algorithm to evaluate all possible combinations of features against the evaluation criterion. \n",
    "\n",
    "It follows a greedy search approach by evaluating all the possible combinations of features against the evaluation criterion and selecting the combination that produces the best result for a specific machine learning algorithm\n",
    "\n",
    "##Steps:\n",
    "\n",
    "In wrapper methods, we start with a null model and then start fitting the model with each individual feature one at a time and select the feature with the minimum p-value. \n",
    "\n",
    "We then fit a model with two features by trying combinations of the earlier selected feature with all other remaining features. This process is repeated until no improvement is observed in the evaluation criterion\n"
   ]
  },
  {
   "cell_type": "code",
   "execution_count": null,
   "id": "59808160-7ce4-4988-96c9-b0d709121166",
   "metadata": {},
   "outputs": [],
   "source": []
  }
 ],
 "metadata": {
  "kernelspec": {
   "display_name": "Python 3 (ipykernel)",
   "language": "python",
   "name": "python3"
  },
  "language_info": {
   "codemirror_mode": {
    "name": "ipython",
    "version": 3
   },
   "file_extension": ".py",
   "mimetype": "text/x-python",
   "name": "python",
   "nbconvert_exporter": "python",
   "pygments_lexer": "ipython3",
   "version": "3.10.8"
  }
 },
 "nbformat": 4,
 "nbformat_minor": 5
}
