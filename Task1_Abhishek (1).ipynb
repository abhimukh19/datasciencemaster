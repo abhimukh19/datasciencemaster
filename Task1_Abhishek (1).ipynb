{
 "cells": [
  {
   "cell_type": "markdown",
   "id": "fc1bfb4e-f0c6-4175-8fde-bc4e2e741463",
   "metadata": {},
   "source": [
    "#### Task 1 submitted by Abhishek Mukherjee"
   ]
  },
  {
   "cell_type": "markdown",
   "id": "5d4d9bf6-b06f-4899-856c-a0a950e280a6",
   "metadata": {},
   "source": [
    "#### Q1. Create a function which will take a list as an argument and return the product of all the numbers after creating a flat list.Use the below-given list as an argument for your function. list1 = [1,2,3,4, [44,55,66, True], False, (34,56,78,89,34), {1,2,3,3,2,1}, {1:34, \"key2\": [55, 67, 78, 89], 4: (45,22, 61, 34)}, [56, 'data science'], 'Machine Learning']Note: you must extract numeric keys and values of the dictionary also."
   ]
  },
  {
   "cell_type": "code",
   "execution_count": 81,
   "id": "4a11a249-8bed-4efc-b7e0-e4104d7d827e",
   "metadata": {},
   "outputs": [
    {
     "name": "stdout",
     "output_type": "stream",
     "text": [
      "The output List is :  [1, 2, 3, 4, 44, 55, 66, 34, 56, 78, 89, 34, 1, 2, 3, 1, 4, 34, 55, 67, 78, 89, 45, 22, 61, 34, 56]\n",
      "The product of the list is : 4134711838987085478833841242112000\n"
     ]
    }
   ],
   "source": [
    "#### Extract Numeric values of a list and find the product of them all\n",
    "###[1,2,3,4, [44,55,66, True], False, (34,56,78,89,34), {1,2,3,3,2,1}, {1:34, \"key2\": [55, 67, 78, 89], 4: (45,22, 61, 34)}, [56, 'data science'], \n",
    "##'Machine Learning'\n",
    "### ====================================================================================================================================\n",
    "\n",
    "from functools import reduce\n",
    "##define the function to create the flat list\n",
    "def createflatlist(list1):\n",
    "    Mylist =[]\n",
    "    ##for each element in the input list identify whether type : list, set, or tuple or int\n",
    "    for element1 in list1:\n",
    "            if type(element1)==list or type(element1)==tuple or type(element1)==set:\n",
    "     ##for each element in the list/tuple/set identify integer\n",
    "                for x in element1:\n",
    "                    if type(x)==int:\n",
    "                        Mylist.append(x)            \n",
    "    ##for each element in the dictionary keys and values identify integer\n",
    "            elif type(element1)==dict:\n",
    "                for iteratorkey in element1.keys():\n",
    "                    if type(iteratorkey)==int:\n",
    "                        Mylist.append(iteratorkey)\n",
    "                for iteratorval in element1.values():\n",
    "                    if type(iteratorval)==int:\n",
    "                        Mylist.append(iteratorval)   \n",
    "    ##for each element in the dictionary values identify integer\n",
    "                    if type(iteratorval)==tuple or type(iteratorval)==list:\n",
    "                        for inneriteratorval in iteratorval:\n",
    "                            if type(inneriteratorval)==int:\n",
    "                                Mylist.append(inneriteratorval)   \n",
    "            else:\n",
    "                if type(element1)== int:\n",
    "                        Mylist.append(element1)   \n",
    "\n",
    "                \n",
    "    return Mylist\n",
    "### ====================================================================================================================================\n",
    "##inputlist\n",
    "list1 = [1,2,3,4, [44,55,66, True], False, (34,56,78,89,34), {1,2,3,3,2,1}, {1:34, \"key2\": [55, 67, 78, 89], 4: (45,22, 61, 34)}, [56, 'data science'], 'Machine Learning']\n",
    "### ====================================================================================================================================\n",
    "##define the output list to further do mathematical operations or simply print the output list\n",
    "Myoutputlist=list(createflatlist(list1))\n",
    "print(\"The output List is : \",Myoutputlist)\n",
    "### ====================================================================================================================================\n",
    "##use reduce and lambda functions to find the product of the values in the output list\n",
    "productoflist= reduce(lambda a,b:a*b,Myoutputlist)\n",
    "print(\"The product of the list is :\",productoflist)"
   ]
  },
  {
   "cell_type": "markdown",
   "id": "827886fb-f26c-4d4b-872c-b8bd394959af",
   "metadata": {},
   "source": [
    "### Q2. Write a python program for encrypting a message sent to you by your friend. The logic of encryption should be such that, for a the output should be z. For b, the output should be y. For c, the output should be x respectively. Also, the whitespace should be replaced with a dollar sign. Keep the punctuation marks unchanged. Input Sentence: I want to become a Data Scientist. Encrypt the above input sentence using the program you just created. Note: Convert the given input sentence into lowercase before encrypting. The final output should belowercase."
   ]
  },
  {
   "cell_type": "code",
   "execution_count": 87,
   "id": "f9368c66-02bb-407e-bda1-66c41c62b26a",
   "metadata": {},
   "outputs": [
    {
     "name": "stdout",
     "output_type": "stream",
     "text": [
      "I$wznt$to$yexome$z$Dztz$Sxientist!\n"
     ]
    }
   ],
   "source": [
    "import string \n",
    "def encryptorfun(inputstr):\n",
    "##checking for individual characters and simply replacing them with the encryption keys\n",
    "    for val in inputstr.lower():\n",
    "        if val==\"a\":\n",
    "            inputstr=inputstr.replace(\"a\",\"z\")\n",
    "        elif val==\"b\":\n",
    "            inputstr=inputstr.replace(\"b\",\"y\")\n",
    "        elif val==\"c\":\n",
    "            inputstr=inputstr.replace(\"c\",\"x\")\n",
    "        elif val==\" \":\n",
    "            inputstr=inputstr.replace(\" \",\"$\")\n",
    "##using string.punctuation to identify punctuation marks in the sentence\n",
    "        elif val==string.punctuation:\n",
    "            inputstr=inputstr\n",
    "        \n",
    "    return inputstr\n",
    "### ====================================================================================================================================\n",
    "##input and output strings\n",
    "outputstr=encryptorfun(\"I want to become a Data Scientist!\")\n",
    "print(outputstr)"
   ]
  },
  {
   "cell_type": "code",
   "execution_count": null,
   "id": "b9bf1f45-d9b5-49f2-853f-a32d0e0a8b38",
   "metadata": {},
   "outputs": [],
   "source": []
  }
 ],
 "metadata": {
  "kernelspec": {
   "display_name": "Python 3 (ipykernel)",
   "language": "python",
   "name": "python3"
  },
  "language_info": {
   "codemirror_mode": {
    "name": "ipython",
    "version": 3
   },
   "file_extension": ".py",
   "mimetype": "text/x-python",
   "name": "python",
   "nbconvert_exporter": "python",
   "pygments_lexer": "ipython3",
   "version": "3.10.8"
  }
 },
 "nbformat": 4,
 "nbformat_minor": 5
}
