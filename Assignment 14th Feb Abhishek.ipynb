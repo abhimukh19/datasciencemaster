{
 "cells": [
  {
   "cell_type": "markdown",
   "id": "1b162a72-551d-459c-8fd1-3c9666b4d2bd",
   "metadata": {},
   "source": [
    "### Assignment Submission 14th February, Submitted by Abhishek Mukherjee"
   ]
  },
  {
   "cell_type": "code",
   "execution_count": 1,
   "id": "67384ad8-a881-41f0-a7a1-a787614145aa",
   "metadata": {},
   "outputs": [],
   "source": [
    "##Q1 What is multithreading in python? hy is it used? Name the module used to handle threads in python"
   ]
  },
  {
   "cell_type": "code",
   "execution_count": 2,
   "id": "979ae0fa-ca46-4cc4-a6a9-a35c1bdfec7a",
   "metadata": {},
   "outputs": [],
   "source": [
    "## A1 It is a way of multitasking in a python program for example to execute a function multiple times with different inputs in parallel. The module used to handle threads in python is called \"threading\""
   ]
  },
  {
   "cell_type": "code",
   "execution_count": null,
   "id": "a0c928bd-45a7-463f-a794-d892af30a86d",
   "metadata": {},
   "outputs": [],
   "source": [
    "### Q2 . Why threading module used? Write the use of the following functions "
   ]
  },
  {
   "cell_type": "code",
   "execution_count": 25,
   "id": "732b822a-dfe3-4193-ba77-3a838596694d",
   "metadata": {},
   "outputs": [
    {
     "name": "stdout",
     "output_type": "stream",
     "text": [
      "Active thread count 8\n"
     ]
    }
   ],
   "source": [
    "### activecount() returns the number of active threads\n",
    "\n",
    "import threading\n",
    "\n",
    "class myfirstthread(threading.Thread):\n",
    "    def __init__(self):\n",
    "        threading.Thread.__init__(self)\n",
    "    print (\"Active thread count \"+str(threading.active_count()))\n",
    "    \n",
    "\n",
    "        \n",
    "thread_var1=myfirstthread()\n",
    "thread_var2=myfirstthread()\n",
    "\n",
    "thread_var1.start()\n",
    "thread_var2.start()"
   ]
  },
  {
   "cell_type": "code",
   "execution_count": 29,
   "id": "30cb2846-c636-4983-8d65-512b17787e5c",
   "metadata": {},
   "outputs": [
    {
     "name": "stdout",
     "output_type": "stream",
     "text": [
      "Current thread is  <_MainThread(MainThread, started 139816863119168)>\n"
     ]
    }
   ],
   "source": [
    "### current_thread() returns current thread object\n",
    "\n",
    "import threading\n",
    "\n",
    "class myfirstthread(threading.Thread):\n",
    "    def __init__(self):\n",
    "        threading.Thread.__init__(self)\n",
    "    print (\"Current thread is  \"+str(threading.current_thread()))\n",
    "    \n",
    "\n",
    "        \n",
    "thread_var1=myfirstthread()\n",
    "thread_var2=myfirstthread()\n",
    "\n",
    "thread_var1.start()\n",
    "thread_var2.start()"
   ]
  },
  {
   "cell_type": "code",
   "execution_count": 28,
   "id": "e0247d0a-d6a2-4ad5-aabb-139ff8ba9235",
   "metadata": {},
   "outputs": [
    {
     "name": "stdout",
     "output_type": "stream",
     "text": [
      "Active thread objects are [<_MainThread(MainThread, started 139816863119168)>, <Thread(IOPub, started daemon 139816792589888)>, <Heartbeat(Heartbeat, started daemon 139816784197184)>, <Thread(Thread-3 (_watch_pipe_fd), started daemon 139816553412160)>, <Thread(Thread-4 (_watch_pipe_fd), started daemon 139816545019456)>, <ControlThread(Control, started daemon 139816536626752)>, <HistorySavingThread(IPythonHistorySavingThread, started 139816528234048)>, <ParentPollerUnix(Thread-2, started daemon 139816519841344)>]\n"
     ]
    }
   ],
   "source": [
    "### enumerate() returns in a list of all alive threads\n",
    "import threading\n",
    "\n",
    "class myfirstthread(threading.Thread):\n",
    "    def __init__(self):\n",
    "        threading.Thread.__init__(self)\n",
    "    print (\"Active thread objects are \"+str(threading.enumerate()))\n",
    "    \n",
    "\n",
    "        \n",
    "thread_var1=myfirstthread()\n",
    "thread_var2=myfirstthread()\n",
    "\n",
    "thread_var1.start()\n",
    "thread_var2.start()"
   ]
  },
  {
   "cell_type": "code",
   "execution_count": 30,
   "id": "7f6d39cb-a8a1-4b5e-a318-0d751d145135",
   "metadata": {},
   "outputs": [],
   "source": [
    "## Q3 Explain following functions\n",
    "### A3\n",
    "### run() function is an in built method is used to represent a thread’s activity. It calls the method expressed as the target argument in the Thread object \n",
    "### start() function is also an inbuilt method which starts a new thread object\n",
    "### join()  this method can be used to wait for a thread to finish\n",
    "### IsAlive() this method is used to check if a thread is still active and returns true of a thread is alive\n"
   ]
  },
  {
   "cell_type": "code",
   "execution_count": 31,
   "id": "6b0e9f68-58af-4261-a4f2-8baef762525b",
   "metadata": {},
   "outputs": [],
   "source": [
    "## Q4 Write a python program to create two threads. Thread one must print the list of squares and thread two must print the list of cubes"
   ]
  },
  {
   "cell_type": "code",
   "execution_count": 99,
   "id": "5456427e-d867-451d-81e3-40f5ec040318",
   "metadata": {},
   "outputs": [
    {
     "name": "stdout",
     "output_type": "stream",
     "text": [
      "[1, 4, 16, 25, 64]\n",
      "[1, 8, 64, 125, 512]\n",
      "Done!\n"
     ]
    }
   ],
   "source": [
    "### python program for two threads which find square and cube of a list\n",
    "import threading\n",
    "listout1=[]\n",
    "listout2=[]\n",
    "num1=0\n",
    "num2=0\n",
    "listin=input(\n",
    "        # define function print square of a number\n",
    "def printsqr(inputvar):\n",
    "        num1=inputvar*inputvar\n",
    "        listout1.append(num1)\n",
    "        # define function print cube of a number\n",
    "def printcub(inputvar):\n",
    "        num2=inputvar*inputvar*inputvar\n",
    "        listout2.append(num2)\n",
    "\n",
    "if __name__ ==\"__main__\":\n",
    "    for item in listin:\n",
    "        thread1 = threading.Thread(target=printsqr, args=(item,))\n",
    "        thread2 = threading.Thread(target=printcub, args=(item,))\n",
    "        # starting thread 1\n",
    "        thread1.start()\n",
    "        # starting thread 2\n",
    "        thread2.start()\n",
    "\n",
    "        # wait until thread 1 is completely executed\n",
    "        thread1.join()\n",
    "        # wait until thread 2 is completely executed\n",
    "        thread2.join()\n",
    " \n",
    "    # both threads completely executed\n",
    "    print(listout1)\n",
    "    print(listout2)\n",
    "    print(\"Done!\")\n",
    "    "
   ]
  },
  {
   "cell_type": "code",
   "execution_count": 42,
   "id": "7665e00b-d230-4cf2-9048-6dbb55da6407",
   "metadata": {},
   "outputs": [],
   "source": [
    "###Q5 State advantages and disadvantages of multithreading\n",
    "\n",
    "### A5 Advantages\n",
    "## 1-Improved performance and concurrency\n",
    "## 2- An application can executed multiple times in parallel to each other\n",
    "## Disdvantages\n",
    "### 1- Increased overhead of creating ana management of  threads\n",
    "### 2- Potential for deadlock, starvation, race conditions, and other concurrency issues"
   ]
  },
  {
   "cell_type": "code",
   "execution_count": 43,
   "id": "af689e1d-9a07-413d-ba76-6b439ada8091",
   "metadata": {},
   "outputs": [],
   "source": [
    "### Q6 Explain deadlocks and race conditions\n",
    "### A6 A race condition occurs when two threads access a shared variable at the same time, and the threads race other to see which can write the last value on a shared variable\n",
    "### A deadlock occurs when two threads are waiting for each other to release a lock, and none of them can proceed further to perform a read or write operation on a resource"
   ]
  },
  {
   "cell_type": "code",
   "execution_count": null,
   "id": "80283e10-0698-4ae9-b54b-eed3ca14b2c3",
   "metadata": {},
   "outputs": [],
   "source": []
  }
 ],
 "metadata": {
  "kernelspec": {
   "display_name": "Python 3 (ipykernel)",
   "language": "python",
   "name": "python3"
  },
  "language_info": {
   "codemirror_mode": {
    "name": "ipython",
    "version": 3
   },
   "file_extension": ".py",
   "mimetype": "text/x-python",
   "name": "python",
   "nbconvert_exporter": "python",
   "pygments_lexer": "ipython3",
   "version": "3.10.8"
  }
 },
 "nbformat": 4,
 "nbformat_minor": 5
}
