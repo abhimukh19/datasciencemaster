{
 "cells": [
  {
   "cell_type": "code",
   "execution_count": 8,
   "id": "1e487aab-276b-4913-9bb0-bece0feae931",
   "metadata": {},
   "outputs": [
    {
     "name": "stdout",
     "output_type": "stream",
     "text": [
      "The list_ data type is: <class 'list'>\n",
      "The array_list data type is: <class 'numpy.ndarray'>\n",
      "list is a built-in data type which is also a mutable sequence of objects while Array is not a built-in data type in Python, but comes with NumPy package to create an array\n",
      "Arrays are multi-dimentional as well including 2D, 3D, while lists are similar to one dimentional flattened array\n"
     ]
    }
   ],
   "source": [
    "####Q1. Is there any difference in the data type of variables list_ and array_list? If there is then write a code\n",
    "##to print the data types of both the variables.\n",
    "\n",
    "##Importing numpy\n",
    "import numpy as np\n",
    "list_ = [ \"1\" , \"2\" , \"3\" , \"4\" , \"5\" ]\n",
    "\n",
    "print(f\"The list_ data type is: {type(list_)}\")\n",
    "\n",
    "array_list = np.array(object = list_)\n",
    "\n",
    "print(f\"The array_list data type is: {type(array_list)}\")\n",
    "\n",
    "\n",
    "print(\"list is a built-in data type which is also a mutable sequence of objects while Array is not a built-in data type in Python, but comes with NumPy package to create an array\")\n",
    "print(\"Arrays are multi-dimentional as well including 2D, 3D, while lists are similar to one dimentional flattened array\")"
   ]
  },
  {
   "cell_type": "code",
   "execution_count": 12,
   "id": "29ef6445-0cfa-4cc0-8733-aea7c03eea70",
   "metadata": {},
   "outputs": [
    {
     "name": "stdout",
     "output_type": "stream",
     "text": [
      "The data types of elements in list_ are:\n",
      "The element 1 has datatype = <class 'str'>\n",
      "The element 2 has datatype = <class 'str'>\n",
      "The element 3 has datatype = <class 'str'>\n",
      "The element 4 has datatype = <class 'str'>\n",
      "The element 5 has datatype = <class 'str'>\n",
      "\n",
      "The data types of elements in array_list are:\n",
      "The element 1 has datatype = <class 'numpy.str_'>\n",
      "The element 2 has datatype = <class 'numpy.str_'>\n",
      "The element 3 has datatype = <class 'numpy.str_'>\n",
      "The element 4 has datatype = <class 'numpy.str_'>\n",
      "The element 5 has datatype = <class 'numpy.str_'>\n"
     ]
    }
   ],
   "source": [
    "##Q2. Write a code to print the data type of each and every element of both the variables list_ and\n",
    "##arra_list.\n",
    "\n",
    "##Importing numpy\n",
    "import numpy as np\n",
    "list_ = [ \"1\" , \"2\" , \"3\" , \"4\" , \"5\" ]\n",
    "\n",
    "array_list = np.array(object = list_)\n",
    "\n",
    "##printing data type of each element in the variable list_\n",
    "print(\"The data types of elements in list_ are:\")\n",
    "\n",
    "for i in  list_:\n",
    "    print(f\"The element {(i)} has datatype = {type(i)}\")\n",
    "    \n",
    "##printing data type of each element in the variable arra_list\n",
    "\n",
    "print(\"\\nThe data types of elements in array_list are:\")\n",
    "\n",
    "for i in  array_list:\n",
    "    print(f\"The element {(i)} has datatype = {type(i)}\")\n",
    "\n"
   ]
  },
  {
   "cell_type": "code",
   "execution_count": 17,
   "id": "2c705833-495e-4a67-a107-bc66bf93c9c1",
   "metadata": {},
   "outputs": [
    {
     "name": "stdout",
     "output_type": "stream",
     "text": [
      "The data types of elements in list_ are:\n",
      "The element 1 has datatype = <class 'str'>\n",
      "The element 2 has datatype = <class 'str'>\n",
      "The element 3 has datatype = <class 'str'>\n",
      "The element 4 has datatype = <class 'str'>\n",
      "The element 5 has datatype = <class 'str'>\n",
      "\n",
      "The data types of elements in array_list are:\n",
      "The element 1 has datatype = <class 'numpy.int64'>\n",
      "The element 2 has datatype = <class 'numpy.int64'>\n",
      "The element 3 has datatype = <class 'numpy.int64'>\n",
      "The element 4 has datatype = <class 'numpy.int64'>\n",
      "The element 5 has datatype = <class 'numpy.int64'>\n",
      "\n",
      "The elements in the array list have changed int64 from str\n"
     ]
    }
   ],
   "source": [
    "##Q3. Considering the following changes in the variable, array_list: array_list = np.array(object = list_, dtype = int)\n",
    "##Will there be any difference in the data type of the elements present in both the variables, list_ and\n",
    "##arra_list? If so then print the data types of each and every element present in both the variables, list_\n",
    "##and arra_list.\n",
    "\n",
    "##Importing numpy\n",
    "import numpy as np\n",
    "list_ = [ \"1\" , \"2\" , \"3\" , \"4\" , \"5\" ]\n",
    "\n",
    "array_list = np.array(object = list_, dtype = int)\n",
    "\n",
    "##printing data type of each element in the variable list_\n",
    "print(\"The data types of elements in list_ are:\")\n",
    "\n",
    "for i in  list_:\n",
    "    print(f\"The element {(i)} has datatype = {type(i)}\")\n",
    "    \n",
    "##printing data type of each element in the variable arra_list\n",
    "\n",
    "print(\"\\nThe data types of elements in array_list are:\")\n",
    "\n",
    "for i in  array_list:\n",
    "    print(f\"The element {(i)} has datatype = {type(i)}\")\n",
    "\n",
    "print(\"\\nThe elements in the array list have changed int64 from str\")\n"
   ]
  },
  {
   "cell_type": "code",
   "execution_count": 23,
   "id": "8bf5c26c-befe-4623-9594-e8f2eede06c9",
   "metadata": {},
   "outputs": [
    {
     "name": "stdout",
     "output_type": "stream",
     "text": [
      "The dimensions of the array are (2, 3)\n",
      "The size of the array is 6\n",
      "The array has 2 rows and 3 columns and 6 elements in it\n",
      "[[1 2 3]\n",
      " [4 5 6]]\n"
     ]
    }
   ],
   "source": [
    "##Consider the below code to answer further questions:\n",
    "##Q4. Write a code to find the following characteristics of variable, num_array:\n",
    "##(i) shape\n",
    "##(ii) size\n",
    "import numpy as np\n",
    "num_list = [ [ 1 , 2 , 3 ] , [ 4 , 5 , 6 ] ]\n",
    "num_array = np.array(object = num_list)\n",
    "\n",
    "print(f\"The dimensions of the array are {num_array.shape}\")\n",
    "print(f\"The size of the array is {num_array.size}\")\n",
    "print(\"The array has 2 rows and 3 columns and 6 elements in it\")\n",
    "print(num_array)"
   ]
  },
  {
   "cell_type": "code",
   "execution_count": 24,
   "id": "084bd3a6-3927-4b37-a06d-bd68e312a22b",
   "metadata": {},
   "outputs": [
    {
     "name": "stdout",
     "output_type": "stream",
     "text": [
      "[[0. 0. 0.]\n",
      " [0. 0. 0.]\n",
      " [0. 0. 0.]]\n"
     ]
    }
   ],
   "source": [
    "##Q5. Write a code to create numpy array of 3*3 matrix containing zeros only, using a numpy array\n",
    "##creation function.\n",
    "\n",
    "# Importing numpy module\n",
    "import numpy as np\n",
    "\n",
    "# Creating a 3*3 matrix of zeros using np.zeros function\n",
    "matrix = np.zeros((3, 3))\n",
    "\n",
    "# Printing the matrix\n",
    "print(matrix)"
   ]
  },
  {
   "cell_type": "code",
   "execution_count": 25,
   "id": "aba20def-b098-438f-ad23-9986581ce5b6",
   "metadata": {},
   "outputs": [
    {
     "name": "stdout",
     "output_type": "stream",
     "text": [
      "[[1. 0. 0. 0. 0.]\n",
      " [0. 1. 0. 0. 0.]\n",
      " [0. 0. 1. 0. 0.]\n",
      " [0. 0. 0. 1. 0.]\n",
      " [0. 0. 0. 0. 1.]]\n"
     ]
    }
   ],
   "source": [
    "##Q6. Create an identity matrix of shape (5,5) using numpy functions?\n",
    "\n",
    "# Importing numpy module\n",
    "import numpy as np\n",
    "\n",
    "# Creating an identity matrix of shape (5,5) using np.eye function\n",
    "matrix = np.eye(5)\n",
    "\n",
    "# Printing the matrix\n",
    "print(matrix)"
   ]
  },
  {
   "cell_type": "code",
   "execution_count": null,
   "id": "5b38ba67-935c-4a2a-a25b-01453cead2db",
   "metadata": {},
   "outputs": [],
   "source": []
  }
 ],
 "metadata": {
  "kernelspec": {
   "display_name": "Python 3 (ipykernel)",
   "language": "python",
   "name": "python3"
  },
  "language_info": {
   "codemirror_mode": {
    "name": "ipython",
    "version": 3
   },
   "file_extension": ".py",
   "mimetype": "text/x-python",
   "name": "python",
   "nbconvert_exporter": "python",
   "pygments_lexer": "ipython3",
   "version": "3.10.8"
  }
 },
 "nbformat": 4,
 "nbformat_minor": 5
}
