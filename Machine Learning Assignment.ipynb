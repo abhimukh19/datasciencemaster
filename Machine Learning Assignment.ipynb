{
 "cells": [
  {
   "cell_type": "code",
   "execution_count": null,
   "id": "22f59f16-c03c-43a2-80b6-deb6726f376e",
   "metadata": {},
   "outputs": [],
   "source": [
    "#Q1 Explain with an example the following:\n",
    "\n",
    "#Artificial Intelligence (AI) involves creating machines that can perform tasks or take decisions that typically require human intelligence\n",
    "#Machine Learning (ML) is a subset of AI that involves training algorithms to make predictions or decisions based on data\n",
    "#Deep Learning (DL) is a subset of ML that involves training artificial neural networks with multiple layers to learn and make decisions\n",
    "\n",
    "#example: Robotic Process automation is a example of AI, while Predictive analytics is an example of Machine Learning while IBM Watson is an example of Deep Learning\n",
    "\n",
    "#A new form of Generative AI has emerged as a subset of AI which generates auditory, visual and written content such as GPT-3, Codex and DALL-E"
   ]
  },
  {
   "cell_type": "code",
   "execution_count": null,
   "id": "b72711c1-9c44-40c0-a3a9-a5e242a5b1a4",
   "metadata": {},
   "outputs": [],
   "source": [
    "#Q2 what is Supervised Learning? Explain with examples\n",
    "\n",
    "#Supervised learning is a type of machine learning where the algorithm learns from labeled data. In supervised learning, the algorithm is trained on a labeled dataset, which means that the input data has a corresponding output label.\n",
    "#Some examples of supervised learning include predicting a new home’s price, spam detection, weather forecasting, sales forecasting, natural language processing, computer vision, medical diagnosis, speech recognition"
   ]
  },
  {
   "cell_type": "code",
   "execution_count": null,
   "id": "8d9a2ec8-5823-4d95-9da7-d95bc79b1f57",
   "metadata": {},
   "outputs": [],
   "source": [
    "#Q3 what is Unsupervised Learning? Explain with examples\n",
    "\n",
    "#A3 Unsupervised learning is a type of machine learning that involves algorithms using untagged data to learn patterns.\n",
    "#Untagged data refers to data that is not in a category\n",
    "#Example : Many marketing departments or companies use AI trained in unsupervised learning for their customer segmentation.\n"
   ]
  },
  {
   "cell_type": "code",
   "execution_count": null,
   "id": "20d06271-f996-4f5e-9bda-0bc1af3cb0b9",
   "metadata": {},
   "outputs": [],
   "source": [
    "#Q4 What is difference between AI, ML, DL and DS?\n",
    "\n",
    "#Artificial Intelligence (AI) involves creating machines that can perform tasks or take decisions that typically require human intelligence\n",
    "#Machine Learning (ML) is a subset of AI that involves training algorithms to make predictions or decisions based on data\n",
    "#Deep Learning (DL) is a subset of ML that involves training artificial neural networks with multiple layers to learn and make decisions\n",
    "#. Data Science is a field that involves using mathematical approaches, such as statistics and probabilities, to extract insights from data. "
   ]
  },
  {
   "cell_type": "code",
   "execution_count": null,
   "id": "3555e47a-cc00-49ed-81a7-2688be69c09b",
   "metadata": {},
   "outputs": [],
   "source": [
    "#Q5 What is difference between supervised, unsupervised and semi supervised learning?\n",
    "\n",
    "#Supervised learning is a type of machine learning where the algorithm learns to map input data to a target output.\n",
    "# Unsupervised learning is a type of machine learning that involves algorithms using untagged data to learn patterns.\n",
    "#Semi-Supervised is a hybrid approach between above 2\n",
    "#One of the simplest examples of semi-supervised learning is self-training. Self-training is the procedure in which we can take any supervised method for classification or regression and modify it to work in a semi-supervised manner, taking advantage of labeled and unlabeled data\n"
   ]
  },
  {
   "cell_type": "code",
   "execution_count": null,
   "id": "5c7f44d5-d4cc-4e62-9010-17ada89e3ccf",
   "metadata": {},
   "outputs": [],
   "source": [
    "#Q6 What is train, test and validation split? Explain the importance of each term?\n",
    "\n",
    "#The train-test-validation split is a model validation procedure that allows us to simulate how a model would perform on new/unseen data. \n",
    "#The procedure works by splitting the data into training, validation, and test sets\n",
    "#The model is trained on the training set, and the parameters are tuned on the validation set\n",
    "#The validation set is the data used to tune the parameters\n",
    "#Finally, the performance of the model is evaluated on the test set"
   ]
  },
  {
   "cell_type": "code",
   "execution_count": null,
   "id": "36de1158-a9f8-43fc-b2d2-29540c403d3a",
   "metadata": {},
   "outputs": [],
   "source": [
    "#Q7- How can unsupervised learning be used in anomaly detection?\n",
    "\n",
    "#Unsupervised learning can be used in anomaly detection by identifying outliers or abnormal instances in the data.\n",
    "#unsupervised learning models can scan through large amounts of data and discover atypical data points within a dataset. \n",
    "#These anomalies can raise awareness around faulty equipment, human error, or breaches in security"
   ]
  },
  {
   "cell_type": "code",
   "execution_count": null,
   "id": "f043dcdb-eeb6-466d-9e71-f6d172351f7c",
   "metadata": {},
   "outputs": [],
   "source": [
    "#Q8- List down some commonly used supervised learning algorithms and unsupervised learning algorithms?\n",
    "\n",
    "#A8 The Supervised Learning Models:\n",
    "\n",
    "#Linear regression\n",
    "#Logistic regression\n",
    "#Decision tree\n",
    "#SVM algorithm\n",
    "#Naive Bayes algorithm\n",
    "#KNN algorithm\n",
    "#Random forest algorithm\n",
    "#Gradient boosting algorithm\n",
    "#AdaBoosting algorithm\n",
    "\n",
    "#Unsupervised learning models:\n",
    "#K-means\n",
    "#Apriori algorithm\n",
    "#Clustering\n",
    "#Anomaly detection\n",
    "#Neural networks\n",
    "    "
   ]
  }
 ],
 "metadata": {
  "kernelspec": {
   "display_name": "Python 3 (ipykernel)",
   "language": "python",
   "name": "python3"
  },
  "language_info": {
   "codemirror_mode": {
    "name": "ipython",
    "version": 3
   },
   "file_extension": ".py",
   "mimetype": "text/x-python",
   "name": "python",
   "nbconvert_exporter": "python",
   "pygments_lexer": "ipython3",
   "version": "3.10.8"
  }
 },
 "nbformat": 4,
 "nbformat_minor": 5
}
