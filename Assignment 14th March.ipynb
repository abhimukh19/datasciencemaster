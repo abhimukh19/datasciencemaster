{
 "cells": [
  {
   "cell_type": "code",
   "execution_count": 31,
   "id": "e02ccb24-ca9b-4536-a1f7-d7ff821d47c7",
   "metadata": {},
   "outputs": [],
   "source": [
    "#Q1. Write a Python function that takes in two arrays of data and calculates the F-value for a variance ratio\n",
    "#test. The function should return the F-value and the corresponding p-value for the test.\n",
    "\n",
    "import numpy as np\n",
    "from scipy.stats import f\n",
    "\n",
    "def calculate_fvalue(data1, data2):\n",
    "    # calculate sample sizes\n",
    "    n1=len(data1)\n",
    "    n2=len(data2)\n",
    "    # calculate sample mean\n",
    "    mean1=np.mean(data1)\n",
    "    mean2=np.mean(data2)\n",
    "    # calculate sample variance\n",
    "    var1=np.var(data1, ddof=1)\n",
    "    var2=np.var(data2, ddof=1)\n",
    "    # calculate f value\n",
    "    f_value=var1/var2\n",
    "    # calculate p value\n",
    "    p_value=f.sf(f_value,n1,n2)\n",
    "    return f_value,p_value\n",
    "\n"
   ]
  },
  {
   "cell_type": "code",
   "execution_count": 45,
   "id": "6a3e774f-c8f6-42bb-89b6-f558ff711f60",
   "metadata": {},
   "outputs": [
    {
     "name": "stdout",
     "output_type": "stream",
     "text": [
      "The f_value is 1.8499966204931357 and the P value is 0.0011649147941990821\n"
     ]
    }
   ],
   "source": [
    "sample_set1=np.random.normal(loc=10, scale=5,size=100)#random sample dataset 1\n",
    "sample_set2=np.random.normal(loc=12, scale=4,size=100)#random sample dataset 2\n",
    "\n",
    "f_value_output,p_value_output=calculate_fvalue(sample_set1,sample_set2) #call the function with sample data set\n",
    "\n",
    "\n",
    "print(f\"The f_value is {f_value_output} and the P value is {p_value_output}\")\n"
   ]
  },
  {
   "cell_type": "code",
   "execution_count": 36,
   "id": "df814976-6e3c-4d6b-a562-6ed698bb5568",
   "metadata": {},
   "outputs": [
    {
     "name": "stdout",
     "output_type": "stream",
     "text": [
      "2.61346621542759\n"
     ]
    }
   ],
   "source": [
    "#Q2 Given a significance level of 0.05 and the degrees of freedom for the numerator and denominator of an \n",
    "#F-distribution, write a Python function that returns the critical F-value for a two-tailed test.\n",
    "\n",
    "from scipy.stats import f\n",
    "\n",
    "def F_two_tailedtest(q, dfn, dfd):\n",
    "  # return the F-value for a two-tailed test\n",
    "  return f.ppf(1 - q/2, dfn, dfd)  #dfn is the numerator degrees of freedom, and dfd is the denominator degrees of freedom.\n",
    "\n",
    "print(F_two_tailedtest(0.05, 10, 25)) "
   ]
  },
  {
   "cell_type": "code",
   "execution_count": 69,
   "id": "b9fbc73d-07f7-47c4-a028-3272f34d39f5",
   "metadata": {},
   "outputs": [
    {
     "name": "stdout",
     "output_type": "stream",
     "text": [
      "The f ratio is 2.4048576147663425, f_critical value is 2.7881225146962967 and the P value is 0.9999909710097863\n"
     ]
    }
   ],
   "source": [
    "#Q3. Write a Python program that generates random samples from two normal distributions with known \n",
    "#variances and uses an F-test to determine if the variances are equal. The program should output the F-\n",
    "#value, degrees of freedom, and p-value for the test.\n",
    "\n",
    "#Ho:  variance of s1 is equal to S2\n",
    "#Ha: variances are not equal\n",
    "import numpy as np\n",
    "from scipy.stats import f\n",
    "from scipy import stats\n",
    "\n",
    "# generate random data from two normal distributions\n",
    "np.random.seed(123)\n",
    "\n",
    "data1 = np.random.normal(0, 4, 100) # mean = 0, standard deviation = 4, sample size = 100\n",
    "data2 = np.random.normal(0, 3, 100) # mean = 0, standard deviation = 3, sample size = 100\n",
    "# calculate sample sizes\n",
    "n1=len(data1)\n",
    "n2=len(data2)\n",
    "# calculate sample mean\n",
    "mean1=np.mean(data1)\n",
    "mean2=np.mean(data2)\n",
    "# calculate sample variance\n",
    "var1=np.var(data1, ddof=1)\n",
    "var2=np.var(data2, ddof=1)\n",
    "# calculate f value\n",
    "f_value=var1/var2\n",
    "alpha=0.05 #assumed\n",
    "dfn=n1-1\n",
    "dfd=n2-1\n",
    "# calculate p value\n",
    "p_value = f.cdf(f_value, dfn, dfd)\n",
    "f_critical = (stats.f.ppf(1 - (alpha), dfn,dfd))*2 # calculating f critical, two tailed test\n",
    "\n",
    "print(f\"The f ratio is {f_value}, f_critical value is {f_critical} and the P value is {p_value}\")"
   ]
  },
  {
   "cell_type": "code",
   "execution_count": 63,
   "id": "17996e49-e4d4-43c5-bc8b-3dc10a71733b",
   "metadata": {},
   "outputs": [
    {
     "name": "stdout",
     "output_type": "stream",
     "text": [
      "The f_value is 0.6666666666666666 and the P value is 0.2576563739337414, we accept the null hypothesis that variance is close for each sample data while degree of freedom are (11, 10)\n"
     ]
    }
   ],
   "source": [
    "#Q4.The variances of two populations are known to be 10 and 15. A sample of 12 observations is taken from\n",
    "#each population. Conduct an F-test at the 5% significance level to determine if the variances are\n",
    "#significantly different.\n",
    "#Ho:  variance of s1 is equal to S2\n",
    "#Ha: variances are not equal\n",
    "\n",
    "import numpy as np\n",
    "from scipy.stats import f\n",
    "# calculate sample sizes\n",
    "n1=12\n",
    "n2=12\n",
    "# calculate sample mean\n",
    "mean1=np.mean(data1)\n",
    "mean2=np.mean(data2)\n",
    "# calculate sample variance\n",
    "var1=10\n",
    "var2=15\n",
    "# calculate f value\n",
    "f_value=var1/var2\n",
    "alpha=0.05 #given\n",
    "dfn=n1-1\n",
    "dfd=n2-2\n",
    "\n",
    "p_value = f.cdf(f_value, dfn, dfd)\n",
    "f_critical = (stats.f.ppf(1 - (alpha), dfn,dfd))*2 # calculating f critical value\n",
    "\n",
    "if (p_value>0.05 and f_value<f_critical):\n",
    "    print(f\"The f_value is {f_value} and the P value is {p_value}, we accept the null hypothesis that variance is close for each sample data while degree of freedom are {dfn,dfd}\")\n",
    "else:\n",
    "    print(f\"The f_value is {f_value} and the P value is {p_value}, we reject the null hypothesis that variance is close for each sample data while degree of freedom are {dfn,dfd}\")\n"
   ]
  },
  {
   "cell_type": "code",
   "execution_count": 6,
   "id": "a8ce8259-ed68-4bad-a35b-66a7b0dc75fb",
   "metadata": {},
   "outputs": [
    {
     "name": "stdout",
     "output_type": "stream",
     "text": [
      "The P value is 0.6706345317182756 we accept the null hypothesis that the variance of the diameter of the product is 0.005. \n"
     ]
    }
   ],
   "source": [
    "#Q5. A manufacturer claims that the variance of the diameter of a certain product is 0.005. A sample of 25\n",
    "#products is taken, and the sample variance is found to be 0.006. Conduct an F-test at the 1% significance\n",
    "#level to determine if the claim is justified.\n",
    "#Ho:The null hypothesis is that the variance of the diameter of the product is 0.005. \n",
    "#Ha: The alternative hypothesis is that the variance of the diameter of the product is greater than 0.005.\n",
    "\n",
    "from scipy.stats import f\n",
    "from scipy import stats\n",
    "\n",
    "popvar=0.005\n",
    "samplevar=0.006\n",
    "f_ratio=samplevar/popvar\n",
    "n=25\n",
    "dfn=n-1\n",
    "dfd=n-1\n",
    "alpha=0.01\n",
    "f_critical = (stats.f.ppf(1 - (alpha), dfn,dfd))*2 # calculating f critical, two tailed test\n",
    "p_value=f.cdf(f_ratio,dfn,dfd)\n",
    "\n",
    "\n",
    "if (p_value>alpha):\n",
    "    print(f\"The P value is {p_value} we accept the null hypothesis that the variance of the diameter of the product is 0.005. \")\n",
    "else:\n",
    "    print(f\"The P value is {p_value} we reject the null hypothesis that the variance of the diameter of the product is 0.005.\")\n"
   ]
  },
  {
   "cell_type": "code",
   "execution_count": 9,
   "id": "a92baf41-9df8-473a-b946-44cffcaf1c42",
   "metadata": {},
   "outputs": [
    {
     "name": "stdout",
     "output_type": "stream",
     "text": [
      "The mean of the F-dist is 1.0909090909090908 and variance is 0.228099173553719\n"
     ]
    }
   ],
   "source": [
    "#Q6. Write a Python function that takes in the degrees of freedom for the numerator and denominator of an\n",
    "#F-distribution and calculates the mean and variance of the distribution. The function should return the\n",
    "#mean and variance as a tuple.\n",
    "\n",
    "import numpy as np\n",
    "from scipy.stats import f\n",
    "from scipy import stats\n",
    "\n",
    "def calculate_m_v(dfn, dfd):\n",
    "        mean = dfd / (dfd - 2)\n",
    "        variance= (2 * dfd ** 2 * (dfn + dfd - 2)) / (dfn * (dfd - 2) ** 2 * (dfn - 4))\n",
    "        return mean, variance\n",
    "\n",
    "mn,var=calculate_m_v(24,24)\n",
    "print(f\"The mean of the F-dist is {mn} and variance is {var}\")"
   ]
  },
  {
   "cell_type": "code",
   "execution_count": 10,
   "id": "71b79609-5d85-433f-b3d8-55ff150b946c",
   "metadata": {},
   "outputs": [
    {
     "name": "stdout",
     "output_type": "stream",
     "text": [
      "The P value is 0.6536719696789688 we accept the null hypothesis that the variances are close to each other. \n"
     ]
    }
   ],
   "source": [
    "#Q7. A random sample of 10 measurements is taken from a normal population with unknown variance. The\n",
    "#sample variance is found to be 25. Another random sample of 15 measurements is taken from another\n",
    "#normal population with unknown variance, and the sample variance is found to be 20. Conduct an F-test\n",
    "#at the 10% significance level to determine if the variances are significantly different.\n",
    "\n",
    "#Ho: The variances are similar to each other for both samples\n",
    "#Ha: The variances are not similar to each other for both samples\n",
    "\n",
    "import numpy as np\n",
    "from scipy.stats import f\n",
    "# calculate sample sizes\n",
    "n1=10\n",
    "n2=15\n",
    "var1=25\n",
    "var2=20\n",
    "# calculate f value\n",
    "f_ratio=var1/var2\n",
    "alpha=0.05 #given\n",
    "dfn=n1-1\n",
    "dfd=n2-2\n",
    "alpha=0.1\n",
    "p_value = f.cdf(f_ratio, dfn, dfd)\n",
    "\n",
    "if (p_value>alpha):\n",
    "    print(f\"The P value is {p_value} we accept the null hypothesis that the variances are close to each other. \")\n",
    "else:\n",
    "    print(f\"The P value is {p_value} we reject the null hypothesis that the variances are close to each other.\")\n"
   ]
  },
  {
   "cell_type": "code",
   "execution_count": 11,
   "id": "1a055e19-d75d-4953-8755-c4df2d2eae9c",
   "metadata": {},
   "outputs": [
    {
     "name": "stdout",
     "output_type": "stream",
     "text": [
      "The P value is 0.6625866430359175 we accept the null hypothesis that the variances are close to each other. \n"
     ]
    }
   ],
   "source": [
    "#Q8. The following data represent the waiting times in minutes at two different restaurants on a Saturday\n",
    "#night: Restaurant A: 24, 25, 28, 23, 22, 20, 27; Restaurant B: 31, 33, 35, 30, 32, 36. Conduct an F-test at the 5%\n",
    "#significance level to determine if the variances are significantly different.\n",
    "\n",
    "#Ho: The variances are similar to each other for both samples\n",
    "#Ha: The variances are not similar to each other for both samples\n",
    "import numpy as np\n",
    "from scipy.stats import f\n",
    "Restaurant_A=[24, 25, 28, 23, 22, 20, 27]\n",
    "Restaurant_B=[31, 33, 35, 30, 32, 36]\n",
    "n1=len(Restaurant_A)\n",
    "n2=len(Restaurant_B)\n",
    "\n",
    "mean1=np.mean(Restaurant_A)\n",
    "mean2=np.mean(Restaurant_B)\n",
    "\n",
    "var1=np.var(Restaurant_A)\n",
    "var2=np.var(Restaurant_B)\n",
    "dfn=n1-1\n",
    "dfd=n2-1\n",
    "\n",
    "f_ratio=var1/var2\n",
    "alpha=0.05\n",
    "p_value=f.cdf(f_ratio, dfn,dfd)\n",
    "\n",
    "if (p_value>alpha):\n",
    "    print(f\"The P value is {p_value} we accept the null hypothesis that the variances are close to each other. \")\n",
    "else:\n",
    "    print(f\"The P value is {p_value} we reject the null hypothesis that the variances are close to each other.\")\n"
   ]
  },
  {
   "cell_type": "code",
   "execution_count": 12,
   "id": "e564e439-4392-4443-9f10-50ff6d6cde20",
   "metadata": {},
   "outputs": [
    {
     "name": "stdout",
     "output_type": "stream",
     "text": [
      "The P value is 0.7584478225464656 we accept the null hypothesis that the variances are close to each other. \n"
     ]
    }
   ],
   "source": [
    "#Q9. The following data represent the test scores of two groups of students: Group A: 80, 85, 90, 92, 87, 83;\n",
    "#Group B: 75, 78, 82, 79, 81, 84. Conduct an F-test at the 1% significance level to determine if the variances\n",
    "#are significantly different.\n",
    "\n",
    "#Ho: The variances are similar to each other for both samples\n",
    "#Ha: The variances are not similar to each other for both samples\n",
    "\n",
    "import numpy as np\n",
    "from scipy.stats import f\n",
    "GroupA=[80, 85, 90, 92, 87, 83]\n",
    "GroupB=[75, 78, 82, 79, 81, 84]\n",
    "n1=len(GroupA)\n",
    "n2=len(GroupB)\n",
    "\n",
    "mean1=np.mean(GroupA)\n",
    "mean2=np.mean(GroupB)\n",
    "\n",
    "var1=np.var(GroupA)\n",
    "var2=np.var(GroupB)\n",
    "dfn=n1-1\n",
    "dfd=n2-1\n",
    "\n",
    "f_ratio=var1/var2\n",
    "alpha=0.01\n",
    "p_value=f.cdf(f_ratio, dfn,dfd)\n",
    "\n",
    "if (p_value>alpha):\n",
    "    print(f\"The P value is {p_value} we accept the null hypothesis that the variances are close to each other. \")\n",
    "else:\n",
    "    print(f\"The P value is {p_value} we reject the null hypothesis that the variances are close to each other.\")\n"
   ]
  },
  {
   "cell_type": "code",
   "execution_count": null,
   "id": "c90d2305-135d-41b1-a757-c1ee2642f254",
   "metadata": {},
   "outputs": [],
   "source": []
  }
 ],
 "metadata": {
  "kernelspec": {
   "display_name": "Python 3 (ipykernel)",
   "language": "python",
   "name": "python3"
  },
  "language_info": {
   "codemirror_mode": {
    "name": "ipython",
    "version": 3
   },
   "file_extension": ".py",
   "mimetype": "text/x-python",
   "name": "python",
   "nbconvert_exporter": "python",
   "pygments_lexer": "ipython3",
   "version": "3.10.8"
  }
 },
 "nbformat": 4,
 "nbformat_minor": 5
}
