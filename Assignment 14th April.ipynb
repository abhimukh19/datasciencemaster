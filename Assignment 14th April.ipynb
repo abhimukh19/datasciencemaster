{
 "cells": [
  {
   "cell_type": "markdown",
   "id": "5356d05d-f659-4325-ab82-b0fa4dce396d",
   "metadata": {},
   "source": [
    "Build a random forest classifier to predict the risk of heart disease based on a dataset of patient\n",
    "information. The dataset contains 303 instances with 14 features, including age, sex, chest pain type,\n",
    "resting blood pressure, serum cholesterol, and maximum heart rate achieved."
   ]
  },
  {
   "cell_type": "code",
   "execution_count": null,
   "id": "03123829-b53e-4864-aed3-97ae86f40bdf",
   "metadata": {},
   "outputs": [],
   "source": [
    "#Q1. Preprocess the dataset by handling missing values, encoding categorical variables, and scaling the\n",
    "#numerical features if necessary."
   ]
  },
  {
   "cell_type": "markdown",
   "id": "fdaad8bc-af1e-4621-a402-809b4672e19e",
   "metadata": {},
   "source": [
    "## Stage -1 Data Loading"
   ]
  },
  {
   "cell_type": "code",
   "execution_count": 1,
   "id": "98452c62-6ff3-4bee-91a7-5a9edf9bebc8",
   "metadata": {},
   "outputs": [
    {
     "data": {
      "text/html": [
       "<div>\n",
       "<style scoped>\n",
       "    .dataframe tbody tr th:only-of-type {\n",
       "        vertical-align: middle;\n",
       "    }\n",
       "\n",
       "    .dataframe tbody tr th {\n",
       "        vertical-align: top;\n",
       "    }\n",
       "\n",
       "    .dataframe thead th {\n",
       "        text-align: right;\n",
       "    }\n",
       "</style>\n",
       "<table border=\"1\" class=\"dataframe\">\n",
       "  <thead>\n",
       "    <tr style=\"text-align: right;\">\n",
       "      <th></th>\n",
       "      <th>age</th>\n",
       "      <th>sex</th>\n",
       "      <th>cp</th>\n",
       "      <th>trestbps</th>\n",
       "      <th>chol</th>\n",
       "      <th>fbs</th>\n",
       "      <th>restecg</th>\n",
       "      <th>thalach</th>\n",
       "      <th>exang</th>\n",
       "      <th>oldpeak</th>\n",
       "      <th>slope</th>\n",
       "      <th>ca</th>\n",
       "      <th>thal</th>\n",
       "      <th>target</th>\n",
       "    </tr>\n",
       "  </thead>\n",
       "  <tbody>\n",
       "    <tr>\n",
       "      <th>0</th>\n",
       "      <td>63</td>\n",
       "      <td>1</td>\n",
       "      <td>3</td>\n",
       "      <td>145</td>\n",
       "      <td>233</td>\n",
       "      <td>1</td>\n",
       "      <td>0</td>\n",
       "      <td>150</td>\n",
       "      <td>0</td>\n",
       "      <td>2.3</td>\n",
       "      <td>0</td>\n",
       "      <td>0</td>\n",
       "      <td>1</td>\n",
       "      <td>1</td>\n",
       "    </tr>\n",
       "    <tr>\n",
       "      <th>1</th>\n",
       "      <td>37</td>\n",
       "      <td>1</td>\n",
       "      <td>2</td>\n",
       "      <td>130</td>\n",
       "      <td>250</td>\n",
       "      <td>0</td>\n",
       "      <td>1</td>\n",
       "      <td>187</td>\n",
       "      <td>0</td>\n",
       "      <td>3.5</td>\n",
       "      <td>0</td>\n",
       "      <td>0</td>\n",
       "      <td>2</td>\n",
       "      <td>1</td>\n",
       "    </tr>\n",
       "    <tr>\n",
       "      <th>2</th>\n",
       "      <td>41</td>\n",
       "      <td>0</td>\n",
       "      <td>1</td>\n",
       "      <td>130</td>\n",
       "      <td>204</td>\n",
       "      <td>0</td>\n",
       "      <td>0</td>\n",
       "      <td>172</td>\n",
       "      <td>0</td>\n",
       "      <td>1.4</td>\n",
       "      <td>2</td>\n",
       "      <td>0</td>\n",
       "      <td>2</td>\n",
       "      <td>1</td>\n",
       "    </tr>\n",
       "    <tr>\n",
       "      <th>3</th>\n",
       "      <td>56</td>\n",
       "      <td>1</td>\n",
       "      <td>1</td>\n",
       "      <td>120</td>\n",
       "      <td>236</td>\n",
       "      <td>0</td>\n",
       "      <td>1</td>\n",
       "      <td>178</td>\n",
       "      <td>0</td>\n",
       "      <td>0.8</td>\n",
       "      <td>2</td>\n",
       "      <td>0</td>\n",
       "      <td>2</td>\n",
       "      <td>1</td>\n",
       "    </tr>\n",
       "    <tr>\n",
       "      <th>4</th>\n",
       "      <td>57</td>\n",
       "      <td>0</td>\n",
       "      <td>0</td>\n",
       "      <td>120</td>\n",
       "      <td>354</td>\n",
       "      <td>0</td>\n",
       "      <td>1</td>\n",
       "      <td>163</td>\n",
       "      <td>1</td>\n",
       "      <td>0.6</td>\n",
       "      <td>2</td>\n",
       "      <td>0</td>\n",
       "      <td>2</td>\n",
       "      <td>1</td>\n",
       "    </tr>\n",
       "    <tr>\n",
       "      <th>...</th>\n",
       "      <td>...</td>\n",
       "      <td>...</td>\n",
       "      <td>...</td>\n",
       "      <td>...</td>\n",
       "      <td>...</td>\n",
       "      <td>...</td>\n",
       "      <td>...</td>\n",
       "      <td>...</td>\n",
       "      <td>...</td>\n",
       "      <td>...</td>\n",
       "      <td>...</td>\n",
       "      <td>...</td>\n",
       "      <td>...</td>\n",
       "      <td>...</td>\n",
       "    </tr>\n",
       "    <tr>\n",
       "      <th>298</th>\n",
       "      <td>57</td>\n",
       "      <td>0</td>\n",
       "      <td>0</td>\n",
       "      <td>140</td>\n",
       "      <td>241</td>\n",
       "      <td>0</td>\n",
       "      <td>1</td>\n",
       "      <td>123</td>\n",
       "      <td>1</td>\n",
       "      <td>0.2</td>\n",
       "      <td>1</td>\n",
       "      <td>0</td>\n",
       "      <td>3</td>\n",
       "      <td>0</td>\n",
       "    </tr>\n",
       "    <tr>\n",
       "      <th>299</th>\n",
       "      <td>45</td>\n",
       "      <td>1</td>\n",
       "      <td>3</td>\n",
       "      <td>110</td>\n",
       "      <td>264</td>\n",
       "      <td>0</td>\n",
       "      <td>1</td>\n",
       "      <td>132</td>\n",
       "      <td>0</td>\n",
       "      <td>1.2</td>\n",
       "      <td>1</td>\n",
       "      <td>0</td>\n",
       "      <td>3</td>\n",
       "      <td>0</td>\n",
       "    </tr>\n",
       "    <tr>\n",
       "      <th>300</th>\n",
       "      <td>68</td>\n",
       "      <td>1</td>\n",
       "      <td>0</td>\n",
       "      <td>144</td>\n",
       "      <td>193</td>\n",
       "      <td>1</td>\n",
       "      <td>1</td>\n",
       "      <td>141</td>\n",
       "      <td>0</td>\n",
       "      <td>3.4</td>\n",
       "      <td>1</td>\n",
       "      <td>2</td>\n",
       "      <td>3</td>\n",
       "      <td>0</td>\n",
       "    </tr>\n",
       "    <tr>\n",
       "      <th>301</th>\n",
       "      <td>57</td>\n",
       "      <td>1</td>\n",
       "      <td>0</td>\n",
       "      <td>130</td>\n",
       "      <td>131</td>\n",
       "      <td>0</td>\n",
       "      <td>1</td>\n",
       "      <td>115</td>\n",
       "      <td>1</td>\n",
       "      <td>1.2</td>\n",
       "      <td>1</td>\n",
       "      <td>1</td>\n",
       "      <td>3</td>\n",
       "      <td>0</td>\n",
       "    </tr>\n",
       "    <tr>\n",
       "      <th>302</th>\n",
       "      <td>57</td>\n",
       "      <td>0</td>\n",
       "      <td>1</td>\n",
       "      <td>130</td>\n",
       "      <td>236</td>\n",
       "      <td>0</td>\n",
       "      <td>0</td>\n",
       "      <td>174</td>\n",
       "      <td>0</td>\n",
       "      <td>0.0</td>\n",
       "      <td>1</td>\n",
       "      <td>1</td>\n",
       "      <td>2</td>\n",
       "      <td>0</td>\n",
       "    </tr>\n",
       "  </tbody>\n",
       "</table>\n",
       "<p>303 rows × 14 columns</p>\n",
       "</div>"
      ],
      "text/plain": [
       "     age  sex  cp  trestbps  chol  fbs  restecg  thalach  exang  oldpeak  \\\n",
       "0     63    1   3       145   233    1        0      150      0      2.3   \n",
       "1     37    1   2       130   250    0        1      187      0      3.5   \n",
       "2     41    0   1       130   204    0        0      172      0      1.4   \n",
       "3     56    1   1       120   236    0        1      178      0      0.8   \n",
       "4     57    0   0       120   354    0        1      163      1      0.6   \n",
       "..   ...  ...  ..       ...   ...  ...      ...      ...    ...      ...   \n",
       "298   57    0   0       140   241    0        1      123      1      0.2   \n",
       "299   45    1   3       110   264    0        1      132      0      1.2   \n",
       "300   68    1   0       144   193    1        1      141      0      3.4   \n",
       "301   57    1   0       130   131    0        1      115      1      1.2   \n",
       "302   57    0   1       130   236    0        0      174      0      0.0   \n",
       "\n",
       "     slope  ca  thal  target  \n",
       "0        0   0     1       1  \n",
       "1        0   0     2       1  \n",
       "2        2   0     2       1  \n",
       "3        2   0     2       1  \n",
       "4        2   0     2       1  \n",
       "..     ...  ..   ...     ...  \n",
       "298      1   0     3       0  \n",
       "299      1   0     3       0  \n",
       "300      1   2     3       0  \n",
       "301      1   1     3       0  \n",
       "302      1   1     2       0  \n",
       "\n",
       "[303 rows x 14 columns]"
      ]
     },
     "execution_count": 1,
     "metadata": {},
     "output_type": "execute_result"
    }
   ],
   "source": [
    "# Import the necessary libraries and load the dataset\n",
    "import pandas as pd\n",
    "import matplotlib.pyplot as plt\n",
    "import numpy as np\n",
    "from sklearn.model_selection import train_test_split\n",
    "from sklearn.svm import SVR\n",
    "from sklearn.metrics import confusion_matrix\n",
    "from sklearn.metrics import accuracy_score\n",
    "from sklearn.preprocessing import StandardScaler\n",
    "from warnings import filterwarnings\n",
    "from sklearn.metrics import RocCurveDisplay\n",
    "from datetime import datetime\n",
    "from sklearn.metrics import mean_squared_error\n",
    "%matplotlib inline\n",
    "filterwarnings('ignore')\n",
    "\n",
    "\n",
    "df=pd.read_csv('https://raw.githubusercontent.com/abhimukh19/datasets/main/dataset.csv')\n",
    "df"
   ]
  },
  {
   "cell_type": "markdown",
   "id": "19d7e082-77c8-4213-bd9c-c30aad7f859f",
   "metadata": {},
   "source": [
    "## Stage -2 Data Prepocessing"
   ]
  },
  {
   "cell_type": "code",
   "execution_count": 2,
   "id": "1aa85a1e-b80f-46eb-83e4-d056aee00aec",
   "metadata": {},
   "outputs": [],
   "source": [
    "#Stripping spaces across all values in dataframe\n",
    "df = df.apply(lambda x: x.str.strip() if x.dtype == 'object' else x)\n",
    "df.columns = df.columns.str.strip()"
   ]
  },
  {
   "cell_type": "code",
   "execution_count": 3,
   "id": "0be5eb85-7581-4c21-921b-761d314000d2",
   "metadata": {},
   "outputs": [
    {
     "data": {
      "text/plain": [
       "age         0\n",
       "sex         0\n",
       "cp          0\n",
       "trestbps    0\n",
       "chol        0\n",
       "fbs         0\n",
       "restecg     0\n",
       "thalach     0\n",
       "exang       0\n",
       "oldpeak     0\n",
       "slope       0\n",
       "ca          0\n",
       "thal        0\n",
       "target      0\n",
       "dtype: int64"
      ]
     },
     "execution_count": 3,
     "metadata": {},
     "output_type": "execute_result"
    }
   ],
   "source": [
    "#Check for the missing/null values\n",
    "df.isnull().sum()"
   ]
  },
  {
   "cell_type": "markdown",
   "id": "2afcba16-8f15-4f32-9f37-ccf0adb22846",
   "metadata": {},
   "source": [
    "No missing values in the dataset"
   ]
  },
  {
   "cell_type": "code",
   "execution_count": 4,
   "id": "1266a50b-61a8-41d8-8fbc-fa4f6170fd12",
   "metadata": {},
   "outputs": [
    {
     "data": {
      "text/plain": [
       "1"
      ]
     },
     "execution_count": 4,
     "metadata": {},
     "output_type": "execute_result"
    }
   ],
   "source": [
    "#check if there are duplicate values\n",
    "df.duplicated().sum()"
   ]
  },
  {
   "cell_type": "code",
   "execution_count": 5,
   "id": "50cbd11f-569f-47eb-824f-7e8672212864",
   "metadata": {},
   "outputs": [
    {
     "data": {
      "text/plain": [
       "0"
      ]
     },
     "execution_count": 5,
     "metadata": {},
     "output_type": "execute_result"
    }
   ],
   "source": [
    "df=df.drop_duplicates()\n",
    "df.duplicated().sum()"
   ]
  },
  {
   "cell_type": "markdown",
   "id": "e3d15ce5-645f-4547-80cf-4b3a5ada303c",
   "metadata": {},
   "source": [
    "duplicate data has been removed"
   ]
  },
  {
   "cell_type": "markdown",
   "id": "014382ac-d9b7-46a3-91ce-887cbdf9e58a",
   "metadata": {},
   "source": [
    "## Stage 3 Data Spliting and Model Training"
   ]
  },
  {
   "cell_type": "code",
   "execution_count": 6,
   "id": "f025611a-b056-4b7c-b583-34d710ff76f7",
   "metadata": {},
   "outputs": [],
   "source": [
    "#Split the dataset into a training set (70%) and a test set (30%).\n",
    "\n",
    "X=df.drop('target', axis=1)\n",
    "y=df['target']\n",
    "X_train, X_test, y_train, y_test= train_test_split(X,y,test_size=0.3, random_state=0)\n"
   ]
  },
  {
   "cell_type": "code",
   "execution_count": 7,
   "id": "0c7bf147-b06f-48e8-b413-3be2e9a9ee4c",
   "metadata": {},
   "outputs": [
    {
     "name": "stdout",
     "output_type": "stream",
     "text": [
      "Accuracy: 0.8461538461538461\n"
     ]
    }
   ],
   "source": [
    "#importing Random forest Classifier\n",
    "from sklearn.ensemble import RandomForestClassifier\n",
    "rfc = RandomForestClassifier(n_estimators=100, max_depth=10)\n",
    "rfc.fit(X_train, y_train)\n",
    "y_pred=rfc.predict(X_test)\n",
    "\n"
   ]
  },
  {
   "cell_type": "markdown",
   "id": "95b9f297-5445-483f-9798-44a0ad744b4b",
   "metadata": {},
   "source": [
    "## Stage 4 Calculate the Accuracy, Precision, Recall and F1 Score of the Model"
   ]
  },
  {
   "cell_type": "code",
   "execution_count": 9,
   "id": "371a2714-af14-4e26-a59d-9fc2549fdcf4",
   "metadata": {},
   "outputs": [
    {
     "name": "stdout",
     "output_type": "stream",
     "text": [
      "Accuracy: 0.8461538461538461\n",
      "precision: 0.8478260869565217\n",
      "recall: 0.8478260869565217\n",
      "f1score: 0.8478260869565218\n"
     ]
    }
   ],
   "source": [
    "from sklearn.metrics import precision_score, recall_score, f1_score\n",
    "\n",
    "# Calculate the accuracy of the classifier\n",
    "accuracy = accuracy_score(y_test, y_pred)\n",
    "print('Accuracy:', accuracy)\n",
    "\n",
    "# Calculate the Precision of the classifier\n",
    "precision = precision_score(y_test, y_pred)\n",
    "print('precision:', precision)\n",
    "\n",
    "# Calculate the recall of the classifier\n",
    "recall = recall_score(y_test, y_pred)\n",
    "print('recall:', recall)\n",
    "\n",
    "# Calculate the recall of the classifier\n",
    "f1score = f1_score(y_test, y_pred)\n",
    "print('f1score:', f1score)\n"
   ]
  },
  {
   "cell_type": "markdown",
   "id": "b64bfae0-eadb-47e6-9508-b5ea0267bca7",
   "metadata": {},
   "source": [
    "## Stag 5 Determine Important Features and further Hypertune Model"
   ]
  },
  {
   "cell_type": "code",
   "execution_count": 20,
   "id": "994c94a8-b6a0-4212-8f41-107eff86792a",
   "metadata": {},
   "outputs": [],
   "source": [
    "#Q5. Use the feature importance scores to identify the top 5 most important features in predicting heart\n",
    "#disease risk. Visualise the feature importances using a bar chart."
   ]
  },
  {
   "cell_type": "code",
   "execution_count": 12,
   "id": "3533a84d-c680-4169-a0e2-a2faa1e1440e",
   "metadata": {},
   "outputs": [
    {
     "data": {
      "text/plain": [
       "array([0.08689554, 0.04456267, 0.10105031, 0.08000149, 0.06723654,\n",
       "       0.0093756 , 0.01306861, 0.13153815, 0.05601064, 0.11879921,\n",
       "       0.05391726, 0.11544346, 0.12210054])"
      ]
     },
     "execution_count": 12,
     "metadata": {},
     "output_type": "execute_result"
    }
   ],
   "source": [
    "\n",
    "# Get feature importances\n",
    "importances = rfc.feature_importances_\n",
    "importances"
   ]
  },
  {
   "cell_type": "code",
   "execution_count": 13,
   "id": "456e1e6a-7fe9-4ef6-96cd-3e538a295455",
   "metadata": {},
   "outputs": [
    {
     "data": {
      "text/plain": [
       "array([ 7, 12,  9, 11,  2,  0,  3,  4,  8, 10,  1,  6,  5])"
      ]
     },
     "execution_count": 13,
     "metadata": {},
     "output_type": "execute_result"
    }
   ],
   "source": [
    "# Sort feature importances in descending order\n",
    "indices = np.argsort(importances)[::-1]\n",
    "indices"
   ]
  },
  {
   "cell_type": "code",
   "execution_count": 14,
   "id": "4a6bdd0c-7516-40f5-9b17-bdcaf26ef4de",
   "metadata": {},
   "outputs": [
    {
     "data": {
      "text/plain": [
       "array([0.08689554, 0.04456267, 0.10105031, 0.08000149, 0.06723654,\n",
       "       0.0093756 , 0.01306861, 0.13153815, 0.05601064, 0.11879921,\n",
       "       0.05391726, 0.11544346, 0.12210054])"
      ]
     },
     "execution_count": 14,
     "metadata": {},
     "output_type": "execute_result"
    }
   ],
   "source": [
    "importances"
   ]
  },
  {
   "cell_type": "code",
   "execution_count": 15,
   "id": "f7b639c5-9256-4c96-ae8f-9abeb827ea0e",
   "metadata": {},
   "outputs": [
    {
     "data": {
      "text/plain": [
       "['thalach',\n",
       " 'thal',\n",
       " 'oldpeak',\n",
       " 'ca',\n",
       " 'cp',\n",
       " 'age',\n",
       " 'trestbps',\n",
       " 'chol',\n",
       " 'exang',\n",
       " 'slope',\n",
       " 'sex',\n",
       " 'restecg',\n",
       " 'fbs']"
      ]
     },
     "execution_count": 15,
     "metadata": {},
     "output_type": "execute_result"
    }
   ],
   "source": [
    "# Rearrange feature names so they match the sorted feature importances\n",
    "names = [X_train.columns[i] for i in indices]\n",
    "names"
   ]
  },
  {
   "cell_type": "code",
   "execution_count": 19,
   "id": "61ac1535-5abe-4128-aa8f-e7039a830baa",
   "metadata": {},
   "outputs": [
    {
     "data": {
      "image/png": "[encoded data removed]",
      "text/plain": [
       "<Figure size 640x480 with 1 Axes>"
      ]
     },
     "metadata": {},
     "output_type": "display_data"
    }
   ],
   "source": [
    "# Create plot\n",
    "plt.figure()\n",
    "\n",
    "# Create plot title\n",
    "plt.title(\"Feature Importance\")\n",
    "\n",
    "# Add bars\n",
    "plt.bar(range(X_train.shape[1]), importances[indices],color='grey')\n",
    "\n",
    "# Add feature names as x-axis labels\n",
    "plt.xticks(range(X_train.shape[1]), names, rotation=90)\n",
    "\n",
    "# Show plot\n",
    "plt.show()"
   ]
  },
  {
   "cell_type": "code",
   "execution_count": 21,
   "id": "b9419870-06cc-4494-997e-8ff437c7e747",
   "metadata": {},
   "outputs": [],
   "source": [
    "#Q6. Tune the hyperparameters of the random forest classifier using grid search or random search. Try\n",
    "#different values of the number of trees, maximum depth, minimum samples split, and minimum samples\n",
    "#leaf. Use 5-fold cross-validation to evaluate the performance of each set of hyperparameters."
   ]
  },
  {
   "cell_type": "code",
   "execution_count": 22,
   "id": "e578a7ca-639c-4597-a2d9-a44d49391b62",
   "metadata": {},
   "outputs": [
    {
     "name": "stdout",
     "output_type": "stream",
     "text": [
      "Best hyperparameters: {'max_depth': 10, 'min_samples_leaf': 2, 'min_samples_split': 2, 'n_estimators': 10}\n",
      "Best score: 0.8625692137320045\n"
     ]
    }
   ],
   "source": [
    "from sklearn.model_selection import GridSearchCV\n",
    "\n",
    "param_grid = {\"n_estimators\": [10, 50, 100],\n",
    "    \"max_depth\": [None, 10, 20],\n",
    "    \"min_samples_split\": [2, 5],\n",
    "    \"min_samples_leaf\": [1, 2]}\n",
    "\n",
    "# Fit the grid search object to the training data and obtain the best hyperparameters\n",
    "\n",
    "grid_search = GridSearchCV(rfc, param_grid=param_grid)\n",
    "grid_search.fit(X_train, y_train)\n",
    "\n",
    "print(f\"Best hyperparameters: {grid_search.best_params_}\")\n",
    "print(f\"Best score: {grid_search.best_score_}\")"
   ]
  },
  {
   "cell_type": "code",
   "execution_count": 72,
   "id": "662f8d65-958d-4c38-8f83-0e27a02813a7",
   "metadata": {},
   "outputs": [
    {
     "name": "stdout",
     "output_type": "stream",
     "text": [
      "Accuracy: 0.8461538461538461\n",
      "precision: 0.8478260869565217\n",
      "recall: 0.8478260869565217\n",
      "f1score: 0.8478260869565218\n"
     ]
    }
   ],
   "source": [
    "#Train the tuned classifier on the entire dataset\n",
    "tuned_classifier = grid_search.best_estimator_\n",
    "tuned_classifier.fit(X_train, y_train)\n",
    "y_pred = tuned_classifier.predict(X_test)\n",
    "\n",
    "# Calculate the accuracy of the classifier\n",
    "accuracy = accuracy_score(y_test, y_pred)\n",
    "print('Accuracy:', accuracy)\n",
    "\n",
    "# Calculate the Precision of the classifier\n",
    "precision = precision_score(y_test, y_pred)\n",
    "print('precision:', precision)\n",
    "\n",
    "# Calculate the recall of the classifier\n",
    "recall = recall_score(y_test, y_pred)\n",
    "print('recall:', recall)\n",
    "\n",
    "# Calculate the recall of the classifier\n",
    "f1score = f1_score(y_test, y_pred)\n",
    "print('f1score:', f1score)\n"
   ]
  },
  {
   "cell_type": "markdown",
   "id": "a99a0405-ffa2-40d9-ba11-465d4ebc87fe",
   "metadata": {},
   "source": [
    "The overall accuracy has come down while precision has gone up means that \n",
    "\n",
    "The model becomes more conservative in its predictions and starts predicting fewer positive cases (i.e., it becomes more selective). \n"
   ]
  },
  {
   "cell_type": "code",
   "execution_count": 37,
   "id": "f97b5137-88c5-45ee-9a8a-4eba692079c1",
   "metadata": {},
   "outputs": [],
   "source": [
    "#Q8. Interpret the model by analysing the decision boundaries of the random forest classifier. Plot the\n",
    "#decision boundaries on a scatter plot of two of the most important features. Discuss the insights and\n",
    "#limitations of the model for predicting heart disease risk."
   ]
  },
  {
   "cell_type": "code",
   "execution_count": 74,
   "id": "cdb62116-aa94-444d-97d7-99292ccd58ad",
   "metadata": {},
   "outputs": [
    {
     "name": "stdout",
     "output_type": "stream",
     "text": [
      "(<211x7130 sparse matrix of type '<class 'numpy.int64'>'\n",
      "\twith 135043 stored elements in Compressed Sparse Row format>, array([   0,   83,  150,  211,  280,  343,  424,  503,  572,  627,  706,\n",
      "        775,  842,  917, 1006, 1083, 1156, 1231, 1272, 1329, 1400, 1465,\n",
      "       1538, 1597, 1670, 1745, 1810, 1887, 1970, 2053, 2122, 2175, 2262,\n",
      "       2317, 2394, 2471, 2544, 2627, 2696, 2759, 2820, 2903, 2968, 3019,\n",
      "       3092, 3175, 3230, 3295, 3368, 3433, 3506, 3581, 3640, 3717, 3792,\n",
      "       3879, 3968, 4041, 4116, 4177, 4246, 4315, 4378, 4469, 4540, 4619,\n",
      "       4694, 4759, 4824, 4903, 4964, 5043, 5118, 5193, 5252, 5315, 5392,\n",
      "       5477, 5552, 5611, 5676, 5757, 5838, 5909, 5980, 6053, 6120, 6197,\n",
      "       6274, 6343, 6420, 6507, 6578, 6659, 6742, 6813, 6886, 6953, 7000,\n",
      "       7063, 7130]))\n"
     ]
    }
   ],
   "source": [
    "# Decision Boundaries\n",
    "print(rfc.decision_path(X_train))"
   ]
  },
  {
   "cell_type": "code",
   "execution_count": 75,
   "id": "085dd38a-4b5e-4704-adac-a5fdb6bf7042",
   "metadata": {},
   "outputs": [
    {
     "data": {
      "text/plain": [
       "array([12,  7])"
      ]
     },
     "execution_count": 75,
     "metadata": {},
     "output_type": "execute_result"
    }
   ],
   "source": [
    "n = 2\n",
    "importances = rfc.feature_importances_\n",
    "feature_idx = np.argsort(importances)[-n:]\n",
    "feature_idx"
   ]
  },
  {
   "cell_type": "code",
   "execution_count": 107,
   "id": "fe11f666-6145-40a1-8365-533b4a227400",
   "metadata": {},
   "outputs": [
    {
     "data": {
      "image/png": "[encoded data removed]",
      "text/plain": [
       "<Figure size 640x480 with 1 Axes>"
      ]
     },
     "metadata": {},
     "output_type": "display_data"
    }
   ],
   "source": [
    "from mlxtend.plotting import plot_decision_regions\n",
    "\n",
    "plot_decision_regions(X=X_test.values, y=y_test.values, clf=rfc, legend=2,feature_index=[7,12], filler_feature_values=[0,1,2,3,4,5,6,7,8,9,10,11,12])\n",
    "\n",
    "plt.show()"
   ]
  },
  {
   "cell_type": "markdown",
   "id": "2697bce6-8c6a-450b-80e9-37916e512206",
   "metadata": {},
   "source": [
    "Since random forests are probabilistic models, there is not necessarily a clear decision boundary like we would get from a non-probabilistic linear classifier like SVM"
   ]
  },
  {
   "cell_type": "code",
   "execution_count": null,
   "id": "e85fe569-32a9-4e9f-a816-d5ce32e58cb6",
   "metadata": {},
   "outputs": [],
   "source": []
  }
 ],
 "metadata": {
  "kernelspec": {
   "display_name": "Python 3 (ipykernel)",
   "language": "python",
   "name": "python3"
  },
  "language_info": {
   "codemirror_mode": {
    "name": "ipython",
    "version": 3
   },
   "file_extension": ".py",
   "mimetype": "text/x-python",
   "name": "python",
   "nbconvert_exporter": "python",
   "pygments_lexer": "ipython3",
   "version": "3.10.8"
  }
 },
 "nbformat": 4,
 "nbformat_minor": 5
}
