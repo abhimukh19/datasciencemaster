{
 "cells": [
  {
   "cell_type": "code",
   "execution_count": 1,
   "id": "68d5c05b-bdfc-4811-8272-f991ef8e491e",
   "metadata": {},
   "outputs": [],
   "source": [
    "#Q1: What is Estimation Statistics? Explain point estimate and interval estimate.\n",
    "\n",
    "#A1 Estimation statistics is a data analysis framework that uses a combination of effect sizes, confidence intervals to plan experiments, analyze data and interpret results\n",
    "\n",
    "#Point estimate is a single value that estimates an unknown parameter. For example, the sample mean is a point estimate of the population mean but it doesnt give any information the certainity on the estimate itself\n",
    "# An interval estimate is a range of values that estimates an unknown parameter and gives a confidence interval on the range of estimates as well for example confidence interval of 95%"
   ]
  },
  {
   "cell_type": "code",
   "execution_count": 55,
   "id": "4156d2ca-05e4-4bf1-b5fc-8d54268f35a1",
   "metadata": {},
   "outputs": [],
   "source": [
    "#Q2 Write a Python function to estimate the population mean using a sample mean and standard deviation.\n",
    "#import the relevant libraries\n",
    "import numpy as np\n",
    "from scipy import stats\n",
    "from statistics import stdev\n",
    "\n",
    "#. Let’s we want to estimate the mean height of men in a country\n",
    "samplesize=0# No of men in a sample\n",
    "samplemean=0 # Mean height of men in sample\n",
    "samplestd=0 #sample std deviation\n",
    "def calculate_pop_mean(samplesize, samplemean, samplestd):\n",
    "    # Next we should contruct a 95% confidence interval for the population mean using the t-distribution\n",
    "    alpha = 0.1 # significance level\n",
    "    df = samplesize - 1 # degrees of freedom\n",
    "    t_value = stats.t.ppf(1 - alpha/2, df) # calculating t value\n",
    "    population_upperlimit= samplemean + t_value*samplestd/(samplesize** 0.5)# calculate confidence interval\n",
    "    population_lowerlimit= samplemean - t_value*samplestd/(samplesize** 0.5) # calculate confidence interval\n",
    "    pop_mean= (population_upperlimit+population_lowerlimit)/2\n",
    "    return population_lowerlimit, population_upperlimit"
   ]
  },
  {
   "cell_type": "code",
   "execution_count": 57,
   "id": "90a56030-03d7-4606-a46c-b23724b3bba1",
   "metadata": {},
   "outputs": [
    {
     "name": "stdin",
     "output_type": "stream",
     "text": [
      "Enter the value of the sample size:  40\n",
      "Enter the value of the sample mean:  175\n",
      "Enter the value of the sample std deviation:  10\n"
     ]
    },
    {
     "name": "stdout",
     "output_type": "stream",
     "text": [
      "There is 95% confidence that the Population mean lies in  (172.33597852471993, 177.66402147528007)\n"
     ]
    }
   ],
   "source": [
    "samplesize=int(input(\"Enter the value of the sample size: \"))\n",
    "samplemean=int(input(\"Enter the value of the sample mean: \"))\n",
    "samplestd=int(input(\"Enter the value of the sample std deviation: \"))\n",
    "print(f\"There is 95% confidence that the Population mean lies in  {calculate_pop_mean(samplesize,samplemean,samplestd)}\")"
   ]
  },
  {
   "cell_type": "code",
   "execution_count": null,
   "id": "4f0b90e4-3daf-4220-b9d5-4b9bb3022119",
   "metadata": {},
   "outputs": [],
   "source": [
    "#Q3: What is Hypothesis testing? Why is it used? State the importance of Hypothesis testing.\n",
    "#A3  Hypothesis testing is a form of inference that uses data from a sample to draw conclusions about a population or a population probability distribution\n",
    "# It is used to assess the possibility of an alternate hypothesis by comparing it with the null hypothesis\n",
    "# It is important because as it helps test predictions that arise from theories and provides evidence for or against the proposed hypothesis"
   ]
  },
  {
   "cell_type": "code",
   "execution_count": 19,
   "id": "7af6fb85-c3f5-4cc6-bf43-759fabbb620a",
   "metadata": {},
   "outputs": [],
   "source": [
    "#Q4 Create a hypothesis that states whether the average weight of male college students is greater than the average weight of female college students.\n",
    "\n",
    "#Null Hypothesis: There is no difference in the average weight of male and female college students.\n",
    "#Alternative Hypothesis: The average weight of male college students is greater than the average weight of female college students\n",
    "#To test this hypothesis, we would need to collect data on the weights of a representative sample of male and female college students and compare their means using a statistical test such as a t-test."
   ]
  },
  {
   "cell_type": "code",
   "execution_count": 33,
   "id": "b3b9c98a-8e0c-401d-90bb-d8609d18f288",
   "metadata": {},
   "outputs": [
    {
     "name": "stdout",
     "output_type": "stream",
     "text": [
      "The p value of 1.3647828190280547e-40 indicates that we can reject the null hypothesis and conclude that there is a significant difference between population means\n"
     ]
    }
   ],
   "source": [
    "#Q5. Write a Python script to conduct a hypothesis test on the difference between two population means, given a sample from each population.\n",
    "#A5 \n",
    "\n",
    "import numpy as np\n",
    "from scipy import stats\n",
    "# generate random data from two normal distributions\n",
    "sample_set1=np.random.normal(loc=10, scale=5,size=100)\n",
    "sample_set2=np.random.normal(loc=20, scale=4,size=100)\n",
    "t_stat, p_value = stats.ttest_ind(sample_set1, sample_set2)\n",
    "\n",
    "if (p_value<0.05): #p value is quite small\n",
    "    print(f\"The p value of {p_value} indicates that we can reject the null hypothesis and conclude that there is a significant difference between population means\")\n",
    "else:\n",
    "        print(f\"The p value of {p_value} indicates that we can accept the null hypothesis and conclude that difference between population means is small\")"
   ]
  },
  {
   "cell_type": "code",
   "execution_count": null,
   "id": "c48c9ca9-6a5f-4151-b6c5-8e606ad82d27",
   "metadata": {},
   "outputs": [],
   "source": [
    "#Q6: What is a null and alternative hypothesis? Give some examples.\n",
    "#A6 A null hypothesis is a statement that assumes there is no difference or no effect between two variables or groups\n",
    "#An alternative hypothesis is a statement that contradicts the null hypothesis and claims there is some difference or effect\n",
    "\n",
    "#example \n",
    "#Null Hypothesis: There is no difference in the average weight of male and female college students.\n",
    "#Alternative Hypothesis: The average weight of male college students is greater than the average weight of female college students\n",
    "\n",
    "#Null Hypothesis:  Buying stocks during a down market will not earn higher returns\n",
    "#Alternative Hypothesis:  Buying stocks during a down market will earn significantly higher returns\n"
   ]
  },
  {
   "cell_type": "code",
   "execution_count": 34,
   "id": "3be952b3-f519-49eb-952f-5b3eef8b3e1d",
   "metadata": {},
   "outputs": [],
   "source": [
    "#Q7: Write down the steps involved in hypothesis testing.\n",
    "\n",
    "#A7 State the null hypothesis and alternate hypothesis (H0 and H1).\n",
    "#Collect sample data which is representative of the population\n",
    "#Perform an appropriate statistical test such as z-test or t-test\n",
    "#Decide whether to reject or fail to reject null hypothesis.\n",
    "#Present the findings"
   ]
  },
  {
   "cell_type": "code",
   "execution_count": null,
   "id": "1148ddbd-148a-4824-b4a8-e707bdabd481",
   "metadata": {},
   "outputs": [],
   "source": [
    "#Q8 Define p-value and explain its significance in hypothesis testing\n",
    "#A8 A p-value helps evaluate hypothesis against observed data. \n",
    "#The lower the p-value, the more evidence to reject the null hypothesis and accept an alternative one\n",
    "#For example, if we set the significance level at 0.05, then we would reject the null hypothesis if your p-value is less than or equal to 0.05"
   ]
  },
  {
   "cell_type": "code",
   "execution_count": 39,
   "id": "994f3004-d012-4de3-88ca-28e95a336f86",
   "metadata": {},
   "outputs": [
    {
     "data": {
      "image/png": "[encoded data removed]",
      "text/plain": [
       "<Figure size 640x480 with 1 Axes>"
      ]
     },
     "metadata": {},
     "output_type": "display_data"
    }
   ],
   "source": [
    "#Q9. Generate a Student's t-distribution plot using Python's matplotlib library, with the degrees of freedom parameter set to 10.\n",
    "\n",
    "from scipy.stats import t\n",
    "import matplotlib.pyplot as plt\n",
    "\n",
    "sample_set= t.rvs(df=10, size=1000)\n",
    "plt.hist(sample_set, density=True, edgecolor='black', bins=50)\n",
    "plt.title(\"The Students' T-Distribution Plot\")\n",
    "plt.xlabel(\"X Axis\")\n",
    "plt.ylabel(\"Density\")\n",
    "plt.show()"
   ]
  },
  {
   "cell_type": "code",
   "execution_count": 48,
   "id": "56895ccb-5df5-43cd-9e04-787afa9fbe04",
   "metadata": {},
   "outputs": [
    {
     "name": "stdout",
     "output_type": "stream",
     "text": [
      "The p value of 1.975877495833523e-14 indicates that we can reject the null hypothesis and conclude that there is a significant difference between population means\n",
      "\n",
      "The p value of 0.5498713195832753 indicates that we can accept the null hypothesis and conclude that difference between population means is small\n"
     ]
    }
   ],
   "source": [
    "#Q10. Write a Python program to calculate the two-sample t-test for independent samples, given two random samples of equal size and a null hypothesis that the population means are equal.\n",
    "\n",
    "import numpy as np\n",
    "from scipy import stats\n",
    "# generate random data from two normal distributions sample means quite different\n",
    "sample_set1=np.random.normal(loc=10, scale=5,size=100)\n",
    "sample_set2=np.random.normal(loc=15, scale=4,size=100)\n",
    "t_stat, p_value = stats.ttest_ind(sample_set1, sample_set2)\n",
    "\n",
    "if (p_value<0.05): #p value is quite small\n",
    "    print(f\"The p value of {p_value} indicates that we can reject the null hypothesis and conclude that there is a significant difference between population means\")\n",
    "else:\n",
    "        print(f\"The p value of {p_value} indicates that we can accept the null hypothesis and conclude that difference between population means is small\")\n",
    "        \n",
    "# generate random data from two normal distributions with sample means quite close\n",
    "sample_set3=np.random.normal(loc=10, scale=5,size=100)\n",
    "sample_set4=np.random.normal(loc=10, scale=4,size=100)\n",
    "t_stat1, p_value1 = stats.ttest_ind(sample_set3, sample_set4)\n",
    "\n",
    "if (p_value1<0.05): #p value is quite small\n",
    "    print(f\"\\nThe p value of {p_value1} indicates that we can reject the null hypothesis and conclude that there is a significant difference between population means\")\n",
    "else:\n",
    "        print(f\"\\nThe p value of {p_value1} indicates that we can accept the null hypothesis and conclude that difference between population means is small\")"
   ]
  },
  {
   "cell_type": "code",
   "execution_count": null,
   "id": "d923d3a5-1706-4521-a706-1582917de9ee",
   "metadata": {},
   "outputs": [],
   "source": [
    "#Q11: What is Student’s t distribution? When to use the t-Distribution.\n",
    "\n",
    "#A11: Student’s t-distribution used when the sample size is small and the population variance is unknown\n",
    "# It can be used to estimate the mean of a normally distributed population\n",
    "#To test the significance of the difference between two sample means\n",
    "#To construct confidence intervals for the difference between two population means"
   ]
  },
  {
   "cell_type": "code",
   "execution_count": null,
   "id": "45e59201-f76d-4e8f-a524-10a52e5c604f",
   "metadata": {},
   "outputs": [],
   "source": [
    "#Q12: What is t-statistic? State the formula for t-statistic.\n",
    "#A12 A t-statistic is a value that measures how much a sample mean differs from the population mean\n",
    "#t = (x̄ – μ) / (s / √n) #one sample t test\n",
    "#t = (x̄1 – x̄2) / √(s2/n1 + s2/n2) #two sample t test\n",
    "#where x̄ is the sample mean, μ is the population mean, s is the sample standard deviation, and n is the sample size"
   ]
  },
  {
   "cell_type": "code",
   "execution_count": 64,
   "id": "065afa4d-6570-43ed-a11f-26b5ecb942ff",
   "metadata": {},
   "outputs": [
    {
     "name": "stdout",
     "output_type": "stream",
     "text": [
      "Using t-test: There is 95% confidence that the population mean lies between (488.1449949532307, 511.8550050467693)\n",
      "Using z-test: There is 95% confidence that the population mean lies between (486.1407070887437, 513.8592929112564)\n"
     ]
    }
   ],
   "source": [
    "#Q13. A coffee shop owner wants to estimate the average daily revenue for their shop. They take a random\n",
    "#sample of 50 days and find the sample mean revenue to be $500 with a standard deviation of $50.\n",
    "#Estimate the population mean revenue with a 95% confidence interval.\n",
    "\n",
    "import numpy as np\n",
    "from scipy import stats\n",
    "from statistics import stdev\n",
    "\n",
    "#. Let’s we want to estimate the mean height of men in a country\n",
    "samplesize=50# No of days in a sample\n",
    "samplemean=500 # Mean revenue in sample\n",
    "samplestd=50 #sample std deviation\n",
    "# Next we should contruct a 95% confidence interval for the population mean using the t-distribution\n",
    "alpha = 0.1 # significance level\n",
    "df = samplesize - 1 # degrees of freedom\n",
    "t_value = stats.t.ppf(1 - alpha/2, df) # calculating t value\n",
    "population_upperlimit= samplemean + t_value*samplestd/(samplesize** 0.5)# calculate confidence interval\n",
    "population_lowerlimit= samplemean - t_value*samplestd/(samplesize** 0.5) # calculate confidence interval\n",
    "print(f\"Using t-test: There is 95% confidence that the population mean lies between {population_lowerlimit,population_upperlimit}\")\n",
    "\n",
    "#using z-score\n",
    "z_value=1.96 # Z value is 1.96 for 95% confidence level\n",
    "population_upperlimit= samplemean + z_value*samplestd/(samplesize** 0.5)# calculate confidence interval\n",
    "population_lowerlimit= samplemean - z_value*samplestd/(samplesize** 0.5) # calculate confidence interval\n",
    "print(f\"Using z-test: There is 95% confidence that the population mean lies between {population_lowerlimit,population_upperlimit}\")"
   ]
  },
  {
   "cell_type": "code",
   "execution_count": 19,
   "id": "c4118ed5-1b16-4eff-b018-06d815636194",
   "metadata": {},
   "outputs": [
    {
     "name": "stdout",
     "output_type": "stream",
     "text": [
      "The T Statistic value is -6.666666666666667\n",
      "The T Critical value is -1.6603911559963895\n",
      "We reject null hypothesis and conclude that there is enough evidence to support that the mean decrease in blood pressure due to the new drug is less than 10 mmHg\n"
     ]
    }
   ],
   "source": [
    "#Q14. A researcher hypothesizes that a new drug will decrease blood pressure by 10 mmHg. They conduct a\n",
    "#clinical trial with 100 patients and find that the sample mean decrease in blood pressure is 8 mmHg with a\n",
    "#standard deviation of 3 mmHg. Test the hypothesis with a significance level of 0.05.\n",
    "\n",
    "#Null hypothesis (H0) could be that the mean decrease in blood pressure due to the new drug is equal to 10 mmHg.\n",
    "#Alternative hypothesis (Ha) could be that the mean decrease in blood pressure due to the new drug is less than 10 mmHg\n",
    "from statistics import stdev\n",
    "from scipy import stats\n",
    "\n",
    "samplesize=100# No of days in a sample\n",
    "samplemean=8 # Mean revenue in sample\n",
    "samplestd=3 #sample std deviation\n",
    "popmean=10\n",
    "#To perform this test, you need to calculate the t-statistic using this formula:\n",
    "\n",
    "t_statistic=(samplemean-popmean)/(samplestd/(samplesize**0.5))\n",
    "print(f\"The T Statistic value is {t_statistic}\")\n",
    "                        \n",
    "#The next step is to decide whether to reject or fail to reject your null hypothesis based on the significance level of 0.05.\n",
    "alpha = 0.1 # significance level\n",
    "df = samplesize - 1 # degrees of freedom\n",
    "t_critical = -(stats.t.ppf(1 - (alpha/2), df)) # calculating t value\n",
    "print(f\"The T Critical value is {t_critical}\")\n",
    "if(t_statistic<t_critical):\n",
    "    print(\"We reject null hypothesis and conclude that there is enough evidence to support that the mean decrease in blood pressure due to the new drug is less than 10 mmHg\")\n",
    "else:\n",
    "    print(\"We accept null hypothesis that mean decrease in blood pressure due to support that the new drug is equal to 10 mmHg\")"
   ]
  },
  {
   "cell_type": "code",
   "execution_count": null,
   "id": "922f54dd-098b-4cb8-a482-86d9a119677d",
   "metadata": {},
   "outputs": [],
   "source": [
    "#Q15. An electronics company produces a certain type of product with a mean weight of 5 pounds and a\n",
    "#standard deviation of 0.5 pounds. A random sample of 25 products is taken, and the sample mean weight\n",
    "#is found to be 4.8 pounds. Test the hypothesis that the true mean weight of the products is less than 5\n",
    "#pounds with a significance level of 0.01."
   ]
  },
  {
   "cell_type": "code",
   "execution_count": 23,
   "id": "f941812c-9efb-4d2e-bdd2-c45d0544c63d",
   "metadata": {},
   "outputs": [
    {
     "name": "stdout",
     "output_type": "stream",
     "text": [
      "The T Statistic value is -2.0000000000000018\n",
      "The T Critical value is -2.4921594731575762\n",
      "We accept null hypothesis and conclude that the true mean weight of products is equal to  5\n"
     ]
    }
   ],
   "source": [
    "#Null hypothesis (H0) could be that the true mean weight of products is equal to 5\n",
    "#Alternative hypothesis (Ha) could be that the true mean weight of products is less than 5\n",
    "\n",
    "\n",
    "from statistics import stdev\n",
    "from scipy import stats\n",
    "samplesize=25# No of days in a sample\n",
    "samplemean=4.8 # Mean revenue in sample\n",
    "samplestd=0.5 #sample std deviation\n",
    "popmean=5\n",
    "alpha = 0.1 # significance level\n",
    "df = samplesize - 1 # degrees of freedom\n",
    "\n",
    "#To perform this test, you need to calculate the t-statistic using this formula:\n",
    "\n",
    "t_statistic=(samplemean-popmean)/(samplestd/(samplesize**0.5))\n",
    "print(f\"The T Statistic value is {t_statistic}\")\n",
    "                        \n",
    "t_critical = -(stats.t.ppf(1 - (alpha/10), df)) # calculating t value at significance level of 0.01\n",
    "\n",
    "print(f\"The T Critical value is {t_critical}\")\n",
    "\n",
    "if(t_statistic<t_critical):\n",
    "    print(\"We reject null hypothesis and conclude that the true mean weight of products is less than 5\")\n",
    "else:\n",
    "    print(\"We accept null hypothesis and conclude that the true mean weight of products is equal to  5\")"
   ]
  },
  {
   "cell_type": "code",
   "execution_count": 41,
   "id": "81bb8f24-8432-4f6d-bca3-c37929fb9c1a",
   "metadata": {},
   "outputs": [
    {
     "name": "stdout",
     "output_type": "stream",
     "text": [
      "The pool standard deviation is 8.908026783551483\n",
      "The T Statistic value is 2.323967729699292\n",
      "Since p value is 0.02312301341372599 >0.01, we accept null hypothesis that population means of the two groups are equal \n"
     ]
    }
   ],
   "source": [
    "#Q16. Two groups of students are given different study materials to prepare for a test. The first group (n1 =\n",
    "#30) has a mean score of 80 with a standard deviation of 10, and the second group (n2 = 40) has a mean\n",
    "#score of 75 with a standard deviation of 8. Test the hypothesis that the population means for the two\n",
    "#groups are equal with a significance level of 0.01.\n",
    "\n",
    "#Null hypothesis (H0) could be that the population means of the two groups are equal\n",
    "#Alternative hypothesis (Ha) could be that population means of the two groups are not equal\n",
    "#import relevant libraries\n",
    "#initialize values\n",
    "from statistics import stdev\n",
    "from scipy import stats\n",
    "n1=30\n",
    "n2=40\n",
    "m1=80\n",
    "m2=75\n",
    "s1=10\n",
    "s2=8\n",
    "alpha=0.1\n",
    "df=n1 + n2 - 2 #degree of freedom\n",
    "exp_1= ((n1-1)*(s1*s1))/(n1+n2-2)\n",
    "exp_2= ((n2-1)*(s2*s2))/(n1+n2-2)\n",
    "pool_std =(exp_1+exp_2)**0.5\n",
    "print(f\"The pool standard deviation is {pool_std}\")\n",
    "\n",
    "t_statistic=(m1-m2)/(pool_std*((1/n1+1/n2)**0.5))\n",
    "print(f\"The T Statistic value is {t_statistic}\")\n",
    "\n",
    "p = stats.t.sf(abs(t_statistic), df) * 2\n",
    "\n",
    "\n",
    "print(f\"Since p value is {p} >0.01, we accept null hypothesis that population means of the two groups are equal \")\n"
   ]
  },
  {
   "cell_type": "code",
   "execution_count": 43,
   "id": "369a33bc-3669-4954-910d-de46b713e022",
   "metadata": {},
   "outputs": [
    {
     "name": "stdout",
     "output_type": "stream",
     "text": [
      "With T Test the population mean would fall into  3.4898454186174037, 4.510154581382596\n",
      "With Z Test the population mean would fall into  3.452699351361612, 4.547300648638387\n"
     ]
    }
   ],
   "source": [
    "#Q17. A marketing company wants to estimate the average number of ads watched by viewers during a TV\n",
    "#program. They take a random sample of 50 viewers and find that the sample mean is 4 with a standard\n",
    "#deviation of 1.5. Estimate the population mean with a 99% confidence interval.\n",
    "\n",
    "#. Let’s we want to estimate the mean height of men in a country\n",
    "samplesize=50# No of men in a sample\n",
    "samplemean=4 # Mean height of men in sample\n",
    "samplestd=1.5 #sample std deviation\n",
    "# Next we should contruct a 95% confidence interval for the population mean using the t-distribution\n",
    "alpha = 0.1 # significance level\n",
    "df = samplesize - 1 # degrees of freedom\n",
    "t_value = stats.t.ppf(1 - alpha/10, df) # calculating t value\n",
    "population_upperlimit= samplemean + t_value*samplestd/(samplesize** 0.5)# calculate confidence interval\n",
    "population_lowerlimit= samplemean - t_value*samplestd/(samplesize** 0.5) # calculate confidence interval\n",
    "print(f\"With T Test the population mean would fall into  {population_lowerlimit}, {population_upperlimit}\")\n",
    "\n",
    "z_value=2.58 #z value at 99% confidence interval\n",
    "population_upperlimit_z= samplemean + z_value*samplestd/(samplesize** 0.5)# calculate confidence interval\n",
    "population_lowerlimit_z= samplemean - z_value*samplestd/(samplesize** 0.5) # calculate confidence interval\n",
    "print(f\"With Z Test the population mean would fall into  {population_lowerlimit_z}, {population_upperlimit_z}\")"
   ]
  },
  {
   "cell_type": "code",
   "execution_count": null,
   "id": "f468aa01-b3d9-4cd5-b7a9-ca14d6f7865b",
   "metadata": {},
   "outputs": [],
   "source": []
  }
 ],
 "metadata": {
  "kernelspec": {
   "display_name": "Python 3 (ipykernel)",
   "language": "python",
   "name": "python3"
  },
  "language_info": {
   "codemirror_mode": {
    "name": "ipython",
    "version": 3
   },
   "file_extension": ".py",
   "mimetype": "text/x-python",
   "name": "python",
   "nbconvert_exporter": "python",
   "pygments_lexer": "ipython3",
   "version": "3.10.8"
  }
 },
 "nbformat": 4,
 "nbformat_minor": 5
}
