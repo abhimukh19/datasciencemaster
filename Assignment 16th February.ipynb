{
 "cells": [
  {
   "cell_type": "code",
   "execution_count": 1,
   "id": "d2f8802e-bad4-4b15-a787-e17f4ec2c2d0",
   "metadata": {},
   "outputs": [],
   "source": [
    "### Q1. What is a database? Differentiate between SQL and NoSQL databases.\n",
    "\n",
    "### A1 A database is a collection of information or data stored on a server. Data may be structure, semi-strctured or unstructured. There are two types of databases SQL which are relationtional databases and a fixed schema while NoSQL which are primarily used to store semi-structure or unstructured data dont have a fixed schema. The No SQL DBs are know for their peformance and acceptance of semi/unstructured data. "
   ]
  },
  {
   "cell_type": "code",
   "execution_count": 2,
   "id": "c1d770ce-b20c-4847-9f66-0429c4217d2a",
   "metadata": {},
   "outputs": [],
   "source": [
    "### Q2. What is DDL? Explain why CREATE, DROP, ALTER, and TRUNCATE are used with an example.\n",
    "### A2 The data defintion language helps your define or update your database and the underlying charactersitics including table, rows and columns in a SQL Database.\n",
    "### CREATE is used to create a new table. Example  CREATE TABLE Mytable (Roll_Num int, LastName varchar(255), FirstName varchar(255))\n",
    "###DROP is used to delete an existing table. For example: DROP TABLE Mytable\n",
    "###ALTER is used to modify an existing table. For example: ALTER TABLE Persons ADD COLUMN Age int;\n",
    "### TRUNCATE is used to remove all records from a table. For example: TRUNCATE TABLE Persons;"
   ]
  },
  {
   "cell_type": "code",
   "execution_count": 2,
   "id": "50ea38a4-0ba0-49b3-9459-b3d78343db9c",
   "metadata": {},
   "outputs": [],
   "source": [
    "### Q3 What is DML? Explain INSERT, UPDATE, and DELETE with an example.\n",
    "### A3 The data manipulation language is used to store, modify, retrieve, delete, and update data in a database\n",
    "\n",
    "### Insert is used to insert data into a table which is also called a new row: INSERT INTO Mytable (Roll_Num, LastName, FirstName) VALUES (101, 'Mukherjee', 'Abhishek')\n",
    "### Update is used to update data in a table based on a primary key UPDATE Mytable SET LastName = 'Jones' WHERE Roll_Num = 101\n",
    "### Delete is used delete a row in a table Delete from Mytable where Roll_Num-101"
   ]
  },
  {
   "cell_type": "code",
   "execution_count": null,
   "id": "f22a6596-da54-4633-9b7d-1fc7c02956f6",
   "metadata": {},
   "outputs": [],
   "source": [
    "### Q4 What is DQL? Explain SELECT with an example.\n",
    "### A4 The data query language is used to retrieve data from a table or a database \n",
    "### SELECT statement is used retrieve all the data from MyTable: SELECT * FROM Mytable"
   ]
  },
  {
   "cell_type": "code",
   "execution_count": 3,
   "id": "271e6e28-844a-42ac-8a5a-d3c0054478fe",
   "metadata": {},
   "outputs": [],
   "source": [
    "## Q5. Explain Primary Key and Foreign Key.\n",
    "## A5 Primary Key is the unique identifier in a table which helps identify a data row in a table, Foreign Key used to connect one entity/table in a database to another entity/table in the database. This is also called entity relationship"
   ]
  },
  {
   "cell_type": "code",
   "execution_count": 14,
   "id": "a33f9a3d-f93f-4d59-a46a-e723855d8bf3",
   "metadata": {},
   "outputs": [],
   "source": [
    "## Q6 Write a python code to connect MySQL to python. Explain the cursor() and execute() method.\n",
    "## A6 A cursor is an object that allows the code to execute commands in a database session and Execute is an object helps to execute the query and return records according to the query parameters or conditions\n",
    "#import the library. This code doesnt work from Jupyternotebook but from the Python file directly\n",
    "# import mysql.connector\n",
    "import mysql.connector\n",
    "mydb = mysql.connector.connect(\n",
    "  host=\"localhost\",\n",
    "  user=\"abc\",\n",
    "  password=\"password\"\n",
    ")\n",
    "print(mydb)\n",
    "mycursor = mydb.cursor()\n",
    "print(mycursor)\n",
    "mycursor.execute(\"insert into Testdb.Mytable values (102, 'John', 'Simon')\")\n",
    "mydb.commit()\n",
    "mydb.close()"
   ]
  },
  {
   "cell_type": "code",
   "execution_count": null,
   "id": "8dc2f678-b5f1-49ba-b5b6-42ea4dbf44e4",
   "metadata": {},
   "outputs": [],
   "source": [
    "### Q7 Give the order of execution of SQL clauses in an SQL query.\n",
    "### A7 It is the sequence in which the database processes different parts of the query to produce the final result\n",
    "### The order is : FROM clause, ON clause, OUTER clause, WHERE clause, GROUP BY clause, HAVING clause, SELECT clause, DISTINCT clause, ORDER BY clause"
   ]
  }
 ],
 "metadata": {
  "kernelspec": {
   "display_name": "Python 3 (ipykernel)",
   "language": "python",
   "name": "python3"
  },
  "language_info": {
   "codemirror_mode": {
    "name": "ipython",
    "version": 3
   },
   "file_extension": ".py",
   "mimetype": "text/x-python",
   "name": "python",
   "nbconvert_exporter": "python",
   "pygments_lexer": "ipython3",
   "version": "3.10.8"
  }
 },
 "nbformat": 4,
 "nbformat_minor": 5
}
