{
 "cells": [
  {
   "cell_type": "code",
   "execution_count": 1,
   "id": "c4ebba76-732e-4d87-901b-948931af5abd",
   "metadata": {},
   "outputs": [],
   "source": [
    "### Q1. Create a Pandas Series that contains the following data: 4, 8, 15, 16, 23, and 42. Then, print the series."
   ]
  },
  {
   "cell_type": "code",
   "execution_count": 4,
   "id": "a2fc3c2a-ad30-4055-9034-2b97d182a19a",
   "metadata": {},
   "outputs": [
    {
     "name": "stdout",
     "output_type": "stream",
     "text": [
      "0     4\n",
      "1     8\n",
      "2    15\n",
      "3    16\n",
      "4    23\n",
      "5    42\n",
      "dtype: int64\n"
     ]
    }
   ],
   "source": [
    "import pandas as abhi\n",
    "\n",
    "list1=[4,8,15,16,23,42]\n",
    "\n",
    "print(abhi.Series(list1))\n"
   ]
  },
  {
   "cell_type": "code",
   "execution_count": null,
   "id": "f838e884-8e52-443d-85c6-83ce95f848a7",
   "metadata": {},
   "outputs": [],
   "source": [
    "### Q2 Create a variable of list type containing 10 elements in it, and apply pandas.Series function on the variable print it."
   ]
  },
  {
   "cell_type": "code",
   "execution_count": 6,
   "id": "ac44ddb7-a10b-48d7-8b28-9c52ef53dc41",
   "metadata": {},
   "outputs": [
    {
     "name": "stdout",
     "output_type": "stream",
     "text": [
      "     0\n",
      "0    4\n",
      "1    8\n",
      "2   15\n",
      "3   16\n",
      "4   23\n",
      "5   42\n",
      "6   12\n",
      "7   12\n",
      "8  141\n",
      "9   51\n"
     ]
    }
   ],
   "source": [
    "\n",
    "import pandas as abhi\n",
    "\n",
    "list1=list([4,8,15,16,23,42,12,12,141,51])\n",
    "\n",
    "print(abhi.DataFrame(list1))\n",
    "\n"
   ]
  },
  {
   "cell_type": "code",
   "execution_count": null,
   "id": "7494b5ea-093f-4ac4-94d7-69810f9eeecf",
   "metadata": {},
   "outputs": [],
   "source": [
    "### Q3 Create a Pandas DataFrame that contains the following data:"
   ]
  },
  {
   "cell_type": "code",
   "execution_count": 8,
   "id": "8ee031bc-5249-4277-ad4a-1464c8ed505f",
   "metadata": {},
   "outputs": [
    {
     "name": "stdout",
     "output_type": "stream",
     "text": [
      "     Name  Age  Gender\n",
      "0   Alice   25  Female\n",
      "1     Bob   30    Male\n",
      "2  Claire   27  Female\n"
     ]
    }
   ],
   "source": [
    "import pandas as abhi\n",
    "\n",
    "data=[{\"Name\": \"Alice\", \"Age\":25, \"Gender\":\"Female\"},\n",
    "      {\"Name\": \"Bob\", \"Age\":30, \"Gender\":\"Male\"},\n",
    "      {\"Name\": \"Claire\", \"Age\":27, \"Gender\":\"Female\"}]\n",
    "\n",
    "print(abhi.DataFrame(data))"
   ]
  },
  {
   "cell_type": "code",
   "execution_count": null,
   "id": "512ef687-0baf-4425-9c00-13db91ad3911",
   "metadata": {},
   "outputs": [],
   "source": [
    "##Q4 What is ‘DataFrame’ in pandas and how is it different from pandas.series? Explain with an example.\n",
    "## A4 A DataFrame is a data structure that can store data of different types such as characters, integers etc. in a row- columns schema. Each column is stored as a series\n",
    "### The main difference that a DataFrame is a collection of one or more Series, whereas a Series is just a single vertical list with an index starting from 0"
   ]
  },
  {
   "cell_type": "code",
   "execution_count": 29,
   "id": "002e4b1f-b5f8-41ab-9de8-153a307530f1",
   "metadata": {},
   "outputs": [
    {
     "name": "stdout",
     "output_type": "stream",
     "text": [
      "     Name  Age  Gender\n",
      "0   Alice   25  Female\n",
      "1     Bob   30    Male\n",
      "2  Claire   27  Female\n",
      "  FirstName  Age  Gender\n",
      "0     Alice   25  Female\n",
      "1       Bob   30    Male\n",
      "2    Claire   27  Female\n"
     ]
    }
   ],
   "source": [
    "### Q5. What are some common functions you can use to manipulate data in a Pandas DataFrame? Can you give an example of when you might use one of these functions?\n",
    "\n",
    "### A5 The common functions are drop(): which allows to remove one or more rows or columns from a DataFrame\n",
    "### rename(): allows to change the names of one or more rows or columns in a DataFrame\n",
    "### merge(): This function allows to combine two DataFrames based on common values in one or more columns\n",
    "### groupby(): This function allows to split the data into groups based on some criteria and apply some aggregation or transformation function to each group\n",
    "\n",
    "#example of rename()\n",
    "\n",
    "import pandas as abhi\n",
    "\n",
    "data=[{\"Name\": \"Alice\", \"Age\":25, \"Gender\":\"Female\"},\n",
    "      {\"Name\": \"Bob\", \"Age\":30, \"Gender\":\"Male\"},\n",
    "      {\"Name\": \"Claire\", \"Age\":27, \"Gender\":\"Female\"}]\n",
    "\n",
    "df= abhi.DataFrame(data)\n",
    "print(df)\n",
    "##rename of name column to first name\n",
    "df= df.rename(columns={\"Name\":\"FirstName\"})\n",
    "print(df)"
   ]
  },
  {
   "cell_type": "code",
   "execution_count": null,
   "id": "149f465e-9c69-46a1-8c00-2a70dc868238",
   "metadata": {},
   "outputs": [],
   "source": [
    "### Q6 Which of the following is mutable in nature Series, DataFrame, Panel?\n",
    "\n",
    "#### A7 DataFrame and Panel are mutable in nature for example you can update the column names or data in Dataframe\n"
   ]
  },
  {
   "cell_type": "code",
   "execution_count": 28,
   "id": "e3caab4c-c918-46ad-aa54-8b8164eecb18",
   "metadata": {},
   "outputs": [
    {
     "name": "stdout",
     "output_type": "stream",
     "text": [
      "     0    1\n",
      "a  1.0  4.0\n",
      "b  2.0  NaN\n",
      "c  3.0  NaN\n",
      "g  4.0  NaN\n",
      "d  NaN  5.0\n",
      "e  NaN  6.0\n",
      "f  NaN  7.0\n"
     ]
    }
   ],
   "source": [
    "### Q7. Create a DataFrame using multiple Series. Explain with an example.\n",
    "##combining two series together with axis = 1 so that the merge happens at column level\n",
    "\n",
    "import pandas as pd\n",
    "\n",
    "series1 = pd.Series([1,2,3,4],index=['a','b','c','g'])\n",
    "series2 = pd.Series([4,5,6,7],index=['a','d','e','f'])\n",
    "\n",
    "df = pd.concat([series1, series2], axis=1)\n",
    "print(df)"
   ]
  },
  {
   "cell_type": "code",
   "execution_count": null,
   "id": "8daa48f2-118d-4ca3-a08e-7ed38c1834db",
   "metadata": {},
   "outputs": [],
   "source": []
  }
 ],
 "metadata": {
  "kernelspec": {
   "display_name": "Python 3 (ipykernel)",
   "language": "python",
   "name": "python3"
  },
  "language_info": {
   "codemirror_mode": {
    "name": "ipython",
    "version": 3
   },
   "file_extension": ".py",
   "mimetype": "text/x-python",
   "name": "python",
   "nbconvert_exporter": "python",
   "pygments_lexer": "ipython3",
   "version": "3.10.8"
  }
 },
 "nbformat": 4,
 "nbformat_minor": 5
}
