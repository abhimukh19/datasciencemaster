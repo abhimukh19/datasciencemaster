{
 "cells": [
  {
   "cell_type": "code",
   "execution_count": 1,
   "id": "3de00634-3b91-4606-82ce-9d7cfb82daba",
   "metadata": {},
   "outputs": [],
   "source": [
    "#Q1. What are the three measures of central tendency?\n",
    "\n",
    "#A1 The three measures of central tendency are mean, median and mode\n",
    "# Mean is the average value of the data set\n",
    "#Median is the central value of the data set when arranged in ascending order\n",
    "#Mode is a value which occurs the most frequent number of times in a dataset"
   ]
  },
  {
   "cell_type": "code",
   "execution_count": 4,
   "id": "c7f9fa81-55f2-4171-926a-9f70a329a356",
   "metadata": {},
   "outputs": [
    {
     "name": "stdout",
     "output_type": "stream",
     "text": [
      "The Mean of the dataset is : 5.181818181818182\n",
      "The Median of the dataset is : 5.0\n",
      "The Mode of the dataset is : 2\n"
     ]
    }
   ],
   "source": [
    "#Q2. What is the difference between the mean, median, and mode? How are they used to measure the central tendency of a dataset?\n",
    "#A2\n",
    "import numpy as np\n",
    "import statistics as stats\n",
    "\n",
    "x=[1,2,2,3,4,5,6,7,8,9,10]\n",
    "\n",
    "mean=np.mean(x) #the average value of the dataset is mean\n",
    "median=np.median(x) #finds the central value of the dataset in an ascending order\n",
    "mode=stats.mode(x) #finds the value which appears most frequently in a dataset\n",
    "\n",
    "print(f\"The Mean of the dataset is : {mean}\")\n",
    "print(f\"The Median of the dataset is : {median}\")\n",
    "print(f\"The Mode of the dataset is : {mode}\")"
   ]
  },
  {
   "cell_type": "code",
   "execution_count": 19,
   "id": "a112dbe3-aa3a-4662-b54b-13f66d04f421",
   "metadata": {},
   "outputs": [
    {
     "name": "stdout",
     "output_type": "stream",
     "text": [
      "The Mean of the dataset is : 177.01875\n",
      "The Median of the dataset is : 177.0\n",
      "The Mode of the dataset is : 178\n"
     ]
    }
   ],
   "source": [
    "#Q3. Measure the three measures of central tendency for the given height data:\n",
    "#A3\n",
    "import numpy as np\n",
    "import statistics as stats\n",
    "\n",
    "Height=[178,177,176,177,178.2,178,175,179,180,175,178.9,176.2,177,172.5,178,176.5]\n",
    "\n",
    "mean=np.mean(Height) #the average value of the dataset is mean\n",
    "median=np.median(Height) #finds the central value of the dataset in an ascending order\n",
    "mode=stats.mode(Height) #finds the value which appears most frequently in a dataset\n",
    "\n",
    "print(f\"The Mean of the dataset is : {mean}\")\n",
    "print(f\"The Median of the dataset is : {median}\")\n",
    "print(f\"The Mode of the dataset is : {mode}\")"
   ]
  },
  {
   "cell_type": "code",
   "execution_count": 6,
   "id": "e32e456f-64a7-4f9f-ba36-dbcc24ac8573",
   "metadata": {},
   "outputs": [
    {
     "name": "stdout",
     "output_type": "stream",
     "text": [
      "The Standard Deviation of the dataset is : 1.7885814036548633\n"
     ]
    }
   ],
   "source": [
    "#Q4. Find the standard deviation for the given data:\n",
    "\n",
    "import numpy as np\n",
    "import statistics as stats\n",
    "\n",
    "Height=[178,177,176,177,178.2,178,175,179,180,175,178.9,176.2,177,172.5,178,176.5]\n",
    "stddev=np.std(Height) #finds the standard deviation of each value from the central value \n",
    "print(f\"The Standard Deviation of the dataset is : {stddev}\")"
   ]
  },
  {
   "cell_type": "code",
   "execution_count": 21,
   "id": "64f66dc1-9ed4-4a90-86b5-4b38a06517f8",
   "metadata": {},
   "outputs": [
    {
     "name": "stdout",
     "output_type": "stream",
     "text": [
      "        0\n",
      "0   178.0\n",
      "1   177.0\n",
      "2   176.0\n",
      "3   177.0\n",
      "4   178.2\n",
      "5   178.0\n",
      "6   175.0\n",
      "7   179.0\n",
      "8   180.0\n",
      "9   175.0\n",
      "10  178.9\n",
      "11  176.2\n",
      "12  177.0\n",
      "13  172.5\n",
      "14  178.0\n",
      "15  176.5\n",
      "The Standard Deviation of the dataset is : 1.847238930584419\n",
      "The Variance of the dataset is : 3.412291666666668\n",
      "The range of the dataset is : 7.5\n"
     ]
    }
   ],
   "source": [
    "#Q5 How are measures of dispersion such as range, variance, and standard deviation used to describe the spread of a dataset? Provide an example.\n",
    "\n",
    "#A5 Measures of dispersion are used to determine how spread out a data set is around a central value or mean value\n",
    "\n",
    "##Range: The difference between the maximum and minimum values in a data set.\n",
    "#Variance: The average of the squared differences from the mean\n",
    "#Standard deviation: The square root of the variance\n",
    "import numpy as np\n",
    "import statistics as stats\n",
    "import pandas as pd\n",
    "\n",
    "Height=[178,177,176,177,178.2,178,175,179,180,175,178.9,176.2,177,172.5,178,176.5]\n",
    "df=pd.DataFrame(Height)\n",
    "print(df)\n",
    "print(f\"The Standard Deviation of the dataset is : {df[0].std()}\")#The square root of the variance\n",
    "print(f\"The Variance of the dataset is : {df[0].var()}\") # The average of the squared differences from the mean\n",
    "print(f\"The range of the dataset is : {df[0].max()-df[0].min()}\")#The difference between the maximum and minimum values"
   ]
  },
  {
   "cell_type": "code",
   "execution_count": null,
   "id": "5361798f-f314-4bb6-b5dd-2aa2b0fd5861",
   "metadata": {},
   "outputs": [],
   "source": [
    "#Q6. What is a Venn diagram?\n",
    "#A6 A Venn diagram is a type of diagram that shows the logical relationship between different sets of items. \n",
    "#For example,Set A is a set of fruits and set B is set of blue things, we can use a Venn diagram to show which fruits are blue and which are not"
   ]
  },
  {
   "cell_type": "code",
   "execution_count": 24,
   "id": "238ffcbf-fa5f-40d6-8065-46b1b6efdcb8",
   "metadata": {},
   "outputs": [
    {
     "name": "stdout",
     "output_type": "stream",
     "text": [
      "The union of Set A and Set B is : {0, 2, 3, 4, 5, 6, 7, 8, 10}\n",
      "The intersection of Set A and Set B is : {2, 6}\n",
      "The difference of Set A and Set B is : {3, 4, 5, 7}\n"
     ]
    }
   ],
   "source": [
    "#Q7. For the two given sets A = (2,3,4,5,6,7) & B = (0,2,6,8,10). Find:\n",
    "#(i) A ⋂ B\n",
    "#(ii) A ⋃ B\n",
    "import numpy as np\n",
    "import pandas as pd\n",
    "import matplotlib.pyplot as plt\n",
    "\n",
    "A = {2,3,4,5,6,7}\n",
    "B = {0,2,6,8,10}\n",
    "union = A|B\n",
    "intersection = A&B\n",
    "difference= A-B\n",
    "print(f\"The union of Set A and Set B is : {union}\")#The union of two sets\n",
    "print(f\"The intersection of Set A and Set B is : {intersection}\")#The intersection of two sets\n",
    "print(f\"The difference of Set A and Set B is : {difference}\")#The intersection of two sets\n"
   ]
  },
  {
   "cell_type": "code",
   "execution_count": null,
   "id": "3474a432-5f53-4e18-8446-a5381275bc80",
   "metadata": {},
   "outputs": [],
   "source": [
    "#Q8  What do you understand about skewness in data?\n",
    "\n",
    "#A8 Skewness is a measure of how asymmetric a data set is. \n",
    "#How much the data deviates from a symmetric distribution. Skewness can be positive, negative, zero, or even undefined"
   ]
  },
  {
   "cell_type": "code",
   "execution_count": null,
   "id": "7b8aacb7-87f5-49d9-852b-0552ee2c3e20",
   "metadata": {},
   "outputs": [],
   "source": [
    "#Q9 If a data is right skewed then what will be the position of median with respect to mean?\n",
    "#A9 if the data is right skewed the mean> mean >mode as more values fall towards the right hand side increasing the mean value while the frequency of values in a dataset is higher towards the left hand side"
   ]
  },
  {
   "cell_type": "code",
   "execution_count": null,
   "id": "4652a23b-d402-418a-a5cd-24c4b728d468",
   "metadata": {},
   "outputs": [],
   "source": [
    "#Q10. Explain the difference between covariance and correlation. How are these measures used in statistical analysis?\n",
    "\n",
    "#A10 Covariance indicates the extent to which two variables change together\n",
    "#Correlation tells us both the strength and the direction of the linear relationship between two variables\n",
    "#These measures are used to understand how different variables affect each other and to find patterns or trends in data"
   ]
  },
  {
   "cell_type": "code",
   "execution_count": null,
   "id": "9a987714-1347-4adb-9a26-96b33f3ad621",
   "metadata": {},
   "outputs": [],
   "source": [
    "#Q11 What is the formula for calculating the sample mean? Provide an example calculation for a dataset.\n",
    "\n",
    "# x̄ = (Σ xi) / n is the formulae for finding the sample mean\n",
    "#x̄ represents the sample mean\n",
    "#xi representing the values in the data set\n",
    "#Σ represents the summation of the values in dataset\n",
    "#n represents the total no of values\n",
    "# for example x={1,2,3} then x̄ is equal to = (1+2+3)/3 = 2"
   ]
  },
  {
   "cell_type": "code",
   "execution_count": null,
   "id": "199cdca0-af16-4665-9dcf-c82936b73cdc",
   "metadata": {},
   "outputs": [],
   "source": [
    "#Q12 For a normal distribution data what is the relationship between its measure of central tendency?\n",
    "\n",
    "#A12 The measure of central tendency will be that mean=mode=median so there is perfect skewness on either side of the mean and it shows a bell curve"
   ]
  },
  {
   "cell_type": "code",
   "execution_count": null,
   "id": "8a3ef78f-55f3-4a74-adcc-d981da412d78",
   "metadata": {},
   "outputs": [],
   "source": [
    "#Q13. How is covariance different from correlation?\n",
    "\n",
    "#A13 Covariance indicates the extent to which two variables change together\n",
    "#Correlation tells us both the strength and the direction of the linear relationship between two variables"
   ]
  },
  {
   "cell_type": "code",
   "execution_count": 36,
   "id": "ff5c48b4-06a6-4c48-a2e0-750e701b54fb",
   "metadata": {},
   "outputs": [
    {
     "name": "stdout",
     "output_type": "stream",
     "text": [
      "The Mean of the dataset 1 is : 2.5\n",
      "The Median of the dataset 1 is : 2.5\n",
      "\n",
      "The Mean of the dataset 2 is : 22.0\n",
      "The Median of the dataset 2 is : 3.0\n",
      "\n",
      "The Standard Deviation of the dataset 1 is : 1.118033988749895\n",
      "The Variance of the dataset 1 is : 1.25\n",
      "The range of the dataset 1 is : 3\n",
      "\n",
      "The Standard Deviation of the dataset 2 is : 39.01281840626232\n",
      "The Variance of the dataset 2 is : 1522.0\n",
      "The range of the dataset 2 is : 99\n"
     ]
    }
   ],
   "source": [
    "#Q14 How do outliers affect measures of central tendency and dispersion? Provide an example.\n",
    "\n",
    "#A14 Outliers are values that differ a lot from the others in a dataset. \n",
    "#suppose we have a dataset\n",
    "import numpy as np\n",
    "x_data=[1,2,3,4] \n",
    "x_data1=[1,2,3,4,100] \n",
    "\n",
    "#impact of outliers on measure of central tendency\n",
    "mean = np.mean(x_data)\n",
    "print(f\"The Mean of the dataset 1 is : {mean}\") # the values are close to the mean\n",
    "median=np.median(x_data) #finds the central value of the dataset in an ascending order\n",
    "print(f\"The Median of the dataset 1 is : {median}\")\n",
    "mean1 = np.mean(x_data1)\n",
    "print(f\"\\nThe Mean of the dataset 2 is : {mean1}\") # the mean suddenly changes with 100 as the outlier in the dataset\n",
    "median1=np.median(x_data1) #finds the central value of the dataset in an ascending order\n",
    "print(f\"The Median of the dataset 2 is : {median1}\")\n",
    "\n",
    "#impact of outliers on measure of dispersion\n",
    "std = np.std(x_data)\n",
    "print(f\"\\nThe Standard Deviation of the dataset 1 is : {std}\") # the values are close to the mean\n",
    "var=np.var(x_data) \n",
    "print(f\"The Variance of the dataset 1 is : {var}\")\n",
    "print(f\"The range of the dataset 1 is : {np.max(x_data)-np.min(x_data)}\")\n",
    "\n",
    "std1 = np.std(x_data1)\n",
    "print(f\"\\nThe Standard Deviation of the dataset 2 is : {std1}\") # the std dev suddenly changes with 100 as the outlier in the dataset\n",
    "var1=np.var(x_data1) \n",
    "print(f\"The Variance of the dataset 2 is : {var1}\")\n",
    "print(f\"The range of the dataset 2 is : {np.max(x_data1)-np.min(x_data1)}\") # the range suddenly jumps with 100 as the outlier in the dataset\n",
    "var1=np.var(x_data1) \n"
   ]
  },
  {
   "cell_type": "code",
   "execution_count": null,
   "id": "9da7651f-9108-4570-b941-5e7d3307f9ab",
   "metadata": {},
   "outputs": [],
   "source": []
  }
 ],
 "metadata": {
  "kernelspec": {
   "display_name": "Python 3 (ipykernel)",
   "language": "python",
   "name": "python3"
  },
  "language_info": {
   "codemirror_mode": {
    "name": "ipython",
    "version": 3
   },
   "file_extension": ".py",
   "mimetype": "text/x-python",
   "name": "python",
   "nbconvert_exporter": "python",
   "pygments_lexer": "ipython3",
   "version": "3.10.8"
  }
 },
 "nbformat": 4,
 "nbformat_minor": 5
}
