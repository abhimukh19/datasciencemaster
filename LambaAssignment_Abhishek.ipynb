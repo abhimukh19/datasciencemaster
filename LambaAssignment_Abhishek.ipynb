{
 "cells": [
  {
   "cell_type": "markdown",
   "id": "975d9ea6-c9bb-4c2b-ab1c-22c64df2bdf2",
   "metadata": {},
   "source": [
    "### Assignment Submission by Abhishek Mukherjee"
   ]
  },
  {
   "cell_type": "markdown",
   "id": "7faa3e88-e62c-47ea-ab33-747e6c629a8e",
   "metadata": {
    "tags": []
   },
   "source": [
    "### Q1. Create a python program to sort the given list of tuples based on integer value using a lambda function.\n",
    "### [('Sachin Tendulkar', 34357), ('Ricky Ponting', 27483), ('Jack Kallis', 25534), ('Virat Kohli', 24936)]"
   ]
  },
  {
   "cell_type": "code",
   "execution_count": 1,
   "id": "d3818368-b3e3-4055-b1f2-ef8082d9c1e2",
   "metadata": {},
   "outputs": [
    {
     "name": "stdout",
     "output_type": "stream",
     "text": [
      "\u001b[H\u001b[2J"
     ]
    }
   ],
   "source": [
    "clear"
   ]
  },
  {
   "cell_type": "code",
   "execution_count": 6,
   "id": "52c76180-934b-40e3-8821-0fba84f0934d",
   "metadata": {},
   "outputs": [
    {
     "name": "stdout",
     "output_type": "stream",
     "text": [
      "[('Virat Kohli', 24936), ('Jack Kallis', 25534), ('Ricky Ponting', 27483), ('Sachin Tendulkar', 34357)]\n"
     ]
    }
   ],
   "source": [
    "###lambda function to  sort the list as per integer values\n",
    "list1=[('Sachin Tendulkar', 34357), ('Ricky Ponting', 27483), ('Jack Kallis', 25534), ('Virat Kohli', 24936)]\n",
    "cricketers = list1\n",
    "cricketers = sorted(cricketers, key = lambda x:x[1])\n",
    "print(cricketers)"
   ]
  },
  {
   "cell_type": "markdown",
   "id": "0f8d4683-6918-4619-bfcb-ff8e738c1cdb",
   "metadata": {},
   "source": [
    "### Q2. Write a Python Program to find the squares of all the numbers in the given list of integers using lambda and map functions.\n",
    "[1, 2, 3, 4, 5, 6, 7, 8, 9, 10]"
   ]
  },
  {
   "cell_type": "code",
   "execution_count": 9,
   "id": "c21f9c14-2081-45e5-a456-fc0e9a7e8285",
   "metadata": {},
   "outputs": [
    {
     "name": "stdout",
     "output_type": "stream",
     "text": [
      "[1, 4, 9, 16, 25, 36, 49, 64, 81, 100]\n"
     ]
    }
   ],
   "source": [
    "###lambda and map function to  square the list of integer values\n",
    "list1=[1, 2, 3, 4, 5, 6, 7, 8, 9, 10]\n",
    "squarelist=list(map(lambda x:x**2,list1))\n",
    "print(squarelist)"
   ]
  },
  {
   "cell_type": "markdown",
   "id": "abfab6de-a8a8-4000-8f90-026d25a9be5d",
   "metadata": {},
   "source": [
    "### Q3. Write a python program to convert the given list of integers into a tuple of strings. Use map and lambda functions\n",
    "### Given String: [1, 2, 3, 4, 5, 6, 7, 8, 9, 10]\n",
    "### Expected output: ('1', '2', '3', '4', '5', '6', '7', '8', '9', '10')"
   ]
  },
  {
   "cell_type": "code",
   "execution_count": 12,
   "id": "e1712bed-2ff6-4a04-a910-33666d51ff68",
   "metadata": {},
   "outputs": [
    {
     "name": "stdout",
     "output_type": "stream",
     "text": [
      "['1', '2', '3', '4', '5', '6', '7', '8', '9', '10']\n"
     ]
    }
   ],
   "source": [
    "### change the type of tuple from integer to strings\n",
    "list1=[1, 2, 3, 4, 5, 6, 7, 8, 9, 10]\n",
    "newlist=list(map(lambda x: str(x),list1))\n",
    "print(newlist)"
   ]
  },
  {
   "cell_type": "markdown",
   "id": "8de69281-7b0c-482e-8fab-9eccee1b38f1",
   "metadata": {},
   "source": [
    "### Q4. Write a python program using reduce function to compute the product of a list containing numbers from 1 to 25."
   ]
  },
  {
   "cell_type": "code",
   "execution_count": 22,
   "id": "d7556ed4-233e-4717-968b-e5f84ecf2015",
   "metadata": {},
   "outputs": [
    {
     "name": "stdout",
     "output_type": "stream",
     "text": [
      "15511210043330985984000000\n"
     ]
    }
   ],
   "source": [
    "### find the product of the numbers contained in a list\n",
    "list1=[1, 2, 3, 4, 5, 6, 7, 8, 9, 10,11,12,13,14,15,16,17,18,19,20,21,22,23,24,25]\n",
    "from functools import reduce\n",
    "productvalue=(reduce(lambda a,b : a*b, list1))\n",
    "print(productvalue)"
   ]
  },
  {
   "cell_type": "markdown",
   "id": "239cebcd-768a-4c5d-9e6c-fdab79d92d96",
   "metadata": {},
   "source": [
    "### Q5. Write a python program to filter the numbers in a given list that are divisible by 2 and 3 using the filter function. [2, 3, 6, 9, 27, 60, 90, 120, 55, 46]"
   ]
  },
  {
   "cell_type": "code",
   "execution_count": 30,
   "id": "5ac664cc-4e9b-4df1-bee5-bd97a434a073",
   "metadata": {},
   "outputs": [
    {
     "name": "stdout",
     "output_type": "stream",
     "text": [
      "[6, 60, 90, 120]\n"
     ]
    }
   ],
   "source": [
    "### Printing the list of numbers which are divisible by 2 and 3\n",
    "list1=[2, 3, 6, 9, 27, 60, 90, 120, 55, 46]\n",
    "filteredlist=list(filter(lambda x: x%2==0 and x%3==0,list1))\n",
    "print(filteredlist)"
   ]
  },
  {
   "cell_type": "markdown",
   "id": "dff9b780-8c33-46bb-99ce-937b84dfe0c5",
   "metadata": {},
   "source": [
    "### Q6. Write a python program to find palindromes in the given list of strings using lambda and filter function. ['python', 'php', 'aba', 'radar', 'level']"
   ]
  },
  {
   "cell_type": "code",
   "execution_count": 35,
   "id": "08bd6d85-5f8d-425a-ac82-85ff25da1a07",
   "metadata": {},
   "outputs": [
    {
     "name": "stdout",
     "output_type": "stream",
     "text": [
      "['php', 'aba', 'radar', 'level']\n"
     ]
    }
   ],
   "source": [
    "### find the palidrom in the list\n",
    "list1=['python', 'php', 'aba', 'radar', 'level']\n",
    "filteredlist=list(filter(lambda x: x[0]==x[len(x)-1],list1))\n",
    "print(filteredlist)"
   ]
  },
  {
   "cell_type": "code",
   "execution_count": null,
   "id": "fe0d9e4c-213a-4fbb-a669-c4273ed95583",
   "metadata": {},
   "outputs": [],
   "source": []
  }
 ],
 "metadata": {
  "kernelspec": {
   "display_name": "Python 3 (ipykernel)",
   "language": "python",
   "name": "python3"
  },
  "language_info": {
   "codemirror_mode": {
    "name": "ipython",
    "version": 3
   },
   "file_extension": ".py",
   "mimetype": "text/x-python",
   "name": "python",
   "nbconvert_exporter": "python",
   "pygments_lexer": "ipython3",
   "version": "3.10.8"
  }
 },
 "nbformat": 4,
 "nbformat_minor": 5
}
