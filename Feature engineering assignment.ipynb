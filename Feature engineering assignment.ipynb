{
 "cells": [
  {
   "cell_type": "code",
   "execution_count": 1,
   "id": "43898fa8-6cc4-49d7-99de-31006cadf9ad",
   "metadata": {},
   "outputs": [],
   "source": [
    "#Q1. What is Min-Max scaling, and how is it used in data preprocessing? Provide an example to illustrate its\n",
    "#application."
   ]
  },
  {
   "cell_type": "code",
   "execution_count": 2,
   "id": "095b6d57-ea8c-413e-9939-9dc930b0977a",
   "metadata": {},
   "outputs": [],
   "source": [
    "#Min-Max scaling is a normalization technique that enables us to scale data in a dataset to a specific range using each feature’s minimum and maximum value. \n",
    "#It is generally performed during the data preprocessing step\n",
    "#It transforms features by scaling each feature to a given range, which is generally [0,1], or [-1,-1] in case of negative values\n",
    "\n",
    "#Suppose we have a dataset of heights and weights of people. \n",
    "#The height values range from 150 cm to 190 cm\n",
    "#The weight values range from 50 kg to 100 kg. \n",
    "#We can use Min-Max scaling to scale these values to a range of [0,1]. The formula for Min-Max scaling is:\n",
    "#x_scaled = (x – x.min) / (x.max – x.min)\n",
    "#height_scaled = (height – 150) / (190 – 150) \n",
    "#weight_scaled = (weight – 50) / (100 – 50)\n",
    "\n",
    "#This will scale the height and weight values to a range of [0,1\n"
   ]
  },
  {
   "cell_type": "code",
   "execution_count": 3,
   "id": "5de5ee0c-f083-40c3-b7ae-0528eaf56e2f",
   "metadata": {},
   "outputs": [],
   "source": [
    "#Q2. What is the Unit Vector technique in feature scaling, and how does it differ from Min-Max scaling?\n",
    "#Provide an example to illustrate its application.\n",
    "\n",
    "#Feature scaling is a method used to normalize the range of independent variables or features of data. \n",
    "#Min-Max transforms features by scaling each feature to a given range, which is generally [0,1], or [-1,-1] \n",
    "#Unit Vector technique scales the data considering the whole feature vector to be of unit length. \n",
    "#Both techniques produce values of range [0,1]\n",
    "\n",
    "#For example: The age ranges from 0 to 100, and the income ranges from 0 to 100,000\n",
    "#If we apply Min-Max scaling, the age and income values will be transformed to a range of [0,1]. \n",
    "#However, if we apply the Unit Vector technique, the age and income values will be transformed to a unit vector"
   ]
  },
  {
   "cell_type": "code",
   "execution_count": null,
   "id": "412893e2-0931-47cc-8bc6-fec5abfe9dfa",
   "metadata": {},
   "outputs": [],
   "source": [
    "#Q3. What is PCA (Principle Component Analysis), and how is it used in dimensionality reduction? Provide an\n",
    "#example to illustrate its application.\n",
    "\n",
    "#It is s a linear dimensionality reduction technique that is used to transform high-dimensional data into a lower-dimensional space while retaining as much of the original data’s variation as possible\n",
    "\n",
    "#Dimensionality reduction is done by identifying the principal components of the data, which are the directions in which the data varies the most. \n",
    "#The principal components are then used to create a new set of features that capture as much of the original data’s variation as possible"
   ]
  },
  {
   "cell_type": "code",
   "execution_count": 80,
   "id": "491d4aa8-f470-487e-8c4a-0724b1202f69",
   "metadata": {},
   "outputs": [],
   "source": [
    "# Importing the required libraries\n",
    "from sklearn.decomposition import PCA\n",
    "from sklearn.datasets import load_iris\n",
    "import matplotlib.pyplot as plt\n",
    "import seaborn as sns\n",
    "import pandas as pd\n",
    "array1 = load_iris()"
   ]
  },
  {
   "cell_type": "code",
   "execution_count": 82,
   "id": "9aac6597-6d30-4047-b741-2c9c6a925a5b",
   "metadata": {},
   "outputs": [
    {
     "data": {
      "text/html": [
       "<div>\n",
       "<style scoped>\n",
       "    .dataframe tbody tr th:only-of-type {\n",
       "        vertical-align: middle;\n",
       "    }\n",
       "\n",
       "    .dataframe tbody tr th {\n",
       "        vertical-align: top;\n",
       "    }\n",
       "\n",
       "    .dataframe thead th {\n",
       "        text-align: right;\n",
       "    }\n",
       "</style>\n",
       "<table border=\"1\" class=\"dataframe\">\n",
       "  <thead>\n",
       "    <tr style=\"text-align: right;\">\n",
       "      <th></th>\n",
       "      <th>component 1</th>\n",
       "      <th>component 2</th>\n",
       "    </tr>\n",
       "  </thead>\n",
       "  <tbody>\n",
       "    <tr>\n",
       "      <th>0</th>\n",
       "      <td>-2.684126</td>\n",
       "      <td>0.319397</td>\n",
       "    </tr>\n",
       "    <tr>\n",
       "      <th>1</th>\n",
       "      <td>-2.714142</td>\n",
       "      <td>-0.177001</td>\n",
       "    </tr>\n",
       "    <tr>\n",
       "      <th>2</th>\n",
       "      <td>-2.888991</td>\n",
       "      <td>-0.144949</td>\n",
       "    </tr>\n",
       "    <tr>\n",
       "      <th>3</th>\n",
       "      <td>-2.745343</td>\n",
       "      <td>-0.318299</td>\n",
       "    </tr>\n",
       "    <tr>\n",
       "      <th>4</th>\n",
       "      <td>-2.728717</td>\n",
       "      <td>0.326755</td>\n",
       "    </tr>\n",
       "    <tr>\n",
       "      <th>...</th>\n",
       "      <td>...</td>\n",
       "      <td>...</td>\n",
       "    </tr>\n",
       "    <tr>\n",
       "      <th>145</th>\n",
       "      <td>1.944110</td>\n",
       "      <td>0.187532</td>\n",
       "    </tr>\n",
       "    <tr>\n",
       "      <th>146</th>\n",
       "      <td>1.527167</td>\n",
       "      <td>-0.375317</td>\n",
       "    </tr>\n",
       "    <tr>\n",
       "      <th>147</th>\n",
       "      <td>1.764346</td>\n",
       "      <td>0.078859</td>\n",
       "    </tr>\n",
       "    <tr>\n",
       "      <th>148</th>\n",
       "      <td>1.900942</td>\n",
       "      <td>0.116628</td>\n",
       "    </tr>\n",
       "    <tr>\n",
       "      <th>149</th>\n",
       "      <td>1.390189</td>\n",
       "      <td>-0.282661</td>\n",
       "    </tr>\n",
       "  </tbody>\n",
       "</table>\n",
       "<p>150 rows × 2 columns</p>\n",
       "</div>"
      ],
      "text/plain": [
       "     component 1  component 2\n",
       "0      -2.684126     0.319397\n",
       "1      -2.714142    -0.177001\n",
       "2      -2.888991    -0.144949\n",
       "3      -2.745343    -0.318299\n",
       "4      -2.728717     0.326755\n",
       "..           ...          ...\n",
       "145     1.944110     0.187532\n",
       "146     1.527167    -0.375317\n",
       "147     1.764346     0.078859\n",
       "148     1.900942     0.116628\n",
       "149     1.390189    -0.282661\n",
       "\n",
       "[150 rows x 2 columns]"
      ]
     },
     "execution_count": 82,
     "metadata": {},
     "output_type": "execute_result"
    }
   ],
   "source": [
    "# Creating the PCA model\n",
    "pca = PCA(n_components=2)\n",
    "principalComponents = pca.fit_transform(array1.data)\n",
    "import pandas as pd\n",
    "# Creating a new dataframe with the principal components\n",
    "principalDf = pd.DataFrame(data = principalComponents, columns = ['component 1', 'component 2'])\n",
    "principalDf"
   ]
  },
  {
   "cell_type": "code",
   "execution_count": 16,
   "id": "0ebed19f-5739-4e68-95f6-d4c9ece81b8b",
   "metadata": {},
   "outputs": [
    {
     "data": {
      "image/png": "[encoded data removed]",
      "text/plain": [
       "<Figure size 640x480 with 1 Axes>"
      ]
     },
     "metadata": {},
     "output_type": "display_data"
    }
   ],
   "source": [
    "plt.scatter(principalDf['component 1'],principalDf['component 2'])\n",
    "plt.title('Applying Principle Component Analysis to Iris Data')\n",
    "plt.xlabel(\"Component1\")\n",
    "plt.ylabel(\"Component2\")\n",
    "plt.show()"
   ]
  },
  {
   "cell_type": "code",
   "execution_count": 19,
   "id": "85b73205-8eab-452e-b557-02c39a8ec277",
   "metadata": {},
   "outputs": [
    {
     "name": "stdout",
     "output_type": "stream",
     "text": [
      "[[239 239 239]\n",
      " [241 241 241]\n",
      " [244 244 244]\n",
      " ...\n",
      " [103 103 103]\n",
      " [103 103 103]\n",
      " [102 102 102]]\n"
     ]
    },
    {
     "data": {
      "text/plain": [
       "array([[-1.80860164e+02, -1.32719370e-14],\n",
       "       [-1.84324266e+02, -1.06074017e-14],\n",
       "       [-1.89520418e+02, -1.37160262e-14],\n",
       "       ...,\n",
       "       [ 5.46987458e+01,  4.49163141e-15],\n",
       "       [ 5.46987458e+01,  4.49163141e-15],\n",
       "       [ 5.64307967e+01,  3.15936378e-15]])"
      ]
     },
     "execution_count": 19,
     "metadata": {},
     "output_type": "execute_result"
    }
   ],
   "source": [
    "#Q4. What is the relationship between PCA and Feature Extraction, and how can PCA be used for Feature\n",
    "#Extraction? Provide an example to illustrate this concept.\n",
    "\n",
    "#A4 PCA is used to decrease the number of features by selecting the dimensions of features that have the most variance\n",
    "# It is primarily used for feature extraction and dimensionality reduction. \n",
    "#An example of PCA for feature extraction is to use it to extract features from images.\n",
    "\n",
    "#for example, in a dataset of images, we can use PCA to extract the most important features from the images and then use these features to train a machine learning\n",
    "\n",
    "from sklearn.decomposition import PCA\n",
    "from skimage import io\n",
    "\n",
    "# Load the image\n",
    "image = io.imread('https://scicoding.com/content/images/size/w1600/2022/12/waters-gebd5f407c_1920.jpg')\n",
    "\n",
    "# Reshape the image to a 2D array\n",
    "image_2d = image.reshape(-1, 3)\n",
    "print(image_2d)\n",
    "\n",
    "\n",
    "# Create a PCA object\n",
    "pca = PCA(n_components=2)\n",
    "\n",
    "# Fit the PCA object to the image\n",
    "pca.fit(image_2d)\n",
    "\n",
    "# Transform the image using the PCA object\n",
    "image_transformed = pca.transform(image_2d)\n",
    "image_transformed"
   ]
  },
  {
   "cell_type": "code",
   "execution_count": 20,
   "id": "a59c7615-52fe-4d6c-a2d7-8590357c3f0f",
   "metadata": {},
   "outputs": [],
   "source": [
    "#Q5. You are working on a project to build a recommendation system for a food delivery service. The dataset\n",
    "#contains features such as price, rating, and delivery time. Explain how you would use Min-Max scaling to\n",
    "#preprocess the data.\n",
    "\n",
    "#Min-Max scaling is a technique used to scale the values of a feature to a range between 0 and 1. \n",
    "#This is done by subtracting the minimum value of the feature from each value and then dividing the result by the range of the feature. \n",
    "\n",
    "#For example, if the price feature ranges from 0 to 100 and the rating feature ranges from 0 to 5\n",
    "#the price feature will have a much larger impact on the recommendation system than the rating feature. \n",
    "#By scaling both features to a range between 0 and 1, we can ensure that both features have an equal impact on the recommendation system.\n"
   ]
  },
  {
   "cell_type": "code",
   "execution_count": null,
   "id": "c99757be-6768-4281-a97c-4b37112fe68d",
   "metadata": {},
   "outputs": [],
   "source": [
    "#Q6. You are working on a project to build a model to predict stock prices. The dataset contains many\n",
    "#features, such as company financial data and market trends. Explain how you would use PCA to reduce the\n",
    "#dimensionality of the dataset.\n",
    "\n",
    "#PCA is a linear dimensionality reduction technique that is used to transform high-dimensional data into a lower-dimensional space while retaining as much of the original data’s variation as possible\n",
    "#The principal components are then used to create a new set of features that capture as much of the original data’s variation as possible"
   ]
  },
  {
   "cell_type": "code",
   "execution_count": null,
   "id": "e175e823-86c4-4c09-8768-ff2218cabf1e",
   "metadata": {},
   "outputs": [],
   "source": [
    "#We would load the financia dataset into a 2-D array and create a PCA Model\n",
    "#PCA can be used to identify the most important features that affect the stock prices and reduce the dimensionality of the dataset\n",
    "# This can help to improve the performance of the model and reduce the risk of overfitting"
   ]
  },
  {
   "cell_type": "code",
   "execution_count": 57,
   "id": "793ab997-1577-4535-b4da-fb70ae370487",
   "metadata": {},
   "outputs": [
    {
     "data": {
      "text/html": [
       "<div>\n",
       "<style scoped>\n",
       "    .dataframe tbody tr th:only-of-type {\n",
       "        vertical-align: middle;\n",
       "    }\n",
       "\n",
       "    .dataframe tbody tr th {\n",
       "        vertical-align: top;\n",
       "    }\n",
       "\n",
       "    .dataframe thead th {\n",
       "        text-align: right;\n",
       "    }\n",
       "</style>\n",
       "<table border=\"1\" class=\"dataframe\">\n",
       "  <thead>\n",
       "    <tr style=\"text-align: right;\">\n",
       "      <th></th>\n",
       "      <th>Scalevalue</th>\n",
       "      <th>Scaledvalue</th>\n",
       "    </tr>\n",
       "  </thead>\n",
       "  <tbody>\n",
       "    <tr>\n",
       "      <th>0</th>\n",
       "      <td>-1.000000</td>\n",
       "      <td>-1.000000</td>\n",
       "    </tr>\n",
       "    <tr>\n",
       "      <th>1</th>\n",
       "      <td>-0.578947</td>\n",
       "      <td>-0.578947</td>\n",
       "    </tr>\n",
       "    <tr>\n",
       "      <th>2</th>\n",
       "      <td>-0.052632</td>\n",
       "      <td>-0.052632</td>\n",
       "    </tr>\n",
       "    <tr>\n",
       "      <th>3</th>\n",
       "      <td>0.473684</td>\n",
       "      <td>0.473684</td>\n",
       "    </tr>\n",
       "    <tr>\n",
       "      <th>4</th>\n",
       "      <td>1.000000</td>\n",
       "      <td>1.000000</td>\n",
       "    </tr>\n",
       "  </tbody>\n",
       "</table>\n",
       "</div>"
      ],
      "text/plain": [
       "   Scalevalue  Scaledvalue\n",
       "0   -1.000000    -1.000000\n",
       "1   -0.578947    -0.578947\n",
       "2   -0.052632    -0.052632\n",
       "3    0.473684     0.473684\n",
       "4    1.000000     1.000000"
      ]
     },
     "execution_count": 57,
     "metadata": {},
     "output_type": "execute_result"
    }
   ],
   "source": [
    "#Q7. For a dataset containing the following values: [1, 5, 10, 15, 20], perform Min-Max scaling to transform the\n",
    "#values to a range of -1 to 1.\n",
    "import pandas as pd\n",
    "\n",
    "inputlist=[1, 5, 10, 15, 20]\n",
    "outputlist=[]\n",
    "#for scalar range of 0 to 1\n",
    "for x in inputlist:\n",
    "    x_scaled = (x - min(inputlist)) / (max(inputlist) - min(inputlist))*2-1\n",
    "    outputlist.append(x_scaled)\n",
    "df['Scaledvalue'] = pd.DataFrame(outputlist)\n",
    "df"
   ]
  },
  {
   "cell_type": "code",
   "execution_count": 84,
   "id": "b4b73559-f3f5-4033-b31f-28eef47389e6",
   "metadata": {},
   "outputs": [
    {
     "data": {
      "text/html": [
       "<div>\n",
       "<style scoped>\n",
       "    .dataframe tbody tr th:only-of-type {\n",
       "        vertical-align: middle;\n",
       "    }\n",
       "\n",
       "    .dataframe tbody tr th {\n",
       "        vertical-align: top;\n",
       "    }\n",
       "\n",
       "    .dataframe thead th {\n",
       "        text-align: right;\n",
       "    }\n",
       "</style>\n",
       "<table border=\"1\" class=\"dataframe\">\n",
       "  <thead>\n",
       "    <tr style=\"text-align: right;\">\n",
       "      <th></th>\n",
       "      <th>Height (cm)</th>\n",
       "      <th>Weight (kg)</th>\n",
       "      <th>Age (years)</th>\n",
       "      <th>Gender</th>\n",
       "      <th>Blood Pressure</th>\n",
       "    </tr>\n",
       "  </thead>\n",
       "  <tbody>\n",
       "    <tr>\n",
       "      <th>0</th>\n",
       "      <td>170</td>\n",
       "      <td>70</td>\n",
       "      <td>25</td>\n",
       "      <td>Male</td>\n",
       "      <td>120/80</td>\n",
       "    </tr>\n",
       "    <tr>\n",
       "      <th>1</th>\n",
       "      <td>165</td>\n",
       "      <td>60</td>\n",
       "      <td>30</td>\n",
       "      <td>Female</td>\n",
       "      <td>130/90</td>\n",
       "    </tr>\n",
       "    <tr>\n",
       "      <th>2</th>\n",
       "      <td>180</td>\n",
       "      <td>80</td>\n",
       "      <td>35</td>\n",
       "      <td>Male</td>\n",
       "      <td>110/70</td>\n",
       "    </tr>\n",
       "    <tr>\n",
       "      <th>3</th>\n",
       "      <td>155</td>\n",
       "      <td>50</td>\n",
       "      <td>20</td>\n",
       "      <td>Female</td>\n",
       "      <td>120/80</td>\n",
       "    </tr>\n",
       "    <tr>\n",
       "      <th>4</th>\n",
       "      <td>175</td>\n",
       "      <td>75</td>\n",
       "      <td>28</td>\n",
       "      <td>Male</td>\n",
       "      <td>130/90</td>\n",
       "    </tr>\n",
       "    <tr>\n",
       "      <th>5</th>\n",
       "      <td>160</td>\n",
       "      <td>55</td>\n",
       "      <td>32</td>\n",
       "      <td>Female</td>\n",
       "      <td>110/70</td>\n",
       "    </tr>\n",
       "    <tr>\n",
       "      <th>6</th>\n",
       "      <td>185</td>\n",
       "      <td>85</td>\n",
       "      <td>40</td>\n",
       "      <td>Male</td>\n",
       "      <td>120/80</td>\n",
       "    </tr>\n",
       "    <tr>\n",
       "      <th>7</th>\n",
       "      <td>150</td>\n",
       "      <td>45</td>\n",
       "      <td>22</td>\n",
       "      <td>Female</td>\n",
       "      <td>130/90</td>\n",
       "    </tr>\n",
       "    <tr>\n",
       "      <th>8</th>\n",
       "      <td>172</td>\n",
       "      <td>72</td>\n",
       "      <td>27</td>\n",
       "      <td>Male</td>\n",
       "      <td>110/70</td>\n",
       "    </tr>\n",
       "    <tr>\n",
       "      <th>9</th>\n",
       "      <td>158</td>\n",
       "      <td>52</td>\n",
       "      <td>29</td>\n",
       "      <td>Female</td>\n",
       "      <td>120/80</td>\n",
       "    </tr>\n",
       "  </tbody>\n",
       "</table>\n",
       "</div>"
      ],
      "text/plain": [
       "   Height (cm)  Weight (kg)  Age (years)  Gender Blood Pressure\n",
       "0          170           70           25    Male         120/80\n",
       "1          165           60           30  Female         130/90\n",
       "2          180           80           35    Male         110/70\n",
       "3          155           50           20  Female         120/80\n",
       "4          175           75           28    Male         130/90\n",
       "5          160           55           32  Female         110/70\n",
       "6          185           85           40    Male         120/80\n",
       "7          150           45           22  Female         130/90\n",
       "8          172           72           27    Male         110/70\n",
       "9          158           52           29  Female         120/80"
      ]
     },
     "execution_count": 84,
     "metadata": {},
     "output_type": "execute_result"
    }
   ],
   "source": [
    "#Q8. For a dataset containing the following features: [height, weight, age, gender, blood pressure], perform\n",
    "#Feature Extraction using PCA. How many principal components would you choose to retain, and why?\n",
    "\n",
    "# Importing the required libraries\n",
    "from sklearn.decomposition import PCA\n",
    "import matplotlib.pyplot as plt\n",
    "import pandas as pd\n",
    "import seaborn as sns\n",
    "df = pd.read_csv('physicalstatistics.csv')\n",
    "df"
   ]
  },
  {
   "cell_type": "code",
   "execution_count": 85,
   "id": "70926c13-bcb8-4b54-a2d0-f3b9c2e1764e",
   "metadata": {},
   "outputs": [
    {
     "data": {
      "text/html": [
       "<div>\n",
       "<style scoped>\n",
       "    .dataframe tbody tr th:only-of-type {\n",
       "        vertical-align: middle;\n",
       "    }\n",
       "\n",
       "    .dataframe tbody tr th {\n",
       "        vertical-align: top;\n",
       "    }\n",
       "\n",
       "    .dataframe thead th {\n",
       "        text-align: right;\n",
       "    }\n",
       "</style>\n",
       "<table border=\"1\" class=\"dataframe\">\n",
       "  <thead>\n",
       "    <tr style=\"text-align: right;\">\n",
       "      <th></th>\n",
       "      <th>Component 1</th>\n",
       "      <th>Component 2</th>\n",
       "    </tr>\n",
       "  </thead>\n",
       "  <tbody>\n",
       "    <tr>\n",
       "      <th>0</th>\n",
       "      <td>253.849751</td>\n",
       "      <td>-4.146422</td>\n",
       "    </tr>\n",
       "    <tr>\n",
       "      <th>1</th>\n",
       "      <td>-70.081862</td>\n",
       "      <td>15.961041</td>\n",
       "    </tr>\n",
       "    <tr>\n",
       "      <th>2</th>\n",
       "      <td>-183.767889</td>\n",
       "      <td>-11.814619</td>\n",
       "    </tr>\n",
       "  </tbody>\n",
       "</table>\n",
       "</div>"
      ],
      "text/plain": [
       "   Component 1  Component 2\n",
       "0   253.849751    -4.146422\n",
       "1   -70.081862    15.961041\n",
       "2  -183.767889   -11.814619"
      ]
     },
     "execution_count": 85,
     "metadata": {},
     "output_type": "execute_result"
    }
   ],
   "source": [
    "# Creating the PCA model\n",
    "pca = PCA(n_components=2)\n",
    "principalComponents = pca.fit_transform([df['Height (cm)'],df['Weight (kg)'],df['Age (years)']])\n",
    "# Creating a new dataframe with the principal components\n",
    "principalDf = pd.DataFrame(data = principalComponents, columns = ['Component 1', 'Component 2'])\n",
    "principalDf"
   ]
  },
  {
   "cell_type": "code",
   "execution_count": 86,
   "id": "41cfba15-d43f-4411-9c18-7071c5b65136",
   "metadata": {},
   "outputs": [
    {
     "data": {
      "image/png": "[encoded data removed]",
      "text/plain": [
       "<Figure size 640x480 with 1 Axes>"
      ]
     },
     "metadata": {},
     "output_type": "display_data"
    }
   ],
   "source": [
    "plt.scatter(principalDf['Component 1'],principalDf['Component 2'])\n",
    "plt.show()"
   ]
  },
  {
   "cell_type": "code",
   "execution_count": null,
   "id": "ff2c8250-07d2-491d-b771-989348035270",
   "metadata": {},
   "outputs": [],
   "source": []
  }
 ],
 "metadata": {
  "kernelspec": {
   "display_name": "Python 3 (ipykernel)",
   "language": "python",
   "name": "python3"
  },
  "language_info": {
   "codemirror_mode": {
    "name": "ipython",
    "version": 3
   },
   "file_extension": ".py",
   "mimetype": "text/x-python",
   "name": "python",
   "nbconvert_exporter": "python",
   "pygments_lexer": "ipython3",
   "version": "3.10.8"
  }
 },
 "nbformat": 4,
 "nbformat_minor": 5
}
